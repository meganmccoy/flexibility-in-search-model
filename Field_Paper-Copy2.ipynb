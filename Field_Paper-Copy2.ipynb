{
 "cells": [
  {
   "cell_type": "markdown",
   "metadata": {},
   "source": [
    "# Field Paper \n",
    "\n",
    "Flabbi 2010 with position change (promotion) dynamic\n",
    "\n",
    "Estimated on German SOEP 2000-2017 (wage in real 2010 euros)"
   ]
  },
  {
   "cell_type": "code",
   "execution_count": 1,
   "metadata": {},
   "outputs": [],
   "source": [
    "# Data Manipulation \n",
    "import numpy as np\n",
    "import pandas as pd\n",
    "import scipy \n",
    "import itertools\n",
    "\n",
    "# Data viz\n",
    "import matplotlib.pyplot as plt \n",
    "import seaborn as sns\n",
    "\n",
    "%matplotlib inline\n",
    "\n",
    "# Estimation\n",
    "from scipy.optimize import minimize\n",
    "import scipy.stats as stats\n",
    "# import numdifftools as ndt\n",
    "import scipy.integrate as integrate\n",
    "\n",
    "# General\n",
    "import pdb"
   ]
  },
  {
   "cell_type": "markdown",
   "metadata": {},
   "source": [
    "## Data Cleaning (all in Stata)"
   ]
  },
  {
   "cell_type": "code",
   "execution_count": 4,
   "metadata": {},
   "outputs": [],
   "source": [
    "df=pd.read_stata('workfile.dta', columns=['sex','employed', 'flex_sched_score', 'hrwage', 'dur']) #986,337 obs from 1984-2017; 711,205 for 2000-2017"
   ]
  },
  {
   "cell_type": "code",
   "execution_count": 5,
   "metadata": {},
   "outputs": [
    {
     "data": {
      "text/html": [
       "<div>\n",
       "<style scoped>\n",
       "    .dataframe tbody tr th:only-of-type {\n",
       "        vertical-align: middle;\n",
       "    }\n",
       "\n",
       "    .dataframe tbody tr th {\n",
       "        vertical-align: top;\n",
       "    }\n",
       "\n",
       "    .dataframe thead th {\n",
       "        text-align: right;\n",
       "    }\n",
       "</style>\n",
       "<table border=\"1\" class=\"dataframe\">\n",
       "  <thead>\n",
       "    <tr style=\"text-align: right;\">\n",
       "      <th></th>\n",
       "      <th>sex</th>\n",
       "      <th>employed</th>\n",
       "      <th>flex_sched_score</th>\n",
       "      <th>hrwage</th>\n",
       "      <th>dur</th>\n",
       "    </tr>\n",
       "  </thead>\n",
       "  <tbody>\n",
       "    <tr>\n",
       "      <th>0</th>\n",
       "      <td>male</td>\n",
       "      <td>1.0</td>\n",
       "      <td>1.0</td>\n",
       "      <td>21.000000</td>\n",
       "      <td>NaN</td>\n",
       "    </tr>\n",
       "    <tr>\n",
       "      <th>1</th>\n",
       "      <td>male</td>\n",
       "      <td>1.0</td>\n",
       "      <td>1.0</td>\n",
       "      <td>72.115250</td>\n",
       "      <td>NaN</td>\n",
       "    </tr>\n",
       "    <tr>\n",
       "      <th>2</th>\n",
       "      <td>male</td>\n",
       "      <td>1.0</td>\n",
       "      <td>0.0</td>\n",
       "      <td>72.115250</td>\n",
       "      <td>NaN</td>\n",
       "    </tr>\n",
       "    <tr>\n",
       "      <th>3</th>\n",
       "      <td>male</td>\n",
       "      <td>1.0</td>\n",
       "      <td>1.0</td>\n",
       "      <td>59.895748</td>\n",
       "      <td>NaN</td>\n",
       "    </tr>\n",
       "    <tr>\n",
       "      <th>4</th>\n",
       "      <td>female</td>\n",
       "      <td>1.0</td>\n",
       "      <td>0.0</td>\n",
       "      <td>17.307501</td>\n",
       "      <td>NaN</td>\n",
       "    </tr>\n",
       "  </tbody>\n",
       "</table>\n",
       "</div>"
      ],
      "text/plain": [
       "      sex  employed  flex_sched_score     hrwage  dur\n",
       "0    male       1.0               1.0  21.000000  NaN\n",
       "1    male       1.0               1.0  72.115250  NaN\n",
       "2    male       1.0               0.0  72.115250  NaN\n",
       "3    male       1.0               1.0  59.895748  NaN\n",
       "4  female       1.0               0.0  17.307501  NaN"
      ]
     },
     "execution_count": 5,
     "metadata": {},
     "output_type": "execute_result"
    }
   ],
   "source": [
    "df.head()"
   ]
  },
  {
   "cell_type": "markdown",
   "metadata": {},
   "source": [
    "### Homogeneity: college degree or more, age 25-55 (Stata)"
   ]
  },
  {
   "cell_type": "markdown",
   "metadata": {},
   "source": [
    "### Employed"
   ]
  },
  {
   "cell_type": "code",
   "execution_count": 10,
   "metadata": {},
   "outputs": [],
   "source": [
    "empl_df = df[df['employed']==1]"
   ]
  },
  {
   "cell_type": "code",
   "execution_count": 7,
   "metadata": {},
   "outputs": [
    {
     "data": {
      "text/plain": [
       "2454"
      ]
     },
     "execution_count": 7,
     "metadata": {},
     "output_type": "execute_result"
    }
   ],
   "source": [
    "len(empl_df) #2454"
   ]
  },
  {
   "cell_type": "code",
   "execution_count": 8,
   "metadata": {},
   "outputs": [
    {
     "data": {
      "text/plain": [
       "0.00800000037997961"
      ]
     },
     "execution_count": 8,
     "metadata": {},
     "output_type": "execute_result"
    }
   ],
   "source": [
    "min(empl_df['hrwage'])"
   ]
  },
  {
   "cell_type": "markdown",
   "metadata": {},
   "source": [
    "### Non-Employed\n",
    "\n",
    "Also college degree or more, listed as not employed (& not employer). Removes students and retirees."
   ]
  },
  {
   "cell_type": "code",
   "execution_count": 11,
   "metadata": {},
   "outputs": [
    {
     "data": {
      "text/plain": [
       "54"
      ]
     },
     "execution_count": 11,
     "metadata": {},
     "output_type": "execute_result"
    }
   ],
   "source": [
    "unempl_df = df[df['employed']==0]\n",
    "len(unempl_df) #54"
   ]
  },
  {
   "cell_type": "code",
   "execution_count": 12,
   "metadata": {},
   "outputs": [],
   "source": [
    "f_unempl = unempl_df[unempl_df['sex'] == 'female'] #27\n",
    "m_unempl = unempl_df[unempl_df['sex'] == 'male'] #27"
   ]
  },
  {
   "cell_type": "code",
   "execution_count": 16,
   "metadata": {},
   "outputs": [],
   "source": [
    "f_empl = empl_df[empl_df['sex'] == 'female'] #1212\n",
    "m_empl = empl_df[empl_df['sex'] == 'male'] #1242"
   ]
  },
  {
   "cell_type": "markdown",
   "metadata": {},
   "source": [
    "### Distribution of Wages"
   ]
  },
  {
   "cell_type": "code",
   "execution_count": 19,
   "metadata": {},
   "outputs": [
    {
     "name": "stderr",
     "output_type": "stream",
     "text": [
      "/Users/megan.mccoy/anaconda3/envs/atus/lib/python3.10/site-packages/seaborn/distributions.py:2619: FutureWarning: `distplot` is a deprecated function and will be removed in a future version. Please adapt your code to use either `displot` (a figure-level function with similar flexibility) or `histplot` (an axes-level function for histograms).\n",
      "  warnings.warn(msg, FutureWarning)\n",
      "/Users/megan.mccoy/anaconda3/envs/atus/lib/python3.10/site-packages/seaborn/distributions.py:2619: FutureWarning: `distplot` is a deprecated function and will be removed in a future version. Please adapt your code to use either `displot` (a figure-level function with similar flexibility) or `histplot` (an axes-level function for histograms).\n",
      "  warnings.warn(msg, FutureWarning)\n"
     ]
    },
    {
     "data": {
      "image/png": "[encoded data removed]",
      "text/plain": [
       "<Figure size 864x576 with 2 Axes>"
      ]
     },
     "metadata": {
      "needs_background": "light"
     },
     "output_type": "display_data"
    }
   ],
   "source": [
    "fig, ax = plt.subplots(2, 1, figsize=(12, 8))\n",
    "\n",
    "sns.distplot(m_empl['hrwage'], color='#4B9CD3', hist_kws={'alpha' : .3}, bins=100, ax=ax[0])\n",
    "sns.distplot(f_empl['hrwage'], color='#4B9CD3', hist_kws={'alpha' : .3}, bins=100, ax=ax[1])\n",
    "\n",
    "#ax[0].legend(['Men'])\n",
    "#ax[1].legend(['Women']) \n",
    "\n",
    "ax[0].set_xlim([0,50])\n",
    "ax[1].set_xlim([0,50])\n",
    "\n",
    "ax[0].set_ylim([0,0.1])\n",
    "ax[1].set_ylim([0,0.1])\n",
    "\n",
    "ax[0].set(xlabel=\"Distribution of Men's Hourly Wage\")\n",
    "ax[1].set(xlabel=\"Distribution of Women's Hourly Wage\")\n",
    "\n",
    "plt.tight_layout()\n",
    "\n",
    "# fig.savefig('./figures/wage_noMin.png', bbox_inches='tight', transparent=True)"
   ]
  },
  {
   "cell_type": "markdown",
   "metadata": {},
   "source": [
    "# Estimation\n",
    "\n",
    "### Data\n",
    "2000-2017, college graduate or more, \n",
    "\n",
    "- empl_df : all employed\n",
    "- f_empl: employed females\n",
    "- m_empl: employed males\n",
    "\n",
    "- unempl_df: all unemployed\n",
    "- f_unempl: unemployed females\n",
    "- m_unempl: unemployed males"
   ]
  },
  {
   "cell_type": "markdown",
   "metadata": {},
   "source": [
    "## Log-Likelihood"
   ]
  },
  {
   "cell_type": "markdown",
   "metadata": {},
   "source": [
    "### Without Distributional Assumptions"
   ]
  },
  {
   "cell_type": "code",
   "execution_count": 20,
   "metadata": {},
   "outputs": [],
   "source": [
    "# # Vector of minimum wages for rank\n",
    "# UMk = m_empl.groupby('rank').agg({'hrwageR': min}).values\n",
    "# UFk = f_empl.groupby('rank').agg({'hrwageR': min}).values\n",
    "\n",
    "# Vector of minimum wages for concentrated rank\n",
    "UMk = m_empl.groupby('flex_sched_score').agg({'hrwage': min}).values\n",
    "UFk = f_empl.groupby('flex_sched_score').agg({'hrwage': min}).values"
   ]
  },
  {
   "cell_type": "code",
   "execution_count": 21,
   "metadata": {},
   "outputs": [
    {
     "data": {
      "text/plain": [
       "3"
      ]
     },
     "execution_count": 21,
     "metadata": {},
     "output_type": "execute_result"
    }
   ],
   "source": [
    "len(UMk)"
   ]
  },
  {
   "cell_type": "markdown",
   "metadata": {},
   "source": [
    "### Log-Normal Functions"
   ]
  },
  {
   "cell_type": "code",
   "execution_count": 22,
   "metadata": {},
   "outputs": [],
   "source": [
    "def lognormpdf(x: np.array, μ: float, σ: float):\n",
    "    \"\"\"\n",
    "    Calculates lognormal pdf without stats packages\n",
    "    \"\"\"\n",
    "    \n",
    "    denom = x * σ * np.sqrt(2*np.pi)\n",
    "    exp_num = -(np.log(x)-μ)**2\n",
    "    exp_denom = 2 * σ * σ\n",
    "    num = np.exp(exp_num/exp_denom)\n",
    "    \n",
    "    return num/denom"
   ]
  },
  {
   "cell_type": "code",
   "execution_count": 23,
   "metadata": {},
   "outputs": [],
   "source": [
    "def lognormsf(x: np.array, μ: float, σ: float):\n",
    "    \"\"\"\n",
    "    Calculated lognormal cdf with scipy.stats normal cdf\n",
    "    \"\"\"\n",
    "    \n",
    "    lnx = np.log(x)\n",
    "    num = lnx - μ\n",
    "    denom = σ\n",
    "    \n",
    "    return 1-stats.norm.cdf(num/denom)"
   ]
  },
  {
   "cell_type": "markdown",
   "metadata": {},
   "source": [
    "### Functions for Not Prejudiced (and Men)"
   ]
  },
  {
   "cell_type": "code",
   "execution_count": 24,
   "metadata": {},
   "outputs": [],
   "source": [
    "def sumN(k:np.array, α:float, τ_0: float, ρ: float, η:float):\n",
    "    frac = τ_0 / (ρ + η + τ_0)\n",
    "    \n",
    "    summand = 0 \n",
    "    for i in range(len(k)):\n",
    "        if i==0:\n",
    "            continue\n",
    "        else:\n",
    "            summand += (α**(i-1)) * ((frac)**(i)) * k[i] \n",
    "\n",
    "    return summand[0]"
   ]
  },
  {
   "cell_type": "code",
   "execution_count": 38,
   "metadata": {},
   "outputs": [
    {
     "data": {
      "text/plain": [
       "0.31540573"
      ]
     },
     "execution_count": 38,
     "metadata": {},
     "output_type": "execute_result"
    }
   ],
   "source": [
    "sumN(UFk, α, τ_0, ρ, ηF)"
   ]
  },
  {
   "cell_type": "code",
   "execution_count": 26,
   "metadata": {},
   "outputs": [],
   "source": [
    "def sumNumN(k:np.array, α:float, τ_0: float, ρ: float, η:float):\n",
    "    frac = τ_0 / (ρ + η + τ_0)\n",
    "    \n",
    "    summand = 0 \n",
    "    for i in range(len(k)):\n",
    "        if i==0:\n",
    "            continue\n",
    "        else:\n",
    "            summand += (α**(i-1)) * ((frac)**(i))\n",
    "    \n",
    "    return summand"
   ]
  },
  {
   "cell_type": "code",
   "execution_count": 39,
   "metadata": {},
   "outputs": [
    {
     "data": {
      "text/plain": [
       "0.5386818769966869"
      ]
     },
     "execution_count": 39,
     "metadata": {},
     "output_type": "execute_result"
    }
   ],
   "source": [
    "sumNumN(UFk, α, τ_0, ρ, ηF)"
   ]
  },
  {
   "cell_type": "code",
   "execution_count": 27,
   "metadata": {},
   "outputs": [],
   "source": [
    "def sumDenomN(k: np.array, α:float, τ_0: float, ρ: float, η:float):\n",
    "    num = α*τ_0\n",
    "    denom = ρ + η + τ_0\n",
    "    \n",
    "    frac = num/denom\n",
    "    \n",
    "    summand = 0 \n",
    "    \n",
    "    for i in range(len(k)):\n",
    "        if i==0:\n",
    "            continue\n",
    "        else:\n",
    "            summand += (frac)**(i)\n",
    "    \n",
    "    return summand"
   ]
  },
  {
   "cell_type": "code",
   "execution_count": 40,
   "metadata": {},
   "outputs": [
    {
     "data": {
      "text/plain": [
       "0.26934093849834345"
      ]
     },
     "execution_count": 40,
     "metadata": {},
     "output_type": "execute_result"
    }
   ],
   "source": [
    "sumDenomN(UFk, α, τ_0, ρ, ηF)"
   ]
  },
  {
   "cell_type": "code",
   "execution_count": 28,
   "metadata": {},
   "outputs": [],
   "source": [
    "def emplN(x:np.array, k:np.array, α:float, τ_0:float, ρ:float, η:float, μ:float, σ: float):\n",
    "    \"\"\"\n",
    "    Accepted Wages for Men and Women at Unprejudiced\n",
    "    \n",
    "    Requires sumN(k,α,τ_0,ρ,η), sumNumN(k,α,τ_0,ρ,η), and sumDenomN(k,α,τ_0,ρ,η)\n",
    "    \"\"\"\n",
    "     \n",
    "    num_num = x - (1-α)*( (ρ+τ_0)*k[0] - ( (1-α)*(ρ+τ_0) + η) * sumN(k, α, τ_0, ρ, η) )\n",
    "    num_denom =  α * ( 1 - (1-α)*sumNumN(k,α,τ_0,ρ,η) )\n",
    "    \n",
    "    num = (1/num_denom) * lognormpdf(num_num/num_denom, μ, σ)\n",
    "                         \n",
    "    denom_num = (ρ + τ_0)*k[0] + ( (1-α)*(ρ+τ_0) + η)* sumN(k, α, τ_0, ρ, η)\n",
    "    denom_denom = 1 - sumDenomN(k,α,τ_0,ρ,η)\n",
    "                         \n",
    "    denom = lognormsf(denom_num/denom_denom, μ, σ)\n",
    "    \n",
    "    return num/denom"
   ]
  },
  {
   "cell_type": "code",
   "execution_count": 42,
   "metadata": {},
   "outputs": [],
   "source": [
    "prodM = m_empl['hrwage'] - (1-α)*( (ρ+τ_0)*UMk[0] - ( (1-α)*(ρ+τ_0) + ηM) * sumN(UMk, α, τ_0, ρ, ηM) )"
   ]
  },
  {
   "cell_type": "code",
   "execution_count": 43,
   "metadata": {},
   "outputs": [
    {
     "data": {
      "text/plain": [
       "42.95147"
      ]
     },
     "execution_count": 43,
     "metadata": {},
     "output_type": "execute_result"
    }
   ],
   "source": [
    "prodM.mean()"
   ]
  },
  {
   "cell_type": "code",
   "execution_count": 44,
   "metadata": {},
   "outputs": [
    {
     "data": {
      "text/plain": [
       "18.955248"
      ]
     },
     "execution_count": 44,
     "metadata": {},
     "output_type": "execute_result"
    }
   ],
   "source": [
    "prodM.std()"
   ]
  },
  {
   "cell_type": "code",
   "execution_count": 45,
   "metadata": {},
   "outputs": [],
   "source": [
    "prodF = f_empl['hrwage'] - (1-α)*( (ρ+τ_0)*UFk[0] - ( (1-α)*(ρ+τ_0) + ηF) * sumN(UFk, α, τ_0, ρ, ηF) )"
   ]
  },
  {
   "cell_type": "code",
   "execution_count": 46,
   "metadata": {},
   "outputs": [
    {
     "data": {
      "text/plain": [
       "33.503273"
      ]
     },
     "execution_count": 46,
     "metadata": {},
     "output_type": "execute_result"
    }
   ],
   "source": [
    "prodF.mean()"
   ]
  },
  {
   "cell_type": "code",
   "execution_count": 47,
   "metadata": {},
   "outputs": [
    {
     "data": {
      "text/plain": [
       "16.966492"
      ]
     },
     "execution_count": 47,
     "metadata": {},
     "output_type": "execute_result"
    }
   ],
   "source": [
    "prodF.std()"
   ]
  },
  {
   "cell_type": "code",
   "execution_count": 50,
   "metadata": {},
   "outputs": [
    {
     "data": {
      "text/plain": [
       "4       0.000300\n",
       "5       0.000161\n",
       "8       0.000090\n",
       "11      0.000484\n",
       "12      0.000430\n",
       "          ...   \n",
       "2500    0.000341\n",
       "2501    0.000209\n",
       "2504    0.000142\n",
       "2505    0.000117\n",
       "2507    0.000246\n",
       "Name: hrwage, Length: 1212, dtype: float64"
      ]
     },
     "execution_count": 50,
     "metadata": {},
     "output_type": "execute_result"
    }
   ],
   "source": [
    "emplN(f_empl['hrwage'], UFk, α, τ_0, ρ, ηF, μF, σF)"
   ]
  },
  {
   "cell_type": "code",
   "execution_count": 29,
   "metadata": {},
   "outputs": [],
   "source": [
    "def hazardM(k: np.array, α:float, τ_0:float, ρ:float, η:float, λ: float, μ: float, σ: float):\n",
    "    \"\"\"\n",
    "    Calculates the hazard rate out of unemployment for men = probability of receiving an acceptable job offer\n",
    "    \n",
    "    Uses the same denominator as emplM\n",
    "    \n",
    "    Requires sumM(k, α, τ_0, ρ, η) and sumDenomM(k,α,τ_0,ρ,η)\n",
    "\n",
    "    \"\"\"\n",
    "    \n",
    "    denom_num = (ρ + τ_0)*k[0] + ( (1-α)*(ρ+τ_0) + η)* sumN(k, α, τ_0, ρ, η)\n",
    "    denom_denom = 1- sumDenomN(k,α,τ_0,ρ,η)\n",
    "                         \n",
    "    denom = lognormsf(denom_num/denom_denom, μ, σ)\n",
    "    \n",
    "    return (λ * denom)[0]"
   ]
  },
  {
   "cell_type": "code",
   "execution_count": 51,
   "metadata": {},
   "outputs": [
    {
     "data": {
      "text/plain": [
       "0.5512735517597809"
      ]
     },
     "execution_count": 51,
     "metadata": {},
     "output_type": "execute_result"
    }
   ],
   "source": [
    "hazardM(UMk, α, τ_0, ρ, ηM, λM, μM, σM)"
   ]
  },
  {
   "cell_type": "markdown",
   "metadata": {},
   "source": [
    "### Functions for Women"
   ]
  },
  {
   "cell_type": "code",
   "execution_count": 30,
   "metadata": {},
   "outputs": [],
   "source": [
    "def sumP(k:np.array, α:float, τ_0: float, ρ: float, η:float):\n",
    "    frac = τ_0 / (ρ + η + τ_0)\n",
    "    \n",
    "    summand = 0 \n",
    "    for i in range(len(k)):\n",
    "        if i==0:\n",
    "            continue\n",
    "        else:\n",
    "            summand += (α**(i-1)) * ((frac)**(i))\n",
    "    \n",
    "    return summand"
   ]
  },
  {
   "cell_type": "code",
   "execution_count": 52,
   "metadata": {},
   "outputs": [
    {
     "data": {
      "text/plain": [
       "0.5386818769966869"
      ]
     },
     "execution_count": 52,
     "metadata": {},
     "output_type": "execute_result"
    }
   ],
   "source": [
    "sumP(UFk, α, τ_0, ρ, ηF)"
   ]
  },
  {
   "cell_type": "code",
   "execution_count": 31,
   "metadata": {},
   "outputs": [],
   "source": [
    "def sumNumP(k:np.array, d:np.array, α:float, τ_1:float, ρ:float, η:float):\n",
    "    summand = 0\n",
    "    \n",
    "    for i in range(len(k)):\n",
    "        if i==0:\n",
    "            continue\n",
    "        else:\n",
    "            mult = ( (1-α)*(ρ+τ_1) + η)*k[i] - α*d[i]\n",
    "        \n",
    "            num = τ_1\n",
    "            denom = ρ + η + τ_1\n",
    "    \n",
    "            frac = (num/denom)**(i)\n",
    "        \n",
    "            summand += mult * frac\n",
    "\n",
    "    return summand[0]"
   ]
  },
  {
   "cell_type": "code",
   "execution_count": 53,
   "metadata": {},
   "outputs": [
    {
     "data": {
      "text/plain": [
       "-0.34886497"
      ]
     },
     "execution_count": 53,
     "metadata": {},
     "output_type": "execute_result"
    }
   ],
   "source": [
    "d = np.array([d1,d2,d3,d4,d5])\n",
    "sumNumP(UFk, d, α, τ_1, ρ, ηF)"
   ]
  },
  {
   "cell_type": "code",
   "execution_count": 32,
   "metadata": {},
   "outputs": [],
   "source": [
    "def sumDenomP(k:np.array, d:np.array, α:float, τ_1:float, ρ:float, η:float):\n",
    "    summand = 0\n",
    "    \n",
    "    for i in range(len(k)):\n",
    "        if i==0:\n",
    "            continue\n",
    "        else:\n",
    "            mult = ( (1-α)*(ρ+τ_1) + η)*k[i] - α*d[i]\n",
    "        \n",
    "            num = τ_1\n",
    "            denom = ρ + η + τ_1\n",
    "    \n",
    "            frac = (num/denom)**(i)\n",
    "        \n",
    "            summand += mult * (α**(i-1)) * frac\n",
    "\n",
    "    return summand[0]"
   ]
  },
  {
   "cell_type": "code",
   "execution_count": 54,
   "metadata": {},
   "outputs": [
    {
     "data": {
      "text/plain": [
       "-0.38771784"
      ]
     },
     "execution_count": 54,
     "metadata": {},
     "output_type": "execute_result"
    }
   ],
   "source": [
    "d = np.array([d1,d2,d3,d4,d5])\n",
    "sumDenomP(UFk, d, α, τ_1, ρ, ηF)"
   ]
  },
  {
   "cell_type": "code",
   "execution_count": 33,
   "metadata": {},
   "outputs": [],
   "source": [
    "def emplP(x:np.array, k:np.array, d:np.array, α:float, τ_1:float, ρ:float, η:float, μ:float, σ: float):\n",
    "    \"\"\"\n",
    "    Accepted Wages for Women at Prejudiced Employers\n",
    "    \n",
    "    Requires sumNumP(k, d, α, τ_1, ρ, η), sumP(k,α,τ_1,ρ,η), sumDenomP(k,d,α,τ_1,ρ,η) and sumDenomN(k,α,τ_1,ρ,η)\n",
    "    \"\"\"\n",
    "    \n",
    "    num_num = x + α*d[0] - (1-α)*(ρ+τ_1)*k[0] - (1-α)*sumNumP(k, d, α, τ_1, ρ, η)\n",
    "    num_denom = α * ( 1 - (1-α) * sumP(k,α,τ_1,ρ,η) )\n",
    "    \n",
    "    num = (1/num_denom) * lognormpdf(num_num/num_denom, μ, σ)\n",
    "    \n",
    "    denom_num = (ρ + τ_1)*k[0] + d[0] + sumDenomP(k,d,α,τ_1,ρ,η)\n",
    "    denom_denom = 1- sumDenomN(k,α,τ_1,ρ,η)\n",
    "                         \n",
    "    denom = lognormsf(denom_num/denom_denom, μ, σ)\n",
    "    \n",
    "    return num/denom"
   ]
  },
  {
   "cell_type": "code",
   "execution_count": 56,
   "metadata": {},
   "outputs": [
    {
     "data": {
      "text/plain": [
       "4       0.000292\n",
       "5       0.000159\n",
       "8       0.000090\n",
       "11      0.000462\n",
       "12      0.000414\n",
       "          ...   \n",
       "2500    0.000331\n",
       "2501    0.000205\n",
       "2504    0.000140\n",
       "2505    0.000116\n",
       "2507    0.000241\n",
       "Name: hrwage, Length: 1212, dtype: float64"
      ]
     },
     "execution_count": 56,
     "metadata": {},
     "output_type": "execute_result"
    }
   ],
   "source": [
    "emplP(f_empl['hrwage'], UFk, d, α, τ_1, ρ, ηF, μF, σF)"
   ]
  },
  {
   "cell_type": "code",
   "execution_count": 57,
   "metadata": {},
   "outputs": [],
   "source": [
    "def hazardF(k: np.array, d:np.array, α:float, τ_0:float, τ_1:float,  ρ:float, η:float, λ: float, μ: float, σ: float, p:float):\n",
    "    \"\"\"\n",
    "    Calculates the hazard rate out of unemployment for women = probability of receiving an acceptable job offer\n",
    "    \n",
    "    Uses the denominators for not prejudiced and for prejudiced\n",
    "    \"\"\"\n",
    "\n",
    "    denom_numN = (ρ + τ_0)*k[0] + ( (1-α)*(ρ+τ_0) + η)* sumN(k, α, τ_0, ρ, η)\n",
    "    denom_denomN = 1 - sumDenomN(k,α,τ_0,ρ,η)\n",
    "                         \n",
    "    denomN = lognormsf(denom_numN/denom_denomN, μ, σ)\n",
    "    \n",
    "    denom_numP = (ρ + τ_1)*k[0] + d[0] + sumDenomP(k,d,α,τ_1,ρ,η)\n",
    "    denom_denomP = 1- sumDenomN(k,α,τ_1,ρ,η)\n",
    "                         \n",
    "    denomP = lognormsf(denom_numP/denom_denomP, μ, σ)\n",
    "    \n",
    "    mult = (p * denomP) + ((1-p)*denomN)\n",
    "    \n",
    "    return (λ * mult)[0]"
   ]
  },
  {
   "cell_type": "code",
   "execution_count": 58,
   "metadata": {},
   "outputs": [
    {
     "data": {
      "text/plain": [
       "0.44693309786944757"
      ]
     },
     "execution_count": 58,
     "metadata": {},
     "output_type": "execute_result"
    }
   ],
   "source": [
    "hazardF(UFk, d, α, τ_0, τ_1,  ρ, ηF, λF, μF, σF, p)"
   ]
  },
  {
   "cell_type": "markdown",
   "metadata": {},
   "source": [
    "### Test Statistics"
   ]
  },
  {
   "cell_type": "code",
   "execution_count": 35,
   "metadata": {},
   "outputs": [],
   "source": [
    "def teststats (hess_inv: np.ndarray, lnL: float, nparams: int):\n",
    "    \"\"\"\n",
    "    Calculates the standard errors and p value from the LR tests\n",
    "    \"\"\"\n",
    "    se = np.sqrt(np.diag(hess_inv))\n",
    "    \n",
    "    loglik_H0 = lnL_6 # Update for the test statistics!\n",
    "    \n",
    "    LR = 2 * (lnL - loglik_H0)\n",
    "    pval = stats.chi2.pdf(LR, nparams)\n",
    "    \n",
    "    ts = se.tolist()\n",
    "    ts.append(lnL)\n",
    "    ts.append(pval)\n",
    "    \n",
    "    return ts"
   ]
  },
  {
   "cell_type": "markdown",
   "metadata": {},
   "source": [
    "### Initial Conditions\n",
    "\n",
    "Copied from Master's Thesis, SOEP Replication"
   ]
  },
  {
   "cell_type": "code",
   "execution_count": 49,
   "metadata": {},
   "outputs": [],
   "source": [
    "d1=1\n",
    "d2=2\n",
    "d3=3\n",
    "d4=4\n",
    "d5=5\n",
    "d6=d7=d8=d9=d10=d11=d12=d13=5\n",
    "\n",
    "p = 0.5\n",
    "\n",
    "α = 0.5\n",
    "\n",
    "τ_0 = 0.5\n",
    "τ_1 = 0.5\n",
    "ρ = 0.5\n",
    "\n",
    "ηF = 0.133\n",
    "ηM = 0.108\n",
    "\n",
    "λF = 0.457\n",
    "λM = 0.558\n",
    "\n",
    "μF = prodF.mean()\n",
    "σF = prodF.std()\n",
    "μM = prodM.mean()\n",
    "σM = prodM.std()"
   ]
  },
  {
   "cell_type": "markdown",
   "metadata": {},
   "source": [
    "### Log-Likelihood\n",
    "\n",
    "#### Total Heterogeneity (6)"
   ]
  },
  {
   "cell_type": "code",
   "execution_count": 61,
   "metadata": {},
   "outputs": [],
   "source": [
    "def logLik(param:list):\n",
    "    \"\"\"\n",
    "    Log-Likehood with all values gender specific \n",
    "    \"\"\"\n",
    "    \n",
    "    α = 0.5\n",
    "    \n",
    "    p = np.exp(param[0])\n",
    "\n",
    "    τ_0 = np.exp(param[1])\n",
    "    τ_1 = np.exp(param[2])\n",
    "    ρ = np.exp(param[3])\n",
    "\n",
    "    ηF = np.exp(param[4])\n",
    "    ηM = np.exp(param[5])\n",
    "\n",
    "    λF = np.exp(param[6])\n",
    "    λM = np.exp(param[7])\n",
    "\n",
    "    μF = param[8]\n",
    "    σF = np.exp(param[9])\n",
    "    μM = param[10]\n",
    "    σM = np.exp(param[11])\n",
    "    \n",
    "    d1 = np.exp(param[12])\n",
    "    d2 = np.exp(param[13])\n",
    "    d3 = np.exp(param[14])\n",
    "    d4 = np.exp(param[15])\n",
    "    d5 = np.exp(param[16])\n",
    "    \n",
    "    d = np.array([d1,d2,d3,d4,d5])\n",
    "\n",
    "    # Men Log(hazard) and Log(termination) equations\n",
    "    hM = hazardM(UMk, α, τ_0, ρ, ηM, λM, μM, σM)\n",
    "    \n",
    "    a = hM / (hM + ηM)\n",
    "    aa = len(m_unempl) + len(m_empl)\n",
    "    A = (aa * np.log(a) ) + (len(m_unempl) * np.log(ηM))\n",
    "\n",
    "    # Women Log(hazard) and Log(termination) equations\n",
    "    hF = hazardF(UFk, d, α, τ_0, τ_1, ρ, ηF, λF, μF, σF, p)\n",
    "    \n",
    "    b = hF / (hF + ηF)\n",
    "    bb = len(f_unempl) + len(f_empl)\n",
    "    B = (bb * np.log(b)) + (len(f_unempl) * np.log(ηF))\n",
    "    \n",
    "    # Men and Women Unemployment Duration\n",
    "    c = hM*np.sum(m_unempl['dur'])\n",
    "    cc = hF*np.sum(f_unempl['dur'])\n",
    "    C = c + cc\n",
    "   \n",
    "    # Women Employed equations\n",
    "    e = (1-p) * emplN(f_empl['hrwage'], UFk, α, τ_0, ρ, ηF, μF, σF) \n",
    "    ee = p * emplP(f_empl['hrwage'], UFk, d, α, τ_1, ρ, ηF, μF, σF)\n",
    "    E = np.sum ( np.log( e + ee ) )\n",
    "    \n",
    "    # Men Employed Equations\n",
    "    F = np.sum ( np.log( emplN(m_empl['hrwage'],UMk, α, τ_0, ρ, ηM, μM, σM) ) )\n",
    "    \n",
    "    return -(A + B - C + E + F)"
   ]
  },
  {
   "cell_type": "code",
   "execution_count": 62,
   "metadata": {},
   "outputs": [
    {
     "name": "stdout",
     "output_type": "stream",
     "text": [
      "23402.65399064587\n"
     ]
    }
   ],
   "source": [
    "# Check on log-likelihood\n",
    "\n",
    "# param = [p, τ_0, τ_1, ρ, ηF, ηM, λF, λM, μF, σF, μM, σM, d1,d2,d3,d4,d5,d6,d7,d8,d9,d10,d11,d12,d13]\n",
    "param = np.log([p, τ_0, τ_1, ρ, ηF, ηM, λF, λM, np.exp(μF), σF, np.exp(μM), σM, d1,d2,d3,d4,d5])\n",
    "\n",
    "print(logLik(param))"
   ]
  },
  {
   "cell_type": "code",
   "execution_count": 63,
   "metadata": {},
   "outputs": [
    {
     "data": {
      "text/plain": [
       "      fun: 22709.058918371145\n",
       " hess_inv: <17x17 LbfgsInvHessProduct with dtype=float64>\n",
       "      jac: array([ 1.82299119,  0.        ,  0.        ,  0.        , -1.30348781,\n",
       "       -0.47984941,  2.06309779, -1.00990292,  0.        ,  0.        ,\n",
       "        0.        ,  0.        ,  0.        ,  0.        ,  0.        ,\n",
       "        0.        ,  0.        ])\n",
       "  message: 'CONVERGENCE: REL_REDUCTION_OF_F_<=_FACTR*EPSMCH'\n",
       "     nfev: 378\n",
       "      nit: 11\n",
       "     njev: 21\n",
       "   status: 0\n",
       "  success: True\n",
       "        x: array([-2.50469419, -0.69772839, -0.69314718, -0.38154531, -6.72352922,\n",
       "       -6.82846682, -2.84829759, -2.96966251, 33.50327298,  2.83124032,\n",
       "       42.9514694 ,  2.94208083,  0.        ,  0.69314718,  1.09861229,\n",
       "        1.38629436,  1.60943791])"
      ]
     },
     "execution_count": 63,
     "metadata": {},
     "output_type": "execute_result"
    }
   ],
   "source": [
    "est_6 = minimize(logLik, param, method='L-BFGS-B')\n",
    "\n",
    "est_6"
   ]
  },
  {
   "cell_type": "code",
   "execution_count": 64,
   "metadata": {},
   "outputs": [
    {
     "name": "stdout",
     "output_type": "stream",
     "text": [
      "[0.08170057942192527, 0.4977146352404106, 0.5, 0.6828054451814668, 0.0012022875830758229, 0.0010825165395145914, 0.057942879214305375, 0.05132062750683627, 33.503272977314445, 16.966491699218754, 42.95146939623577, 18.95524787902832, 1.0, 2.0, 3.0000000000000004, 4.0, 4.999999999999999]\n"
     ]
    }
   ],
   "source": [
    "# Coefficients (L-BFGS-B)\n",
    "\n",
    "# param = [p, τ_0, τ_1, ρ, ηF, ηM, λF, λM, μF, σF, μM, σM, d1,d2]\n",
    "\n",
    "p_6 = np.exp(est_6.x[0])\n",
    "τ_0_6 = np.exp(est_6.x[1]) \n",
    "τ_1_6 = np.exp(est_6.x[2]) \n",
    "ρ_6 = np.exp(est_6.x[3])\n",
    "ηF_6 = np.exp(est_6.x[4])\n",
    "ηM_6 = np.exp(est_6.x[5])\n",
    "λF_6 = np.exp(est_6.x[6])\n",
    "λM_6 = np.exp(est_6.x[7])\n",
    "μF_6 = est_6.x[8]\n",
    "σF_6 = np.exp(est_6.x[9])\n",
    "μM_6 = est_6.x[10]\n",
    "σM_6 = np.exp(est_6.x[11])\n",
    "d1_6  = np.exp(est_6.x[12])\n",
    "d2_6  = np.exp(est_6.x[13])\n",
    "d3_6  = np.exp(est_6.x[14])\n",
    "d4_6  = np.exp(est_6.x[15])\n",
    "d5_6  = np.exp(est_6.x[16])\n",
    "\n",
    "coeff_6 = [p_6, τ_0_6, τ_1_6, ρ_6, ηF_6, ηM_6, λF_6, λM_6, μF_6, σF_6, μM_6, σM_6, d1_6, d2_6, d3_6, d4_6, d5_6]\n",
    "\n",
    "print(coeff_6)"
   ]
  },
  {
   "cell_type": "code",
   "execution_count": 65,
   "metadata": {},
   "outputs": [
    {
     "name": "stdout",
     "output_type": "stream",
     "text": [
      "22709.058918371145\n"
     ]
    }
   ],
   "source": [
    "lnL_6 = est_6.fun\n",
    "\n",
    "print(lnL_6)"
   ]
  },
  {
   "cell_type": "code",
   "execution_count": 66,
   "metadata": {},
   "outputs": [
    {
     "ename": "ValueError",
     "evalue": "Input must be 1- or 2-d.",
     "output_type": "error",
     "traceback": [
      "\u001b[0;31m---------------------------------------------------------------------------\u001b[0m",
      "\u001b[0;31mValueError\u001b[0m                                Traceback (most recent call last)",
      "\u001b[0;32m/var/folders/jx/dqj4zyfx4cj4t_bvpvt2drrm0000gn/T/ipykernel_13032/2831217916.py\u001b[0m in \u001b[0;36m<module>\u001b[0;34m\u001b[0m\n\u001b[0;32m----> 1\u001b[0;31m \u001b[0mts_6\u001b[0m \u001b[0;34m=\u001b[0m \u001b[0mteststats\u001b[0m\u001b[0;34m(\u001b[0m\u001b[0mest_6\u001b[0m\u001b[0;34m.\u001b[0m\u001b[0mhess_inv\u001b[0m\u001b[0;34m,\u001b[0m \u001b[0mlnL_6\u001b[0m\u001b[0;34m,\u001b[0m \u001b[0mlen\u001b[0m\u001b[0;34m(\u001b[0m\u001b[0mcoeff_6\u001b[0m\u001b[0;34m)\u001b[0m\u001b[0;34m)\u001b[0m \u001b[0;31m#.todense() to recover <17x17 LbfgsInvHessProduct with dtype=float64> object\u001b[0m\u001b[0;34m\u001b[0m\u001b[0;34m\u001b[0m\u001b[0m\n\u001b[0m\u001b[1;32m      2\u001b[0m \u001b[0;34m\u001b[0m\u001b[0m\n\u001b[1;32m      3\u001b[0m \u001b[0mprint\u001b[0m\u001b[0;34m(\u001b[0m\u001b[0mts_6\u001b[0m\u001b[0;34m)\u001b[0m\u001b[0;34m\u001b[0m\u001b[0;34m\u001b[0m\u001b[0m\n",
      "\u001b[0;32m/var/folders/jx/dqj4zyfx4cj4t_bvpvt2drrm0000gn/T/ipykernel_13032/1753671710.py\u001b[0m in \u001b[0;36mteststats\u001b[0;34m(hess_inv, lnL, nparams)\u001b[0m\n\u001b[1;32m      3\u001b[0m     \u001b[0mCalculates\u001b[0m \u001b[0mthe\u001b[0m \u001b[0mstandard\u001b[0m \u001b[0merrors\u001b[0m \u001b[0;32mand\u001b[0m \u001b[0mp\u001b[0m \u001b[0mvalue\u001b[0m \u001b[0;32mfrom\u001b[0m \u001b[0mthe\u001b[0m \u001b[0mLR\u001b[0m \u001b[0mtests\u001b[0m\u001b[0;34m\u001b[0m\u001b[0;34m\u001b[0m\u001b[0m\n\u001b[1;32m      4\u001b[0m     \"\"\"\n\u001b[0;32m----> 5\u001b[0;31m     \u001b[0mse\u001b[0m \u001b[0;34m=\u001b[0m \u001b[0mnp\u001b[0m\u001b[0;34m.\u001b[0m\u001b[0msqrt\u001b[0m\u001b[0;34m(\u001b[0m\u001b[0mnp\u001b[0m\u001b[0;34m.\u001b[0m\u001b[0mdiag\u001b[0m\u001b[0;34m(\u001b[0m\u001b[0mhess_inv\u001b[0m\u001b[0;34m)\u001b[0m\u001b[0;34m)\u001b[0m\u001b[0;34m\u001b[0m\u001b[0;34m\u001b[0m\u001b[0m\n\u001b[0m\u001b[1;32m      6\u001b[0m \u001b[0;34m\u001b[0m\u001b[0m\n\u001b[1;32m      7\u001b[0m     \u001b[0mloglik_H0\u001b[0m \u001b[0;34m=\u001b[0m \u001b[0mlnL_6\u001b[0m \u001b[0;31m# Update for the test statistics!\u001b[0m\u001b[0;34m\u001b[0m\u001b[0;34m\u001b[0m\u001b[0m\n",
      "\u001b[0;32m~/anaconda3/envs/atus/lib/python3.10/site-packages/numpy/core/overrides.py\u001b[0m in \u001b[0;36mdiag\u001b[0;34m(*args, **kwargs)\u001b[0m\n",
      "\u001b[0;32m~/anaconda3/envs/atus/lib/python3.10/site-packages/numpy/lib/twodim_base.py\u001b[0m in \u001b[0;36mdiag\u001b[0;34m(v, k)\u001b[0m\n\u001b[1;32m    301\u001b[0m         \u001b[0;32mreturn\u001b[0m \u001b[0mdiagonal\u001b[0m\u001b[0;34m(\u001b[0m\u001b[0mv\u001b[0m\u001b[0;34m,\u001b[0m \u001b[0mk\u001b[0m\u001b[0;34m)\u001b[0m\u001b[0;34m\u001b[0m\u001b[0;34m\u001b[0m\u001b[0m\n\u001b[1;32m    302\u001b[0m     \u001b[0;32melse\u001b[0m\u001b[0;34m:\u001b[0m\u001b[0;34m\u001b[0m\u001b[0;34m\u001b[0m\u001b[0m\n\u001b[0;32m--> 303\u001b[0;31m         \u001b[0;32mraise\u001b[0m \u001b[0mValueError\u001b[0m\u001b[0;34m(\u001b[0m\u001b[0;34m\"Input must be 1- or 2-d.\"\u001b[0m\u001b[0;34m)\u001b[0m\u001b[0;34m\u001b[0m\u001b[0;34m\u001b[0m\u001b[0m\n\u001b[0m\u001b[1;32m    304\u001b[0m \u001b[0;34m\u001b[0m\u001b[0m\n\u001b[1;32m    305\u001b[0m \u001b[0;34m\u001b[0m\u001b[0m\n",
      "\u001b[0;31mValueError\u001b[0m: Input must be 1- or 2-d."
     ]
    }
   ],
   "source": [
    "ts_6 = teststats(est_6.hess_inv, lnL_6, len(coeff_6)) #.todense() to recover <17x17 LbfgsInvHessProduct with dtype=float64> object\n",
    "\n",
    "print(ts_6)"
   ]
  },
  {
   "cell_type": "markdown",
   "metadata": {},
   "source": [
    "### Same Productivity, Prejudice"
   ]
  },
  {
   "cell_type": "code",
   "execution_count": 71,
   "metadata": {},
   "outputs": [],
   "source": [
    "def logLik5(param:list):\n",
    "    \"\"\"\n",
    "    Log-Likehood with the same productivity by gender but there is the presence of prejudice\n",
    "    \"\"\"\n",
    "    \n",
    "    α = 0.5\n",
    "    \n",
    "    p = np.exp(param[0])\n",
    "\n",
    "    τ_0 = np.exp(param[1])\n",
    "    τ_1 = np.exp(param[2])\n",
    "    ρ = np.exp(param[3])\n",
    "\n",
    "    ηF = np.exp(param[4])\n",
    "    ηM = np.exp(param[5])\n",
    "\n",
    "    λF = np.exp(param[6])\n",
    "    λM = np.exp(param[7])\n",
    "\n",
    "    μ = param[8]\n",
    "    σ = np.exp(param[9])\n",
    "    \n",
    "    d = np.array(np.exp([param[10],param[11],param[12],param[13],param[14]]))\n",
    "#     d = [param[12],param[13]] ,param[17],param[18],param[19],param[20],param[21],param[22]\n",
    "\n",
    "    # Men Log(hazard) and Log(termination) equations\n",
    "    hM = hazardM(UMk, α, τ_0, ρ, ηM, λM, μ, σ)\n",
    "    \n",
    "    a = hM / (hM + ηM)\n",
    "    aa = len(m_unempl) + len(m_empl)\n",
    "    A = (aa * np.log(a) )+ (len(m_unempl) * np.log(ηM))\n",
    "\n",
    "    # Women Log(hazard) and Log(termination) equations\n",
    "    hF = hazardF(UFk, d, α, τ_0, τ_1, ρ, ηF, λF, μ, σ, p)\n",
    "    \n",
    "    b = hF / (hF + ηF)\n",
    "    bb = len(f_unempl) + len(f_empl)\n",
    "    B = (bb * np.log(b)) + (len(f_unempl) * np.log(ηF))\n",
    "    \n",
    "    # Men and Women Unemployment Duration\n",
    "    c = hM*np.sum(m_unempl['dur'])\n",
    "    cc = hF*np.sum(f_unempl['dur'])\n",
    "    C = c + cc\n",
    "   \n",
    "    # Women Employed equations\n",
    "    e = (1-p) * emplN(f_empl['hrwage'], UFk, α, τ_0, ρ, ηF, μ, σ) \n",
    "    ee = p * emplP(f_empl['hrwage'], UFk, d, α, τ_1, ρ, ηF, μ, σ)\n",
    "    E = np.sum ( np.log( e + ee ) )\n",
    "    \n",
    "    # Men Employed Equations\n",
    "    F = np.sum ( np.log( emplN(m_empl['hrwage'],UMk, α, τ_0, ρ, ηM, μ, σ) ) )\n",
    "    \n",
    "    return (-(A + B - C + E + F))"
   ]
  },
  {
   "cell_type": "code",
   "execution_count": 72,
   "metadata": {},
   "outputs": [
    {
     "name": "stdout",
     "output_type": "stream",
     "text": [
      "24273.731357635716\n"
     ]
    }
   ],
   "source": [
    "# Check on log-likelihood\n",
    "\n",
    "# param = [p, τ_0, τ_1, ρ, ηF, ηM, λF, λM, μF, σF, μM, σM, d1,d2,d3,d4,d5,d6,d7,d8,d9,d10,d11,d12,d13]\n",
    "param_prej = np.log([p, τ_0, τ_1, ρ, ηF, ηM, λF, λM, np.exp(μM), σM, d1,d2,d3,d4,d5])\n",
    "\n",
    "print(logLik5(param_prej))"
   ]
  },
  {
   "cell_type": "code",
   "execution_count": 73,
   "metadata": {},
   "outputs": [
    {
     "data": {
      "text/plain": [
       "      fun: 23728.984904855864\n",
       " hess_inv: <15x15 LbfgsInvHessProduct with dtype=float64>\n",
       "      jac: array([ 4.46998459e+00,  3.93124608e+03,  0.00000000e+00,  1.41855708e+01,\n",
       "       -2.63473317e+01, -2.39913769e+01,  1.63381629e+00,  1.66801329e+00,\n",
       "        0.00000000e+00,  0.00000000e+00,  0.00000000e+00,  0.00000000e+00,\n",
       "        0.00000000e+00,  0.00000000e+00,  0.00000000e+00])\n",
       "  message: 'CONVERGENCE: REL_REDUCTION_OF_F_<=_FACTR*EPSMCH'\n",
       "     nfev: 448\n",
       "      nit: 6\n",
       "     njev: 28\n",
       "   status: 0\n",
       "  success: True\n",
       "        x: array([ -1.45383211,  -0.9077103 ,  -0.59201483,  -1.02293762,\n",
       "       -12.91396358, -10.72014816,  -5.35532451,  -4.66605923,\n",
       "        42.9514694 ,   2.94208083,   0.        ,   0.69314718,\n",
       "         1.09861229,   1.38629436,   1.60943791])"
      ]
     },
     "execution_count": 73,
     "metadata": {},
     "output_type": "execute_result"
    }
   ],
   "source": [
    "est_5 = minimize(logLik5, param_prej, method='L-BFGS-B')\n",
    "\n",
    "est_5"
   ]
  },
  {
   "cell_type": "code",
   "execution_count": 74,
   "metadata": {},
   "outputs": [
    {
     "name": "stdout",
     "output_type": "stream",
     "text": [
      "[0.2336731082225101, 0.4034469384883166, 0.5532115346660528, 0.3595372045984194, 2.4634110082059676e-06, 2.2095244302598667e-05, 0.004722936585239039, 0.009409276393857764, 42.95146939623577, 18.95524787902832, 1.0, 2.0, 3.0000000000000004, 4.0, 4.999999999999999]\n"
     ]
    }
   ],
   "source": [
    "# Coefficients\n",
    "\n",
    "p_5 = np.exp(est_5.x[0])\n",
    "τ_0_5 = np.exp(est_5.x[1]) \n",
    "τ_1_5 = np.exp(est_5.x[2]) \n",
    "ρ_5 = np.exp(est_5.x[3])\n",
    "ηF_5 = np.exp(est_5.x[4])\n",
    "ηM_5 = np.exp(est_5.x[5])\n",
    "λF_5 = np.exp(est_5.x[6])\n",
    "λM_5 = np.exp(est_5.x[7])\n",
    "μ_5 = est_5.x[8]\n",
    "σ_5 = np.exp(est_5.x[9])\n",
    "d1_6  = np.exp(est_5.x[10])\n",
    "d2_6  = np.exp(est_5.x[11])\n",
    "d3_6  = np.exp(est_5.x[12])\n",
    "d4_6  = np.exp(est_5.x[13])\n",
    "d5_6  = np.exp(est_5.x[14])\n",
    "\n",
    "coeff_5 = [p_5, τ_0_5, τ_1_5, ρ_5, ηF_5, ηM_5, λF_5, λM_5, μ_5, σ_5, d1_6, d2_6, d3_6, d4_6, d5_6]\n",
    "\n",
    "print(coeff_5)"
   ]
  },
  {
   "cell_type": "code",
   "execution_count": 75,
   "metadata": {},
   "outputs": [
    {
     "name": "stdout",
     "output_type": "stream",
     "text": [
      "23728.984904855864\n"
     ]
    }
   ],
   "source": [
    "lnL_5 = est_5.fun\n",
    "\n",
    "print(lnL_5)"
   ]
  },
  {
   "cell_type": "code",
   "execution_count": 76,
   "metadata": {},
   "outputs": [
    {
     "name": "stdout",
     "output_type": "stream",
     "text": [
      "[1.0528142732797925, 0.40238244607460355, 0.5364695519867737, 1.0518449115431099, 6.085646164976848, 4.06802175026315, 1.2302027317144724, 2.003073420868192, 1.0, 1.0, 1.0, 1.0, 1.0, 1.0, 1.0, 23728.984904855864, 0.0]\n"
     ]
    }
   ],
   "source": [
    "ts_5 = teststats(est_5.hess_inv.todense(), lnL_5, 15)\n",
    "\n",
    "print(ts_5)"
   ]
  },
  {
   "cell_type": "markdown",
   "metadata": {},
   "source": [
    "#### Heterogeneous productivity, No Prejudice (4)"
   ]
  },
  {
   "cell_type": "code",
   "execution_count": 77,
   "metadata": {},
   "outputs": [],
   "source": [
    "def logLik4(param:list):\n",
    "    \"\"\"\n",
    "    Log-Likehood with only \n",
    "    \"\"\"\n",
    "    \n",
    "    α = 0.5\n",
    "    \n",
    "    p = 0\n",
    "\n",
    "    τ_0 = np.exp(param[0])\n",
    "    τ_1 = np.exp(param[0])\n",
    "    ρ = np.exp(param[1])\n",
    "\n",
    "    ηF = np.exp(param[2])\n",
    "    ηM = np.exp(param[3])\n",
    "\n",
    "    λF = np.exp(param[4])\n",
    "    λM = np.exp(param[5])\n",
    "\n",
    "    μF = param[6]\n",
    "    σF = np.exp(param[7])\n",
    "    μM = param[8]\n",
    "    σM = np.exp(param[9])\n",
    "    \n",
    "    d = np.array([0,0,0,0,0])\n",
    "#     d = [param[12],param[13]] ,param[17],param[18],param[19],param[20],param[21],param[22]\n",
    "\n",
    "    # Men Log(hazard) and Log(termination) equations\n",
    "    hM = hazardM(UMk, α, τ_0, ρ, ηM, λM, μM, σM)\n",
    "    \n",
    "    a = hM / (hM + ηM)\n",
    "    aa = len(m_unempl) + len(m_empl)\n",
    "    A = (aa * np.log(a) )+ (len(m_unempl) * np.log(ηM))\n",
    "\n",
    "    # Women Log(hazard) and Log(termination) equations\n",
    "    hF = hazardF(UFk, d, α, τ_0, τ_1, ρ, ηF, λF, μF, σF, p)\n",
    "    \n",
    "    b = hF / (hF + ηF)\n",
    "    bb = len(f_unempl) + len(f_empl)\n",
    "    B = (bb * np.log(b)) + (len(f_unempl) * np.log(ηF))\n",
    "    \n",
    "    # Men and Women Unemployment Duration\n",
    "    c = hM*np.sum(m_unempl['dur'])\n",
    "    cc = hF*np.sum(f_unempl['dur'])\n",
    "    C = c + cc\n",
    "   \n",
    "    # Women Employed equations\n",
    "    e = (1-p) * emplN(f_empl['hrwage'], UFk, α, τ_0, ρ, ηF, μF, σF) \n",
    "    ee = p * emplP(f_empl['hrwage'], UFk, d, α, τ_1, ρ, ηF, μF, σF)\n",
    "    E = np.sum ( np.log( e + ee ) )\n",
    "    \n",
    "    # Men Employed Equations\n",
    "    F = np.sum ( np.log( emplN(m_empl['hrwage'],UMk, α, τ_0, ρ, ηM, μM, σM) ) )\n",
    "    \n",
    "    return -(A + B - C + E + F)"
   ]
  },
  {
   "cell_type": "code",
   "execution_count": 78,
   "metadata": {},
   "outputs": [
    {
     "name": "stdout",
     "output_type": "stream",
     "text": [
      "23383.872481346138\n"
     ]
    },
    {
     "name": "stderr",
     "output_type": "stream",
     "text": [
      "/Users/megan.mccoy/anaconda3/envs/atus/lib/python3.10/site-packages/pandas/core/arraylike.py:364: RuntimeWarning: invalid value encountered in log\n",
      "  result = getattr(ufunc, method)(*inputs, **kwargs)\n"
     ]
    }
   ],
   "source": [
    "# Check on log-likelihood\n",
    "\n",
    "# param = [p, τ_0, τ_1, ρ, ηF, ηM, λF, λM, μF, σF, μM, σM, d1,d2,d3,d4,d5,d6,d7,d8,d9,d10,d11,d12,d13]\n",
    "param_prod = np.log([τ_0, ρ, ηF, ηM, λF, λM, np.exp(μF), σF, np.exp(μM), σM])\n",
    "\n",
    "print(logLik4(param_prod))"
   ]
  },
  {
   "cell_type": "code",
   "execution_count": 79,
   "metadata": {},
   "outputs": [
    {
     "data": {
      "text/plain": [
       "      fun: 22691.02473279212\n",
       " hess_inv: <10x10 LbfgsInvHessProduct with dtype=float64>\n",
       "      jac: array([ 1.19794276e+02,  1.03112655e+04, -3.09737518e+00,  6.99255911e+00,\n",
       "        5.46533560e+00, -9.38307500e+00,  0.00000000e+00,  0.00000000e+00,\n",
       "        0.00000000e+00,  0.00000000e+00])\n",
       "  message: 'CONVERGENCE: REL_REDUCTION_OF_F_<=_FACTR*EPSMCH'\n",
       "     nfev: 308\n",
       "      nit: 9\n",
       "     njev: 28\n",
       "   status: 0\n",
       "  success: True\n",
       "        x: array([-0.86409092, -0.69314717, -6.74103351, -6.61012442, -2.79248053,\n",
       "       -3.00572276, 33.50327298,  2.83124032, 42.9514694 ,  2.94208083])"
      ]
     },
     "execution_count": 79,
     "metadata": {},
     "output_type": "execute_result"
    }
   ],
   "source": [
    "est_4 = minimize(logLik4, param_prod, method='L-BFGS-B')\n",
    "\n",
    "#, bounds=[(-10,0),(-5,0),(-5,0),(-5,0),(-10,0),(-10,0),(-10,0),(-10,0),(0,10),(-10,0),(0,10),(-10,0),(-10,10),(-10,10)]) \n",
    "\n",
    "est_4"
   ]
  },
  {
   "cell_type": "code",
   "execution_count": 80,
   "metadata": {},
   "outputs": [
    {
     "name": "stdout",
     "output_type": "stream",
     "text": [
      "[0.4214344957495549, 0.5000000072892271, 0.001181425508758543, 0.0013466645815703097, 0.06126904548638016, 0.04950296259186409, 33.503272977314445, 16.966491699218754, 42.95146939623577, 18.95524787902832]\n"
     ]
    }
   ],
   "source": [
    "# Coefficients 'L-BFGS-B'\n",
    "\n",
    "# param = [p, τ_0, τ_1, ρ, ηF, ηM, λF, λM, μF, σF, μM, σM, d1,d2]\n",
    "\n",
    "τ_0_4 = np.exp(est_4.x[0])  \n",
    "ρ_4 = np.exp(est_4.x[1])\n",
    "ηF_4 = np.exp(est_4.x[2])\n",
    "ηM_4 = np.exp(est_4.x[3])\n",
    "λF_4 = np.exp(est_4.x[4])\n",
    "λM_4 = np.exp(est_4.x[5])\n",
    "μF_4 = est_4.x[6]\n",
    "σF_4 = np.exp(est_4.x[7])\n",
    "μM_4 = est_4.x[8]\n",
    "σM_4 = np.exp(est_4.x[9])\n",
    "\n",
    "coeff_4 = [τ_0_4, ρ_4, ηF_4, ηM_4, λF_4, λM_4, μF_4, σF_4, μM_4, σM_4]\n",
    "\n",
    "print(coeff_4)"
   ]
  },
  {
   "cell_type": "code",
   "execution_count": 81,
   "metadata": {},
   "outputs": [
    {
     "name": "stdout",
     "output_type": "stream",
     "text": [
      "22691.02473279212\n"
     ]
    }
   ],
   "source": [
    "lnL_4 = est_4.fun\n",
    "\n",
    "print(lnL_4)"
   ]
  },
  {
   "cell_type": "code",
   "execution_count": 82,
   "metadata": {},
   "outputs": [
    {
     "name": "stdout",
     "output_type": "stream",
     "text": [
      "[0.022766267180020453, 1.0, 0.8334473484909936, 1.7103692257973302, 0.7041092325943534, 1.5362740400996315, 1.0, 1.0, 1.0, 1.0, 22691.02473279212, 0.0]\n"
     ]
    }
   ],
   "source": [
    "ts_4 = teststats(est_4.hess_inv.todense(), lnL_4, 11)\n",
    "\n",
    "print(ts_4)"
   ]
  },
  {
   "cell_type": "markdown",
   "metadata": {},
   "source": [
    "#### Same lambda, eta. Otherwise Total Heterogeneity (3)"
   ]
  },
  {
   "cell_type": "code",
   "execution_count": 83,
   "metadata": {},
   "outputs": [],
   "source": [
    "def logLik3(param:list):\n",
    "    \"\"\"\n",
    "    Log-Likehood with all values gender specific \n",
    "    \"\"\"\n",
    "    \n",
    "    α = 0.5\n",
    "    \n",
    "    p = np.exp(param[0])\n",
    "\n",
    "    τ_0 = np.exp(param[1])\n",
    "    τ_1 = np.exp(param[2])\n",
    "    ρ = np.exp(param[3])\n",
    "\n",
    "    η = np.exp(param[4])\n",
    "\n",
    "    λ = np.exp(param[5])\n",
    "\n",
    "    μF = param[6]\n",
    "    σF = np.exp(param[7])\n",
    "    μM = param[8]\n",
    "    σM = np.exp(param[9])\n",
    "    \n",
    "    d = np.array(np.exp([param[10],param[11],param[12],param[13],param[14]]))\n",
    "#     d = [param[12],param[13]] ,param[17],param[18],param[19],param[20],param[21],param[22]\n",
    "\n",
    "    # Men Log(hazard) and Log(termination) equations\n",
    "    hM = hazardM(UMk, α, τ_0, ρ, η, λ, μM, σM)\n",
    "    \n",
    "    a = hM / (hM + η)\n",
    "    aa = len(m_unempl) + len(m_empl)\n",
    "    A = (aa * np.log(a) )+ (len(m_unempl) * np.log(η))\n",
    "\n",
    "    # Women Log(hazard) and Log(termination) equations\n",
    "    hF = hazardF(UFk, d, α, τ_0, τ_1, ρ, η, λ, μF, σF, p)\n",
    "    \n",
    "    b = hF / (hF + η)\n",
    "    bb = len(f_unempl) + len(f_empl)\n",
    "    B = (bb * np.log(b)) + (len(f_unempl) * np.log(η))\n",
    "    \n",
    "    # Men and Women Unemployment Duration\n",
    "    c = hM*np.sum(m_unempl['dur'])\n",
    "    cc = hF*np.sum(f_unempl['dur'])\n",
    "    C = c + cc\n",
    "   \n",
    "    # Women Employed equations\n",
    "    e = (1-p) * emplN(f_empl['hrwage'], UFk, α, τ_0, ρ, η, μF, σF) \n",
    "    ee = p * emplP(f_empl['hrwage'], UFk, d, α, τ_1, ρ, η, μF, σF)\n",
    "    E = np.sum ( np.log( e + ee ) )\n",
    "    \n",
    "    # Men Employed Equations\n",
    "    F = np.sum ( np.log( emplN(m_empl['hrwage'],UMk, α, τ_0, ρ, η, μM, σM) ) )\n",
    "    \n",
    "    return -(A + B - C + E + F)"
   ]
  },
  {
   "cell_type": "code",
   "execution_count": 84,
   "metadata": {},
   "outputs": [
    {
     "name": "stdout",
     "output_type": "stream",
     "text": [
      "23356.585902120503\n"
     ]
    }
   ],
   "source": [
    "# Check on log-likelihood\n",
    "\n",
    "# param = [p, τ_0, τ_1, ρ, ηF, ηM, λF, λM, μF, σF, μM, σM, d1,d2,d3,d4,d5,d6,d7,d8,d9,d10,d11,d12,d13]\n",
    "param = np.log([p, τ_0, τ_1, ρ, ηM, λM, np.exp(μF), σF, np.exp(μM), σM, d1,d2,d3,d4,d5])\n",
    "\n",
    "print(logLik3(param))"
   ]
  },
  {
   "cell_type": "code",
   "execution_count": 85,
   "metadata": {},
   "outputs": [
    {
     "data": {
      "text/plain": [
       "      fun: 22738.273134895797\n",
       " hess_inv: <15x15 LbfgsInvHessProduct with dtype=float64>\n",
       "      jac: array([-7.10861055e-01,  0.00000000e+00,  0.00000000e+00,  1.98157612e+04,\n",
       "        4.62023311e-01,  2.65426935e+00,  0.00000000e+00,  0.00000000e+00,\n",
       "        0.00000000e+00,  0.00000000e+00,  0.00000000e+00,  0.00000000e+00,\n",
       "        0.00000000e+00,  0.00000000e+00,  0.00000000e+00])\n",
       "  message: 'CONVERGENCE: REL_REDUCTION_OF_F_<=_FACTR*EPSMCH'\n",
       "     nfev: 624\n",
       "      nit: 8\n",
       "     njev: 39\n",
       "   status: 0\n",
       "  success: True\n",
       "        x: array([-0.9761932 , -1.83759763, -0.73687004, -0.65164463, -6.6624536 ,\n",
       "       -2.84058159, 33.50327298,  2.83124032, 42.9514694 ,  2.94208083,\n",
       "        0.        ,  0.69314718,  1.09861229,  1.38629436,  1.60943791])"
      ]
     },
     "execution_count": 85,
     "metadata": {},
     "output_type": "execute_result"
    }
   ],
   "source": [
    "est_3 = minimize(logLik3, param, method='L-BFGS-B')\n",
    "\n",
    "est_3"
   ]
  },
  {
   "cell_type": "code",
   "execution_count": 86,
   "metadata": {},
   "outputs": [
    {
     "name": "stdout",
     "output_type": "stream",
     "text": [
      "[0.37674255591210665, 0.15919942278336716, 0.47860960262299657, 0.5211879095972798, 0.0012780067980177254, 0.058391696055196, 33.503272977314445, 16.966491699218754, 42.95146939623577, 18.95524787902832, 1.0, 2.0, 3.0000000000000004, 4.0, 4.999999999999999]\n"
     ]
    }
   ],
   "source": [
    "# Coefficients L-BFGS-B\n",
    "\n",
    "# param = [p, τ_0, τ_1, ρ, ηF, ηM, λF, λM, μF, σF, μM, σM, d1,d2]\n",
    "\n",
    "p_3 = np.exp(est_3.x[0])\n",
    "τ_0_3 = np.exp(est_3.x[1]) \n",
    "τ_1_3 = np.exp(est_3.x[2]) \n",
    "ρ_3 = np.exp(est_3.x[3])\n",
    "η_3 = np.exp(est_3.x[4])\n",
    "λ_3 = np.exp(est_3.x[5])\n",
    "μF_3 = est_3.x[6]\n",
    "σF_3 = np.exp(est_3.x[7])\n",
    "μM_3 = est_3.x[8]\n",
    "σM_3 = np.exp(est_3.x[9])\n",
    "d1_3  = np.exp(est_3.x[10])\n",
    "d2_3  = np.exp(est_3.x[11])\n",
    "d3_3  = np.exp(est_3.x[12])\n",
    "d4_3  = np.exp(est_3.x[13])\n",
    "d5_3  = np.exp(est_3.x[14])\n",
    "\n",
    "coeff_3 = [p_3, τ_0_3, τ_1_3, ρ_3, η_3, λ_3, μF_3, σF_3, μM_3, σM_3, d1_3, d2_3, d3_3, d4_3, d5_3]\n",
    "\n",
    "print(coeff_3)"
   ]
  },
  {
   "cell_type": "code",
   "execution_count": 87,
   "metadata": {},
   "outputs": [
    {
     "name": "stdout",
     "output_type": "stream",
     "text": [
      "22738.273134895797\n"
     ]
    }
   ],
   "source": [
    "lnL_3 = est_3.fun\n",
    "\n",
    "print(lnL_3)"
   ]
  },
  {
   "cell_type": "code",
   "execution_count": 88,
   "metadata": {},
   "outputs": [
    {
     "name": "stdout",
     "output_type": "stream",
     "text": [
      "[0.992900500984651, 0.8778486321375586, 0.9998325873023028, 0.29453856657132804, 0.13407259296453977, 0.11223582301158004, 1.0, 1.0, 1.0, 1.0, 1.0, 1.0, 1.0, 1.0, 1.0, 22738.273134895797, 1.8434304051076416e-07]\n"
     ]
    }
   ],
   "source": [
    "ts_3 = teststats(est_3.hess_inv.todense(), lnL_3, 15) #.todense() to recover <kxk LbfgsInvHessProduct with dtype=float64> object\n",
    "\n",
    "print(ts_3)"
   ]
  },
  {
   "cell_type": "markdown",
   "metadata": {},
   "source": [
    "#### Same lambda, eta. Otherwise Prej, No Prod Differences (2)"
   ]
  },
  {
   "cell_type": "code",
   "execution_count": 91,
   "metadata": {},
   "outputs": [],
   "source": [
    "def logLik2(param:list):\n",
    "    \"\"\"\n",
    "    Log-Likehood with all values gender specific \n",
    "    \"\"\"\n",
    "    \n",
    "    α = 0.5\n",
    "    \n",
    "    p = np.exp(param[0])\n",
    "\n",
    "    τ_0 = np.exp(param[1])\n",
    "    τ_1 = np.exp(param[2])\n",
    "    ρ = np.exp(param[3])\n",
    "\n",
    "    η = np.exp(param[4])\n",
    "\n",
    "    λ = np.exp(param[5])\n",
    "\n",
    "    μ = param[6]\n",
    "    σ = np.exp(param[7])\n",
    "    \n",
    "    d = np.array(np.exp([param[8],param[9],param[10],param[11],param[12]]))\n",
    "#     d = [param[12],param[13]] ,param[17],param[18],param[19],param[20],param[21],param[22]\n",
    "\n",
    "    # Men Log(hazard) and Log(termination) equations\n",
    "    hM = hazardM(UMk, α, τ_0, ρ, η, λ, μ, σ)\n",
    "    \n",
    "    a = hM / (hM + η)\n",
    "    aa = len(m_unempl) + len(m_empl)\n",
    "    A = (aa * np.log(a) )+ (len(m_unempl) * np.log(η))\n",
    "\n",
    "    # Women Log(hazard) and Log(termination) equations\n",
    "    hF = hazardF(UFk, d, α, τ_0, τ_1, ρ, η, λ, μ, σ, p)\n",
    "    \n",
    "    b = hF / (hF + η)\n",
    "    bb = len(f_unempl) + len(f_empl)\n",
    "    B = (bb * np.log(b)) + (len(f_unempl) * np.log(η))\n",
    "    \n",
    "    # Men and Women Unemployment Duration\n",
    "    c = hM*np.sum(m_unempl['dur'])\n",
    "    cc = hF*np.sum(f_unempl['dur'])\n",
    "    C = c + cc\n",
    "   \n",
    "    # Women Employed equations\n",
    "    e = (1-p) * emplN(f_empl['hrwage'], UFk, α, τ_0, ρ, η, μ, σ) \n",
    "    ee = p * emplP(f_empl['hrwage'], UFk, d, α, τ_1, ρ, η, μ, σ)\n",
    "    E = np.sum ( np.log( e + ee ) )\n",
    "    \n",
    "    # Men Employed Equations\n",
    "    F = np.sum ( np.log( emplN(m_empl['hrwage'],UMk, α, τ_0, ρ, η, μ, σ) ) )\n",
    "    \n",
    "    return -(A + B - C + E + F)"
   ]
  },
  {
   "cell_type": "code",
   "execution_count": 92,
   "metadata": {},
   "outputs": [
    {
     "name": "stdout",
     "output_type": "stream",
     "text": [
      "22462.552445928726\n"
     ]
    }
   ],
   "source": [
    "# Check on log-likelihood\n",
    "\n",
    "# param = [p, τ_0, τ_1, ρ, ηF, ηM, λF, λM, μF, σF, μM, σM, d1,d2,d3,d4,d5,d6,d7,d8,d9,d10,d11,d12,d13]\n",
    "param_prej = np.log([p, τ_0, τ_1, ρ, ηM, λM, np.exp(μF), σF, d1,d2,d3,d4,d5])\n",
    "\n",
    "print(logLik2(param_prej))"
   ]
  },
  {
   "cell_type": "code",
   "execution_count": 93,
   "metadata": {},
   "outputs": [
    {
     "data": {
      "text/plain": [
       "      fun: 21780.027424511605\n",
       " hess_inv: <13x13 LbfgsInvHessProduct with dtype=float64>\n",
       "      jac: array([3.27418066e-03, 1.56371244e+01, 0.00000000e+00, 1.56371244e+01,\n",
       "       6.08306440e+00, 5.14774004e-01, 0.00000000e+00, 0.00000000e+00,\n",
       "       0.00000000e+00, 0.00000000e+00, 0.00000000e+00, 0.00000000e+00,\n",
       "       0.00000000e+00])\n",
       "  message: 'CONVERGENCE: REL_REDUCTION_OF_F_<=_FACTR*EPSMCH'\n",
       "     nfev: 322\n",
       "      nit: 12\n",
       "     njev: 23\n",
       "   status: 0\n",
       "  success: True\n",
       "        x: array([-9.1001382 , -1.01836448, -0.99655462, -1.21168472, -6.50272188,\n",
       "       -2.77306513, 33.50327298,  2.83124032,  0.        ,  0.69314718,\n",
       "        1.09861229,  1.38629436,  1.60943791])"
      ]
     },
     "execution_count": 93,
     "metadata": {},
     "output_type": "execute_result"
    }
   ],
   "source": [
    "est_2 = minimize(logLik2, param_prej, method='L-BFGS-B')\n",
    "\n",
    "est_2"
   ]
  },
  {
   "cell_type": "code",
   "execution_count": 94,
   "metadata": {},
   "outputs": [
    {
     "name": "stdout",
     "output_type": "stream",
     "text": [
      "[0.00011165037691169053, 0.3611851811636744, 0.369149112481296, 0.2976953227651875, 0.0014993525770607978, 0.06247023176513237, 33.503272977314445, 16.966491699218754, 1.0, 2.0, 3.0000000000000004, 4.0, 4.999999999999999]\n"
     ]
    }
   ],
   "source": [
    "# Coefficients L-BFGS-B\n",
    "\n",
    "# param = [p, τ_0, τ_1, ρ, ηF, ηM, λF, λM, μF, σF, μM, σM, d1,d2]\n",
    "\n",
    "p_2 = np.exp(est_2.x[0])\n",
    "τ_0_2 = np.exp(est_2.x[1]) \n",
    "τ_1_2 = np.exp(est_2.x[2]) \n",
    "ρ_2 = np.exp(est_2.x[3])\n",
    "η_2 = np.exp(est_2.x[4])\n",
    "λ_2 = np.exp(est_2.x[5])\n",
    "μ_2 = est_2.x[6]\n",
    "σ_2 = np.exp(est_2.x[7])\n",
    "d1_2  = np.exp(est_2.x[8])\n",
    "d2_2  = np.exp(est_2.x[9])\n",
    "d3_2  = np.exp(est_2.x[10])\n",
    "d4_2  = np.exp(est_2.x[11])\n",
    "d5_2  = np.exp(est_2.x[12])\n",
    "\n",
    "coeff_2 = [p_2, τ_0_2, τ_1_2, ρ_2, η_2, λ_2, μ_2, σ_2, d1_2, d2_2, d3_2, d4_2, d5_2]\n",
    "\n",
    "print(coeff_2)"
   ]
  },
  {
   "cell_type": "code",
   "execution_count": 95,
   "metadata": {},
   "outputs": [
    {
     "name": "stdout",
     "output_type": "stream",
     "text": [
      "21780.027424511605\n"
     ]
    }
   ],
   "source": [
    "lnL_2 = est_2.fun\n",
    "\n",
    "print(lnL_2)"
   ]
  },
  {
   "cell_type": "code",
   "execution_count": 96,
   "metadata": {},
   "outputs": [
    {
     "name": "stdout",
     "output_type": "stream",
     "text": [
      "[4.721227395826036, 0.6595968609430134, 1.1547044379994604, 0.178298941451719, 0.36015486973176525, 0.21270915572319632, 1.0, 1.0, 1.0, 1.0, 1.0, 1.0, 1.0, 21780.027424511605, 0.0]\n"
     ]
    }
   ],
   "source": [
    "ts_2 = teststats(est_2.hess_inv.todense(), lnL_2, 13) #.todense() to recover <kxk LbfgsInvHessProduct with dtype=float64> object\n",
    "\n",
    "print(ts_2)"
   ]
  },
  {
   "cell_type": "markdown",
   "metadata": {},
   "source": [
    "#### Same lambda, eta. Prod Diff, No Prej (1)"
   ]
  },
  {
   "cell_type": "code",
   "execution_count": 97,
   "metadata": {},
   "outputs": [],
   "source": [
    "def logLik1(param:list):\n",
    "    \"\"\"\n",
    "    Log-Likehood with same λ, η, without prejudice p,d=0\n",
    "    \"\"\"\n",
    "    \n",
    "    α = 0.5\n",
    "    \n",
    "    p = 0\n",
    "\n",
    "    τ_0 = np.exp(param[0])\n",
    "    τ_1 = np.exp(param[0])\n",
    "    ρ = np.exp(param[1])\n",
    "\n",
    "    η = np.exp(param[2])\n",
    "\n",
    "    λ = np.exp(param[3])\n",
    "\n",
    "    μF = param[4]\n",
    "    σF = np.exp(param[5])\n",
    "    μM = param[6]\n",
    "    σM = np.exp(param[7])\n",
    "    \n",
    "    d = np.zeros(5)\n",
    "#     d = [param[12],param[13]] ,param[17],param[18],param[19],param[20],param[21],param[22]\n",
    "\n",
    "    # Men Log(hazard) and Log(termination) equations\n",
    "    hM = hazardM(UMk, α, τ_0, ρ, η, λ, μM, σM)\n",
    "    \n",
    "    a = hM / (hM + η)\n",
    "    aa = len(m_unempl) + len(m_empl)\n",
    "    A = (aa * np.log(a) )+ (len(m_unempl) * np.log(η))\n",
    "\n",
    "    # Women Log(hazard) and Log(termination) equations\n",
    "    hF = hazardF(UFk, d, α, τ_0, τ_1, ρ, η, λ, μF, σF, p)\n",
    "    \n",
    "    b = hF / (hF + η)\n",
    "    bb = len(f_unempl) + len(f_empl)\n",
    "    B = (bb * np.log(b)) + (len(f_unempl) * np.log(η))\n",
    "    \n",
    "    # Men and Women Unemployment Duration\n",
    "    c = hM*np.sum(m_unempl['dur'])\n",
    "    cc = hF*np.sum(f_unempl['dur'])\n",
    "    C = c + cc\n",
    "   \n",
    "    # Women Employed equations\n",
    "    e = (1-p) * emplN(f_empl['hrwage'], UFk, α, τ_0, ρ, η, μF, σF) \n",
    "    ee = p * emplP(f_empl['hrwage'], UFk, d, α, τ_1, ρ, η, μF, σF)\n",
    "    E = np.sum ( np.log( e + ee ) )\n",
    "    \n",
    "    # Men Employed Equations\n",
    "    F = np.sum ( np.log( emplN(m_empl['hrwage'],UMk, α, τ_0, ρ, η, μM, σM) ) )\n",
    "    \n",
    "    return -(A + B - C + E + F)"
   ]
  },
  {
   "cell_type": "code",
   "execution_count": 98,
   "metadata": {},
   "outputs": [
    {
     "name": "stdout",
     "output_type": "stream",
     "text": [
      "23337.732879018386\n"
     ]
    }
   ],
   "source": [
    "# Check on log-likelihood\n",
    "\n",
    "# param = [p, τ_0, τ_1, ρ, ηF, ηM, λF, λM, μF, σF, μM, σM, d1,d2,d3,d4,d5,d6,d7,d8,d9,d10,d11,d12,d13]\n",
    "param_prod = np.log([τ_0, ρ, ηM, λM, np.exp(μF), σF, np.exp(μM), σM])\n",
    "\n",
    "print(logLik1(param_prod))"
   ]
  },
  {
   "cell_type": "code",
   "execution_count": 99,
   "metadata": {},
   "outputs": [
    {
     "data": {
      "text/plain": [
       "      fun: 22727.56672986364\n",
       " hess_inv: <8x8 LbfgsInvHessProduct with dtype=float64>\n",
       "      jac: array([16.72269728,  0.        , -0.20809239,  0.18044375,  0.        ,\n",
       "        0.        ,  0.        ,  0.        ])\n",
       "  message: 'CONVERGENCE: REL_REDUCTION_OF_F_<=_FACTR*EPSMCH'\n",
       "     nfev: 234\n",
       "      nit: 10\n",
       "     njev: 26\n",
       "   status: 0\n",
       "  success: True\n",
       "        x: array([-1.75693729, -0.8276722 , -6.73170563, -2.89824277, 33.50327298,\n",
       "        2.83124032, 42.9514694 ,  2.94208083])"
      ]
     },
     "execution_count": 99,
     "metadata": {},
     "output_type": "execute_result"
    }
   ],
   "source": [
    "est_1 = minimize(logLik1, param_prod, method='L-BFGS-B') \n",
    "\n",
    "est_1"
   ]
  },
  {
   "cell_type": "code",
   "execution_count": 100,
   "metadata": {},
   "outputs": [
    {
     "name": "stdout",
     "output_type": "stream",
     "text": [
      "[0.17257259506874156, 0.43706550467323624, 0.0011924972635279332, 0.05511999363371108, 33.503272977314445, 16.966491699218754, 42.95146939623577, 18.95524787902832]\n"
     ]
    }
   ],
   "source": [
    "# Coefficients L-BFGS-B\n",
    "\n",
    "# param = [p, τ_0, τ_1, ρ, ηF, ηM, λF, λM, μF, σF, μM, σM, d1,d2]\n",
    "\n",
    "τ_0_1 = np.exp(est_1.x[0])  \n",
    "ρ_1 = np.exp(est_1.x[1])\n",
    "η_1 = np.exp(est_1.x[2])\n",
    "λ_1 = np.exp(est_1.x[3])\n",
    "μF_1 = est_1.x[4]\n",
    "σF_1 = np.exp(est_1.x[5])\n",
    "μM_1 = est_1.x[6]\n",
    "σM_1 = np.exp(est_1.x[7])\n",
    "\n",
    "coeff_1 = [τ_0_1, ρ_1, η_1, λ_1, μF_1, σF_1, μM_1, σM_1]\n",
    "\n",
    "print(coeff_1)"
   ]
  },
  {
   "cell_type": "code",
   "execution_count": 101,
   "metadata": {},
   "outputs": [
    {
     "name": "stdout",
     "output_type": "stream",
     "text": [
      "22727.56672986364\n"
     ]
    }
   ],
   "source": [
    "lnL_1 = est_1.fun\n",
    "\n",
    "print(lnL_1)"
   ]
  },
  {
   "cell_type": "code",
   "execution_count": 102,
   "metadata": {},
   "outputs": [
    {
     "name": "stdout",
     "output_type": "stream",
     "text": [
      "[0.6784422615403641, 0.5107061710617476, 0.19467669702094403, 0.19922477891638357, 1.0, 1.0, 1.0, 1.0, 22727.56672986364, 1.0745536019971916e-05]\n"
     ]
    }
   ],
   "source": [
    "ts_1 = teststats(est_1.hess_inv.todense(), lnL_1, 9) #.todense() to recover <kxk LbfgsInvHessProduct with dtype=float64> object\n",
    "\n",
    "print(ts_1)"
   ]
  },
  {
   "cell_type": "markdown",
   "metadata": {},
   "source": [
    "### Output to Latex"
   ]
  },
  {
   "cell_type": "code",
   "execution_count": 107,
   "metadata": {},
   "outputs": [],
   "source": [
    "# Make coeff and ts arrays the same length\n",
    "def pad(coeff: np.array):\n",
    "    while len(coeff) != len(ts_5): #change number!\n",
    "        coeff.append(None)\n",
    "    return coeff"
   ]
  },
  {
   "cell_type": "code",
   "execution_count": 108,
   "metadata": {},
   "outputs": [
    {
     "data": {
      "text/plain": [
       "[0.08170057942192527,\n",
       " 0.4977146352404106,\n",
       " 0.5,\n",
       " 0.6828054451814668,\n",
       " 0.0012022875830758229,\n",
       " 0.0010825165395145914,\n",
       " 0.057942879214305375,\n",
       " 0.05132062750683627,\n",
       " 33.503272977314445,\n",
       " 16.966491699218754,\n",
       " 42.95146939623577,\n",
       " 18.95524787902832,\n",
       " 1.0,\n",
       " 2.0,\n",
       " 3.0000000000000004,\n",
       " 4.0,\n",
       " 4.999999999999999]"
      ]
     },
     "execution_count": 108,
     "metadata": {},
     "output_type": "execute_result"
    }
   ],
   "source": [
    "# Pad all vectors for dataframe. \n",
    "pad(coeff_1)\n",
    "pad(ts_1)\n",
    "pad(coeff_2)\n",
    "pad(ts_2)\n",
    "pad(coeff_3)\n",
    "pad(ts_3)\n",
    "pad(coeff_4)\n",
    "pad(ts_4)\n",
    "pad(coeff_5)\n",
    "pad(ts_5)\n",
    "pad(coeff_6)\n",
    "# pad(ts_6)"
   ]
  },
  {
   "cell_type": "code",
   "execution_count": 109,
   "metadata": {},
   "outputs": [],
   "source": [
    "out = pd.DataFrame({\n",
    "    '(1)': coeff_1,\n",
    "    'se1': ts_1,\n",
    "    '(2)': coeff_2,\n",
    "    'se2': ts_2,\n",
    "    '(3)': coeff_3,\n",
    "    'se3': ts_3,\n",
    "    '(4)': coeff_4,\n",
    "    'se4': ts_4,\n",
    "    '(5)': coeff_5,\n",
    "    'se5': ts_5,\n",
    "    '(6)': coeff_6,\n",
    "#     'se6': ts_6\n",
    "})"
   ]
  },
  {
   "cell_type": "code",
   "execution_count": 110,
   "metadata": {},
   "outputs": [],
   "source": [
    "np.savetxt('./nonsense_output.csv', out, fmt='%1.4f', delimiter=',')"
   ]
  },
  {
   "cell_type": "markdown",
   "metadata": {},
   "source": [
    "## Summary Statistics"
   ]
  },
  {
   "cell_type": "code",
   "execution_count": null,
   "metadata": {},
   "outputs": [],
   "source": []
  },
  {
   "cell_type": "code",
   "execution_count": 121,
   "metadata": {},
   "outputs": [],
   "source": [
    "agg_dict_empl = {\n",
    "    'hrwageR': ['min', 'mean', 'std', 'count']\n",
    "}\n",
    "\n",
    "agg_dict_unempl = {\n",
    "    'expue': ['mean', 'std', 'count']\n",
    "}\n",
    "\n",
    "agg_dict_pos = {\n",
    "    'rank': ['count'] #want to add percent!\n",
    "}"
   ]
  },
  {
   "cell_type": "code",
   "execution_count": 126,
   "metadata": {},
   "outputs": [
    {
     "name": "stdout",
     "output_type": "stream",
     "text": [
      "\\begin{tabular}{llr}\n",
      "\\toprule\n",
      "    &                                               &   rank \\\\\n",
      "    &                                               &  count \\\\\n",
      "female & jobpos &        \\\\\n",
      "\\midrule\n",
      "0.0 & Employed on permanent contract for simpler work not requiring training qualification &    436 \\\\\n",
      "    & Executive Civil Service &   2093 \\\\\n",
      "    & Foreman &    226 \\\\\n",
      "    & Foreman, Team Leader &    138 \\\\\n",
      "    & High-Level Civil Service &   2452 \\\\\n",
      "    & Highly Qualified Professional &  13658 \\\\\n",
      "    & Low-Level Civil Service &     15 \\\\\n",
      "    & Middle-Level Civil Service &    334 \\\\\n",
      "    & Qualified Professional &   5470 \\\\\n",
      "    & Semi-Trained Worker &    465 \\\\\n",
      "    & Trained Employee With Simple Tasks &    596 \\\\\n",
      "    & Trained Worker &    901 \\\\\n",
      "    & Untrained Worker &    199 \\\\\n",
      "    & White-Collar Worker With Managerial Functions &   1388 \\\\\n",
      "1.0 & Employed on permanent contract for simpler work not requiring training qualification &   1076 \\\\\n",
      "    & Executive Civil Service &   1444 \\\\\n",
      "    & Foreman &     20 \\\\\n",
      "    & Foreman, Team Leader &     32 \\\\\n",
      "    & High-Level Civil Service &   3054 \\\\\n",
      "    & Highly Qualified Professional &   7627 \\\\\n",
      "    & Low-Level Civil Service &     46 \\\\\n",
      "    & Middle-Level Civil Service &    550 \\\\\n",
      "    & Qualified Professional &  12414 \\\\\n",
      "    & Semi-Trained Worker &    488 \\\\\n",
      "    & Trained Employee With Simple Tasks &   1777 \\\\\n",
      "    & Trained Worker &    258 \\\\\n",
      "    & Untrained Worker &    334 \\\\\n",
      "    & White-Collar Worker With Managerial Functions &    412 \\\\\n",
      "\\bottomrule\n",
      "\\end{tabular}\n",
      "\n"
     ]
    }
   ],
   "source": [
    "print(empl_df.groupby(['female', 'jobpos']).agg(agg_dict_pos).to_latex()) # by gender"
   ]
  },
  {
   "cell_type": "code",
   "execution_count": 210,
   "metadata": {},
   "outputs": [
    {
     "name": "stdout",
     "output_type": "stream",
     "text": [
      "\\begin{tabular}{llrrrr}\n",
      "\\toprule\n",
      "    &   & \\multicolumn{4}{l}{hrwageR} \\\\\n",
      "    &   &       min &       mean &        std &  count \\\\\n",
      "female & rankC &           &            &            &        \\\\\n",
      "\\midrule\n",
      "0.0 & 1 &  0.153748 &  18.806944 &  13.726968 &   3201 \\\\\n",
      "    & 2 &  0.631899 &  19.684950 &  11.232696 &   3590 \\\\\n",
      "    & 3 &  1.922740 &  19.176855 &   6.092440 &   2452 \\\\\n",
      "    & 4 &  0.497868 &  13.613513 &   5.053504 &   5470 \\\\\n",
      "    & 5 &  0.349461 &  19.516607 &   8.071137 &  13658 \\\\\n",
      "1.0 & 1 &  0.473072 &  11.844510 &   9.036131 &   2958 \\\\\n",
      "    & 2 &  1.097508 &  14.913118 &  10.955287 &   3479 \\\\\n",
      "    & 3 &  0.867252 &  18.692480 &   6.770443 &   3054 \\\\\n",
      "    & 4 &  0.571546 &  11.197718 &   4.020575 &  12414 \\\\\n",
      "    & 5 &  0.371311 &  15.047891 &   6.142958 &   7627 \\\\\n",
      "\\bottomrule\n",
      "\\end{tabular}\n",
      "\n"
     ]
    }
   ],
   "source": [
    "print(empl_df.groupby(['female', 'rankC']).agg(agg_dict_empl).to_latex()) # by gender"
   ]
  },
  {
   "cell_type": "code",
   "execution_count": 107,
   "metadata": {},
   "outputs": [
    {
     "name": "stdout",
     "output_type": "stream",
     "text": [
      "\\begin{tabular}{lrrrr}\n",
      "\\toprule\n",
      "{} & \\multicolumn{4}{l}{hrwageR} \\\\\n",
      "{} &       min &       mean &       std &  count \\\\\n",
      "female &           &            &           &        \\\\\n",
      "\\midrule\n",
      "0.0    &  0.153748 &  18.290346 &  9.054842 &  28371 \\\\\n",
      "1.0    &  0.371311 &  13.469604 &  7.052216 &  29532 \\\\\n",
      "\\bottomrule\n",
      "\\end{tabular}\n",
      "\n"
     ]
    }
   ],
   "source": [
    "print(empl_df.groupby(['female']).agg(agg_dict_empl).to_latex()) # all"
   ]
  },
  {
   "cell_type": "code",
   "execution_count": 108,
   "metadata": {},
   "outputs": [
    {
     "name": "stdout",
     "output_type": "stream",
     "text": [
      "\\begin{tabular}{lrrr}\n",
      "\\toprule\n",
      "{} & \\multicolumn{3}{l}{expue} \\\\\n",
      "{} &      mean &       std & count \\\\\n",
      "female &           &           &       \\\\\n",
      "\\midrule\n",
      "0.0    &  2.348016 &  2.806249 &  4032 \\\\\n",
      "1.0    &  2.147428 &  2.710903 &  4938 \\\\\n",
      "\\bottomrule\n",
      "\\end{tabular}\n",
      "\n"
     ]
    }
   ],
   "source": [
    "print(unempl_df.groupby(['female']).agg(agg_dict_unempl).to_latex()) # by gender"
   ]
  },
  {
   "cell_type": "code",
   "execution_count": null,
   "metadata": {},
   "outputs": [],
   "source": [
    "print(unempl_df.agg(agg_dict_unempl).to_latex()) # by gender"
   ]
  },
  {
   "cell_type": "code",
   "execution_count": null,
   "metadata": {},
   "outputs": [],
   "source": [
    "max(unempl_df['expue'])"
   ]
  },
  {
   "cell_type": "markdown",
   "metadata": {},
   "source": [
    "# Scratch"
   ]
  },
  {
   "cell_type": "code",
   "execution_count": null,
   "metadata": {},
   "outputs": [],
   "source": [
    "test = np.array([[0,.25,.25],\n",
    "        [.5,0,.25],\n",
    "        [.5,.5,0]])"
   ]
  },
  {
   "cell_type": "code",
   "execution_count": null,
   "metadata": {},
   "outputs": [],
   "source": [
    "test"
   ]
  },
  {
   "cell_type": "code",
   "execution_count": null,
   "metadata": {},
   "outputs": [],
   "source": [
    "weakly_higher_set = set()\n",
    "equiv_set = set()\n",
    "else_set = set()\n",
    "\n",
    "for j in range(test.shape[0]):\n",
    "    for k in range(test.shape[1]):\n",
    "        if j == k:\n",
    "            continue         # Don't care about Diag\n",
    "        else:\n",
    "            # j equiv k\n",
    "            if test[k,j] == test[j,k]:\n",
    "                equiv_set.add((j,k))\n",
    "            \n",
    "            # j weakly better than k \n",
    "            if test[k,j] > test[j,k]:\n",
    "                \n",
    "                for i in range(test.shape[1]):\n",
    "                    if i == k:\n",
    "                        continue    # Don't care about Diag\n",
    "                    if i == j: \n",
    "                        continue    # Don't care about Diag \n",
    "                    else:\n",
    "                        #k weakly better than i and i weakly better than j\n",
    "                        if test[i,k] >= test[k,i] and test[j,i] >= test[i,j]: \n",
    "                            equiv_set.add((j,k)) #then k weakly better than i, so they are equivalent\n",
    "                        else:\n",
    "                            weakly_higher_set.add((j,k))\n",
    "\n",
    "            else:\n",
    "                else_set.add((j,k))"
   ]
  },
  {
   "cell_type": "code",
   "execution_count": null,
   "metadata": {},
   "outputs": [],
   "source": [
    "len(weakly_higher_set)"
   ]
  },
  {
   "cell_type": "code",
   "execution_count": null,
   "metadata": {},
   "outputs": [],
   "source": [
    "len(equiv_set)"
   ]
  },
  {
   "cell_type": "code",
   "execution_count": null,
   "metadata": {},
   "outputs": [],
   "source": [
    "len(else_set)"
   ]
  },
  {
   "cell_type": "code",
   "execution_count": null,
   "metadata": {},
   "outputs": [],
   "source": [
    "weakly_higher_set.difference(equiv_set)"
   ]
  },
  {
   "cell_type": "code",
   "execution_count": null,
   "metadata": {},
   "outputs": [],
   "source": [
    "equiv_set"
   ]
  },
  {
   "cell_type": "code",
   "execution_count": null,
   "metadata": {},
   "outputs": [],
   "source": [
    "weakly_higher = []\n",
    "equiv = []\n",
    "non_compare = []\n",
    "zero_trans = []\n",
    "\n",
    "for j in range(trans.shape[0]):\n",
    "    for k in range(trans.shape[1]):\n",
    "        if j == k:\n",
    "            continue         # Don't care about Diag\n",
    "        else:\n",
    "            if trans_matrix[k,j] >= trans_matrix[j,k]:\n",
    "                if trans_matrix[k,j] == trans_matrix[j,k]:\n",
    "                    equiv.append([j,k])\n",
    "#                     if trans_matrix[k,j] > 0:\n",
    "#                         equiv.append([j,k])\n",
    "#                     else: \n",
    "#                         zero_trans.append([j,k])\n",
    "                else: weakly_higher.append([j,k])\n",
    "            # Landing ground for weakly worse\n",
    "            else:\n",
    "                non_compare.append([j,k])\n"
   ]
  },
  {
   "cell_type": "code",
   "execution_count": null,
   "metadata": {},
   "outputs": [],
   "source": [
    "trans.shape"
   ]
  },
  {
   "cell_type": "code",
   "execution_count": null,
   "metadata": {},
   "outputs": [],
   "source": [
    "print(weakly_higher)"
   ]
  },
  {
   "cell_type": "code",
   "execution_count": null,
   "metadata": {},
   "outputs": [],
   "source": [
    "for elem in weakly_higher:\n",
    "    print(elem)\n",
    "    print(elem[0])\n",
    "    print(elem[1])"
   ]
  },
  {
   "cell_type": "code",
   "execution_count": null,
   "metadata": {},
   "outputs": [],
   "source": [
    "print(equiv)"
   ]
  },
  {
   "cell_type": "code",
   "execution_count": null,
   "metadata": {},
   "outputs": [],
   "source": [
    "print(non_compare)"
   ]
  },
  {
   "cell_type": "code",
   "execution_count": null,
   "metadata": {},
   "outputs": [],
   "source": [
    "print(zero_trans)"
   ]
  },
  {
   "cell_type": "code",
   "execution_count": null,
   "metadata": {},
   "outputs": [],
   "source": [
    "# Check that we add up to the # cells 225 - diag 15 = 210\n",
    "len(weakly_higher)+len(equiv)+len(non_compare)+len(zero_trans)"
   ]
  },
  {
   "cell_type": "code",
   "execution_count": null,
   "metadata": {},
   "outputs": [],
   "source": [
    "weakly_higher_set = set()\n",
    "equiv_set = set()\n",
    "\n",
    "for elem in weakly_higher: #for tuples listed in weakly_higher\n",
    "    for i in range(trans.shape[0]): #want to see if there is any other job in the transition matrix\n",
    "        if trans_matrix[i,elem[1]] >= trans_matrix[elem[1],i]:\n",
    "            if trans_matrix[elem[0],i] >= trans_matrix[i,elem[0]]:\n",
    "                equiv_set.add((elem[0],elem[1]))\n",
    "            else: \n",
    "                weakly_higher_set.add((elem[0],elem[1]))\n",
    "        else: \n",
    "            weakly_higher_set.add((elem[0],elem[1]))\n"
   ]
  },
  {
   "cell_type": "code",
   "execution_count": null,
   "metadata": {},
   "outputs": [],
   "source": [
    "weak_tmp = pd.DataFrame(weakly_higher)\n",
    "\n",
    "weak_tmp.columns = ['first', 'second']\n",
    "weak_tmp[weak_tmp['first'] == 12]"
   ]
  },
  {
   "cell_type": "code",
   "execution_count": null,
   "metadata": {},
   "outputs": [],
   "source": [
    "perms = itertools.permutations[1, 2, 3, 4, 5], 2)"
   ]
  },
  {
   "cell_type": "code",
   "execution_count": null,
   "metadata": {},
   "outputs": [],
   "source": [
    "perms"
   ]
  },
  {
   "cell_type": "code",
   "execution_count": null,
   "metadata": {},
   "outputs": [],
   "source": [
    "for x in perms:\n",
    "    print(x)"
   ]
  }
 ],
 "metadata": {
  "kernelspec": {
   "display_name": "atus",
   "language": "python",
   "name": "atus"
  },
  "language_info": {
   "codemirror_mode": {
    "name": "ipython",
    "version": 3
   },
   "file_extension": ".py",
   "mimetype": "text/x-python",
   "name": "python",
   "nbconvert_exporter": "python",
   "pygments_lexer": "ipython3",
   "version": "3.10.2"
  }
 },
 "nbformat": 4,
 "nbformat_minor": 4
}
