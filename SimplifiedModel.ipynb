{
 "cells": [
  {
   "cell_type": "markdown",
   "metadata": {},
   "source": [
    "# Flexibility in a Search Model \n",
    "\n",
    "## Model\n",
    "\n",
    "- homogeneous workers with utility $u(w, k) = w + \\gamma k$ if employed and flow (dis)utility $b$ if unemployed\n",
    "- heterogeneous firms endowed with flexibility level $k \\in \\{0,1,..., K\\}$ with probability $p_k$ and costing $c(k)$ with production function $y(x,k) = \\zeta^k x$ and linear profit $\\pi(x,k) = y(x,k)-w(x,k)-c(k)$\n",
    "- search parameters: discount rate $\\rho$, unemployed meet firms at rate $\\lambda$ (no on-the-job search), upon meeting draw match-specific productivity $x \\sim G(x)$, bargaining parameter $\\alpha$, employed face separation shock $\\eta$\n",
    "\n",
    "\n",
    "## Necessary Packages"
   ]
  },
  {
   "cell_type": "code",
   "execution_count": 1,
   "metadata": {
    "tags": []
   },
   "outputs": [],
   "source": [
    "# General\n",
    "import numpy as np\n",
    "import pandas as pd \n",
    "import scipy.stats as stats\n",
    "\n",
    "# Graphics\n",
    "import matplotlib.pyplot as plt \n",
    "import seaborn as sns\n",
    "\n",
    "# Estimation\n",
    "from scipy.optimize import minimize\n",
    "\n",
    "# Debugging\n",
    "import pdb\n"
   ]
  },
  {
   "cell_type": "markdown",
   "metadata": {},
   "source": [
    "## Data \n",
    "- Homogeneity measures: aged 25-55; at least college graduate; white; (maybe marital included, as it may be a concern for women?)\n",
    "- employed workers earn wage $w_i$ at firm with flexibility level $k$\n",
    "    - flexibility measures:\n",
    "        - Schedule Flexibility \n",
    "            - 0: No flexibility in start and end times of work \n",
    "            - 1: Able to change start and end times of work \n",
    "        - Location Flexibility \n",
    "            - 0: Not able to work from home / unpaid to work from home \n",
    "            - 1:\n",
    "        - Flexible Schedule Score\n",
    "            - 0: No flexibility in start and end times of work \n",
    "            - 1: Informal policy allowing flexibility in start and end times of work\n",
    "            - 2: Formal policy allowing for flexibility in start and end times of work\n",
    "- unemployed workers have unemployment durations of $t_i$\n"
   ]
  },
  {
   "cell_type": "code",
   "execution_count": 2,
   "metadata": {},
   "outputs": [],
   "source": [
    "df=pd.read_stata('workfile.dta', columns=['sex','employed', 'flexsched', 'flex_sched_score', 'flexloc', 'flex_loc_score', 'hrwage_r', 'dur'])"
   ]
  },
  {
   "cell_type": "code",
   "execution_count": 3,
   "metadata": {},
   "outputs": [],
   "source": [
    "def winsorize(data: pd.DataFrame, flex:str, n_flex:int, winsorized_wage:str, raw_wage:str, employed:str, percentile: float):\n",
    "    nth_pctl = np.zeros(1)\n",
    "\n",
    "    for k in range(2):\n",
    "        tmp = data[data[flex]==k]\n",
    "        nth = np.percentile(tmp[raw_wage],1)\n",
    "        nth_pctl = np.append(nth_pctl, nth)\n",
    "    #     print(\"5th percentile wage = \" + str(first) + \" for men with flex level \" + str(k))\n",
    "\n",
    "    data[winsorized_wage]=data[raw_wage]\n",
    "\n",
    "    for k in range(2):\n",
    "        data[winsorized_wage].iloc[(data[raw_wage]<nth_pctl[k+1]) & (data[flex]==k)]=nth_pctl[k+1] #k+1 because empty array initiates with zero\n",
    "\n",
    "    return data[[winsorized_wage, raw_wage]].groupby([data[employed],data[flex]]).describe()"
   ]
  },
  {
   "cell_type": "markdown",
   "metadata": {},
   "source": [
    "### Men"
   ]
  },
  {
   "cell_type": "code",
   "execution_count": 4,
   "metadata": {},
   "outputs": [
    {
     "data": {
      "text/plain": [
       "1304"
      ]
     },
     "execution_count": 4,
     "metadata": {},
     "output_type": "execute_result"
    }
   ],
   "source": [
    "men = df[df['sex']=='male']\n",
    "len(men)"
   ]
  },
  {
   "cell_type": "code",
   "execution_count": 5,
   "metadata": {},
   "outputs": [
    {
     "name": "stderr",
     "output_type": "stream",
     "text": [
      "/var/folders/jx/dqj4zyfx4cj4t_bvpvt2drrm0000gn/T/ipykernel_16951/1712524855.py:10: SettingWithCopyWarning: \n",
      "A value is trying to be set on a copy of a slice from a DataFrame.\n",
      "Try using .loc[row_indexer,col_indexer] = value instead\n",
      "\n",
      "See the caveats in the documentation: https://pandas.pydata.org/pandas-docs/stable/user_guide/indexing.html#returning-a-view-versus-a-copy\n",
      "  data[winsorized_wage]=data[raw_wage]\n",
      "/Users/megan.mccoy/anaconda3/envs/atus/lib/python3.10/site-packages/pandas/core/indexing.py:1732: SettingWithCopyWarning: \n",
      "A value is trying to be set on a copy of a slice from a DataFrame\n",
      "\n",
      "See the caveats in the documentation: https://pandas.pydata.org/pandas-docs/stable/user_guide/indexing.html#returning-a-view-versus-a-copy\n",
      "  self._setitem_single_block(indexer, value, name)\n"
     ]
    },
    {
     "data": {
      "text/html": [
       "<div>\n",
       "<style scoped>\n",
       "    .dataframe tbody tr th:only-of-type {\n",
       "        vertical-align: middle;\n",
       "    }\n",
       "\n",
       "    .dataframe tbody tr th {\n",
       "        vertical-align: top;\n",
       "    }\n",
       "\n",
       "    .dataframe thead tr th {\n",
       "        text-align: left;\n",
       "    }\n",
       "\n",
       "    .dataframe thead tr:last-of-type th {\n",
       "        text-align: right;\n",
       "    }\n",
       "</style>\n",
       "<table border=\"1\" class=\"dataframe\">\n",
       "  <thead>\n",
       "    <tr>\n",
       "      <th></th>\n",
       "      <th></th>\n",
       "      <th colspan=\"8\" halign=\"left\">wage_flexsched</th>\n",
       "      <th colspan=\"8\" halign=\"left\">hrwage_r</th>\n",
       "    </tr>\n",
       "    <tr>\n",
       "      <th></th>\n",
       "      <th></th>\n",
       "      <th>count</th>\n",
       "      <th>mean</th>\n",
       "      <th>std</th>\n",
       "      <th>min</th>\n",
       "      <th>25%</th>\n",
       "      <th>50%</th>\n",
       "      <th>75%</th>\n",
       "      <th>max</th>\n",
       "      <th>count</th>\n",
       "      <th>mean</th>\n",
       "      <th>std</th>\n",
       "      <th>min</th>\n",
       "      <th>25%</th>\n",
       "      <th>50%</th>\n",
       "      <th>75%</th>\n",
       "      <th>max</th>\n",
       "    </tr>\n",
       "    <tr>\n",
       "      <th>employed</th>\n",
       "      <th>flexsched</th>\n",
       "      <th></th>\n",
       "      <th></th>\n",
       "      <th></th>\n",
       "      <th></th>\n",
       "      <th></th>\n",
       "      <th></th>\n",
       "      <th></th>\n",
       "      <th></th>\n",
       "      <th></th>\n",
       "      <th></th>\n",
       "      <th></th>\n",
       "      <th></th>\n",
       "      <th></th>\n",
       "      <th></th>\n",
       "      <th></th>\n",
       "      <th></th>\n",
       "    </tr>\n",
       "  </thead>\n",
       "  <tbody>\n",
       "    <tr>\n",
       "      <th rowspan=\"2\" valign=\"top\">1.0</th>\n",
       "      <th>0.0</th>\n",
       "      <td>351.0</td>\n",
       "      <td>36.247505</td>\n",
       "      <td>18.281279</td>\n",
       "      <td>7.619654</td>\n",
       "      <td>23.048719</td>\n",
       "      <td>31.249996</td>\n",
       "      <td>47.678036</td>\n",
       "      <td>73.873962</td>\n",
       "      <td>351.0</td>\n",
       "      <td>36.209557</td>\n",
       "      <td>18.346434</td>\n",
       "      <td>0.008195</td>\n",
       "      <td>23.048719</td>\n",
       "      <td>31.249996</td>\n",
       "      <td>47.678036</td>\n",
       "      <td>73.873962</td>\n",
       "    </tr>\n",
       "    <tr>\n",
       "      <th>1.0</th>\n",
       "      <td>926.0</td>\n",
       "      <td>45.749138</td>\n",
       "      <td>18.886631</td>\n",
       "      <td>9.512938</td>\n",
       "      <td>30.583730</td>\n",
       "      <td>43.748997</td>\n",
       "      <td>62.499992</td>\n",
       "      <td>73.873962</td>\n",
       "      <td>926.0</td>\n",
       "      <td>45.717670</td>\n",
       "      <td>18.950891</td>\n",
       "      <td>1.044875</td>\n",
       "      <td>30.583730</td>\n",
       "      <td>43.748997</td>\n",
       "      <td>62.499992</td>\n",
       "      <td>73.873962</td>\n",
       "    </tr>\n",
       "  </tbody>\n",
       "</table>\n",
       "</div>"
      ],
      "text/plain": [
       "                   wage_flexsched                                             \\\n",
       "                            count       mean        std       min        25%   \n",
       "employed flexsched                                                             \n",
       "1.0      0.0                351.0  36.247505  18.281279  7.619654  23.048719   \n",
       "         1.0                926.0  45.749138  18.886631  9.512938  30.583730   \n",
       "\n",
       "                                                    hrwage_r             \\\n",
       "                          50%        75%        max    count       mean   \n",
       "employed flexsched                                                        \n",
       "1.0      0.0        31.249996  47.678036  73.873962    351.0  36.209557   \n",
       "         1.0        43.748997  62.499992  73.873962    926.0  45.717670   \n",
       "\n",
       "                                                                          \\\n",
       "                          std       min        25%        50%        75%   \n",
       "employed flexsched                                                         \n",
       "1.0      0.0        18.346434  0.008195  23.048719  31.249996  47.678036   \n",
       "         1.0        18.950891  1.044875  30.583730  43.748997  62.499992   \n",
       "\n",
       "                               \n",
       "                          max  \n",
       "employed flexsched             \n",
       "1.0      0.0        73.873962  \n",
       "         1.0        73.873962  "
      ]
     },
     "execution_count": 5,
     "metadata": {},
     "output_type": "execute_result"
    }
   ],
   "source": [
    "winsorize(men, 'flexsched', 2, 'wage_flexsched', 'hrwage_r', 'employed', 1)"
   ]
  },
  {
   "cell_type": "code",
   "execution_count": 6,
   "metadata": {},
   "outputs": [
    {
     "name": "stderr",
     "output_type": "stream",
     "text": [
      "/var/folders/jx/dqj4zyfx4cj4t_bvpvt2drrm0000gn/T/ipykernel_16951/1712524855.py:10: SettingWithCopyWarning: \n",
      "A value is trying to be set on a copy of a slice from a DataFrame.\n",
      "Try using .loc[row_indexer,col_indexer] = value instead\n",
      "\n",
      "See the caveats in the documentation: https://pandas.pydata.org/pandas-docs/stable/user_guide/indexing.html#returning-a-view-versus-a-copy\n",
      "  data[winsorized_wage]=data[raw_wage]\n",
      "/Users/megan.mccoy/anaconda3/envs/atus/lib/python3.10/site-packages/pandas/core/indexing.py:1732: SettingWithCopyWarning: \n",
      "A value is trying to be set on a copy of a slice from a DataFrame\n",
      "\n",
      "See the caveats in the documentation: https://pandas.pydata.org/pandas-docs/stable/user_guide/indexing.html#returning-a-view-versus-a-copy\n",
      "  self._setitem_single_block(indexer, value, name)\n"
     ]
    },
    {
     "data": {
      "text/html": [
       "<div>\n",
       "<style scoped>\n",
       "    .dataframe tbody tr th:only-of-type {\n",
       "        vertical-align: middle;\n",
       "    }\n",
       "\n",
       "    .dataframe tbody tr th {\n",
       "        vertical-align: top;\n",
       "    }\n",
       "\n",
       "    .dataframe thead tr th {\n",
       "        text-align: left;\n",
       "    }\n",
       "\n",
       "    .dataframe thead tr:last-of-type th {\n",
       "        text-align: right;\n",
       "    }\n",
       "</style>\n",
       "<table border=\"1\" class=\"dataframe\">\n",
       "  <thead>\n",
       "    <tr>\n",
       "      <th></th>\n",
       "      <th></th>\n",
       "      <th colspan=\"8\" halign=\"left\">wage_flexloc</th>\n",
       "      <th colspan=\"8\" halign=\"left\">hrwage_r</th>\n",
       "    </tr>\n",
       "    <tr>\n",
       "      <th></th>\n",
       "      <th></th>\n",
       "      <th>count</th>\n",
       "      <th>mean</th>\n",
       "      <th>std</th>\n",
       "      <th>min</th>\n",
       "      <th>25%</th>\n",
       "      <th>50%</th>\n",
       "      <th>75%</th>\n",
       "      <th>max</th>\n",
       "      <th>count</th>\n",
       "      <th>mean</th>\n",
       "      <th>std</th>\n",
       "      <th>min</th>\n",
       "      <th>25%</th>\n",
       "      <th>50%</th>\n",
       "      <th>75%</th>\n",
       "      <th>max</th>\n",
       "    </tr>\n",
       "    <tr>\n",
       "      <th>employed</th>\n",
       "      <th>flexloc</th>\n",
       "      <th></th>\n",
       "      <th></th>\n",
       "      <th></th>\n",
       "      <th></th>\n",
       "      <th></th>\n",
       "      <th></th>\n",
       "      <th></th>\n",
       "      <th></th>\n",
       "      <th></th>\n",
       "      <th></th>\n",
       "      <th></th>\n",
       "      <th></th>\n",
       "      <th></th>\n",
       "      <th></th>\n",
       "      <th></th>\n",
       "      <th></th>\n",
       "    </tr>\n",
       "  </thead>\n",
       "  <tbody>\n",
       "    <tr>\n",
       "      <th rowspan=\"2\" valign=\"top\">1.0</th>\n",
       "      <th>0.0</th>\n",
       "      <td>491.0</td>\n",
       "      <td>35.817890</td>\n",
       "      <td>17.803024</td>\n",
       "      <td>7.799540</td>\n",
       "      <td>22.420258</td>\n",
       "      <td>31.999996</td>\n",
       "      <td>46.893423</td>\n",
       "      <td>73.873962</td>\n",
       "      <td>491.0</td>\n",
       "      <td>35.791019</td>\n",
       "      <td>17.849522</td>\n",
       "      <td>0.008195</td>\n",
       "      <td>22.420258</td>\n",
       "      <td>31.999996</td>\n",
       "      <td>46.893423</td>\n",
       "      <td>73.873962</td>\n",
       "    </tr>\n",
       "    <tr>\n",
       "      <th>1.0</th>\n",
       "      <td>786.0</td>\n",
       "      <td>47.717457</td>\n",
       "      <td>18.594437</td>\n",
       "      <td>10.593421</td>\n",
       "      <td>32.722308</td>\n",
       "      <td>46.786850</td>\n",
       "      <td>66.451439</td>\n",
       "      <td>73.873962</td>\n",
       "      <td>786.0</td>\n",
       "      <td>47.672684</td>\n",
       "      <td>18.690809</td>\n",
       "      <td>1.044875</td>\n",
       "      <td>32.722308</td>\n",
       "      <td>46.786850</td>\n",
       "      <td>66.451439</td>\n",
       "      <td>73.873962</td>\n",
       "    </tr>\n",
       "  </tbody>\n",
       "</table>\n",
       "</div>"
      ],
      "text/plain": [
       "                 wage_flexloc                                              \\\n",
       "                        count       mean        std        min        25%   \n",
       "employed flexloc                                                            \n",
       "1.0      0.0            491.0  35.817890  17.803024   7.799540  22.420258   \n",
       "         1.0            786.0  47.717457  18.594437  10.593421  32.722308   \n",
       "\n",
       "                                                  hrwage_r             \\\n",
       "                        50%        75%        max    count       mean   \n",
       "employed flexloc                                                        \n",
       "1.0      0.0      31.999996  46.893423  73.873962    491.0  35.791019   \n",
       "         1.0      46.786850  66.451439  73.873962    786.0  47.672684   \n",
       "\n",
       "                                                                        \\\n",
       "                        std       min        25%        50%        75%   \n",
       "employed flexloc                                                         \n",
       "1.0      0.0      17.849522  0.008195  22.420258  31.999996  46.893423   \n",
       "         1.0      18.690809  1.044875  32.722308  46.786850  66.451439   \n",
       "\n",
       "                             \n",
       "                        max  \n",
       "employed flexloc             \n",
       "1.0      0.0      73.873962  \n",
       "         1.0      73.873962  "
      ]
     },
     "execution_count": 6,
     "metadata": {},
     "output_type": "execute_result"
    }
   ],
   "source": [
    "winsorize(men, 'flexloc', 2, 'wage_flexloc', 'hrwage_r', 'employed', 1)"
   ]
  },
  {
   "cell_type": "markdown",
   "metadata": {},
   "source": [
    "### Women"
   ]
  },
  {
   "cell_type": "code",
   "execution_count": 7,
   "metadata": {},
   "outputs": [
    {
     "data": {
      "text/plain": [
       "1272"
      ]
     },
     "execution_count": 7,
     "metadata": {},
     "output_type": "execute_result"
    }
   ],
   "source": [
    "women = df[df['sex']=='female']\n",
    "len(women)"
   ]
  },
  {
   "cell_type": "code",
   "execution_count": 8,
   "metadata": {},
   "outputs": [
    {
     "name": "stderr",
     "output_type": "stream",
     "text": [
      "/var/folders/jx/dqj4zyfx4cj4t_bvpvt2drrm0000gn/T/ipykernel_16951/1712524855.py:10: SettingWithCopyWarning: \n",
      "A value is trying to be set on a copy of a slice from a DataFrame.\n",
      "Try using .loc[row_indexer,col_indexer] = value instead\n",
      "\n",
      "See the caveats in the documentation: https://pandas.pydata.org/pandas-docs/stable/user_guide/indexing.html#returning-a-view-versus-a-copy\n",
      "  data[winsorized_wage]=data[raw_wage]\n",
      "/Users/megan.mccoy/anaconda3/envs/atus/lib/python3.10/site-packages/pandas/core/indexing.py:1732: SettingWithCopyWarning: \n",
      "A value is trying to be set on a copy of a slice from a DataFrame\n",
      "\n",
      "See the caveats in the documentation: https://pandas.pydata.org/pandas-docs/stable/user_guide/indexing.html#returning-a-view-versus-a-copy\n",
      "  self._setitem_single_block(indexer, value, name)\n"
     ]
    },
    {
     "data": {
      "text/html": [
       "<div>\n",
       "<style scoped>\n",
       "    .dataframe tbody tr th:only-of-type {\n",
       "        vertical-align: middle;\n",
       "    }\n",
       "\n",
       "    .dataframe tbody tr th {\n",
       "        vertical-align: top;\n",
       "    }\n",
       "\n",
       "    .dataframe thead tr th {\n",
       "        text-align: left;\n",
       "    }\n",
       "\n",
       "    .dataframe thead tr:last-of-type th {\n",
       "        text-align: right;\n",
       "    }\n",
       "</style>\n",
       "<table border=\"1\" class=\"dataframe\">\n",
       "  <thead>\n",
       "    <tr>\n",
       "      <th></th>\n",
       "      <th></th>\n",
       "      <th colspan=\"8\" halign=\"left\">wage_flexsched</th>\n",
       "      <th colspan=\"8\" halign=\"left\">hrwage_r</th>\n",
       "    </tr>\n",
       "    <tr>\n",
       "      <th></th>\n",
       "      <th></th>\n",
       "      <th>count</th>\n",
       "      <th>mean</th>\n",
       "      <th>std</th>\n",
       "      <th>min</th>\n",
       "      <th>25%</th>\n",
       "      <th>50%</th>\n",
       "      <th>75%</th>\n",
       "      <th>max</th>\n",
       "      <th>count</th>\n",
       "      <th>mean</th>\n",
       "      <th>std</th>\n",
       "      <th>min</th>\n",
       "      <th>25%</th>\n",
       "      <th>50%</th>\n",
       "      <th>75%</th>\n",
       "      <th>max</th>\n",
       "    </tr>\n",
       "    <tr>\n",
       "      <th>employed</th>\n",
       "      <th>flexsched</th>\n",
       "      <th></th>\n",
       "      <th></th>\n",
       "      <th></th>\n",
       "      <th></th>\n",
       "      <th></th>\n",
       "      <th></th>\n",
       "      <th></th>\n",
       "      <th></th>\n",
       "      <th></th>\n",
       "      <th></th>\n",
       "      <th></th>\n",
       "      <th></th>\n",
       "      <th></th>\n",
       "      <th></th>\n",
       "      <th></th>\n",
       "      <th></th>\n",
       "    </tr>\n",
       "  </thead>\n",
       "  <tbody>\n",
       "    <tr>\n",
       "      <th rowspan=\"2\" valign=\"top\">1.0</th>\n",
       "      <th>0.0</th>\n",
       "      <td>505.0</td>\n",
       "      <td>29.357218</td>\n",
       "      <td>15.149833</td>\n",
       "      <td>4.768692</td>\n",
       "      <td>18.911730</td>\n",
       "      <td>26.249929</td>\n",
       "      <td>36.444382</td>\n",
       "      <td>73.873962</td>\n",
       "      <td>505.0</td>\n",
       "      <td>29.331200</td>\n",
       "      <td>15.194712</td>\n",
       "      <td>0.01900</td>\n",
       "      <td>18.911730</td>\n",
       "      <td>26.249929</td>\n",
       "      <td>36.444382</td>\n",
       "      <td>73.873962</td>\n",
       "    </tr>\n",
       "    <tr>\n",
       "      <th>1.0</th>\n",
       "      <td>739.0</td>\n",
       "      <td>37.123631</td>\n",
       "      <td>17.672121</td>\n",
       "      <td>7.755739</td>\n",
       "      <td>23.111904</td>\n",
       "      <td>34.474483</td>\n",
       "      <td>49.019117</td>\n",
       "      <td>73.873962</td>\n",
       "      <td>739.0</td>\n",
       "      <td>37.098415</td>\n",
       "      <td>17.717485</td>\n",
       "      <td>0.05275</td>\n",
       "      <td>23.111904</td>\n",
       "      <td>34.474483</td>\n",
       "      <td>49.019117</td>\n",
       "      <td>73.873962</td>\n",
       "    </tr>\n",
       "  </tbody>\n",
       "</table>\n",
       "</div>"
      ],
      "text/plain": [
       "                   wage_flexsched                                             \\\n",
       "                            count       mean        std       min        25%   \n",
       "employed flexsched                                                             \n",
       "1.0      0.0                505.0  29.357218  15.149833  4.768692  18.911730   \n",
       "         1.0                739.0  37.123631  17.672121  7.755739  23.111904   \n",
       "\n",
       "                                                    hrwage_r             \\\n",
       "                          50%        75%        max    count       mean   \n",
       "employed flexsched                                                        \n",
       "1.0      0.0        26.249929  36.444382  73.873962    505.0  29.331200   \n",
       "         1.0        34.474483  49.019117  73.873962    739.0  37.098415   \n",
       "\n",
       "                                                                         \\\n",
       "                          std      min        25%        50%        75%   \n",
       "employed flexsched                                                        \n",
       "1.0      0.0        15.194712  0.01900  18.911730  26.249929  36.444382   \n",
       "         1.0        17.717485  0.05275  23.111904  34.474483  49.019117   \n",
       "\n",
       "                               \n",
       "                          max  \n",
       "employed flexsched             \n",
       "1.0      0.0        73.873962  \n",
       "         1.0        73.873962  "
      ]
     },
     "execution_count": 8,
     "metadata": {},
     "output_type": "execute_result"
    }
   ],
   "source": [
    "winsorize(women, 'flexsched', 2, 'wage_flexsched', 'hrwage_r', 'employed', 1)"
   ]
  },
  {
   "cell_type": "code",
   "execution_count": 9,
   "metadata": {},
   "outputs": [
    {
     "name": "stderr",
     "output_type": "stream",
     "text": [
      "/var/folders/jx/dqj4zyfx4cj4t_bvpvt2drrm0000gn/T/ipykernel_16951/1712524855.py:10: SettingWithCopyWarning: \n",
      "A value is trying to be set on a copy of a slice from a DataFrame.\n",
      "Try using .loc[row_indexer,col_indexer] = value instead\n",
      "\n",
      "See the caveats in the documentation: https://pandas.pydata.org/pandas-docs/stable/user_guide/indexing.html#returning-a-view-versus-a-copy\n",
      "  data[winsorized_wage]=data[raw_wage]\n",
      "/Users/megan.mccoy/anaconda3/envs/atus/lib/python3.10/site-packages/pandas/core/indexing.py:1732: SettingWithCopyWarning: \n",
      "A value is trying to be set on a copy of a slice from a DataFrame\n",
      "\n",
      "See the caveats in the documentation: https://pandas.pydata.org/pandas-docs/stable/user_guide/indexing.html#returning-a-view-versus-a-copy\n",
      "  self._setitem_single_block(indexer, value, name)\n"
     ]
    },
    {
     "data": {
      "text/html": [
       "<div>\n",
       "<style scoped>\n",
       "    .dataframe tbody tr th:only-of-type {\n",
       "        vertical-align: middle;\n",
       "    }\n",
       "\n",
       "    .dataframe tbody tr th {\n",
       "        vertical-align: top;\n",
       "    }\n",
       "\n",
       "    .dataframe thead tr th {\n",
       "        text-align: left;\n",
       "    }\n",
       "\n",
       "    .dataframe thead tr:last-of-type th {\n",
       "        text-align: right;\n",
       "    }\n",
       "</style>\n",
       "<table border=\"1\" class=\"dataframe\">\n",
       "  <thead>\n",
       "    <tr>\n",
       "      <th></th>\n",
       "      <th></th>\n",
       "      <th colspan=\"8\" halign=\"left\">wage_flexloc</th>\n",
       "      <th colspan=\"8\" halign=\"left\">hrwage_r</th>\n",
       "    </tr>\n",
       "    <tr>\n",
       "      <th></th>\n",
       "      <th></th>\n",
       "      <th>count</th>\n",
       "      <th>mean</th>\n",
       "      <th>std</th>\n",
       "      <th>min</th>\n",
       "      <th>25%</th>\n",
       "      <th>50%</th>\n",
       "      <th>75%</th>\n",
       "      <th>max</th>\n",
       "      <th>count</th>\n",
       "      <th>mean</th>\n",
       "      <th>std</th>\n",
       "      <th>min</th>\n",
       "      <th>25%</th>\n",
       "      <th>50%</th>\n",
       "      <th>75%</th>\n",
       "      <th>max</th>\n",
       "    </tr>\n",
       "    <tr>\n",
       "      <th>employed</th>\n",
       "      <th>flexloc</th>\n",
       "      <th></th>\n",
       "      <th></th>\n",
       "      <th></th>\n",
       "      <th></th>\n",
       "      <th></th>\n",
       "      <th></th>\n",
       "      <th></th>\n",
       "      <th></th>\n",
       "      <th></th>\n",
       "      <th></th>\n",
       "      <th></th>\n",
       "      <th></th>\n",
       "      <th></th>\n",
       "      <th></th>\n",
       "      <th></th>\n",
       "      <th></th>\n",
       "    </tr>\n",
       "  </thead>\n",
       "  <tbody>\n",
       "    <tr>\n",
       "      <th rowspan=\"2\" valign=\"top\">1.0</th>\n",
       "      <th>0.0</th>\n",
       "      <td>574.0</td>\n",
       "      <td>28.895090</td>\n",
       "      <td>15.105887</td>\n",
       "      <td>6.298703</td>\n",
       "      <td>18.154499</td>\n",
       "      <td>25.574842</td>\n",
       "      <td>36.801124</td>\n",
       "      <td>73.873962</td>\n",
       "      <td>574.0</td>\n",
       "      <td>28.863321</td>\n",
       "      <td>15.158074</td>\n",
       "      <td>0.01900</td>\n",
       "      <td>18.154499</td>\n",
       "      <td>25.574842</td>\n",
       "      <td>36.801124</td>\n",
       "      <td>73.873962</td>\n",
       "    </tr>\n",
       "    <tr>\n",
       "      <th>1.0</th>\n",
       "      <td>670.0</td>\n",
       "      <td>38.331394</td>\n",
       "      <td>17.526688</td>\n",
       "      <td>7.465084</td>\n",
       "      <td>24.624483</td>\n",
       "      <td>34.639246</td>\n",
       "      <td>49.249226</td>\n",
       "      <td>73.873962</td>\n",
       "      <td>670.0</td>\n",
       "      <td>38.299160</td>\n",
       "      <td>17.587927</td>\n",
       "      <td>0.05275</td>\n",
       "      <td>24.624483</td>\n",
       "      <td>34.639246</td>\n",
       "      <td>49.249226</td>\n",
       "      <td>73.873962</td>\n",
       "    </tr>\n",
       "  </tbody>\n",
       "</table>\n",
       "</div>"
      ],
      "text/plain": [
       "                 wage_flexloc                                             \\\n",
       "                        count       mean        std       min        25%   \n",
       "employed flexloc                                                           \n",
       "1.0      0.0            574.0  28.895090  15.105887  6.298703  18.154499   \n",
       "         1.0            670.0  38.331394  17.526688  7.465084  24.624483   \n",
       "\n",
       "                                                  hrwage_r             \\\n",
       "                        50%        75%        max    count       mean   \n",
       "employed flexloc                                                        \n",
       "1.0      0.0      25.574842  36.801124  73.873962    574.0  28.863321   \n",
       "         1.0      34.639246  49.249226  73.873962    670.0  38.299160   \n",
       "\n",
       "                                                                       \\\n",
       "                        std      min        25%        50%        75%   \n",
       "employed flexloc                                                        \n",
       "1.0      0.0      15.158074  0.01900  18.154499  25.574842  36.801124   \n",
       "         1.0      17.587927  0.05275  24.624483  34.639246  49.249226   \n",
       "\n",
       "                             \n",
       "                        max  \n",
       "employed flexloc             \n",
       "1.0      0.0      73.873962  \n",
       "         1.0      73.873962  "
      ]
     },
     "execution_count": 9,
     "metadata": {},
     "output_type": "execute_result"
    }
   ],
   "source": [
    "winsorize(women, 'flexloc', 2, 'wage_flexloc', 'hrwage_r', 'employed', 1)"
   ]
  },
  {
   "cell_type": "markdown",
   "metadata": {},
   "source": [
    "## Model Independent Functions"
   ]
  },
  {
   "cell_type": "code",
   "execution_count": 10,
   "metadata": {},
   "outputs": [],
   "source": [
    "def lognormpdf(x: np.array, μ: float, σ: float):\n",
    "    \"\"\"\n",
    "    Calculates lognormal pdf without stats packages\n",
    "    \"\"\"\n",
    "    \n",
    "    denom = x * σ * np.sqrt(2*np.pi)\n",
    "    exp_num = -(np.log(x)-μ)**2\n",
    "    exp_denom = 2 * σ * σ\n",
    "    num = np.exp(exp_num/exp_denom)\n",
    "    \n",
    "    return num/denom"
   ]
  },
  {
   "cell_type": "code",
   "execution_count": 11,
   "metadata": {},
   "outputs": [],
   "source": [
    "def lognormsf(x: np.array, μ: float, σ: float):\n",
    "    \"\"\"\n",
    "    Calculates lognormal cdf with scipy.stats normal cdf\n",
    "    \"\"\"\n",
    "    \n",
    "    lnx = np.log(x)\n",
    "    num = lnx - μ\n",
    "    denom = σ\n",
    "    \n",
    "    return 1-stats.norm.cdf(num/denom)"
   ]
  },
  {
   "cell_type": "markdown",
   "metadata": {},
   "source": [
    "## Model Functions"
   ]
  },
  {
   "cell_type": "code",
   "execution_count": 12,
   "metadata": {},
   "outputs": [],
   "source": [
    "def Pr_wage_given_match(data: pd.DataFrame, flex: str, wage: str, res_wage: np.array, c_k: np.array, ζ: float, γ: float, α: float, μ: float, σ: float):\n",
    "    \"\"\"\n",
    "    Calculates probability of a wage draw conditional on a match being formed \n",
    "    \n",
    "    Inputs\n",
    "    - data: DataFrame\n",
    "    - flex: string for name of flexibility column\n",
    "    - wage: string for name of wage column\n",
    "    - res_wage: array of observed minimum wage of flexibility k\n",
    "    - c_k: Kx1 array of cost of providing flexibility\n",
    "    - ζ: productivity weight of flexibility k\n",
    "    - γ: utility weight of flexibility k\n",
    "    - α: bargaining parameter\n",
    "    - μ: location parameter of the log-normal wage distribution\n",
    "    - σ: scale parameter of the log-normal wage distribution\n",
    "    \n",
    "    Functions\n",
    "    - lognormpdf(x: np.array, μ: float, σ: float)\n",
    "    - lognormsf(x: np.array, μ: float, σ: float)\n",
    "    \"\"\"\n",
    "    employed_indiv = np.zeros(1) #sets first entry to zero \n",
    "\n",
    "    for k in range(len(c_k)):\n",
    "        tmp = data[data[flex]==k]\n",
    "        \n",
    "        g = ( 1/( α*(ζ**k) ) ) * lognormpdf( ( ( tmp[wage] - (1-α)*res_wage[k] + α*c_k[k] )/( α*(ζ**k) ) ), μ, σ )\n",
    "        \n",
    "        G_tilde = lognormsf( ( res_wage[k] + c_k[k] )/(ζ**k) , μ, σ )\n",
    "        \n",
    "        divide_thing = g/G_tilde\n",
    "        employed_indiv = np.append(employed_indiv, divide_thing)\n",
    "    \n",
    "    return employed_indiv[1:] #removes first entry \n"
   ]
  },
  {
   "cell_type": "code",
   "execution_count": 13,
   "metadata": {},
   "outputs": [],
   "source": [
    "def hazard(res_wage: float, c_k: np.array, p_k: np.array, λ: float, ζ: float, γ: float, μ: float, σ: float):\n",
    "    \"\"\"\n",
    "    Calculates the hazard rate out of unemployment \n",
    "    \n",
    "    Inputs\n",
    "    - res_wage: array of observed minimum wage of flexibility k\n",
    "    - c_k: Kx1 array of cost of providing flexibility\n",
    "    - p_k: Kx1 array of probability of each level of flexibility\n",
    "    - λ: arrival rate of offer\n",
    "    - ζ: productivity weight of flexibility k\n",
    "    - γ: utility weight of flexibility k    \n",
    "    - μ: location parameter of the log-normal wage distribution\n",
    "    - σ: scale parameter of the log-normal wage distribution\n",
    "    \n",
    "    Functions\n",
    "    - lognormsf(x: np.array, μ: float, σ: float)\n",
    "    \"\"\"\n",
    "    \n",
    "    prob_sum = 0\n",
    "    \n",
    "    if len(p_k)!=len(c_k):\n",
    "        return print(\"Length of p_k and c_k do not match.\")\n",
    "    else:\n",
    "        for k in range(len(c_k)):\n",
    "            prob_sum += p_k[k] * lognormsf( ( res_wage[k] + c_k[k] )/(ζ**k) , μ, σ )\n",
    "\n",
    "    return λ*prob_sum"
   ]
  },
  {
   "cell_type": "code",
   "execution_count": 14,
   "metadata": {},
   "outputs": [],
   "source": [
    "def log_L(data: pd.DataFrame, flex: str, wage: str, dur: str, c_k: np.array, α: float, λ: float, η: float, ζ: float, γ: float, μ: float, σ: float):\n",
    "    \"\"\"\n",
    "    Calculates the log-likelihood for the model\n",
    "    \n",
    "    Inputs\n",
    "    - data: DataFrame of all individuals\n",
    "    - flex: string for column of flexibility index (k)\n",
    "    - wage: string for column of wage data \n",
    "    - dur: string for unemployment duration data\n",
    "    - c_k: Kx1 array of cost of providing flexibility\n",
    "    - α: bargaining parameter\n",
    "    - λ: arrival rate of offer\n",
    "    - η: termination rate\n",
    "    - ζ: productivity weight of flexibility k\n",
    "    - γ: utility weight of flexibility k   \n",
    "    - μ: location parameter of the log-normal wage distribution\n",
    "    - σ: scale parameter of the log-normal wage distribution\n",
    "    \n",
    "    Functions\n",
    "    - hazard(res_wage: np.array, c_k: np.array, p_k: np.array, λ: float, ζ: float, γ: float, μ: float, σ: float)\n",
    "    - Pr_wage_given_match(data: pd.DataFrame, flex: str, wage: str, res_wage: np.array, c_k: np.array, ζ: float, γ: float, α: float, μ: float, σ: float)\n",
    "    \"\"\"\n",
    "    p_k = data[flex].value_counts(normalize=True).sort_index().array\n",
    "    res_wage = data[wage].groupby(data[flex]).min().array - γ*(np.arange(0, len(p_k)))\n",
    "        \n",
    "    N_log_h = data.count() * np.log( hazard(res_wage, c_k, p_k, λ, ζ, γ, μ, σ) )\n",
    "    N_log_h_plus_η = data.count() * np.log( hazard(res_wage, c_k, p_k, λ, ζ, γ, μ, σ) + η )\n",
    "    \n",
    "    empl_data = np.sum( np.log( Pr_wage_given_match(data, flex, wage, res_wage, c_k, ζ, γ, α, μ, σ) ) )\n",
    "    \n",
    "    Nu_log_η = data[dur].count() * np.log(η)\n",
    "    \n",
    "    unempl_data = hazard(res_wage, c_k, p_k, λ, ζ, γ, μ, σ) * np.sum(data[dur])\n",
    "    \n",
    "    logL = -(N_log_h - N_log_h_plus_η + empl_data + Nu_log_η - unempl_data)\n",
    "    \n",
    "    return logL[0]"
   ]
  },
  {
   "cell_type": "markdown",
   "metadata": {},
   "source": [
    "## Estimation Functions\n",
    "\n",
    "- One issue: three variables for flexibility (cost $c$, productivity $\\zeta$, and utility $\\gamma$\n",
    "    - Create iterative process where 2 out of 3 set by lit, find 3rd, use in next estimation to find other? \n",
    "        - Potentially issues in ordering? Fixed point argument? \n",
    "    - Remove cost $c$ by argument that TFP will account for the relative inputs and outputs ? (see notes on Bloom et al 2015)\n",
    "    - Set two out of three using literature values (akin to Macro calibration)\n",
    "    - 2-stage estimation? \n",
    "- Using Nelder-Mead, there is not a Hessian to calculate standard errors, so use bootstrap method \n",
    "    - Other idea: check log likelihood when only having one value to identify at a time"
   ]
  },
  {
   "cell_type": "code",
   "execution_count": 15,
   "metadata": {
    "tags": []
   },
   "outputs": [],
   "source": [
    "def est_gamma(data: pd.DataFrame, flex: str, wage: str, duration: str):\n",
    "    \"\"\"\n",
    "    Estimate parameter values for λ, η, γ, μ, σ\n",
    "        * Changed to c_k parameter vector //Currently hard-coded for binary flexibility measures in cost array! *\n",
    "    \"\"\"\n",
    "    \n",
    "    params = np.array([λ, η, γ, data[wage].mean(), data[wage].std()])\n",
    "    \n",
    "    Bounds = ((0,99), (0,99), (-99,99), (0,99), (0,99))\n",
    "    \n",
    "    logL_opt = lambda x: log_L(data, flex, wage, duration, \n",
    "                                c_k, α, x[0], x[1], ζ, x[2],\n",
    "                                x[3], x[4])\n",
    "\n",
    "    est = minimize(logL_opt, params, method='Nelder-Mead', options={'maxiter':1000}, bounds=Bounds)\n",
    "    \n",
    "    return [est.fun, est.x]"
   ]
  },
  {
   "cell_type": "code",
   "execution_count": 16,
   "metadata": {},
   "outputs": [],
   "source": [
    "def est_zeta(data: pd.DataFrame, flex: str, wage: str, duration: str):\n",
    "    \"\"\"\n",
    "    Estimate parameter values for λ, η, ζ, μ, σ\n",
    "        * CHanged to c_k parameter vector //Currently hard-coded for binary flexibility measures in cost array! *\n",
    "    \"\"\"\n",
    "    \n",
    "    params = np.array([λ, η, ζ, data[wage].mean(), data[wage].std()])\n",
    "    \n",
    "    Bounds = ((0,99), (0,99), (-99,99), (0,99), (0,99))\n",
    "    \n",
    "#     logL_opt = lambda x: log_L(data, flex, wage, duration, \n",
    "#                                 np.zeros(2), α, x[0], x[1], x[2], γ,\n",
    "#                                 x[3], x[4])\n",
    "    \n",
    "    \n",
    "    logL_opt = lambda x: log_L(data, flex, wage, duration, \n",
    "                                c_k, α, x[0], x[1], x[2], γ,\n",
    "                                x[3], x[4])\n",
    "\n",
    "    est = minimize(logL_opt, params, method='Nelder-Mead', options={'maxiter':1000}, bounds=Bounds)\n",
    "    \n",
    "    return [est.fun, est.x]"
   ]
  },
  {
   "cell_type": "code",
   "execution_count": 17,
   "metadata": {},
   "outputs": [],
   "source": [
    "def est_cost(data: pd.DataFrame, flex: str, wage: str, duration: str):\n",
    "    \"\"\"\n",
    "    Estimate parameter values for λ, η, c, μ, σ\n",
    "        * Currently hard-coded for binary flexibility measures in cost array! *\n",
    "    \"\"\"\n",
    "    \n",
    "    params = np.array([λ, η, c_k[1], data[wage].mean(), data[wage].std()])\n",
    "    \n",
    "    Bounds = ((0,99), (0,99), (-99,99), (0,99), (0,99))\n",
    "    \n",
    "    logL_opt = lambda x: log_L(data, flex, wage, duration, \n",
    "                                np.array([0,x[0]]), α, x[0], x[1], ζ, γ,\n",
    "                                x[3], x[4])\n",
    "\n",
    "    est = minimize(logL_opt, params, method='Nelder-Mead', options={'maxiter':1000}, bounds=Bounds)\n",
    "    \n",
    "    return [est.fun, est.x]"
   ]
  },
  {
   "cell_type": "code",
   "execution_count": 18,
   "metadata": {},
   "outputs": [],
   "source": [
    "def bootstrap(data: pd.DataFrame, n_samples:int):\n",
    "    \"\"\"\n",
    "    Thanks, Caleb\n",
    "    \"\"\"\n",
    "    bootstrapped_sample_list = []\n",
    "    \n",
    "    for n in range(n_samples):\n",
    "        nth_sample = data.sample(frac=1, replace=True)\n",
    "        bootstrapped_sample_list.append(nth_sample)\n",
    "    \n",
    "    return bootstrapped_sample_list"
   ]
  },
  {
   "cell_type": "code",
   "execution_count": 19,
   "metadata": {},
   "outputs": [],
   "source": [
    "def std_error(values):\n",
    "    \"\"\"\n",
    "    Calculates the standard error (standard deviation of values divided by square root of the number of values) of some values \n",
    "    \"\"\"\n",
    "    \n",
    "    stderr = np.std(values) / np.sqrt(len(values))\n",
    "\n",
    "    return stderr"
   ]
  },
  {
   "cell_type": "code",
   "execution_count": 20,
   "metadata": {},
   "outputs": [],
   "source": [
    "def fit_stats(values):\n",
    "    \"\"\"\n",
    "    \n",
    "    \"\"\"\n",
    "    \n",
    "    mean = np.mean(values)\n",
    "    \n",
    "    stderr = std_error(values)\n",
    "    \n",
    "    return [mean, stderr]\n",
    "#     return print(\"Boostrapped value \", str(mean), \"\\nStandard error    \", str(stderr),\"\\n\")"
   ]
  },
  {
   "cell_type": "code",
   "execution_count": 21,
   "metadata": {},
   "outputs": [],
   "source": [
    "def bootstrap_zeta(bootstrapped_data: pd.DataFrame, flex: str, wage: str, dur: str):\n",
    "    \"\"\"\n",
    "    \"\"\"\n",
    "    \n",
    "    logL_zetas = []\n",
    "    lambdas_zetas = []\n",
    "    etas_zetas = []\n",
    "    mus_zetas = []\n",
    "    sigmas_zetas = []\n",
    "    zetas = []\n",
    "\n",
    "    for sample in bootstrapped_data:\n",
    "        est_z = est_zeta(sample, flex, wage, dur)\n",
    "\n",
    "        logL_zetas.append(est_z[0])\n",
    "\n",
    "        tmp = est_z[1]\n",
    "\n",
    "        lambdas_zetas.append(tmp[0])\n",
    "        etas_zetas.append(tmp[1])\n",
    "        zetas.append(tmp[2])\n",
    "        mus_zetas.append(tmp[3])\n",
    "        sigmas_zetas.append(tmp[4])\n",
    "        \n",
    "    zeta_estimates = [lambdas_zetas, etas_zetas, mus_zetas, sigmas_zetas, zetas, logL_zetas]\n",
    "    \n",
    "    zeta_stats = []\n",
    "    for i in zeta_estimates:\n",
    "        zeta_stats.append(fit_stats(i))\n",
    "\n",
    "    df_stats = pd.DataFrame(zeta_stats, \n",
    "                            columns=['Estimate', 'Standard Error'], \n",
    "                            index = [\"λ\", \"η\", \"μ\", \"σ\", \"ζ\", \"Log Likelihood\"])\n",
    "    \n",
    "    return df_stats"
   ]
  },
  {
   "cell_type": "code",
   "execution_count": 22,
   "metadata": {},
   "outputs": [],
   "source": [
    "def bootstrap_gamma(bootstrapped_data: pd.DataFrame, flex: str, wage: str, dur: str):\n",
    "    \"\"\"\n",
    "    \"\"\"\n",
    "    logL_gamma = []\n",
    "    lambdas_gamma = []\n",
    "    etas_gamma = []\n",
    "    mus_gamma = []\n",
    "    sigmas_gamma = []\n",
    "    gammas = []\n",
    "\n",
    "    for sample in bootstrapped_data:\n",
    "        est_g = est_gamma(sample, flex, wage, dur)\n",
    "\n",
    "        logL_gamma.append(est_g[0])\n",
    "\n",
    "        estimated = est_g[1]\n",
    "\n",
    "        lambdas_gamma.append(estimated[0])\n",
    "        etas_gamma.append(estimated[1])\n",
    "        gammas.append(estimated[2])\n",
    "        mus_gamma.append(estimated[3])\n",
    "        sigmas_gamma.append(estimated[4])  \n",
    "        \n",
    "    gamma_estimates = [lambdas_gamma, etas_gamma, mus_gamma, sigmas_gamma, gammas, logL_gamma]\n",
    "    \n",
    "    gamma_stats = []\n",
    "    for i in gamma_estimates:\n",
    "        gamma_stats.append(fit_stats(i))\n",
    "    \n",
    "    df_stats = pd.DataFrame(gamma_stats, \n",
    "                            columns=['Estimate', 'Standard Error'], \n",
    "                            index = [\"λ\", \"η\", \"μ\", \"σ\", \"γ\", \"Log Likelihood\"])\n",
    "    \n",
    "    return df_stats"
   ]
  },
  {
   "cell_type": "code",
   "execution_count": 23,
   "metadata": {},
   "outputs": [],
   "source": [
    "def bootstrap_cost(bootstrapped_data: pd.DataFrame, flex: str, wage: str, dur: str):\n",
    "    \"\"\"\n",
    "    \"\"\"\n",
    "    logL = []\n",
    "    lambdas = []\n",
    "    etas = []\n",
    "    mus = []\n",
    "    sigmas = []\n",
    "    costs = []\n",
    "\n",
    "    for sample in bootstrapped_data:\n",
    "        est = est_cost(sample, flex, wage, dur)\n",
    "\n",
    "        logL.append(est[0])\n",
    "\n",
    "        estimated = est[1]\n",
    "\n",
    "        lambdas.append(estimated[0])\n",
    "        etas.append(estimated[1])\n",
    "        costs.append(estimated[2])\n",
    "        mus.append(estimated[3])\n",
    "        sigmas.append(estimated[4])  \n",
    "        \n",
    "    estimates = [lambdas, etas, mus, sigmas, costs, logL]\n",
    "    \n",
    "    stats = []\n",
    "    for i in estimates:\n",
    "        stats.append(fit_stats(i))\n",
    "    \n",
    "    df_stats = pd.DataFrame(stats, \n",
    "                            columns=['Estimate', 'Standard Error'], \n",
    "                            index = [\"λ\", \"η\", \"μ\", \"σ\", \"c\", \"Log Likelihood\"])\n",
    "    \n",
    "    return df_stats"
   ]
  },
  {
   "cell_type": "markdown",
   "metadata": {},
   "source": [
    "## Estimation\n",
    "\n",
    "### Parameters"
   ]
  },
  {
   "cell_type": "code",
   "execution_count": 51,
   "metadata": {},
   "outputs": [],
   "source": [
    "c_k = np.array([0,-0.91])\n",
    "λ = .01 \n",
    "η = .001 \n",
    "ζ = 1.25 # Estimate of TFP increase from Bloom et al (2015) (21%-28% increase)\n",
    "α = 0.5"
   ]
  },
  {
   "cell_type": "markdown",
   "metadata": {},
   "source": [
    "### Men"
   ]
  },
  {
   "cell_type": "code",
   "execution_count": 25,
   "metadata": {},
   "outputs": [],
   "source": [
    "men_sample = bootstrap(men, 50)"
   ]
  },
  {
   "cell_type": "code",
   "execution_count": 53,
   "metadata": {},
   "outputs": [
    {
     "name": "stderr",
     "output_type": "stream",
     "text": [
      "/var/folders/jx/dqj4zyfx4cj4t_bvpvt2drrm0000gn/T/ipykernel_16951/4160224879.py:10: RuntimeWarning: divide by zero encountered in double_scalars\n",
      "  return 1-stats.norm.cdf(num/denom)\n",
      "/var/folders/jx/dqj4zyfx4cj4t_bvpvt2drrm0000gn/T/ipykernel_16951/3242128716.py:26: RuntimeWarning: divide by zero encountered in log\n",
      "  N_log_h = data.count() * np.log( hazard(res_wage, c_k, p_k, λ, ζ, γ, μ, σ) )\n",
      "/var/folders/jx/dqj4zyfx4cj4t_bvpvt2drrm0000gn/T/ipykernel_16951/3242128716.py:29: RuntimeWarning: divide by zero encountered in log\n",
      "  empl_data = np.sum( np.log( Pr_wage_given_match(data, flex, wage, res_wage, c_k, ζ, γ, α, μ, σ) ) )\n",
      "/var/folders/jx/dqj4zyfx4cj4t_bvpvt2drrm0000gn/T/ipykernel_16951/3242128716.py:31: RuntimeWarning: divide by zero encountered in log\n",
      "  Nu_log_η = data[dur].count() * np.log(η)\n",
      "/var/folders/jx/dqj4zyfx4cj4t_bvpvt2drrm0000gn/T/ipykernel_16951/4160224879.py:6: RuntimeWarning: invalid value encountered in log\n",
      "  lnx = np.log(x)\n",
      "/Users/megan.mccoy/anaconda3/envs/atus/lib/python3.10/site-packages/pandas/core/arraylike.py:364: RuntimeWarning: invalid value encountered in log\n",
      "  result = getattr(ufunc, method)(*inputs, **kwargs)\n"
     ]
    }
   ],
   "source": [
    "γ = 0.6875 # Relative value of schedule flexibility to high salary from He et al (2021)\n",
    "\n",
    "men_sched_gamma = bootstrap_gamma(men_sample, 'flexsched', 'wage_flexsched', 'dur')\n",
    "men_sched_zeta = bootstrap_zeta(men_sample, 'flexsched', 'wage_flexsched', 'dur')\n",
    "# men_sched_cost = bootstrap_cost(men_sample, 'flexsched', 'wage_flexsched', 'dur')"
   ]
  },
  {
   "cell_type": "code",
   "execution_count": 54,
   "metadata": {
    "tags": []
   },
   "outputs": [
    {
     "name": "stderr",
     "output_type": "stream",
     "text": [
      "/var/folders/jx/dqj4zyfx4cj4t_bvpvt2drrm0000gn/T/ipykernel_16951/4160224879.py:10: RuntimeWarning: divide by zero encountered in double_scalars\n",
      "  return 1-stats.norm.cdf(num/denom)\n",
      "/var/folders/jx/dqj4zyfx4cj4t_bvpvt2drrm0000gn/T/ipykernel_16951/3242128716.py:26: RuntimeWarning: divide by zero encountered in log\n",
      "  N_log_h = data.count() * np.log( hazard(res_wage, c_k, p_k, λ, ζ, γ, μ, σ) )\n",
      "/var/folders/jx/dqj4zyfx4cj4t_bvpvt2drrm0000gn/T/ipykernel_16951/3242128716.py:31: RuntimeWarning: divide by zero encountered in log\n",
      "  Nu_log_η = data[dur].count() * np.log(η)\n",
      "/var/folders/jx/dqj4zyfx4cj4t_bvpvt2drrm0000gn/T/ipykernel_16951/3242128716.py:29: RuntimeWarning: divide by zero encountered in log\n",
      "  empl_data = np.sum( np.log( Pr_wage_given_match(data, flex, wage, res_wage, c_k, ζ, γ, α, μ, σ) ) )\n"
     ]
    }
   ],
   "source": [
    "γ = 0.625 # Relative value of location flexibility to high salary from He et al (2021)\n",
    "\n",
    "men_loc_gamma = bootstrap_gamma(men_sample, 'flexloc', 'wage_flexloc', 'dur')\n",
    "men_loc_zeta = bootstrap_zeta(men_sample, 'flexloc', 'wage_flexloc', 'dur')\n",
    "# men_loc_cost = bootstrap_cost(men_sample, 'flexloc', 'wage_flexloc', 'dur')"
   ]
  },
  {
   "cell_type": "markdown",
   "metadata": {},
   "source": [
    "### Women"
   ]
  },
  {
   "cell_type": "code",
   "execution_count": 26,
   "metadata": {},
   "outputs": [],
   "source": [
    "women_sample = bootstrap(women, 50)"
   ]
  },
  {
   "cell_type": "code",
   "execution_count": 55,
   "metadata": {},
   "outputs": [
    {
     "name": "stderr",
     "output_type": "stream",
     "text": [
      "/var/folders/jx/dqj4zyfx4cj4t_bvpvt2drrm0000gn/T/ipykernel_16951/4160224879.py:10: RuntimeWarning: divide by zero encountered in double_scalars\n",
      "  return 1-stats.norm.cdf(num/denom)\n",
      "/var/folders/jx/dqj4zyfx4cj4t_bvpvt2drrm0000gn/T/ipykernel_16951/3242128716.py:26: RuntimeWarning: divide by zero encountered in log\n",
      "  N_log_h = data.count() * np.log( hazard(res_wage, c_k, p_k, λ, ζ, γ, μ, σ) )\n",
      "/var/folders/jx/dqj4zyfx4cj4t_bvpvt2drrm0000gn/T/ipykernel_16951/3242128716.py:29: RuntimeWarning: divide by zero encountered in log\n",
      "  empl_data = np.sum( np.log( Pr_wage_given_match(data, flex, wage, res_wage, c_k, ζ, γ, α, μ, σ) ) )\n",
      "/var/folders/jx/dqj4zyfx4cj4t_bvpvt2drrm0000gn/T/ipykernel_16951/3242128716.py:31: RuntimeWarning: divide by zero encountered in log\n",
      "  Nu_log_η = data[dur].count() * np.log(η)\n",
      "/var/folders/jx/dqj4zyfx4cj4t_bvpvt2drrm0000gn/T/ipykernel_16951/4160224879.py:6: RuntimeWarning: invalid value encountered in log\n",
      "  lnx = np.log(x)\n",
      "/var/folders/jx/dqj4zyfx4cj4t_bvpvt2drrm0000gn/T/ipykernel_16951/3242128716.py:27: RuntimeWarning: divide by zero encountered in log\n",
      "  N_log_h_plus_η = data.count() * np.log( hazard(res_wage, c_k, p_k, λ, ζ, γ, μ, σ) + η )\n"
     ]
    }
   ],
   "source": [
    "γ = 0.6875 # Relative value of schedule flexibility to high salary from He et al (2021)\n",
    "\n",
    "women_sched_gamma = bootstrap_gamma(women_sample, 'flexsched', 'wage_flexsched', 'dur')\n",
    "women_sched_zeta = bootstrap_zeta(women_sample, 'flexsched', 'wage_flexsched', 'dur')\n",
    "# women_sched_cost = bootstrap_cost(women_sample, 'flexsched', 'wage_flexsched', 'dur')"
   ]
  },
  {
   "cell_type": "code",
   "execution_count": 56,
   "metadata": {
    "tags": []
   },
   "outputs": [
    {
     "name": "stderr",
     "output_type": "stream",
     "text": [
      "/var/folders/jx/dqj4zyfx4cj4t_bvpvt2drrm0000gn/T/ipykernel_16951/4160224879.py:10: RuntimeWarning: divide by zero encountered in double_scalars\n",
      "  return 1-stats.norm.cdf(num/denom)\n",
      "/var/folders/jx/dqj4zyfx4cj4t_bvpvt2drrm0000gn/T/ipykernel_16951/3242128716.py:26: RuntimeWarning: divide by zero encountered in log\n",
      "  N_log_h = data.count() * np.log( hazard(res_wage, c_k, p_k, λ, ζ, γ, μ, σ) )\n",
      "/var/folders/jx/dqj4zyfx4cj4t_bvpvt2drrm0000gn/T/ipykernel_16951/3242128716.py:29: RuntimeWarning: divide by zero encountered in log\n",
      "  empl_data = np.sum( np.log( Pr_wage_given_match(data, flex, wage, res_wage, c_k, ζ, γ, α, μ, σ) ) )\n",
      "/var/folders/jx/dqj4zyfx4cj4t_bvpvt2drrm0000gn/T/ipykernel_16951/3242128716.py:31: RuntimeWarning: divide by zero encountered in log\n",
      "  Nu_log_η = data[dur].count() * np.log(η)\n",
      "/var/folders/jx/dqj4zyfx4cj4t_bvpvt2drrm0000gn/T/ipykernel_16951/3242128716.py:27: RuntimeWarning: divide by zero encountered in log\n",
      "  N_log_h_plus_η = data.count() * np.log( hazard(res_wage, c_k, p_k, λ, ζ, γ, μ, σ) + η )\n"
     ]
    }
   ],
   "source": [
    "γ = 0.625 # Relative value of location flexibility to high salary from He et al (2021)\n",
    "\n",
    "women_loc_gamma = bootstrap_gamma(women_sample, 'flexloc', 'wage_flexloc', 'dur')\n",
    "women_loc_zeta = bootstrap_zeta(women_sample, 'flexloc', 'wage_flexloc', 'dur')\n",
    "# women_loc_cost = bootstrap_cost(women_sample, 'flexloc', 'wage_flexloc', 'dur')"
   ]
  },
  {
   "cell_type": "markdown",
   "metadata": {},
   "source": [
    "### Output to CSV"
   ]
  },
  {
   "cell_type": "code",
   "execution_count": 61,
   "metadata": {},
   "outputs": [],
   "source": [
    "sched_women = pd.concat([women_sched_gamma, women_sched_zeta, women_sched_cost], \n",
    "                  keys = ['(1)', '(2)', '(3)'],\n",
    "                  axis=1)\n",
    "# sched_women\n",
    "\n",
    "sched_women.to_csv(\"sched_params_women.csv\", float_format='%.4f')"
   ]
  },
  {
   "cell_type": "code",
   "execution_count": 62,
   "metadata": {},
   "outputs": [],
   "source": [
    "sched_men = pd.concat([men_sched_gamma, men_sched_zeta, men_sched_cost], \n",
    "                  keys = ['(1)', '(2)', '(3)'],\n",
    "                  axis=1)\n",
    "# sched_men\n",
    "sched_men.to_csv(\"sched_params_men.csv\", float_format='%.4f')"
   ]
  },
  {
   "cell_type": "code",
   "execution_count": 63,
   "metadata": {},
   "outputs": [],
   "source": [
    "loc_women = pd.concat([women_loc_gamma, women_loc_zeta, women_loc_cost], \n",
    "                  keys = ['(1)', '(2)', '(3)', '(4)'],\n",
    "                  axis=1)\n",
    "# loc_women\n",
    "loc_women.to_csv(\"loc_params_women.csv\", float_format='%.4f')"
   ]
  },
  {
   "cell_type": "code",
   "execution_count": 64,
   "metadata": {},
   "outputs": [],
   "source": [
    "loc_men = pd.concat([men_loc_gamma, men_loc_zeta, men_loc_cost], \n",
    "                  keys = ['(1)', '(2)', '(3)', '(4)'],\n",
    "                  axis=1)\n",
    "# loc_men\n",
    "loc_men.to_csv(\"loc_params_men.csv\", float_format='%.4f')"
   ]
  },
  {
   "cell_type": "markdown",
   "metadata": {},
   "source": [
    "### Output to Latex\n",
    "\n",
    "Don't know how to do it :( "
   ]
  },
  {
   "cell_type": "markdown",
   "metadata": {},
   "source": [
    "# Summary Statistics"
   ]
  },
  {
   "cell_type": "code",
   "execution_count": 27,
   "metadata": {},
   "outputs": [],
   "source": [
    "def sum_stats_empl(data: pd.DataFrame, flex: str, wage:str, raw_wage: str):\n",
    "    \"\"\"\n",
    "    Creates formatted latex tables of summary statistics \n",
    "    \"\"\"\n",
    "    \n",
    "    agg_dict_empl = {\n",
    "                    raw_wage: ['count', 'min', 'mean', 'std'],\n",
    "                    wage: ['min', 'mean', 'std']\n",
    "                    }\n",
    "    empl = data.groupby(flex).agg(agg_dict_empl).to_latex(float_format=\"%.2f\")\n",
    "    \n",
    "    return print(empl)"
   ]
  },
  {
   "cell_type": "code",
   "execution_count": 28,
   "metadata": {},
   "outputs": [],
   "source": [
    "def sum_stats_unempl(data: pd.DataFrame, gender:str, dur:str):\n",
    "    \"\"\"\n",
    "    Creates formatted latex tables of summary statistics for unemployed \n",
    "    \"\"\"\n",
    "    \n",
    "    agg_dict_unempl = {\n",
    "                        dur: ['count', 'min', 'max', 'mean', 'std']\n",
    "                        }\n",
    "    unempl = data.groupby([gender]).agg(agg_dict_unempl).to_latex(float_format=\"%.2f\")\n",
    "    \n",
    "    return print(unempl)"
   ]
  },
  {
   "cell_type": "code",
   "execution_count": 29,
   "metadata": {},
   "outputs": [
    {
     "name": "stdout",
     "output_type": "stream",
     "text": [
      "\\begin{tabular}{lrrrrrrr}\n",
      "\\toprule\n",
      "{} & \\multicolumn{4}{l}{hrwage\\_r} & \\multicolumn{3}{l}{wage\\_flexsched} \\\\\n",
      "{} &    count &  min &  mean &   std &            min &  mean &   std \\\\\n",
      "flexsched &          &      &       &       &                &       &       \\\\\n",
      "\\midrule\n",
      "0.0       &      351 & 0.01 & 36.21 & 18.35 &           7.62 & 36.25 & 18.28 \\\\\n",
      "1.0       &      926 & 1.04 & 45.72 & 18.95 &           9.51 & 45.75 & 18.89 \\\\\n",
      "\\bottomrule\n",
      "\\end{tabular}\n",
      "\n"
     ]
    }
   ],
   "source": [
    "sum_stats_empl(men, 'flexsched', 'wage_flexsched', 'hrwage_r')"
   ]
  },
  {
   "cell_type": "code",
   "execution_count": 30,
   "metadata": {},
   "outputs": [
    {
     "name": "stdout",
     "output_type": "stream",
     "text": [
      "\\begin{tabular}{lrrrrrrr}\n",
      "\\toprule\n",
      "{} & \\multicolumn{4}{l}{hrwage\\_r} & \\multicolumn{3}{l}{wage\\_flexsched} \\\\\n",
      "{} &    count &  min &  mean &   std &            min &  mean &   std \\\\\n",
      "flexsched &          &      &       &       &                &       &       \\\\\n",
      "\\midrule\n",
      "0.0       &      505 & 0.02 & 29.33 & 15.19 &           4.77 & 29.36 & 15.15 \\\\\n",
      "1.0       &      739 & 0.05 & 37.10 & 17.72 &           7.76 & 37.12 & 17.67 \\\\\n",
      "\\bottomrule\n",
      "\\end{tabular}\n",
      "\n"
     ]
    }
   ],
   "source": [
    "sum_stats_empl(women, 'flexsched', 'wage_flexsched', 'hrwage_r')"
   ]
  },
  {
   "cell_type": "code",
   "execution_count": 31,
   "metadata": {},
   "outputs": [
    {
     "name": "stdout",
     "output_type": "stream",
     "text": [
      "\\begin{tabular}{lrrrrrrr}\n",
      "\\toprule\n",
      "{} & \\multicolumn{4}{l}{hrwage\\_r} & \\multicolumn{3}{l}{wage\\_flexloc} \\\\\n",
      "{} &    count &  min &  mean &   std &          min &  mean &   std \\\\\n",
      "flexloc &          &      &       &       &              &       &       \\\\\n",
      "\\midrule\n",
      "0.0     &      491 & 0.01 & 35.79 & 17.85 &         7.80 & 35.82 & 17.80 \\\\\n",
      "1.0     &      786 & 1.04 & 47.67 & 18.69 &        10.59 & 47.72 & 18.59 \\\\\n",
      "\\bottomrule\n",
      "\\end{tabular}\n",
      "\n"
     ]
    }
   ],
   "source": [
    "sum_stats_empl(men, 'flexloc', 'wage_flexloc', 'hrwage_r')"
   ]
  },
  {
   "cell_type": "code",
   "execution_count": 32,
   "metadata": {},
   "outputs": [
    {
     "name": "stdout",
     "output_type": "stream",
     "text": [
      "\\begin{tabular}{lrrrrrrr}\n",
      "\\toprule\n",
      "{} & \\multicolumn{4}{l}{hrwage\\_r} & \\multicolumn{3}{l}{wage\\_flexloc} \\\\\n",
      "{} &    count &  min &  mean &   std &          min &  mean &   std \\\\\n",
      "flexloc &          &      &       &       &              &       &       \\\\\n",
      "\\midrule\n",
      "0.0     &      574 & 0.02 & 28.86 & 15.16 &         6.30 & 28.90 & 15.11 \\\\\n",
      "1.0     &      670 & 0.05 & 38.30 & 17.59 &         7.47 & 38.33 & 17.53 \\\\\n",
      "\\bottomrule\n",
      "\\end{tabular}\n",
      "\n"
     ]
    }
   ],
   "source": [
    "sum_stats_empl(women, 'flexloc', 'wage_flexloc', 'hrwage_r')"
   ]
  },
  {
   "cell_type": "code",
   "execution_count": 33,
   "metadata": {},
   "outputs": [
    {
     "name": "stdout",
     "output_type": "stream",
     "text": [
      "\\begin{tabular}{lrrrrr}\n",
      "\\toprule\n",
      "{} & \\multicolumn{5}{l}{dur} \\\\\n",
      "{} & count &  min &    max &  mean &   std \\\\\n",
      "sex    &       &      &        &       &       \\\\\n",
      "\\midrule\n",
      "male   &    27 & 8.00 & 131.00 & 18.63 & 23.35 \\\\\n",
      "female &    28 & 8.00 & 129.00 & 17.75 & 22.51 \\\\\n",
      "\\bottomrule\n",
      "\\end{tabular}\n",
      "\n"
     ]
    }
   ],
   "source": [
    "sum_stats_unempl(df, 'sex', 'dur')"
   ]
  },
  {
   "cell_type": "markdown",
   "metadata": {},
   "source": [
    "# Figures"
   ]
  },
  {
   "cell_type": "code",
   "execution_count": 34,
   "metadata": {},
   "outputs": [],
   "source": [
    "def binary_wage_distr(data: pd.DataFrame, flex: str, wage: str, employed: str, label: str, path: str):\n",
    "    \"\"\"\n",
    "    \"\"\"\n",
    "    fig, ax = plt.subplots(2, 1, figsize=(12, 8))\n",
    "\n",
    "    for k in range(2):\n",
    "        tmp = data[(data[flex]==k) & (data[employed]==1)]\n",
    "        sns.distplot(tmp[wage], color='#4B9CD3', hist_kws={'alpha' : .3}, bins=100, ax=ax[k])# kde=True\n",
    "        ax[k].set_ylim([0,0.15])\n",
    "        ax[k].set_xlim([0,75])\n",
    "        if k == 1:\n",
    "            tmp_label = 'Hourly Wage with Flexible '+str(label)\n",
    "            ax[k].set(xlabel = tmp_label)\n",
    "        elif k == 0:\n",
    "            tmp_label = 'Hourly Wage without Flexible '+str(label)\n",
    "            ax[k].set(xlabel = tmp_label)\n",
    "        else:\n",
    "            print(\"Not binary k\")\n",
    "\n",
    "    plt.tight_layout()\n",
    "\n",
    "    if path != None:\n",
    "        fig.savefig(path, bbox_inches='tight', transparent=True)\n",
    "        "
   ]
  },
  {
   "cell_type": "code",
   "execution_count": 35,
   "metadata": {},
   "outputs": [
    {
     "name": "stderr",
     "output_type": "stream",
     "text": [
      "/Users/megan.mccoy/anaconda3/envs/atus/lib/python3.10/site-packages/seaborn/distributions.py:2619: FutureWarning: `distplot` is a deprecated function and will be removed in a future version. Please adapt your code to use either `displot` (a figure-level function with similar flexibility) or `histplot` (an axes-level function for histograms).\n",
      "  warnings.warn(msg, FutureWarning)\n",
      "/Users/megan.mccoy/anaconda3/envs/atus/lib/python3.10/site-packages/seaborn/distributions.py:2619: FutureWarning: `distplot` is a deprecated function and will be removed in a future version. Please adapt your code to use either `displot` (a figure-level function with similar flexibility) or `histplot` (an axes-level function for histograms).\n",
      "  warnings.warn(msg, FutureWarning)\n"
     ]
    },
    {
     "data": {
      "image/png": "[encoded data removed]",
      "text/plain": [
       "<Figure size 864x576 with 2 Axes>"
      ]
     },
     "metadata": {
      "needs_background": "light"
     },
     "output_type": "display_data"
    }
   ],
   "source": [
    "binary_wage_distr(men, 'flexsched', 'wage_flexsched', 'employed', 'Schedule', 'men_wage_flexsched.png')\n"
   ]
  },
  {
   "cell_type": "code",
   "execution_count": 36,
   "metadata": {},
   "outputs": [
    {
     "name": "stderr",
     "output_type": "stream",
     "text": [
      "/Users/megan.mccoy/anaconda3/envs/atus/lib/python3.10/site-packages/seaborn/distributions.py:2619: FutureWarning: `distplot` is a deprecated function and will be removed in a future version. Please adapt your code to use either `displot` (a figure-level function with similar flexibility) or `histplot` (an axes-level function for histograms).\n",
      "  warnings.warn(msg, FutureWarning)\n",
      "/Users/megan.mccoy/anaconda3/envs/atus/lib/python3.10/site-packages/seaborn/distributions.py:2619: FutureWarning: `distplot` is a deprecated function and will be removed in a future version. Please adapt your code to use either `displot` (a figure-level function with similar flexibility) or `histplot` (an axes-level function for histograms).\n",
      "  warnings.warn(msg, FutureWarning)\n"
     ]
    },
    {
     "data": {
      "image/png": "[encoded data removed]",
      "text/plain": [
       "<Figure size 864x576 with 2 Axes>"
      ]
     },
     "metadata": {
      "needs_background": "light"
     },
     "output_type": "display_data"
    }
   ],
   "source": [
    "binary_wage_distr(men, 'flexloc', 'wage_flexloc', 'employed', 'Location', 'men_wage_flexloc.png')"
   ]
  },
  {
   "cell_type": "code",
   "execution_count": 37,
   "metadata": {},
   "outputs": [
    {
     "name": "stderr",
     "output_type": "stream",
     "text": [
      "/Users/megan.mccoy/anaconda3/envs/atus/lib/python3.10/site-packages/seaborn/distributions.py:2619: FutureWarning: `distplot` is a deprecated function and will be removed in a future version. Please adapt your code to use either `displot` (a figure-level function with similar flexibility) or `histplot` (an axes-level function for histograms).\n",
      "  warnings.warn(msg, FutureWarning)\n",
      "/Users/megan.mccoy/anaconda3/envs/atus/lib/python3.10/site-packages/seaborn/distributions.py:2619: FutureWarning: `distplot` is a deprecated function and will be removed in a future version. Please adapt your code to use either `displot` (a figure-level function with similar flexibility) or `histplot` (an axes-level function for histograms).\n",
      "  warnings.warn(msg, FutureWarning)\n"
     ]
    },
    {
     "data": {
      "image/png": "[encoded data removed]",
      "text/plain": [
       "<Figure size 864x576 with 2 Axes>"
      ]
     },
     "metadata": {
      "needs_background": "light"
     },
     "output_type": "display_data"
    }
   ],
   "source": [
    "binary_wage_distr(women, 'flexsched', 'wage_flexsched', 'employed', 'Schedule', 'women_wage_flexsched.png')"
   ]
  },
  {
   "cell_type": "code",
   "execution_count": 38,
   "metadata": {},
   "outputs": [
    {
     "name": "stderr",
     "output_type": "stream",
     "text": [
      "/Users/megan.mccoy/anaconda3/envs/atus/lib/python3.10/site-packages/seaborn/distributions.py:2619: FutureWarning: `distplot` is a deprecated function and will be removed in a future version. Please adapt your code to use either `displot` (a figure-level function with similar flexibility) or `histplot` (an axes-level function for histograms).\n",
      "  warnings.warn(msg, FutureWarning)\n",
      "/Users/megan.mccoy/anaconda3/envs/atus/lib/python3.10/site-packages/seaborn/distributions.py:2619: FutureWarning: `distplot` is a deprecated function and will be removed in a future version. Please adapt your code to use either `displot` (a figure-level function with similar flexibility) or `histplot` (an axes-level function for histograms).\n",
      "  warnings.warn(msg, FutureWarning)\n"
     ]
    },
    {
     "data": {
      "image/png": "[encoded data removed]",
      "text/plain": [
       "<Figure size 864x576 with 2 Axes>"
      ]
     },
     "metadata": {
      "needs_background": "light"
     },
     "output_type": "display_data"
    }
   ],
   "source": [
    "binary_wage_distr(women, 'flexloc', 'wage_flexloc', 'employed', 'Location', 'women_wage_flexloc.png')"
   ]
  },
  {
   "cell_type": "markdown",
   "metadata": {},
   "source": [
    "# Scratch"
   ]
  },
  {
   "cell_type": "code",
   "execution_count": null,
   "metadata": {},
   "outputs": [],
   "source": []
  },
  {
   "cell_type": "code",
   "execution_count": null,
   "metadata": {},
   "outputs": [],
   "source": [
    "loc = pd.concat([men_loc_gamma, women_loc_gamma, men_loc_zeta, women_loc_zeta], \n",
    "                  keys = ['(1)', '(2)', '(3)', '(4)'],\n",
    "                  axis=1)\n",
    "loc\n",
    "\n",
    "loc.to_csv(\"loc_params.csv\", float_format='%.4f')"
   ]
  },
  {
   "cell_type": "code",
   "execution_count": null,
   "metadata": {},
   "outputs": [],
   "source": [
    "sched = pd.concat([men_sched_gamma, women_sched_gamma, men_sched_zeta, women_sched_zeta], \n",
    "                  keys = ['(1)', '(2)', '(3)', '(4)'],\n",
    "                  axis=1)\n",
    "sched\n",
    "\n",
    "sched.to_csv(\"sched_params.csv\", float_format='%.4f')"
   ]
  },
  {
   "cell_type": "code",
   "execution_count": null,
   "metadata": {},
   "outputs": [],
   "source": []
  },
  {
   "cell_type": "code",
   "execution_count": null,
   "metadata": {},
   "outputs": [],
   "source": [
    "def est_cost(data: pd.DataFrame, flex: str, wage: str, duration: str):\n",
    "    \"\"\"\n",
    "    Estimate parameter values for λ, η, ζ, μ, σ\n",
    "        * Currently hard-coded for binary flexibility measures in cost array! *\n",
    "    \"\"\"\n",
    "    \n",
    "    params = np.array([λ, η, c_k[1], data[wage].mean(), data[wage].std()])\n",
    "    \n",
    "    Bounds = ((0,99), (0,99), (-99,99), (0,99), (0,99))\n",
    "    \n",
    "    logL_opt = lambda x: log_L(data, flex, wage, duration, \n",
    "                                np.array([0,x[0]]), α, x[1], x[2], ζ, γ,\n",
    "                                x[3], x[4])\n",
    "\n",
    "    est = minimize(logL_opt, params, method='Nelder-Mead', options={'maxiter':1000}, bounds=Bounds)\n",
    "    \n",
    "    return [est.fun, est.x]"
   ]
  },
  {
   "cell_type": "code",
   "execution_count": null,
   "metadata": {},
   "outputs": [],
   "source": [
    "def bootstrap_cost(bootstrapped_data: pd.DataFrame, flex: str, wage: str, dur: str):\n",
    "    \"\"\"\n",
    "    \"\"\"\n",
    "    logL_c = []\n",
    "    lambdas_c = []\n",
    "    etas_c = []\n",
    "    mus_c = []\n",
    "    sigmas_c = []\n",
    "    cs = []\n",
    "\n",
    "    for sample in bootstrapped_data:\n",
    "        est_c = est_cost(sample, flex, wage, dur)\n",
    "\n",
    "        logL_c.append(est_c[0])\n",
    "\n",
    "        estimated = est_c[1]\n",
    "\n",
    "        lambdas_c.append(estimated[0])\n",
    "        etas_c.append(estimated[1])\n",
    "        cs.append(estimated[2])\n",
    "        mus_c.append(estimated[3])\n",
    "        sigmas_c.append(estimated[4])  \n",
    "        \n",
    "    c_estimates = [lambdas_c, etas_c, mus_c, sigmas_c, cs, logL_c]\n",
    "    \n",
    "    c_stats = []\n",
    "    for i in c_estimates:\n",
    "        c_stats.append(fit_stats(i))\n",
    "    \n",
    "    df_stats = pd.DataFrame(c_stats, \n",
    "                            columns=['Estimate', 'Standard Error'], \n",
    "                            index = [\"λ\", \"η\", \"μ\", \"σ\", \"c\", \"Log Likelihood\"])\n",
    "    \n",
    "    return df_stats"
   ]
  },
  {
   "cell_type": "code",
   "execution_count": null,
   "metadata": {},
   "outputs": [],
   "source": []
  },
  {
   "cell_type": "markdown",
   "metadata": {},
   "source": [
    "#### 1st percentile"
   ]
  },
  {
   "cell_type": "code",
   "execution_count": null,
   "metadata": {},
   "outputs": [],
   "source": [
    "first_pctl = np.zeros(1)\n",
    "\n",
    "for k in range(2):\n",
    "    tmp = men[men['flexsched']==k]\n",
    "    first = np.percentile(tmp['hrwage_r'],1)\n",
    "    first_pctl = np.append(first_pctl, first)\n",
    "#     print(\"5th percentile wage = \" + str(first) + \" for men with flex level \" + str(k))\n",
    "    \n",
    "men['wage_flexsched']=men['hrwage_r']\n",
    "\n",
    "for k in range(2):\n",
    "    men['wage_flexsched'].iloc[(men['hrwage_r']<first_pctl[k+1]) & (men['flexsched']==k)]=first_pctl[k+1] #k+1 because empty array initiates with zero\n",
    "        \n",
    "men['wage_flexsched'].groupby([men['employed'],men['flexsched']]).describe()"
   ]
  },
  {
   "cell_type": "code",
   "execution_count": null,
   "metadata": {},
   "outputs": [],
   "source": [
    "first_pctl = np.zeros(1)\n",
    "\n",
    "for k in range(2):\n",
    "    tmp = men[men['flexloc']==k]\n",
    "    first = np.percentile(tmp['hrwage_r'],1)\n",
    "    first_pctl = np.append(first_pctl, first)\n",
    "#     print(\"5th percentile wage = \" + str(first) + \" for men with flex level \" + str(k))\n",
    "    \n",
    "men['wage_flexloc']=men['hrwage_r']\n",
    "\n",
    "for k in range(2):\n",
    "    men['wage_flexloc'].iloc[(men['hrwage_r']<first_pctl[k+1]) & (men['flexloc']==k)]=first_pctl[k+1] #k+1 because empty array initiates with zero\n",
    "        \n",
    "men['wage_flexloc'].groupby([men['employed'],men['flexloc']]).describe()"
   ]
  },
  {
   "cell_type": "markdown",
   "metadata": {},
   "source": [
    "#### 5th percentile "
   ]
  },
  {
   "cell_type": "code",
   "execution_count": null,
   "metadata": {},
   "outputs": [],
   "source": [
    "# fifth_pctl = np.zeros(1)\n",
    "\n",
    "# for k in range(3):\n",
    "#     tmp = men[men['flex_sched_score']==k]\n",
    "#     fifth = np.percentile(tmp['hrwage_r'],5)\n",
    "#     fifth_pctl = np.append(fifth_pctl, fifth)\n",
    "# #     print(\"5th percentile wage = \" + str(fifth) + \" for men with flex level \" + str(k))\n",
    "    \n",
    "# men['wage_flexschedscore']=men['hrwage_r']\n",
    "\n",
    "# for k in range(3):\n",
    "#     men['wage_flexschedscore'].iloc[(men['hrwage_r']<fifth_pctl[k+1]) & (men['flex_sched_score']==k)]=fifth_pctl[k+1] #k+1 because empty array initiates with zero\n",
    "\n",
    "# men['wage_flexschedscore'].groupby([men['employed'],men['flex_sched_score']]).describe()"
   ]
  },
  {
   "cell_type": "code",
   "execution_count": null,
   "metadata": {},
   "outputs": [],
   "source": [
    "# fifth_pctl = np.zeros(1)\n",
    "\n",
    "# for k in range(2):\n",
    "#     tmp = men[men['flexsched']==k]\n",
    "#     fifth = np.percentile(tmp['hrwage_r'],5)\n",
    "#     fifth_pctl = np.append(fifth_pctl, fifth)\n",
    "# #     print(\"5th percentile wage = \" + str(fifth) + \" for men with flex level \" + str(k))\n",
    "    \n",
    "# men['wage_flexsched']=men['hrwage_r']\n",
    "\n",
    "# for k in range(2):\n",
    "#     men['wage_flexsched'].iloc[(men['hrwage_r']<fifth_pctl[k+1]) & (men['flexsched']==k)]=fifth_pctl[k+1] #k+1 because empty array initiates with zero\n",
    "        \n",
    "# men['wage_flexsched'].groupby([men['employed'],men['flexsched']]).describe()"
   ]
  },
  {
   "cell_type": "code",
   "execution_count": null,
   "metadata": {},
   "outputs": [],
   "source": [
    "# fifth_pctl = np.zeros(1)\n",
    "\n",
    "# for k in range(2):\n",
    "#     tmp = men[men['flexloc']==k]\n",
    "#     fifth = np.percentile(tmp['hrwage_r'],5)\n",
    "#     fifth_pctl = np.append(fifth_pctl, fifth)\n",
    "# #     print(\"5th percentile wage = \" + str(fifth) + \" for men with flex level \" + str(k))\n",
    "    \n",
    "# men['wage_flexloc']=men['hrwage_r']\n",
    "\n",
    "# for k in range(2):\n",
    "#     men['wage_flexloc'].iloc[(men['hrwage_r']<fifth_pctl[k+1]) & (men['flexloc']==k)]=fifth_pctl[k+1] #k+1 because empty array initiates with zero\n",
    "        \n",
    "# men['wage_flexloc'].groupby([men['employed'],men['flexloc']]).describe()"
   ]
  },
  {
   "cell_type": "code",
   "execution_count": null,
   "metadata": {},
   "outputs": [],
   "source": []
  },
  {
   "cell_type": "code",
   "execution_count": null,
   "metadata": {},
   "outputs": [],
   "source": [
    "def binary_wage_distr(data: pd.DataFrame, flex: str, wage: str, employed: str):\n",
    "    \"\"\"\n",
    "    \"\"\"\n",
    "    fig, ax = plt.subplots(2, 1, figsize=(12, 8))\n",
    "\n",
    "    for k in range(2):\n",
    "        tmp = data[(data[flex]==k) & (data[employed]==1)]\n",
    "        sns.kdeplot(tmp[wage], color='#4B9CD3', ax=ax[k], fill=True)#, kde=True) #hist_kws={'alpha' : .3}, bins=100, \n",
    "#         ax[k].set_ylim([0,0.1])\n",
    "#         ax[k].set_xlim([0,75])\n",
    "        if k == 1:\n",
    "            ax[k].set(xlabel = 'Hourly Wage with Flexible Schedule')\n",
    "        elif k == 0:\n",
    "            ax[k].set(xlabel = 'Hourly Wage without Flexible Schedule')\n",
    "        else:\n",
    "            print(\"Not binary k\")\n",
    "\n",
    "    plt.tight_layout()\n"
   ]
  },
  {
   "cell_type": "code",
   "execution_count": null,
   "metadata": {},
   "outputs": [],
   "source": []
  },
  {
   "cell_type": "code",
   "execution_count": null,
   "metadata": {},
   "outputs": [],
   "source": [
    "def bootstrap_est(data: pd.DataFrame, flex: str, wage: str, dur: str, n_samples:int, ):\n",
    "    \"\"\"\n",
    "    \n",
    "    * Very slow: 36.6 s ± 8.07 s per loop (mean ± std. dev. of 7 runs, 1 loop each)\n",
    "    \"\"\"\n",
    "    \n",
    "    bootstrapped_data = bootstrap(data, n_samples)   \n",
    "    \n",
    "    # Gamma\n",
    "\n",
    "    print(\"Gamma Estimation\\n\") \n",
    "    \n",
    "    logL_gamma = []\n",
    "    lambdas_gamma = []\n",
    "    etas_gamma = []\n",
    "    mus_gamma = []\n",
    "    sigmas_gamma = []\n",
    "    gammas = []\n",
    "\n",
    "    for sample in bootstrapped_data:\n",
    "        est_g = est_gamma(sample, flex, wage, dur)\n",
    "\n",
    "        logL_gamma.append(est_g[0])\n",
    "\n",
    "        estimated = est_g[1]\n",
    "\n",
    "        lambdas_gamma.append(estimated[0])\n",
    "        etas_gamma.append(estimated[1])\n",
    "        gammas.append(estimated[2])\n",
    "        mus_gamma.append(estimated[3])\n",
    "        sigmas_gamma.append(estimated[4])  \n",
    "        \n",
    "    gamma_estimates = [logL_gamma, lambdas_gamma, etas_gamma, mus_gamma, sigmas_gamma, gammas]\n",
    "    \n",
    "    gamma_stats = []\n",
    "    for i in gamma_estimates:\n",
    "        gamma_stats.append(fit_stats(i))\n",
    "    \n",
    "    # Zeta\n",
    "    \n",
    "    print(\"\\nZeta Estimation\\n\")\n",
    "    \n",
    "    logL_zetas = []\n",
    "    lambdas_zetas = []\n",
    "    etas_zetas = []\n",
    "    mus_zetas = []\n",
    "    sigmas_zetas = []\n",
    "    zetas = []\n",
    "\n",
    "    for sample in bootstrapped_data:\n",
    "        est_z = est_zeta(sample, flex, wage, dur)\n",
    "\n",
    "        logL_zetas.append(est_z[0])\n",
    "\n",
    "        tmp = est_z[1]\n",
    "\n",
    "        lambdas_zetas.append(tmp[0])\n",
    "        etas_zetas.append(tmp[1])\n",
    "        zetas.append(tmp[2])\n",
    "        mus_zetas.append(tmp[3])\n",
    "        sigmas_zetas.append(tmp[4])\n",
    "        \n",
    "    zeta_estimates = [logL_zetas, lambdas_zetas, etas_zetas, mus_zetas, sigmas_zetas, zetas]\n",
    "    \n",
    "    zeta_stats = []\n",
    "    for i in zeta_estimates:\n",
    "        zeta_stats.append(fit_stats(i))\n",
    "\n",
    "#     return print(\"Gamma stats: \", gamma_stats,\n",
    "#                 \"\\nZeta stats: \", zeta_stats)"
   ]
  },
  {
   "cell_type": "code",
   "execution_count": null,
   "metadata": {},
   "outputs": [],
   "source": []
  },
  {
   "cell_type": "markdown",
   "metadata": {},
   "source": [
    "#### 1st percentile"
   ]
  },
  {
   "cell_type": "code",
   "execution_count": null,
   "metadata": {},
   "outputs": [],
   "source": [
    "first_pctl = np.zeros(1)\n",
    "\n",
    "for k in range(2):\n",
    "    tmp = women[women['flexsched']==k]\n",
    "    first = np.percentile(tmp['hrwage_r'],1)\n",
    "    first_pctl = np.append(first_pctl, first)\n",
    "#     print(\"5th percentile wage = \" + str(first) + \" for women with flex level \" + str(k))\n",
    "    \n",
    "women['wage_flexsched']=women['hrwage_r']\n",
    "\n",
    "for k in range(2):\n",
    "    women['wage_flexsched'].iloc[(women['hrwage_r']<first_pctl[k+1]) & (women['flexsched']==k)]=first_pctl[k+1] #k+1 because empty array initiates with zero\n",
    "\n",
    "women[['wage_flexsched','hrwage_r']].groupby([women['employed'],women['flexsched']]).describe()        "
   ]
  },
  {
   "cell_type": "code",
   "execution_count": null,
   "metadata": {},
   "outputs": [],
   "source": [
    "first_pctl = np.zeros(1)\n",
    "\n",
    "for k in range(2):\n",
    "    tmp = women[women['flexloc']==k]\n",
    "    first = np.percentile(tmp['hrwage_r'],1)\n",
    "    first_pctl = np.append(first_pctl, first)\n",
    "#     print(\"5th percentile wage = \" + str(first) + \" for women with flex level \" + str(k))\n",
    "    \n",
    "women['wage_flexloc']=women['hrwage_r']\n",
    "\n",
    "for k in range(2):\n",
    "    women['wage_flexloc'].iloc[(women['hrwage_r']<first_pctl[k+1]) & (women['flexloc']==k)]=first_pctl[k+1] #k+1 because empty array initiates with zero\n",
    "\n",
    "women[['wage_flexloc','hrwage_r']].groupby([women['employed'],women['flexloc']]).describe()        "
   ]
  },
  {
   "cell_type": "code",
   "execution_count": null,
   "metadata": {},
   "outputs": [],
   "source": []
  },
  {
   "cell_type": "markdown",
   "metadata": {},
   "source": [
    "#### 5th percentile"
   ]
  },
  {
   "cell_type": "code",
   "execution_count": null,
   "metadata": {},
   "outputs": [],
   "source": [
    "# fifth_pctl = np.zeros(1)\n",
    "\n",
    "# for k in range(3):\n",
    "#     tmp = women[women['flex_sched_score']==k]\n",
    "#     fifth = np.percentile(tmp['hrwage_r'],5)\n",
    "#     fifth_pctl = np.append(fifth_pctl, fifth)\n",
    "# #     print(\"5th percentile wage = \" + str(fifth) + \" for women with flex level \" + str(k))\n",
    "    \n",
    "# women['wage_flexschedscore']=women['hrwage_r']\n",
    "\n",
    "# for k in range(3):\n",
    "#     women['wage_flexschedscore'].iloc[(women['hrwage_r']<fifth_pctl[k+1]) & (women['flex_sched_score']==k)]=fifth_pctl[k+1] #k+1 because empty array initiates with zero\n",
    "\n",
    "# women[['wage_flexschedscore','hrwage_r']].groupby([women['employed'],women['flex_sched_score']]).describe()    "
   ]
  },
  {
   "cell_type": "code",
   "execution_count": null,
   "metadata": {},
   "outputs": [],
   "source": [
    "# fifth_pctl = np.zeros(1)\n",
    "\n",
    "# for k in range(2):\n",
    "#     tmp = women[women['flexsched']==k]\n",
    "#     fifth = np.percentile(tmp['hrwage_r'],5)\n",
    "#     fifth_pctl = np.append(fifth_pctl, fifth)\n",
    "# #     print(\"5th percentile wage = \" + str(fifth) + \" for women with flex level \" + str(k))\n",
    "    \n",
    "# women['wage_flexsched']=women['hrwage_r']\n",
    "\n",
    "# for k in range(2):\n",
    "#     women['wage_flexsched'].iloc[(women['hrwage_r']<fifth_pctl[k+1]) & (women['flexsched']==k)]=fifth_pctl[k+1] #k+1 because empty array initiates with zero\n",
    "\n",
    "# women[['wage_flexsched','hrwage_r']].groupby([women['employed'],women['flexsched']]).describe()        "
   ]
  },
  {
   "cell_type": "code",
   "execution_count": null,
   "metadata": {},
   "outputs": [],
   "source": [
    "# fifth_pctl = np.zeros(1)\n",
    "\n",
    "# for k in range(2):\n",
    "#     tmp = women[women['flexloc']==k]\n",
    "#     fifth = np.percentile(tmp['hrwage_r'],5)\n",
    "#     fifth_pctl = np.append(fifth_pctl, fifth)\n",
    "#     print(\"5th percentile wage = \" + str(fifth) + \" for women with flex level \" + str(k))\n",
    "    \n",
    "# women['wage_flexloc']=women['hrwage_r']\n",
    "\n",
    "# for k in range(2):\n",
    "#     women['wage_flexloc'].iloc[(women['hrwage_r']<fifth_pctl[k+1]) & (women['flexloc']==k)]=fifth_pctl[k+1] #k+1 because empty array initiates with zero\n",
    "\n",
    "# women[['wage_flexloc','hrwage_r']].groupby([women['employed'],women['flexloc']]).describe()        "
   ]
  },
  {
   "cell_type": "code",
   "execution_count": null,
   "metadata": {},
   "outputs": [],
   "source": []
  },
  {
   "cell_type": "markdown",
   "metadata": {},
   "source": [
    "## Before functionalizing"
   ]
  },
  {
   "cell_type": "code",
   "execution_count": null,
   "metadata": {},
   "outputs": [],
   "source": [
    "# Estimate ζ, holding γ constant and cost = 0\n",
    "params = np.array([λ, η, ζ, men['wage_flexsched'].mean(), men['wage_flexsched'].std()])\n",
    "\n",
    "logL_opt = lambda x: log_L(men, 'flexsched', 'wage_flexsched', 'dur', \n",
    "                            np.array([0,0]), α, x[0], x[1], x[2], γ,\n",
    "                            x[3], x[4])\n",
    "\n",
    "est_zeta = minimize(logL_opt, params, method='Nelder-Mead', options={'maxiter':1000, 'disp':True}, bounds=Bounds)\n",
    "est_zeta.x\n"
   ]
  },
  {
   "cell_type": "code",
   "execution_count": null,
   "metadata": {},
   "outputs": [],
   "source": [
    "# Estimate c, holding γ and ζ constant \n",
    "params = np.array([λ, η, c_k[1], men['wage_flexsched'].mean(), men['wage_flexsched'].std()])\n",
    "\n",
    "logL_opt = lambda x: log_L(men, 'flexsched', 'wage_flexsched', 'dur', men['wage_flexsched'].min(), \n",
    "                            np.array([0,x[0]]), prob_k, α, x[1], x[2], est_zeta.x[2], est_gamma.x[2],\n",
    "                            x[3], x[4])\n",
    "\n",
    "est_c = minimize(logL_opt, params, method='Nelder-Mead', options={'maxiter':1000, 'disp':True}, bounds=Bounds)\n",
    "est_c.x\n"
   ]
  },
  {
   "cell_type": "code",
   "execution_count": null,
   "metadata": {},
   "outputs": [],
   "source": [
    "## Estimate γ, holding ζ constant and cost = 0\n",
    "# params = np.array([λ, η, γ, men['wage_flexsched'].mean(), men['wage_flexsched'].std()])\n",
    "\n",
    "# Bootstrapping\n",
    "bootstrapped_data = bootstrap(men, n_samples=30)\n",
    "\n",
    "logL_gamma = []\n",
    "lambdas_gamma = []\n",
    "etas_gamma = []\n",
    "mus_gamma = []\n",
    "sigmas_gamma = []\n",
    "gammas = []\n",
    "\n",
    "for sample in bootstrapped_data:\n",
    "    params = np.array([λ, η, γ, sample['wage_flexsched'].mean(), sample['wage_flexsched'].std()])\n",
    "    \n",
    "    logL_opt = lambda x: log_L(sample, 'flexsched', 'wage_flexsched', 'dur', sample['wage_flexsched'].min(), \n",
    "                            np.array([0,0]), prob_k, α, x[0], x[1], ζ, x[2],\n",
    "                            x[3], x[4])\n",
    "\n",
    "    est = minimize(logL_opt, params, method='Nelder-Mead', options={'maxiter':1000}, bounds=Bounds)\n",
    "    \n",
    "    logL_gamma.append(est.fun)\n",
    "    lambdas_gamma.append(est.x[0])\n",
    "    etas_gamma.append(est.x[1])\n",
    "    gammas.append(est.x[2])\n",
    "    mus_gamma.append(est.x[3])\n",
    "    sigmas_gamma.append(est.x[4])"
   ]
  },
  {
   "cell_type": "code",
   "execution_count": null,
   "metadata": {},
   "outputs": [],
   "source": [
    "# Estimate ζ, holding γ constant and cost = 0\n",
    "# params = np.array([λ, η, ζ, men['wage_flexsched'].mean(), men['wage_flexsched'].std()])\n",
    "\n",
    "## Bootstrapping\n",
    "bootstrapped_data = bootstrap(men, n_samples=30)\n",
    "\n",
    "logL_zetas = []\n",
    "lambdas_zetas = []\n",
    "etas_zetas = []\n",
    "mus_zetas = []\n",
    "sigmas_zetas = []\n",
    "zetas = []\n",
    "\n",
    "for sample in bootstrapped_data:\n",
    "    params = np.array([λ, η, ζ, sample['wage_flexsched'].mean(), sample['wage_flexsched'].std()])\n",
    "\n",
    "    logL_opt = lambda x: log_L(sample, 'flexsched', 'wage_flexsched', 'dur', sample['wage_flexsched'].min(), \n",
    "                            np.array([0,0]), prob_k, α, x[0], x[1], x[2], γ,\n",
    "                            x[3], x[4])\n",
    "\n",
    "    est = minimize(logL_opt, params, method='Nelder-Mead', options={'maxiter':1000}, bounds=Bounds)\n",
    "    \n",
    "    logL_zetas.append(est.fun)\n",
    "    lambdas_zetas.append(est.x[0])\n",
    "    etas_zetas.append(est.x[1])\n",
    "    zetas.append(est.x[2])\n",
    "    mus_zetas.append(est.x[3])\n",
    "    sigmas_zetas.append(est.x[4])\n"
   ]
  },
  {
   "cell_type": "markdown",
   "metadata": {},
   "source": [
    "#### Compare Bootstrapped Results"
   ]
  },
  {
   "cell_type": "code",
   "execution_count": null,
   "metadata": {},
   "outputs": [],
   "source": [
    "mylist = [logL_gamma, lambdas_gamma, etas_gamma, mus_gamma, sigmas_gamma, gammas]\n",
    "\n",
    "for i in mylist:\n",
    "    fit_stats(i)"
   ]
  },
  {
   "cell_type": "code",
   "execution_count": null,
   "metadata": {},
   "outputs": [],
   "source": [
    "mylist = [logL_zetas, lambdas_zetas, etas_zetas, mus_zetas, sigmas_zetas, zetas]\n",
    "\n",
    "for i in mylist:\n",
    "    fit_stats(i)"
   ]
  },
  {
   "cell_type": "markdown",
   "metadata": {},
   "source": [
    "### Estimation: Men, Binary Location Flex"
   ]
  },
  {
   "cell_type": "code",
   "execution_count": null,
   "metadata": {},
   "outputs": [],
   "source": [
    "# Estimation Specific Parameters\n",
    "\n",
    "γ = 0.625 # Relative value of location flexibility to high salary from He et al (2021)\n",
    "\n",
    "prob_k = np.array([0.584541, 0.415459])"
   ]
  },
  {
   "cell_type": "code",
   "execution_count": null,
   "metadata": {},
   "outputs": [],
   "source": [
    "men['flexloc'].value_counts(normalize=True, sort=False)"
   ]
  },
  {
   "cell_type": "code",
   "execution_count": null,
   "metadata": {},
   "outputs": [],
   "source": [
    "# Estimate γ, holding ζ constant cost = 0\n",
    "params = np.array([λ, η, γ, men['wage_flexloc'].mean(), men['wage_flexloc'].std()])\n",
    "\n",
    "logL_opt = lambda x: log_L(men, 'flexloc', 'wage_flexloc', 'dur', men['wage_flexloc'].min(), \n",
    "                            np.array([0,0]), prob_k, α, x[0], x[1], ζ, x[2],\n",
    "                            x[3], x[4])\n",
    "\n",
    "est = minimize(logL_opt, params, method='Nelder-Mead', options={'maxiter':1000, 'disp':True}, bounds=Bounds)\n",
    "est.x\n"
   ]
  },
  {
   "cell_type": "code",
   "execution_count": null,
   "metadata": {},
   "outputs": [],
   "source": [
    "# Estimate ζ, holding γ constant and cost = 0\n",
    "params = np.array([λ, η, ζ, men['wage_flexloc'].mean(), men['wage_flexloc'].std()])\n",
    "\n",
    "logL_opt = lambda x: log_L(men, 'flexloc', 'wage_flexloc', 'dur', men['wage_flexloc'].min(), \n",
    "                            np.array([0,0]), prob_k, α, x[0], x[1], x[2], γ,\n",
    "                            x[3], x[4])\n",
    "\n",
    "est = minimize(logL_opt, params, method='Nelder-Mead', options={'maxiter':1000, 'disp':True}, bounds=Bounds)\n",
    "est.x\n"
   ]
  },
  {
   "cell_type": "markdown",
   "metadata": {},
   "source": [
    "#### Bootstrapping"
   ]
  },
  {
   "cell_type": "code",
   "execution_count": null,
   "metadata": {},
   "outputs": [],
   "source": [
    "## Estimate γ, holding ζ constant and cost = 0\n",
    "bootstrapped_data = bootstrap(men, n_samples=30)\n",
    "\n",
    "logL_gamma = []\n",
    "lambdas_gamma = []\n",
    "etas_gamma = []\n",
    "mus_gamma = []\n",
    "sigmas_gamma = []\n",
    "gammas = []\n",
    "\n",
    "for sample in bootstrapped_data:\n",
    "    params = np.array([λ, η, γ, sample['wage_flexloc'].mean(), sample['wage_flexloc'].std()])\n",
    "    \n",
    "    logL_opt = lambda x: log_L(sample, 'flexloc', 'wage_flexloc', 'dur', sample['wage_flexloc'].min(), \n",
    "                            np.array([0,0]), prob_k, α, x[0], x[1], ζ, x[2],\n",
    "                            x[3], x[4])\n",
    "\n",
    "    est = minimize(logL_opt, params, method='Nelder-Mead', options={'maxiter':1000}, bounds=Bounds)\n",
    "    \n",
    "    logL_gamma.append(est.fun)\n",
    "    lambdas_gamma.append(est.x[0])\n",
    "    etas_gamma.append(est.x[1])\n",
    "    gammas.append(est.x[2])\n",
    "    mus_gamma.append(est.x[3])\n",
    "    sigmas_gamma.append(est.x[4])"
   ]
  },
  {
   "cell_type": "code",
   "execution_count": null,
   "metadata": {},
   "outputs": [],
   "source": [
    "# Estimate ζ, holding γ constant and cost = 0\n",
    "bootstrapped_data = bootstrap(men, n_samples=30)\n",
    "\n",
    "logL_zetas = []\n",
    "lambdas_zetas = []\n",
    "etas_zetas = []\n",
    "mus_zetas = []\n",
    "sigmas_zetas = []\n",
    "zetas = []\n",
    "\n",
    "for sample in bootstrapped_data:\n",
    "    params = np.array([λ, η, ζ, sample['wage_flexloc'].mean(), sample['wage_flexloc'].std()])\n",
    "\n",
    "    logL_opt = lambda x: log_L(sample, 'flexloc', 'wage_flexloc', 'dur', sample['wage_flexloc'].min(), \n",
    "                            np.array([0,0]), prob_k, α, x[0], x[1], x[2], γ,\n",
    "                            x[3], x[4])\n",
    "\n",
    "    est = minimize(logL_opt, params, method='Nelder-Mead', options={'maxiter':1000}, bounds=Bounds)\n",
    "    \n",
    "    logL_zetas.append(est.fun)\n",
    "    lambdas_zetas.append(est.x[0])\n",
    "    etas_zetas.append(est.x[1])\n",
    "    zetas.append(est.x[2])\n",
    "    mus_zetas.append(est.x[3])\n",
    "    sigmas_zetas.append(est.x[4])\n"
   ]
  },
  {
   "cell_type": "markdown",
   "metadata": {},
   "source": [
    "#### Compare Bootstrapped Results"
   ]
  },
  {
   "cell_type": "code",
   "execution_count": null,
   "metadata": {},
   "outputs": [],
   "source": [
    "mylist = [logL_gamma, lambdas_gamma, etas_gamma, mus_gamma, sigmas_gamma, gammas]\n",
    "\n",
    "for i in mylist:\n",
    "    fit_stats(i)"
   ]
  },
  {
   "cell_type": "code",
   "execution_count": null,
   "metadata": {},
   "outputs": [],
   "source": [
    "mylist = [logL_zetas, lambdas_zetas, etas_zetas, mus_zetas, sigmas_zetas, zetas]\n",
    "\n",
    "for i in mylist:\n",
    "    fit_stats(i)"
   ]
  },
  {
   "cell_type": "code",
   "execution_count": null,
   "metadata": {},
   "outputs": [],
   "source": [
    "fig, ax = plt.subplots(3,2,figsize=(8,6))\n",
    "\n",
    "sns.distplot(lambdas_gamma, ax=ax[0,0]).set(title=\"Lambda\")\n",
    "sns.distplot(etas_gamma, ax=ax[0,1]).set(title=\"Eta\")\n",
    "sns.distplot(mus_gamma, ax=ax[1,0]).set(title=\"Mu\")\n",
    "sns.distplot(sigmas_gamma, ax=ax[1,1]).set(title=\"Sigma\")\n",
    "sns.distplot(gammas, ax=ax[2,0]).set(title=\"Gammas\")\n",
    "sns.distplot(logL_gamma, ax=ax[2,1]).set(title=\"Log-Likelihood\")\n",
    "\n",
    "plt.tight_layout()"
   ]
  },
  {
   "cell_type": "code",
   "execution_count": null,
   "metadata": {},
   "outputs": [],
   "source": [
    "fig, ax = plt.subplots(3,2,figsize=(8,6))\n",
    "\n",
    "sns.distplot(lambdas_zetas, ax=ax[0,0]).set(title=\"Lambda\")\n",
    "sns.distplot(etas_zetas, ax=ax[0,1]).set(title=\"Eta\")\n",
    "sns.distplot(mus_zetas, ax=ax[1,0]).set(title=\"Mu\")\n",
    "sns.distplot(sigmas_zetas, ax=ax[1,1]).set(title=\"Sigma\")\n",
    "sns.distplot(zetas, ax=ax[2,0]).set(title=\"Zetas\")\n",
    "sns.distplot(logL_zetas, ax=ax[2,1]).set(title=\"Log-Likelihood\")\n",
    "\n",
    "plt.tight_layout()"
   ]
  },
  {
   "cell_type": "markdown",
   "metadata": {},
   "source": [
    "### Estimation: Women, Binary Schedule Flex"
   ]
  },
  {
   "cell_type": "code",
   "execution_count": null,
   "metadata": {},
   "outputs": [],
   "source": [
    "# Estimation Specific Parameters\n",
    "\n",
    "γ = 0.6875 # Relative value of schedule flexibility to high salary from He et al (2021)\n",
    "\n",
    "prob_k = np.array([0.40264, 0.59736])"
   ]
  },
  {
   "cell_type": "code",
   "execution_count": null,
   "metadata": {},
   "outputs": [],
   "source": [
    "women['flexsched'].value_counts(normalize=True, sort=False)"
   ]
  },
  {
   "cell_type": "code",
   "execution_count": null,
   "metadata": {},
   "outputs": [],
   "source": [
    "## Estimate γ, holding ζ constant and setting cost = 0\n",
    "params = np.array([λ, η, γ, women['wage_flexsched'].mean(), women['wage_flexsched'].std()])\n",
    "\n",
    "logL_opt = lambda x: log_L(women, 'flexsched', 'wage_flexsched', 'dur', women['wage_flexsched'].min(), \n",
    "                            np.array([0,0]), prob_k, α, x[0], x[1], 1.28, x[2], \n",
    "                            x[3], x[4])\n",
    "\n",
    "est = minimize(logL_opt, params, method='Nelder-Mead', options={'maxiter':1000, 'disp':True}, bounds=Bounds)\n",
    "est.x\n"
   ]
  },
  {
   "cell_type": "code",
   "execution_count": null,
   "metadata": {},
   "outputs": [],
   "source": [
    "## Estimate ζ, holding γ constant and setting cost=0\n",
    "params = np.array([λ, η, ζ, women['wage_flexsched'].mean(), women['wage_flexsched'].std()])\n",
    "\n",
    "logL_opt = lambda x: log_L(women, 'flexsched', 'wage_flexsched', 'dur', women['wage_flexsched'].min(), \n",
    "                            np.array([0,0]), prob_k, α, x[0], x[1], x[2], -.144,\n",
    "                            x[3], x[4])\n",
    "\n",
    "est = minimize(logL_opt, params, method='Nelder-Mead', options={'maxiter':1000, 'disp':True}, bounds=Bounds)\n",
    "est.x\n"
   ]
  },
  {
   "cell_type": "markdown",
   "metadata": {},
   "source": [
    "#### Bootstrapping"
   ]
  },
  {
   "cell_type": "code",
   "execution_count": null,
   "metadata": {},
   "outputs": [],
   "source": [
    "## Estimate γ, holding ζ constant and cost = 0\n",
    "\n",
    "bootstrapped_data = bootstrap(women, n_samples=30)\n",
    "\n",
    "logL_gamma = []\n",
    "lambdas_gamma = []\n",
    "etas_gamma = []\n",
    "mus_gamma = []\n",
    "sigmas_gamma = []\n",
    "gammas = []\n",
    "\n",
    "for sample in bootstrapped_data:\n",
    "    params = np.array([λ, η, γ, sample['wage_flexsched'].mean(), sample['wage_flexsched'].std()])\n",
    "    \n",
    "    logL_opt = lambda x: log_L(sample, 'flexsched', 'wage_flexsched', 'dur', sample['wage_flexsched'].min(), \n",
    "                            np.array([0,0]), prob_k, α, x[0], x[1], ζ, x[2],\n",
    "                            x[3], x[4])\n",
    "\n",
    "    est = minimize(logL_opt, params, method='Nelder-Mead', options={'maxiter':1000}, bounds=Bounds)\n",
    "    \n",
    "    logL_gamma.append(est.fun)\n",
    "    lambdas_gamma.append(est.x[0])\n",
    "    etas_gamma.append(est.x[1])\n",
    "    gammas.append(est.x[2])\n",
    "    mus_gamma.append(est.x[3])\n",
    "    sigmas_gamma.append(est.x[4])"
   ]
  },
  {
   "cell_type": "code",
   "execution_count": null,
   "metadata": {},
   "outputs": [],
   "source": [
    "# Estimate ζ, holding γ constant and cost = 0\n",
    "bootstrapped_data = bootstrap(women, n_samples=30)\n",
    "\n",
    "logL_zetas = []\n",
    "lambdas_zetas = []\n",
    "etas_zetas = []\n",
    "mus_zetas = []\n",
    "sigmas_zetas = []\n",
    "zetas = []\n",
    "\n",
    "for sample in bootstrapped_data:\n",
    "    params = np.array([λ, η, ζ, sample['wage_flexsched'].mean(), sample['wage_flexsched'].std()])\n",
    "    \n",
    "    logL_opt = lambda x: log_L(sample, 'flexsched', 'wage_flexsched', 'dur', sample['wage_flexsched'].min(), \n",
    "                            np.array([0,0]), prob_k, α, x[0], x[1], x[2], γ,\n",
    "                            x[3], x[4])\n",
    "\n",
    "    est = minimize(logL_opt, params, method='Nelder-Mead', options={'maxiter':1000}, bounds=Bounds)\n",
    "    \n",
    "    logL_zetas.append(est.fun)\n",
    "    lambdas_zetas.append(est.x[0])\n",
    "    etas_zetas.append(est.x[1])\n",
    "    zetas.append(est.x[2])\n",
    "    mus_zetas.append(est.x[3])\n",
    "    sigmas_zetas.append(est.x[4])\n"
   ]
  },
  {
   "cell_type": "markdown",
   "metadata": {},
   "source": [
    "#### Compare Bootstrapped Results"
   ]
  },
  {
   "cell_type": "code",
   "execution_count": null,
   "metadata": {},
   "outputs": [],
   "source": [
    "mylist = [logL_gamma, lambdas_gamma, etas_gamma, mus_gamma, sigmas_gamma, gammas]\n",
    "\n",
    "for i in mylist:\n",
    "    fit_stats(i)"
   ]
  },
  {
   "cell_type": "code",
   "execution_count": null,
   "metadata": {},
   "outputs": [],
   "source": [
    "mylist = [logL_zetas, lambdas_zetas, etas_zetas, mus_zetas, sigmas_zetas, zetas]\n",
    "\n",
    "for i in mylist:\n",
    "    fit_stats(i)"
   ]
  },
  {
   "cell_type": "code",
   "execution_count": null,
   "metadata": {},
   "outputs": [],
   "source": [
    "fig, ax = plt.subplots(3,2,figsize=(8,6))\n",
    "\n",
    "sns.distplot(lambdas_gamma, ax=ax[0,0]).set(title=\"Lambda\")\n",
    "sns.distplot(etas_gamma, ax=ax[0,1]).set(title=\"Eta\")\n",
    "sns.distplot(mus_gamma, ax=ax[1,0]).set(title=\"Mu\")\n",
    "sns.distplot(sigmas_gamma, ax=ax[1,1]).set(title=\"Sigma\")\n",
    "sns.distplot(gammas, ax=ax[2,0]).set(title=\"Gammas\")\n",
    "sns.distplot(logL_gamma, ax=ax[2,1]).set(title=\"Log-Likelihood\")\n",
    "\n",
    "plt.tight_layout()"
   ]
  },
  {
   "cell_type": "code",
   "execution_count": null,
   "metadata": {},
   "outputs": [],
   "source": [
    "fig, ax = plt.subplots(3,2,figsize=(8,6))\n",
    "\n",
    "sns.distplot(lambdas_zetas, ax=ax[0,0]).set(title=\"Lambda\")\n",
    "sns.distplot(etas_zetas, ax=ax[0,1]).set(title=\"Eta\")\n",
    "sns.distplot(mus_zetas, ax=ax[1,0]).set(title=\"Mu\")\n",
    "sns.distplot(sigmas_zetas, ax=ax[1,1]).set(title=\"Sigma\")\n",
    "sns.distplot(zetas, ax=ax[2,0]).set(title=\"Zetas\")\n",
    "sns.distplot(logL_zetas, ax=ax[2,1]).set(title=\"Log-Likelihood\")\n",
    "\n",
    "plt.tight_layout()"
   ]
  },
  {
   "cell_type": "markdown",
   "metadata": {},
   "source": [
    "### Estimation: Women, Binary Location Flex"
   ]
  },
  {
   "cell_type": "code",
   "execution_count": null,
   "metadata": {},
   "outputs": [],
   "source": [
    "women['flexloc'].value_counts(normalize=True, sort=False)"
   ]
  },
  {
   "cell_type": "code",
   "execution_count": null,
   "metadata": {},
   "outputs": [],
   "source": [
    "# Utility measure for type of flex\n",
    "\n",
    "γ = 0.625 # Relative value of location flexibility to high salary from He et al (2021)\n",
    "\n",
    "prob_k = np.array([0.618812, 0.381188])\n"
   ]
  },
  {
   "cell_type": "code",
   "execution_count": null,
   "metadata": {
    "tags": []
   },
   "outputs": [],
   "source": [
    "## STRANGEST OUTPUT!\n",
    "\n",
    "# Estimate γ, holding ζ constant and setting cost = 0\n",
    "params = np.array([λ, η, γ, women['wage_flexloc'].mean(), women['wage_flexloc'].std()])\n",
    "\n",
    "logL_opt = lambda x: log_L(women, 'flexloc', 'wage_flexloc', 'dur', women['wage_flexloc'].min(), \n",
    "                            np.array([0,0]), prob_k, α, x[0], x[1], ζ, x[2], \n",
    "                            x[3], x[4])\n",
    "\n",
    "est = minimize(logL_opt, params, method='Nelder-Mead', options={'maxiter':1000, 'disp':True}, bounds=Bounds)\n",
    "est.x"
   ]
  },
  {
   "cell_type": "code",
   "execution_count": null,
   "metadata": {},
   "outputs": [],
   "source": [
    "# Estimate ζ, holding γ constant and setting cost=0\n",
    "params = np.array([λ, η, ζ, women['wage_flexloc'].mean(), women['wage_flexloc'].std()])\n",
    "\n",
    "logL_opt = lambda x: log_L(women, 'flexloc', 'wage_flexloc', 'dur', women['wage_flexloc'].min(), \n",
    "                            np.array([0,0]), prob_k, α, x[0], x[1], x[2], γ,\n",
    "                            x[3], x[4])\n",
    "\n",
    "est = minimize(logL_opt, params, method='Nelder-Mead', options={'maxiter':1000, 'disp':True}, bounds=Bounds)\n",
    "est.x"
   ]
  },
  {
   "cell_type": "markdown",
   "metadata": {},
   "source": [
    "#### Bootstrapping"
   ]
  },
  {
   "cell_type": "code",
   "execution_count": null,
   "metadata": {},
   "outputs": [],
   "source": [
    "# Estimate γ, holding ζ constant and cost = 0\n",
    "\n",
    "bootstrapped_data = bootstrap(women, n_samples=30)\n",
    "\n",
    "logL_gamma = []\n",
    "lambdas_gamma = []\n",
    "etas_gamma = []\n",
    "mus_gamma = []\n",
    "sigmas_gamma = []\n",
    "gammas = []\n",
    "\n",
    "for sample in bootstrapped_data:\n",
    "    params = np.array([λ, η, γ, sample['wage_flexloc'].mean(), sample['wage_flexloc'].std()])\n",
    "    \n",
    "    logL_opt = lambda x: log_L(sample, 'flexloc', 'wage_flexloc', 'dur', sample['wage_flexloc'].min(), \n",
    "                            np.array([0,0]), prob_k, α, x[0], x[1], ζ, x[2],\n",
    "                            x[3], x[4])\n",
    "\n",
    "    est = minimize(logL_opt, params, method='Nelder-Mead', options={'maxiter':1000}, bounds=Bounds)\n",
    "    \n",
    "    logL_gamma.append(est.fun)\n",
    "    lambdas_gamma.append(est.x[0])\n",
    "    etas_gamma.append(est.x[1])\n",
    "    gammas.append(est.x[2])\n",
    "    mus_gamma.append(est.x[3])\n",
    "    sigmas_gamma.append(est.x[4])"
   ]
  },
  {
   "cell_type": "code",
   "execution_count": null,
   "metadata": {},
   "outputs": [],
   "source": [
    "# Estimate ζ, holding γ constant and cost = 0\n",
    "bootstrapped_data = bootstrap(women, n_samples=30)\n",
    "\n",
    "logL_zetas = []\n",
    "lambdas_zetas = []\n",
    "etas_zetas = []\n",
    "mus_zetas = []\n",
    "sigmas_zetas = []\n",
    "zetas = []\n",
    "\n",
    "for sample in bootstrapped_data:\n",
    "    params = np.array([λ, η, ζ, sample['wage_flexloc'].mean(), sample['wage_flexloc'].std()])\n",
    "    \n",
    "    logL_opt = lambda x: log_L(sample, 'flexloc', 'wage_flexloc', 'dur', sample['wage_flexloc'].min(), \n",
    "                            np.array([0,0]), prob_k, α, x[0], x[1], x[2], γ,\n",
    "                            x[3], x[4])\n",
    "\n",
    "    est = minimize(logL_opt, params, method='Nelder-Mead', options={'maxiter':1000}, bounds=Bounds)\n",
    "    \n",
    "    logL_zetas.append(est.fun)\n",
    "    lambdas_zetas.append(est.x[0])\n",
    "    etas_zetas.append(est.x[1])\n",
    "    zetas.append(est.x[2])\n",
    "    mus_zetas.append(est.x[3])\n",
    "    sigmas_zetas.append(est.x[4])\n"
   ]
  },
  {
   "cell_type": "markdown",
   "metadata": {},
   "source": [
    "#### Compare Bootstrapped Results"
   ]
  },
  {
   "cell_type": "code",
   "execution_count": null,
   "metadata": {},
   "outputs": [],
   "source": [
    "mylist = [logL_gamma, lambdas_gamma, etas_gamma, mus_gamma, sigmas_gamma, gammas]\n",
    "\n",
    "for i in mylist:\n",
    "    fit_stats(i)"
   ]
  },
  {
   "cell_type": "code",
   "execution_count": null,
   "metadata": {},
   "outputs": [],
   "source": [
    "mylist = [logL_zetas, lambdas_zetas, etas_zetas, mus_zetas, sigmas_zetas, zetas]\n",
    "\n",
    "for i in mylist:\n",
    "    fit_stats(i)"
   ]
  },
  {
   "cell_type": "code",
   "execution_count": null,
   "metadata": {},
   "outputs": [],
   "source": [
    "fig, ax = plt.subplots(3,2,figsize=(8,6))\n",
    "\n",
    "sns.distplot(lambdas_gamma, ax=ax[0,0]).set(title=\"Lambda\")\n",
    "sns.distplot(etas_gamma, ax=ax[0,1]).set(title=\"Eta\")\n",
    "sns.distplot(mus_gamma, ax=ax[1,0]).set(title=\"Mu\")\n",
    "sns.distplot(sigmas_gamma, ax=ax[1,1]).set(title=\"Sigma\")\n",
    "sns.distplot(gammas, ax=ax[2,0]).set(title=\"Gammas\")\n",
    "sns.distplot(logL_gamma, ax=ax[2,1]).set(title=\"Log-Likelihood\")\n",
    "\n",
    "plt.tight_layout()"
   ]
  },
  {
   "cell_type": "code",
   "execution_count": null,
   "metadata": {},
   "outputs": [],
   "source": [
    "fig, ax = plt.subplots(3,2,figsize=(8,6))\n",
    "\n",
    "sns.distplot(lambdas_zetas, ax=ax[0,0]).set(title=\"Lambda\")\n",
    "sns.distplot(etas_zetas, ax=ax[0,1]).set(title=\"Eta\")\n",
    "sns.distplot(mus_zetas, ax=ax[1,0]).set(title=\"Mu\")\n",
    "sns.distplot(sigmas_zetas, ax=ax[1,1]).set(title=\"Sigma\")\n",
    "sns.distplot(zetas, ax=ax[2,0]).set(title=\"Zetas\")\n",
    "sns.distplot(logL_zetas, ax=ax[2,1]).set(title=\"Log-Likelihood\")\n",
    "\n",
    "plt.tight_layout()"
   ]
  },
  {
   "cell_type": "code",
   "execution_count": null,
   "metadata": {},
   "outputs": [],
   "source": []
  },
  {
   "cell_type": "markdown",
   "metadata": {},
   "source": [
    "## Utility with wage and flex; Productivity with TFP coeff; Two-Stage Estimation"
   ]
  },
  {
   "cell_type": "code",
   "execution_count": null,
   "metadata": {},
   "outputs": [],
   "source": [
    "# Two-stage estimation\n",
    "\n",
    "## Labor Market Variables in the first stage\n",
    "Bounds1 = ((0,999), (0,999), (0,999), (0,999))\n",
    "\n",
    "params1 = np.array([λ, η, men['wage_flexsched'].mean(), men['wage_flexsched'].std()])\n",
    "\n",
    "logL_opt1 = lambda x: log_L(men, 'flex', 'wage_flexsched', 'dur', men['wage_flexsched'].min(), \n",
    "                            np.array([0,7]), prob_k, α, x[0], x[1], ζ, γ,\n",
    "                            x[2], x[3])\n",
    "\n",
    "est2 = minimize(logL_opt1, params1, method='Nelder-Mead', options={'maxiter':500, 'disp':True}, bounds=Bounds1)\n",
    "\n",
    "## Flexibility Variables in the second stage\n",
    "params2 = np.array([c_k[1], ζ, γ])\n",
    "\n",
    "logL_opt2 = lambda x: log_L(men, 'flex', 'wage_flexsched', 'dur', men['wage_flexsched'].min(), \n",
    "                            np.array([0,x[0]]), prob_k, α, est2.x[0], est2.x[1], x[1], x[2],\n",
    "                            est2.x[2], est2.x[3])\n",
    "\n",
    "est2_second = minimize(logL_opt2, params2, method='Nelder-Mead', options={'maxiter':500, 'disp':True})"
   ]
  },
  {
   "cell_type": "code",
   "execution_count": null,
   "metadata": {},
   "outputs": [],
   "source": [
    "print(\"Men's Labor market variables [λ, η, μ, σ] = \"+ str(est2.x))\n",
    "print(\"Men's Flexibility variables [c(1), ζ, γ] = \"+ str(est2_second.x))"
   ]
  },
  {
   "cell_type": "code",
   "execution_count": null,
   "metadata": {},
   "outputs": [],
   "source": [
    "# Two-stage estimation with bootstrapping\n",
    "\n",
    "## Labor Market Variables in the first stage: λ, η, μ, σ\n",
    "Bounds1 = ((0,999), (0,999), (0,999), (0,999))\n",
    "params1 = np.array([λ, η, men['wage_flexsched'].mean(), men['wage_flexsched'].std()])\n",
    "\n",
    "## Flexibility Variables in the second stage: c(k), ζ, γ\n",
    "params2 = np.array([c_k[1], ζ, γ])\n",
    "\n",
    "## Bootstrapping\n",
    "bootstrapped_data = bootstrap(men, n_samples=30)\n",
    "\n",
    "logL1 = []\n",
    "logL2 = []\n",
    "lambdas = []\n",
    "etas = []\n",
    "mus = []\n",
    "sigmas = []\n",
    "cs = []\n",
    "zetas = []\n",
    "gammas = []\n",
    "\n",
    "for sample in bootstrapped_data:\n",
    "    logL_opt1 = lambda x: log_L(sample, 'flex', 'wage_flexsched', 'dur', sample['wage_flexsched'].min(), \n",
    "                            np.array([0,7]), prob_k, α, x[0], x[1], ζ, γ,\n",
    "                            x[2], x[3])\n",
    "    est2 = minimize(logL_opt1, params1, method='Nelder-Mead', bounds=Bounds1)#options={'maxiter':500, 'disp':True}, \n",
    "    \n",
    "    logL_opt2 = lambda x: log_L(sample, 'flex', 'wage_flexsched', 'dur', sample['wage_flexsched'].min(), \n",
    "                            np.array([0,x[0]]), prob_k, α, est2.x[0], est2.x[1], x[1], x[2],\n",
    "                            est2.x[2], est2.x[3])\n",
    "    est2_second = minimize(logL_opt2, params2, method='Nelder-Mead')#, options={'maxiter':500, 'disp':True}\n",
    "    \n",
    "    logL1.append(est2.fun)\n",
    "    logL2.append(est2_second.fun)\n",
    "    lambdas.append(est2.x[0])\n",
    "    etas.append(est2.x[1])\n",
    "    mus.append(est2.x[2])\n",
    "    sigmas.append(est2.x[3])\n",
    "    cs.append(est2_second.x[0])\n",
    "    zetas.append(est2_second.x[1])\n",
    "    gammas.append(est2_second.x[2])\n",
    "\n",
    "mylist = [logL1, logL2, lambdas, etas, mus, sigmas, cs, zetas, gammas]\n",
    "\n",
    "for i in mylist:\n",
    "    fit_stats(i)"
   ]
  },
  {
   "cell_type": "code",
   "execution_count": null,
   "metadata": {},
   "outputs": [],
   "source": [
    "fig, ax = plt.subplots(3,3,figsize=(12,12))\n",
    "sns.distplot(logL1, ax=ax[0,0]).set(title=\"Log-Likelihood of First Stage\")\n",
    "sns.distplot(logL2, ax=ax[0,1]).set(title=\"Log-Likelihood of Second Stage\")\n",
    "sns.distplot(lambdas, ax=ax[0,2]).set(title=\"Lambda\")\n",
    "sns.distplot(etas, ax=ax[1,0]).set(title=\"Eta\")\n",
    "sns.distplot(mus, ax=ax[1,1]).set(title=\"Mu\")\n",
    "sns.distplot(sigmas, ax=ax[1,2]).set(title=\"Sigma\")\n",
    "sns.distplot(cs, ax=ax[2,0]).set(title=\"Cost of Flexibility\")\n",
    "sns.distplot(zetas, ax=ax[2,1]).set(title=\"Zetas\")\n",
    "sns.distplot(gammas, ax=ax[2,2]).set(title=\"Gammas\")\n",
    "\n",
    "plt.tight_layout()"
   ]
  },
  {
   "cell_type": "code",
   "execution_count": null,
   "metadata": {},
   "outputs": [],
   "source": []
  },
  {
   "cell_type": "code",
   "execution_count": null,
   "metadata": {},
   "outputs": [],
   "source": [
    "# Binary flexibility\n",
    "\n",
    "Bounds = ((0,999), (0,999), (0,999), (0,999))\n",
    "\n",
    "params = np.array([λ, η, men['wage_flexsched'].mean(), men['wage_flexsched'].std()])\n",
    "\n",
    "logL_opt = lambda x: log_L(men, 'flex', 'wage_flexsched', 'dur', men['wage_flexsched'].min(), \n",
    "                            np.array([0,10]), prob_k, α, x[0], x[1], ζ, γ,\n",
    "                            x[2], x[3])\n",
    "\n",
    "est2 = minimize(logL_opt, params, method='Nelder-Mead', bounds=Bounds, options={'maxiter':5000, 'disp':True})"
   ]
  },
  {
   "cell_type": "code",
   "execution_count": null,
   "metadata": {},
   "outputs": [],
   "source": [
    "est2.x"
   ]
  },
  {
   "cell_type": "code",
   "execution_count": null,
   "metadata": {},
   "outputs": [],
   "source": [
    "params = np.array([c_k[1], ζ, γ])\n",
    "\n",
    "logL_opt = lambda x: log_L(men, 'flex', 'wage_flexsched', 'dur', men['wage_flexsched'].min(), \n",
    "                            np.array([0,x[0]]), prob_k, α, est2.x[0], est2.x[1], x[1], x[2],\n",
    "                            est2.x[2], est2.x[3])\n",
    "\n",
    "est2_second = minimize(logL_opt, params, method='Nelder-Mead', options={'maxiter':500, 'disp':True})"
   ]
  },
  {
   "cell_type": "code",
   "execution_count": null,
   "metadata": {},
   "outputs": [],
   "source": [
    "est2_second.x"
   ]
  },
  {
   "cell_type": "code",
   "execution_count": null,
   "metadata": {},
   "outputs": [],
   "source": []
  },
  {
   "cell_type": "code",
   "execution_count": null,
   "metadata": {},
   "outputs": [],
   "source": [
    "# Binary flexibility\n",
    "\n",
    "Bounds = ((0,999), (0,999), (0,999), (0,999))\n",
    "\n",
    "params = np.array([λ, η, women['wage_flexsched'].mean(), women['wage_flexsched'].std()])\n",
    "\n",
    "logL_opt = lambda x: log_L(women, 'flex', 'wage_flexsched', 'dur', women['wage_flexsched'].min(), \n",
    "                            np.array([0,7]), prob_k, α, x[0], x[1], ζ, γ,\n",
    "                            x[2], x[3])\n",
    "\n",
    "est2 = minimize(logL_opt, params, method='Nelder-Mead', options={'maxiter':500, 'disp':True}, bounds=Bounds)"
   ]
  },
  {
   "cell_type": "code",
   "execution_count": null,
   "metadata": {},
   "outputs": [],
   "source": [
    "est2.x"
   ]
  },
  {
   "cell_type": "code",
   "execution_count": null,
   "metadata": {},
   "outputs": [],
   "source": [
    "params = np.array([c_k[1], ζ, γ])\n",
    "\n",
    "logL_opt = lambda x: log_L(women, 'flex', 'wage_flexsched', 'dur', women['wage_flexsched'].min(), \n",
    "                            np.array([0,x[0]]), prob_k, α, est2.x[0], est2.x[1], x[1], x[2],\n",
    "                            est2.x[2], est2.x[3])\n",
    "\n",
    "est2_second = minimize(logL_opt, params, method='Nelder-Mead', options={'maxiter':500, 'disp':True})"
   ]
  },
  {
   "cell_type": "code",
   "execution_count": null,
   "metadata": {},
   "outputs": [],
   "source": [
    "est2_second.x"
   ]
  },
  {
   "cell_type": "code",
   "execution_count": null,
   "metadata": {},
   "outputs": [],
   "source": []
  },
  {
   "cell_type": "code",
   "execution_count": null,
   "metadata": {},
   "outputs": [],
   "source": [
    "# Two-stage estimation\n",
    "\n",
    "## Labor Market Variables in the first stage\n",
    "Bounds1 = ((0,999), (0,999), (0,999), (0,999))\n",
    "\n",
    "params1 = np.array([λ, η, women['wage_flexsched'].mean(), women['wage_flexsched'].std()])\n",
    "\n",
    "logL_opt1 = lambda x: log_L(women, 'flex', 'wage_flexsched', 'dur', women['wage_flexsched'].min(), \n",
    "                            np.array([0,7]), prob_k, α, x[0], x[1], ζ, γ,\n",
    "                            x[2], x[3])\n",
    "\n",
    "est2 = minimize(logL_opt1, params1, method='Nelder-Mead', options={'maxiter':500, 'disp':True}, bounds=Bounds1)\n",
    "\n",
    "## Flexibility Variables in the second stage\n",
    "params2 = np.array([c_k[1], ζ, γ])\n",
    "\n",
    "logL_opt2 = lambda x: log_L(women, 'flex', 'wage_flexsched', 'dur', women['wage_flexsched'].min(), \n",
    "                            np.array([0,x[0]]), prob_k, α, est2.x[0], est2.x[1], x[1], x[2],\n",
    "                            est2.x[2], est2.x[3])\n",
    "\n",
    "est2_second = minimize(logL_opt2, params2, method='Nelder-Mead', options={'maxiter':500, 'disp':True})"
   ]
  },
  {
   "cell_type": "code",
   "execution_count": null,
   "metadata": {},
   "outputs": [],
   "source": [
    "print(\"Women's Labor market variables [λ, η, μ, σ] = \"+ str(est2.x))\n",
    "print(\"Women's Flexibility variables [c(1), ζ, γ] = \"+ str(est2_second.x))"
   ]
  },
  {
   "cell_type": "code",
   "execution_count": null,
   "metadata": {},
   "outputs": [],
   "source": []
  },
  {
   "cell_type": "code",
   "execution_count": null,
   "metadata": {},
   "outputs": [],
   "source": [
    "params = np.array([c_k[1], c_k[2], λ, η, γ, men['wage_flexschedscore'].mean(), men['wage_flexschedscore'].std()])\n",
    "\n",
    "logL_opt = lambda x: log_L(men, 'flex_sched_score', 'wage_flexschedscore', 'dur', men['wage_flexschedscore'].min(), \n",
    "                            np.array([0,x[0],x[1]]), prob_k, α, x[2], x[3], ζ, x[4],\n",
    "                            x[5], x[6])\n",
    "\n",
    "est4 = minimize(logL_opt, params, method='Nelder-Mead', options={'maxiter':800})"
   ]
  },
  {
   "cell_type": "markdown",
   "metadata": {},
   "source": [
    "Runs if $\\zeta = 1$ and $\\gamma = 0$, as in the initial model, so it is a problem of using one flexibility marker to estimate 3 flexibility measures"
   ]
  },
  {
   "cell_type": "code",
   "execution_count": null,
   "metadata": {},
   "outputs": [],
   "source": [
    "est4.success"
   ]
  },
  {
   "cell_type": "code",
   "execution_count": null,
   "metadata": {},
   "outputs": [],
   "source": [
    "est4"
   ]
  },
  {
   "cell_type": "code",
   "execution_count": null,
   "metadata": {},
   "outputs": [],
   "source": [
    "est4.fun"
   ]
  },
  {
   "cell_type": "code",
   "execution_count": null,
   "metadata": {},
   "outputs": [],
   "source": []
  },
  {
   "cell_type": "code",
   "execution_count": null,
   "metadata": {},
   "outputs": [],
   "source": [
    "# Parameters to be estimated \n",
    "\n",
    "c_k = np.array([0,5,10])\n",
    "λ = 2.1\n",
    "η = 2.1\n",
    "μ = men['hrwage_r'].groupby(men['flex_sched_score']).mean().values\n",
    "σ = men['hrwage_r'].groupby(men['flex_sched_score']).std().values"
   ]
  },
  {
   "cell_type": "code",
   "execution_count": null,
   "metadata": {},
   "outputs": [],
   "source": [
    "logL_opt = lambda x: log_L(men, 'flex_sched_score', 'hrwage_r', 'dur', Uk, \n",
    "                            x[0], prob_k, 0.5, x[1], x[2],\n",
    "                            x[3], x[4])"
   ]
  },
  {
   "cell_type": "code",
   "execution_count": null,
   "metadata": {},
   "outputs": [],
   "source": [
    "params = np.array([c_k, float(λ), float(η), μ, σ])\n",
    "params"
   ]
  },
  {
   "cell_type": "code",
   "execution_count": null,
   "metadata": {},
   "outputs": [],
   "source": [
    "params[1]"
   ]
  },
  {
   "cell_type": "code",
   "execution_count": null,
   "metadata": {},
   "outputs": [],
   "source": [
    "log_L(men, 'flex_sched_score', 'hrwage_r', 'dur', Uk, \n",
    "                            params[0], prob_k, 0.5, params[1], params[2],\n",
    "                            params[3], params[4])"
   ]
  },
  {
   "cell_type": "code",
   "execution_count": null,
   "metadata": {},
   "outputs": [],
   "source": [
    "logL_opt(params)"
   ]
  },
  {
   "cell_type": "code",
   "execution_count": null,
   "metadata": {},
   "outputs": [],
   "source": []
  },
  {
   "cell_type": "markdown",
   "metadata": {},
   "source": [
    "### Estimation: Men, K=3"
   ]
  },
  {
   "cell_type": "code",
   "execution_count": null,
   "metadata": {},
   "outputs": [],
   "source": [
    "men['flex_sched_score'].value_counts(normalize=True, sort=False)"
   ]
  },
  {
   "cell_type": "code",
   "execution_count": null,
   "metadata": {},
   "outputs": [],
   "source": [
    "prob_k = np.array([0.274557, 0.547504, 0.177939])"
   ]
  },
  {
   "cell_type": "code",
   "execution_count": null,
   "metadata": {},
   "outputs": [],
   "source": [
    "# Two-stage estimation\n",
    "\n",
    "## Labor Market Variables in the first stage\n",
    "Bounds1 = ((0,999), (0,999), (0,999), (0,999))\n",
    "\n",
    "params1 = np.array([λ, η, men['wage_flexschedscore'].mean(), men['wage_flexschedscore'].std()])\n",
    "\n",
    "logL_opt1 = lambda x: log_L(men, 'flex_sched_score', 'wage_flexschedscore', 'dur', men['wage_flexschedscore'].min(), \n",
    "                            np.array([0,7,10]), prob_k, α, x[0], x[1], ζ, γ,\n",
    "                            x[2], x[3])\n",
    "\n",
    "est4 = minimize(logL_opt1, params1, method='Nelder-Mead', options={'maxiter':500, 'disp':True}, bounds=Bounds1)\n",
    "\n",
    "## Flexibility Variables in the second stage\n",
    "params2 = np.array([c_k[1], c_k[2], ζ, γ])\n",
    "\n",
    "logL_opt2 = lambda x: log_L(men, 'flex_sched_score', 'wage_flexschedscore', 'dur', men['wage_flexschedscore'].min(), \n",
    "                            np.array([0,x[0],x[1]]), prob_k, α, est4.x[0], est4.x[1], x[2], x[3],\n",
    "                            est4.x[2], est4.x[3])\n",
    "\n",
    "est4_second = minimize(logL_opt2, params2, method='Nelder-Mead', options={'maxiter':500, 'disp':True})"
   ]
  },
  {
   "cell_type": "code",
   "execution_count": null,
   "metadata": {},
   "outputs": [],
   "source": [
    "print(\"Men's Labor market variables [λ, η, μ, σ] = \"+ str(est4.x))\n",
    "print(\"Men's Flexibility variables [c(1), c(2), ζ, γ] = \"+ str(est4_second.x))"
   ]
  },
  {
   "cell_type": "markdown",
   "metadata": {},
   "source": [
    "### Estimation: Women, K=3 \n",
    "Estimation is finding $\\mu=0$"
   ]
  },
  {
   "cell_type": "code",
   "execution_count": null,
   "metadata": {},
   "outputs": [],
   "source": [
    "women['flex_sched_score'].value_counts(normalize=True, sort=False)"
   ]
  },
  {
   "cell_type": "code",
   "execution_count": null,
   "metadata": {},
   "outputs": [],
   "source": [
    "prob_k = np.array([0.402640, 0.444719, 0.152640])"
   ]
  },
  {
   "cell_type": "code",
   "execution_count": null,
   "metadata": {},
   "outputs": [],
   "source": [
    "# Two-stage estimation\n",
    "\n",
    "# Labor Market Variables in the first stage\n",
    "Bounds1 = ((0,999), (0,999), (0,999), (0,999))\n",
    "\n",
    "params1 = np.array([λ, η, women['wage_flexschedscore'].mean(), women['wage_flexschedscore'].std()])\n",
    "\n",
    "logL_opt1 = lambda x: log_L(women, 'flex_sched_score', 'wage_flexschedscore', 'dur', women['wage_flexschedscore'].min(), \n",
    "                            np.array([0,7,10]), prob_k, α, x[0], x[1], ζ, γ,\n",
    "                            x[2], x[3])\n",
    "\n",
    "est4 = minimize(logL_opt1, params1, method='Nelder-Mead', options={'maxiter':500, 'disp':True}, bounds=Bounds1)\n",
    "\n",
    "# Flexibility Variables in the second stage\n",
    "params2 = np.array([c_k[1], c_k[2], ζ, γ])\n",
    "\n",
    "logL_opt2 = lambda x: log_L(women, 'flex_sched_score', 'wage_flexschedscore', 'dur', women['wage_flexschedscore'].min(), \n",
    "                            np.array([0,x[0],x[1]]), prob_k, α, est4.x[0], est4.x[1], x[2], x[3],\n",
    "                            est4.x[2], est4.x[3])\n",
    "\n",
    "est4_second = minimize(logL_opt2, params2, method='Nelder-Mead', options={'maxiter':1000, 'disp':True})"
   ]
  },
  {
   "cell_type": "code",
   "execution_count": null,
   "metadata": {},
   "outputs": [],
   "source": [
    "print(\"Women's Labor market variables [λ, η, μ, σ] = \"+ str(est4.x))\n",
    "print(\"Women's Flexibility variables [c(1), c(2), ζ, γ] = \"+ str(est4_second.x))"
   ]
  },
  {
   "cell_type": "code",
   "execution_count": null,
   "metadata": {
    "tags": []
   },
   "outputs": [],
   "source": []
  },
  {
   "cell_type": "markdown",
   "metadata": {},
   "source": [
    "### Schedule Flexibility"
   ]
  },
  {
   "cell_type": "code",
   "execution_count": null,
   "metadata": {},
   "outputs": [],
   "source": [
    "fig, ax = plt.subplots(2, 1, figsize=(12, 8))\n",
    "\n",
    "for k in range(2):\n",
    "    tmp = df[(df['flex']==k) & (df['sex']=='male') & (df['employed']==1)]\n",
    "    sns.distplot(tmp['hrwage_r'], color='#4B9CD3', hist_kws={'alpha' : .3}, bins=100, ax=ax[k])\n",
    "#     ax[k].legend(['Flexibility Level ' + str(k)])\n",
    "    ax[k].set_ylim([0,0.1])\n",
    "    ax[k].set_xlim([0,75])\n",
    "    if k == 1:\n",
    "        ax[k].set(xlabel = 'Hourly Wage for Men with Flexible Schedule')\n",
    "    elif k == 0:\n",
    "        ax[k].set(xlabel = 'Hourly Wage for Men without Flexible Schedule')\n",
    "    else:\n",
    "        print(\"Not binary k\")\n",
    "\n",
    "# ax.set(xlabel=\"Distribution of Men's Hourly Wage (raw)\")\n",
    "\n",
    "plt.tight_layout()\n",
    "\n",
    "fig.savefig('./hrwage_r_men_2flex.png', bbox_inches='tight', transparent=True)"
   ]
  },
  {
   "cell_type": "code",
   "execution_count": null,
   "metadata": {},
   "outputs": [],
   "source": [
    "fig, ax = plt.subplots(2, 1, figsize=(12, 8))\n",
    "\n",
    "for k in range(2):\n",
    "    tmp = df[(df['flex']==k) & (df['sex']=='female') & (df['employed']==1)]\n",
    "    sns.distplot(tmp['hrwage_r'], color='#4B9CD3', hist_kws={'alpha' : .3}, bins=100, ax=ax[k])\n",
    "#     ax[k].legend(['Flexibility Level ' + str(k)])\n",
    "    ax[k].set_ylim([0,0.1])\n",
    "    ax[k].set_xlim([0,75])\n",
    "    if k == 1:\n",
    "        ax[k].set(xlabel = 'Hourly Wage for Women with Flexible Schedule')\n",
    "    elif k == 0:\n",
    "        ax[k].set(xlabel = 'Hourly Wage for Women without Flexible Schedule')\n",
    "    else:\n",
    "        print(\"Not binary k\")\n",
    "\n",
    "# ax.set(xlabel=\"Distribution of Men's Hourly Wage (raw)\")\n",
    "\n",
    "plt.tight_layout()\n",
    "\n",
    "fig.savefig('./hrwage_r_women_2flex.png', bbox_inches='tight', transparent=True)"
   ]
  },
  {
   "cell_type": "code",
   "execution_count": null,
   "metadata": {},
   "outputs": [],
   "source": [
    "fig, ax = plt.subplots(2, 1, figsize=(12, 8))\n",
    "\n",
    "for k in range(2):\n",
    "    tmp = men[(men['flex']==k) & (men['employed']==1)] #(df['sex']=='male') & \n",
    "    sns.distplot(tmp['wage_trunc'], color='#4B9CD3', hist_kws={'alpha' : .3}, bins=100, ax=ax[k])\n",
    "#     ax[k].legend(['Flexibility Level ' + str(k)])\n",
    "    ax[k].set_ylim([0,0.1])\n",
    "    ax[k].set_xlim([0,75])\n",
    "    if k == 1:\n",
    "        ax[k].set(xlabel = 'Truncated Hourly Wage for Men with Flexible Schedule')\n",
    "    elif k == 0:\n",
    "        ax[k].set(xlabel = 'Truncated Hourly Wage for Men without Flexible Schedule')\n",
    "    else:\n",
    "        print(\"Not binary k\")\n",
    "\n",
    "# ax.set(xlabel=\"Distribution of Men's Hourly Wage (raw)\")\n",
    "\n",
    "plt.tight_layout()\n",
    "\n",
    "fig.savefig('./wagetrunc_men_2flex.png', bbox_inches='tight', transparent=True)"
   ]
  },
  {
   "cell_type": "code",
   "execution_count": null,
   "metadata": {},
   "outputs": [],
   "source": [
    "fig, ax = plt.subplots(2, 1, figsize=(12, 8))\n",
    "\n",
    "for k in range(2):\n",
    "    tmp = women[(women['flex']==k) & (women['employed']==1)] #(df['sex']=='male') & \n",
    "    sns.distplot(tmp['wage_flexsched'], color='#4B9CD3', hist_kws={'alpha' : .3}, bins=100, ax=ax[k])\n",
    "#     ax[k].legend(['Flexibility Level ' + str(k)])\n",
    "    ax[k].set_ylim([0,0.1])\n",
    "    ax[k].set_xlim([0,75])\n",
    "    if k == 1:\n",
    "        ax[k].set(xlabel = 'Truncated Hourly Wage for Women with Flexible Schedule')\n",
    "    elif k == 0:\n",
    "        ax[k].set(xlabel = 'Truncated Hourly Wage for Women without Flexible Schedule')\n",
    "    else:\n",
    "        print(\"Not binary k\")\n",
    "\n",
    "# ax.set(xlabel=\"Distribution of Men's Hourly Wage (raw)\")\n",
    "\n",
    "plt.tight_layout()\n",
    "\n",
    "fig.savefig('./wagetrunc_women_2flex.png', bbox_inches='tight', transparent=True)"
   ]
  },
  {
   "cell_type": "code",
   "execution_count": null,
   "metadata": {},
   "outputs": [],
   "source": []
  },
  {
   "cell_type": "markdown",
   "metadata": {},
   "source": [
    "## Flex Schedule Score (k = 3)"
   ]
  },
  {
   "cell_type": "code",
   "execution_count": null,
   "metadata": {},
   "outputs": [],
   "source": [
    "fig, ax = plt.subplots(3, 1, figsize=(12, 8))\n",
    "\n",
    "for k in range(3):\n",
    "    tmp = df[(df['flex_sched_score']==k) & (df['sex']=='male') & (df['employed']==1)]\n",
    "    sns.distplot(tmp['hrwage_r'], color='#4B9CD3', hist_kws={'alpha' : .3}, bins=100, ax=ax[k])\n",
    "#     ax[k].legend(['Flexibility Level ' + str(k)])\n",
    "    ax[k].set_ylim([0,0.1])\n",
    "    ax[k].set_xlim([0,75])\n",
    "    ax[k].set(xlabel = 'Hourly Wage for Men with Flexibile Schedule Score ' +str(k))\n",
    "\n",
    "# ax.set(xlabel=\"Distribution of Men's Hourly Wage (raw)\")\n",
    "\n",
    "plt.tight_layout()\n",
    "\n",
    "fig.savefig('./hrwage_r_men_3flex.png', bbox_inches='tight', transparent=True)"
   ]
  },
  {
   "cell_type": "code",
   "execution_count": null,
   "metadata": {},
   "outputs": [],
   "source": [
    "fig, ax = plt.subplots(3, 1, figsize=(12, 8))\n",
    "\n",
    "for k in range(3):\n",
    "    tmp = df[(df['flex_sched_score']==k) & (df['sex']=='female') & (df['employed']==1)]\n",
    "    sns.distplot(tmp['hrwage_r'], color='#4B9CD3', hist_kws={'alpha' : .3}, bins=100, ax=ax[k])\n",
    "#     ax[k].legend(['Flexibility Level ' + str(k)])\n",
    "    ax[k].set_ylim([0,0.1])\n",
    "    ax[k].set_xlim([0,75])\n",
    "    ax[k].set(xlabel = 'Hourly Wage for Women with Flexibile Schedule Score ' +str(k))\n",
    "\n",
    "# ax.set(xlabel=\"Distribution of Men's Hourly Wage (raw)\")\n",
    "\n",
    "plt.tight_layout()\n",
    "\n",
    "fig.savefig('./hrwage_r_women_3flex.png', bbox_inches='tight', transparent=True)"
   ]
  },
  {
   "cell_type": "code",
   "execution_count": null,
   "metadata": {},
   "outputs": [],
   "source": [
    "fig, ax = plt.subplots(3, 1, figsize=(12, 8))\n",
    "\n",
    "for k in range(3):\n",
    "    tmp = women[(women['flex_sched_score']==k) & (women['employed']==1)]\n",
    "    sns.distplot(tmp['wage_flexschedscore'], color='#4B9CD3', hist_kws={'alpha' : .3}, bins=100, ax=ax[k])\n",
    "#     ax[k].legend(['Flex Level ' + str(k)])\n",
    "    ax[k].set_ylim([0,0.1])\n",
    "    ax[k].set_xlim([0,75])\n",
    "    ax[k].set(xlabel = 'Truncated Hourly Wage for Women with Flexibile Schedule Score ' +str(k))\n",
    "\n",
    "#ax.set(xlabel=\"Distribution of Men's Hourly Wage\")\n",
    "\n",
    "plt.tight_layout()\n",
    "\n",
    "fig.savefig('./wageTrunc_women_3flex.png', bbox_inches='tight', transparent=True)"
   ]
  },
  {
   "cell_type": "code",
   "execution_count": null,
   "metadata": {},
   "outputs": [],
   "source": []
  },
  {
   "cell_type": "markdown",
   "metadata": {},
   "source": [
    "## Utility Linear in wage and Productivity assumption $y(x;k) = kx$"
   ]
  },
  {
   "cell_type": "markdown",
   "metadata": {},
   "source": [
    "### Functions"
   ]
  },
  {
   "cell_type": "code",
   "execution_count": null,
   "metadata": {},
   "outputs": [],
   "source": [
    "def Pr_wage_given_match(data: pd.DataFrame, flex: str, wage: str, res_wage: float, c_k: np.array, α: float, μ: float, σ: float):\n",
    "    \"\"\"\n",
    "    Calculates probability of a wage draw conditional on a match being formed \n",
    "    \n",
    "    Inputs\n",
    "    - data: DataFrame\n",
    "    - flex: string for name of flexibility column\n",
    "    - wage: string for name of wage column\n",
    "    - res_wage: float of observed minimum wage\n",
    "    - c_k: Kx1 array of cost of providing flexibility\n",
    "    - α: bargaining parameter\n",
    "    - μ: location parameter of the log-normal wage distribution\n",
    "    - σ: scale parameter of the log-normal wage distribution\n",
    "    \n",
    "    Functions\n",
    "    - lognormpdf(x: np.array, μ: float, σ: float)\n",
    "    - lognormsf(x: np.array, μ: float, σ: float)\n",
    "    \"\"\"\n",
    "    employed_indiv = np.zeros(1) #sets first entry to zero \n",
    "\n",
    "    for k in range(len(c_k)):\n",
    "        tmp = data[data[flex]==k]\n",
    "        g = ( 1/( α*(k+1) ) ) * lognormpdf( ( 1/( α*(k+1) ) )*( tmp[wage] - (1-α)*res_wage + α*c_k[k] ), μ, σ )\n",
    "        G_tilde = lognormsf( ( 1/(k+1) )*( res_wage + c_k[k] ), μ, σ )\n",
    "        divide_thing = g/G_tilde\n",
    "        employed_indiv = np.append(employed_indiv, divide_thing)\n",
    "    \n",
    "    return employed_indiv[1:] #removes first entry "
   ]
  },
  {
   "cell_type": "code",
   "execution_count": null,
   "metadata": {},
   "outputs": [],
   "source": [
    "def hazard(res_wage: float, c_k: np.array, p_k: np.array, λ: float, μ: float, σ: float):\n",
    "    \"\"\"\n",
    "    Calculates the hazard rate out of employment \n",
    "    \n",
    "    Inputs\n",
    "    - res_wage: float of observed minimum wage\n",
    "    - c_k: Kx1 array of cost of providing flexibility\n",
    "    - p_k: Kx1 array of probability of each level of flexibility\n",
    "    - λ: arrival rate of offer\n",
    "    - μ: location parameter of the log-normal wage distribution\n",
    "    - σ: scale parameter of the log-normal wage distribution\n",
    "    \n",
    "    Functions\n",
    "    - lognormsf(x: np.array, μ: float, σ: float)\n",
    "    \"\"\"\n",
    "    \n",
    "    prob_sum = 0\n",
    "    \n",
    "    if len(p_k)!=len(c_k):\n",
    "        return print(\"Length of p_k and c_k do not match.\")\n",
    "    else:\n",
    "        for k in range(len(c_k)):\n",
    "            prob_sum += p_k[k] * lognormsf( ( 1/(k+1) )*( res_wage + c_k[k]), μ, σ ) #k+1 because Python index 0\n",
    "\n",
    "    return λ*prob_sum"
   ]
  },
  {
   "cell_type": "code",
   "execution_count": null,
   "metadata": {},
   "outputs": [],
   "source": [
    "def log_L(data: pd.DataFrame, flex: str, wage: str, dur: str, res_wage: float, c_k: np.array, p_k: np.array, α: float, λ: float, η: float, μ: float, σ: float):\n",
    "    \"\"\"\n",
    "    \n",
    "    Inputs\n",
    "    - data: DataFrame of all individuals\n",
    "    - flex: string for column of flexibility index (k)\n",
    "    - wage: string for column of wage data \n",
    "    - dur: string for unemployment duration data\n",
    "    - res_wage: float of observed minimum wage\n",
    "    - c_k: Kx1 array of cost of providing flexibility\n",
    "    - p_k: Kx1 array of probability of each level of flexibility\n",
    "    - α: bargaining parameter\n",
    "    - λ: arrival rate of offer\n",
    "    - η: termination rate\n",
    "    - μ: location parameter of the log-normal wage distribution\n",
    "    - σ: scale parameter of the log-normal wage distribution\n",
    "    \n",
    "    Functions\n",
    "    - hazard(res_wage: np.array, c_k: np.array, p_k: np.array, λ: float, μ: float, σ: float)\n",
    "    - Pr_wage_given_match(data: pd.DataFrame, flex: str, wage: str, res_wage: np.array, c_k: np.array,  α: float, μ: float, σ: float)\n",
    "    \"\"\"\n",
    "    \n",
    "    N_log_h = data.count() * np.log( hazard(res_wage, c_k, p_k, λ, μ, σ) )\n",
    "    N_log_h_plus_η = data.count() * np.log( hazard(res_wage, c_k, p_k, λ, μ, σ) + η )\n",
    "    \n",
    "    empl_data = np.sum( np.log( Pr_wage_given_match(data, flex, wage, res_wage, c_k, α, μ, σ) ) )\n",
    "    \n",
    "    Nu_log_η = data[dur].count() * np.log(η)\n",
    "    \n",
    "    unempl_data = hazard(res_wage, c_k, p_k, λ, μ, σ) * np.sum(data[dur])\n",
    "    \n",
    "    logL = -(N_log_h - N_log_h_plus_η + empl_data + Nu_log_η - unempl_data)\n",
    "    \n",
    "    return logL[0]"
   ]
  },
  {
   "cell_type": "code",
   "execution_count": null,
   "metadata": {},
   "outputs": [],
   "source": [
    "# Parameters to be estimated \n",
    "\n",
    "c_k = np.array([0,5,10])\n",
    "λ = 10\n",
    "η = 10"
   ]
  },
  {
   "cell_type": "markdown",
   "metadata": {},
   "source": [
    "### Estimation: Men, K=3"
   ]
  },
  {
   "cell_type": "code",
   "execution_count": null,
   "metadata": {},
   "outputs": [],
   "source": [
    "men['flex_sched_score'].value_counts(normalize=True, sort=False)"
   ]
  },
  {
   "cell_type": "code",
   "execution_count": null,
   "metadata": {},
   "outputs": [],
   "source": [
    "prob_k = np.array([0.274557, 0.547504, 0.177939])"
   ]
  },
  {
   "cell_type": "code",
   "execution_count": null,
   "metadata": {},
   "outputs": [],
   "source": [
    "params = np.array([c_k[1], c_k[2], λ, η, men['wage_flexschedscore'].mean(), men['wage_flexschedscore'].std()])\n",
    "\n",
    "logL_opt = lambda x: log_L(men, 'flex_sched_score', 'wage_flexschedscore', 'dur', men['wage_flexschedscore'].min(), \n",
    "                            np.array([0,x[0],x[1]]), prob_k, 0.5, x[2], x[3],\n",
    "                            x[4], x[5])\n",
    "\n",
    "est4 = minimize(logL_opt, params, method='Nelder-Mead')"
   ]
  },
  {
   "cell_type": "code",
   "execution_count": null,
   "metadata": {},
   "outputs": [],
   "source": [
    "est4.success"
   ]
  },
  {
   "cell_type": "code",
   "execution_count": null,
   "metadata": {},
   "outputs": [],
   "source": [
    "est4.x"
   ]
  },
  {
   "cell_type": "code",
   "execution_count": null,
   "metadata": {},
   "outputs": [],
   "source": [
    "est4.fun"
   ]
  },
  {
   "cell_type": "code",
   "execution_count": null,
   "metadata": {},
   "outputs": [],
   "source": [
    "params = np.array([c_k[1], c_k[2], λ, η, men['hrwage_r'].mean(), men['hrwage_r'].std()])\n",
    "\n",
    "logL_opt = lambda x: log_L(men, 'flex_sched_score', 'hrwage_r', 'dur', men['hrwage_r'].min(), \n",
    "                            np.array([0,x[0],x[1]]), prob_k, 0.5, x[2], x[3],\n",
    "                            x[4], x[5])\n",
    "\n",
    "est3 = minimize(logL_opt, params, method='Nelder-Mead')"
   ]
  },
  {
   "cell_type": "code",
   "execution_count": null,
   "metadata": {},
   "outputs": [],
   "source": [
    "est3.success"
   ]
  },
  {
   "cell_type": "code",
   "execution_count": null,
   "metadata": {},
   "outputs": [],
   "source": [
    "est3.x"
   ]
  },
  {
   "cell_type": "code",
   "execution_count": null,
   "metadata": {},
   "outputs": [],
   "source": [
    "est3.fun"
   ]
  },
  {
   "cell_type": "markdown",
   "metadata": {},
   "source": [
    "### Estimation: Men, K=2"
   ]
  },
  {
   "cell_type": "code",
   "execution_count": null,
   "metadata": {},
   "outputs": [],
   "source": [
    "men['flex'].value_counts(normalize=True, sort=False)"
   ]
  },
  {
   "cell_type": "code",
   "execution_count": null,
   "metadata": {},
   "outputs": [],
   "source": [
    "prob_k = np.array([0.274557, 0.725443])"
   ]
  },
  {
   "cell_type": "code",
   "execution_count": null,
   "metadata": {},
   "outputs": [],
   "source": [
    "params = np.array([c_k[1], λ, η, men['wage_flexsched'].mean(), men['wage_flexsched'].std()])\n",
    "\n",
    "logL_opt = lambda x: log_L(men, 'flex', 'wage_flexsched', 'dur', men['wage_flexsched'].min(), \n",
    "                            np.array([0,x[0]]), prob_k, 0.5, x[1], x[2],\n",
    "                            x[3],x[4])\n",
    "\n",
    "est2 = minimize(logL_opt, params, method='Nelder-Mead', options={'maxiter':8000})"
   ]
  },
  {
   "cell_type": "code",
   "execution_count": null,
   "metadata": {},
   "outputs": [],
   "source": [
    "est2.success"
   ]
  },
  {
   "cell_type": "code",
   "execution_count": null,
   "metadata": {},
   "outputs": [],
   "source": [
    "est2.x"
   ]
  },
  {
   "cell_type": "code",
   "execution_count": null,
   "metadata": {},
   "outputs": [],
   "source": [
    "est2.fun"
   ]
  },
  {
   "cell_type": "code",
   "execution_count": null,
   "metadata": {},
   "outputs": [],
   "source": [
    "params = np.array([c_k[1], λ, η, men['hrwage_r'].mean(), men['hrwage_r'].std()])\n",
    "\n",
    "logL_opt = lambda x: log_L(men, 'flex', 'hrwage_r', 'dur', men['hrwage_r'].min(), \n",
    "                            np.array([0,x[0]]), prob_k, 0.5, x[1], x[2],\n",
    "                            x[3],x[4])\n",
    "\n",
    "est1 = minimize(logL_opt, params, method='Nelder-Mead', options={'maxiter':8000})"
   ]
  },
  {
   "cell_type": "code",
   "execution_count": null,
   "metadata": {},
   "outputs": [],
   "source": [
    "est1.success"
   ]
  },
  {
   "cell_type": "code",
   "execution_count": null,
   "metadata": {},
   "outputs": [],
   "source": [
    "est1.x"
   ]
  },
  {
   "cell_type": "code",
   "execution_count": null,
   "metadata": {},
   "outputs": [],
   "source": [
    "est1.fun"
   ]
  },
  {
   "cell_type": "markdown",
   "metadata": {},
   "source": [
    "### Estimation: Women, K=3"
   ]
  },
  {
   "cell_type": "code",
   "execution_count": null,
   "metadata": {},
   "outputs": [],
   "source": [
    "women['flex_sched_score'].value_counts(normalize=True, sort=False)"
   ]
  },
  {
   "cell_type": "code",
   "execution_count": null,
   "metadata": {},
   "outputs": [],
   "source": [
    "prob_k = np.array([0.402640, 0.444719, 0.152640])"
   ]
  },
  {
   "cell_type": "code",
   "execution_count": null,
   "metadata": {},
   "outputs": [],
   "source": [
    "params = np.array([c_k[1], c_k[2], λ, η, women['wage_flexschedscore'].mean(), women['wage_flexschedscore'].std()])\n",
    "\n",
    "logL_opt = lambda x: log_L(women, 'flex_sched_score', 'wage_flexschedscore', 'dur', women['wage_flexschedscore'].min(), \n",
    "                            np.array([0,x[0],x[1]]), prob_k, 0.5, x[2], x[3],\n",
    "                            x[4], x[5])\n",
    "\n",
    "est4 = minimize(logL_opt, params, method='Nelder-Mead', options={'maxiter':8000})"
   ]
  },
  {
   "cell_type": "markdown",
   "metadata": {},
   "source": [
    "c_1 = 5, c_2 = 10"
   ]
  },
  {
   "cell_type": "code",
   "execution_count": null,
   "metadata": {},
   "outputs": [],
   "source": [
    "est4.success"
   ]
  },
  {
   "cell_type": "code",
   "execution_count": null,
   "metadata": {},
   "outputs": [],
   "source": [
    "est4.x"
   ]
  },
  {
   "cell_type": "code",
   "execution_count": null,
   "metadata": {},
   "outputs": [],
   "source": [
    "est4.fun"
   ]
  },
  {
   "cell_type": "code",
   "execution_count": null,
   "metadata": {},
   "outputs": [],
   "source": [
    "# Changes every time I run it for some reason.\n",
    "\n",
    "params = np.array([c_k[1], c_k[2], λ, η, women['hrwage_r'].mean(), women['hrwage_r'].std()])\n",
    "\n",
    "logL_opt = lambda x: log_L(women, 'flex_sched_score', 'hrwage_r', 'dur', women['hrwage_r'].min(), \n",
    "                            np.array([0,x[0],x[1]]), prob_k, 0.5, x[2], x[3],\n",
    "                            x[4], x[5])\n",
    "\n",
    "est3 = minimize(logL_opt, params, method='Nelder-Mead', options={'maxiter':8000})"
   ]
  },
  {
   "cell_type": "code",
   "execution_count": null,
   "metadata": {},
   "outputs": [],
   "source": [
    "est3.success"
   ]
  },
  {
   "cell_type": "code",
   "execution_count": null,
   "metadata": {},
   "outputs": [],
   "source": [
    "est3.x"
   ]
  },
  {
   "cell_type": "code",
   "execution_count": null,
   "metadata": {},
   "outputs": [],
   "source": [
    "est3.fun"
   ]
  },
  {
   "cell_type": "markdown",
   "metadata": {},
   "source": [
    "### Estimation: Women, K=2"
   ]
  },
  {
   "cell_type": "code",
   "execution_count": null,
   "metadata": {},
   "outputs": [],
   "source": [
    "women['flex'].value_counts(normalize=True, sort=False)"
   ]
  },
  {
   "cell_type": "code",
   "execution_count": null,
   "metadata": {},
   "outputs": [],
   "source": [
    "prob_k = np.array([0.40264, 0.59736])"
   ]
  },
  {
   "cell_type": "code",
   "execution_count": null,
   "metadata": {},
   "outputs": [],
   "source": [
    "# Also changes every time I run it\n",
    "\n",
    "params = np.array([c_k[1], λ, η, women['wage_flexsched'].mean(), women['wage_flexsched'].std()])\n",
    "\n",
    "logL_opt = lambda x: log_L(women, 'flex', 'wage_flexsched', 'dur', women['wage_flexsched'].min(), \n",
    "                            np.array([0,x[0]]), prob_k, 0.5, x[1], x[2],\n",
    "                            x[3],x[4])\n",
    "\n",
    "est2 = minimize(logL_opt, params, method='Nelder-Mead', options={'maxiter':8000})"
   ]
  },
  {
   "cell_type": "code",
   "execution_count": null,
   "metadata": {},
   "outputs": [],
   "source": [
    "est2.success"
   ]
  },
  {
   "cell_type": "code",
   "execution_count": null,
   "metadata": {},
   "outputs": [],
   "source": [
    "est2.x"
   ]
  },
  {
   "cell_type": "code",
   "execution_count": null,
   "metadata": {},
   "outputs": [],
   "source": [
    "est2.fun"
   ]
  },
  {
   "cell_type": "code",
   "execution_count": null,
   "metadata": {},
   "outputs": [],
   "source": [
    "# Consistent across runs\n",
    "\n",
    "params = np.array([c_k[1], λ, η, women['hrwage_r'].mean(), women['hrwage_r'].std()])\n",
    "\n",
    "logL_opt = lambda x: log_L(women, 'flex', 'hrwage_r', 'dur', women['hrwage_r'].min(), \n",
    "                            np.array([0,x[0]]), prob_k, 0.5, x[1], x[2],\n",
    "                            x[3],x[4])\n",
    "\n",
    "est1 = minimize(logL_opt, params, method='Nelder-Mead', options={'maxiter':8000})"
   ]
  },
  {
   "cell_type": "code",
   "execution_count": null,
   "metadata": {},
   "outputs": [],
   "source": [
    "est1.success"
   ]
  },
  {
   "cell_type": "code",
   "execution_count": null,
   "metadata": {},
   "outputs": [],
   "source": [
    "est1.x"
   ]
  },
  {
   "cell_type": "code",
   "execution_count": null,
   "metadata": {},
   "outputs": [],
   "source": [
    "est1.fun"
   ]
  },
  {
   "cell_type": "code",
   "execution_count": null,
   "metadata": {},
   "outputs": [],
   "source": []
  },
  {
   "cell_type": "markdown",
   "metadata": {},
   "source": [
    "## Pr_wage_match, hazard, and logL with res_wage, mu, and sigma varying with k"
   ]
  },
  {
   "cell_type": "code",
   "execution_count": null,
   "metadata": {},
   "outputs": [],
   "source": [
    "def Pr_wage_given_match(data: pd.DataFrame, flex: str, wage: str, res_wage: float, c_k: np.array, α: float, μ: float, σ: float):\n",
    "# def Pr_wage_given_match(data: pd.DataFrame, flex: str, wage: str, res_wage: np.array, c_k: np.array, α: float, μ: np.array, σ: np.array):\n",
    "    \"\"\"\n",
    "    Calculates probability of a wage draw conditional on a match being formed \n",
    "    \n",
    "    Inputs\n",
    "    - data: DataFrame\n",
    "    - flex: string for name of flexibility column\n",
    "    - wage: string for name of wage column\n",
    "    - res_wage: Kx1 array of observed minimum wages for each flexibility level\n",
    "    - c_k: Kx1 array of cost of providing flexibility\n",
    "    - α: bargaining parameter\n",
    "    - μ: array of location parameter of the log-normal wage distribution for each flexibility level\n",
    "    - σ: array of scale parameter of the log-normal wage distribution for each flexibility level\n",
    "    \n",
    "    Functions\n",
    "    - lognormpdf(x: np.array, μ: float, σ: float)\n",
    "    - lognormsf(x: np.array, μ: float, σ: float)\n",
    "    \"\"\"\n",
    "    employed_indiv = np.zeros(1) #sets first entry to zero \n",
    "# With U, μ and σ constant in flex level k\n",
    "    for k in range(len(c_k)):\n",
    "        tmp = data[data[flex]==k]\n",
    "        g = ( 1/( α*(k+1) ) ) * lognormpdf( ( 1/( α*(k+1) ) )*( tmp[wage] - (1-α)*res_wage + α*c_k[k] ), μ, σ )\n",
    "        G_tilde = lognormsf( ( 1/(k+1) )*( res_wage + c_k[k] ), μ, σ )\n",
    "        divide_thing = g/G_tilde\n",
    "        employed_indiv = np.append(employed_indiv, divide_thing)\n",
    "# # With U, μ and σ varying with flex level k - unidentified    \n",
    "#     for k in range(len(res_wage)):\n",
    "#         tmp = data[data[flex]==k]\n",
    "#         g = ( 1/( α*(k+1) ) ) * lognormpdf( ( 1/( α*(k+1) ) )*( tmp[wage] - (1-α)*res_wage[k] + α*c_k[k] ), μ[k], σ[k] )\n",
    "#         G_tilde = lognormsf( ( 1/(k+1) )*( res_wage[k] + c_k[k] ), μ[k], σ[k] )\n",
    "#         divide_thing = g/G_tilde\n",
    "#         employed_indiv = np.append(employed_indiv, divide_thing)\n",
    "    \n",
    "    return employed_indiv[1:] #removes first entry "
   ]
  },
  {
   "cell_type": "code",
   "execution_count": null,
   "metadata": {},
   "outputs": [],
   "source": [
    "def hazard(res_wage: float, c_k: np.array, p_k: np.array, λ: float, μ: float, σ: float):\n",
    "# def hazard(res_wage: np.array, c_k: np.array, p_k: np.array, λ: float, μ: np.array, σ: np.array):\n",
    "    \"\"\"\n",
    "    Calculates the hazard rate out of employment \n",
    "    \n",
    "    Inputs\n",
    "    - res_wage: Kx1 array of observed minimum wages for each flexibility level\n",
    "    - c_k: Kx1 array of cost of providing flexibility\n",
    "    - p_k: Kx1 array of probability of each level of flexibility\n",
    "    - λ: arrival rate of offer\n",
    "    - μ: array of location parameter of the log-normal wage distribution for each flexibility level\n",
    "    - σ: array of scale parameter of the log-normal wage distribution for each flexibility level\n",
    "    \n",
    "    Functions\n",
    "    - lognormsf(x: np.array, μ: float, σ: float)\n",
    "    \"\"\"\n",
    "    \n",
    "    prob_sum = 0\n",
    "    \n",
    "#     if len(res_wage)!=len(c_k):\n",
    "#         return print(\"Length of res_wage and c_k do not match.\")\n",
    "#     elif len(res_wage)!=len(p_k):\n",
    "#         return print(\"Length of res_wage and p_k do not match.\")\n",
    "    if len(p_k)!=len(c_k):\n",
    "        return print(\"Length of p_k and c_k do not match.\")\n",
    "    else:\n",
    "# With U, μ and σ constant in flex level k\n",
    "        for k in range(len(c_k)):\n",
    "            prob_sum += p_k[k] * lognormsf( ( 1/(k+1) )*( res_wage + c_k[k]), μ, σ ) #k+1 because Python index 0\n",
    "\n",
    "# # With U, μ and σ varying with flex level k - unidentified    \n",
    "#         for k in range(len(res_wage)):\n",
    "#             prob_sum += p_k[k] * lognormsf( ( 1/(k+1) )*( res_wage[k] + c_k[k]), μ[k], σ[k] ) #k+1 because Python index 0\n",
    "    \n",
    "    return λ*prob_sum#[0]"
   ]
  },
  {
   "cell_type": "code",
   "execution_count": null,
   "metadata": {},
   "outputs": [],
   "source": [
    "def log_L(data: pd.DataFrame, flex: str, wage: str, dur: str, res_wage: float, c_k: np.array, p_k: np.array, α: float, λ: float, η: float, μ: float, σ: float):\n",
    "# def log_L(data: pd.DataFrame, flex: str, wage: str, dur: str, res_wage: np.array, c_k: np.array, p_k: np.array, α: float, λ: float, η: float, μ: np.array, σ: np.array):\n",
    "    \"\"\"\n",
    "    \n",
    "    Inputs\n",
    "    - data: DataFrame of all individuals\n",
    "    - flex: string for column of flexibility index (k)\n",
    "    - wage: string for column of wage data \n",
    "    - dur: string for unemployment duration data\n",
    "    - res_wage: Kx1 array of observed minimum wages for each flexibility level\n",
    "    - c_k: Kx1 array of cost of providing flexibility\n",
    "    - p_k: Kx1 array of probability of each level of flexibility\n",
    "    - α: bargaining parameter\n",
    "    - λ: arrival rate of offer\n",
    "    - η: termination rate\n",
    "    - μ: array of location parameter of the log-normal wage distribution for each flexibility level\n",
    "    - σ: array of scale parameter of the log-normal wage distribution for each flexibility level\n",
    "    \n",
    "    Functions\n",
    "    - hazard(res_wage: np.array, c_k: np.array, p_k: np.array, λ: float, μ: float, σ: float)\n",
    "    - Pr_wage_given_match(data: pd.DataFrame, flex: str, wage: str, res_wage: np.array, c_k: np.array,  α: float, μ: float, σ: float)\n",
    "    \"\"\"\n",
    "    \n",
    "    N_log_h = data.count() * np.log( hazard(res_wage, c_k, p_k, λ, μ, σ) )\n",
    "    N_log_h_plus_η = data.count() * np.log( hazard(res_wage, c_k, p_k, λ, μ, σ) + η )\n",
    "    \n",
    "    empl_data = np.sum( np.log( Pr_wage_given_match(data, flex, wage, res_wage, c_k, α, μ, σ) ) )\n",
    "    \n",
    "    Nu_log_η = data[dur].count() * np.log(η)\n",
    "    \n",
    "    unempl_data = hazard(res_wage, c_k, p_k, λ, μ, σ) * np.sum(data[dur])\n",
    "    \n",
    "    logL = -(N_log_h - N_log_h_plus_η + empl_data + Nu_log_η - unempl_data)\n",
    "    \n",
    "    return logL[0]"
   ]
  },
  {
   "cell_type": "code",
   "execution_count": null,
   "metadata": {},
   "outputs": [],
   "source": []
  },
  {
   "cell_type": "markdown",
   "metadata": {},
   "source": [
    "## Old Hazard and Log L (did not copy Pr_wage_match in time)"
   ]
  },
  {
   "cell_type": "code",
   "execution_count": null,
   "metadata": {},
   "outputs": [],
   "source": [
    "def hazard(res_wage: np.array, c_k: np.array, p_k: np.array, λ: float, μ: np.array, σ: np.array):\n",
    "    \"\"\"\n",
    "    Calculates the hazard rate out of employment \n",
    "    \n",
    "    Inputs\n",
    "    - res_wage: Kx1 array of observed minimum wages for each flexibility level\n",
    "    - c_k: Kx1 array of cost of providing flexibility\n",
    "    - p_k: Kx1 array of probability of each level of flexibility\n",
    "    - λ: arrival rate of offer\n",
    "    - μ: array of location parameter of the log-normal wage distribution for each flexibility level\n",
    "    - σ: array of scale parameter of the log-normal wage distribution for each flexibility level\n",
    "    \n",
    "    Functions\n",
    "    - lognormsf(x: np.array, μ: float, σ: float)\n",
    "    \"\"\"\n",
    "    \n",
    "    prob_sum = 0\n",
    "    \n",
    "    if len(res_wage)!=len(c_k):\n",
    "        return print(\"Length of res_wage and c_k do not match.\")\n",
    "    elif len(res_wage)!=len(p_k):\n",
    "        return print(\"Length of res_wage and p_k do not match.\")\n",
    "    elif len(p_k)!=len(c_k):\n",
    "        return print(\"Length of p_k and c_k do not match.\")\n",
    "    else:\n",
    "        for k in range(len(res_wage)):\n",
    "            prob_sum += p_k[k] * lognormsf( ( 1/(k+1) )*( res_wage[k] + c_k[k]), μ[k], σ[k] ) #k+1 because Python index 0\n",
    "    \n",
    "    return λ*prob_sum"
   ]
  },
  {
   "cell_type": "code",
   "execution_count": null,
   "metadata": {},
   "outputs": [],
   "source": [
    "def log_L(wage: np.array, k: np.array, res_wage: np.array, c_k: np.array, p_k: np.array, dur: np.array, α: float, λ: float, η: float, μ: np.array, σ: np.array):\n",
    "    \"\"\"\n",
    "    \n",
    "    Inputs\n",
    "    - wage: Ne x 1 array of observed wage data \n",
    "    - k: Ne x 1 array of observed flexibility level data\n",
    "    - res_wage: Kx1 array of observed minimum wages for each flexibility level\n",
    "    - c_k: Kx1 array of cost of providing flexibility\n",
    "    - p_k: Kx1 array of probability of each level of flexibility\n",
    "    - dur: Nu x 1 array of observed unemployment duration data\n",
    "    - α: bargaining parameter\n",
    "    - λ: arrival rate of offer\n",
    "    - η: termination rate\n",
    "    - μ: array of location parameter of the log-normal wage distribution for each flexibility level\n",
    "    - σ: array of scale parameter of the log-normal wage distribution for each flexibility level\n",
    "    \n",
    "    Functions\n",
    "    - hazard(res_wage: np.array, c_k: np.array, p_k: np.array, λ: float, μ: float, σ: float)\n",
    "    - Pr_wage_given_match(wage: np.array, k: np.array, res_wage: np.array, c_k: np.array,  α: float, μ: float, σ: float)\n",
    "    \"\"\"\n",
    "    \n",
    "    N_log_h = len(wage) * np.log( hazard(res_wage, c_k, p_k, λ, μ, σ) )\n",
    "    N_log_h_plus_η = len(wage) * np.log( hazard(res_wage, c_k, p_k, λ, μ, σ) + η )\n",
    "    \n",
    "    empl_data = np.sum( np.log( Pr_wage_given_match(wage, k, res_wage, c_k,  α, μ, σ) ) )\n",
    "    \n",
    "    Nu_log_η = len(dur) * np.log(η)\n",
    "    \n",
    "    unempl_data = hazard(res_wage, c_k, p_k, λ, μ, σ) * np.sum(dur)\n",
    "    \n",
    "    logL = N_log_h - N_log_h_plus_η + empl_data + Nu_log_η - unempl_data\n",
    "    \n",
    "    return logL"
   ]
  },
  {
   "cell_type": "code",
   "execution_count": null,
   "metadata": {},
   "outputs": [],
   "source": []
  },
  {
   "cell_type": "code",
   "execution_count": null,
   "metadata": {},
   "outputs": [],
   "source": [
    "empl_men = men[men['employed']==1]\n",
    "len(empl_men)"
   ]
  },
  {
   "cell_type": "code",
   "execution_count": null,
   "metadata": {},
   "outputs": [],
   "source": [
    "unempl_men = men[men['employed']==0]\n",
    "len(unempl_men)"
   ]
  },
  {
   "cell_type": "code",
   "execution_count": null,
   "metadata": {},
   "outputs": [],
   "source": []
  },
  {
   "cell_type": "code",
   "execution_count": null,
   "metadata": {},
   "outputs": [],
   "source": [
    "fig, ax = plt.subplots(3, 1, figsize=(12, 8))\n",
    "\n",
    "for k in range(3):\n",
    "    tmp = df[(df['flex_sched_score']==k) & (df['sex']=='female') & (df['employed']==1)]\n",
    "    sns.distplot(tmp['hrwage_r'], color='#4B9CD3', hist_kws={'alpha' : .3}, bins=100, ax=ax[k])\n",
    "    ax[k].legend(['Flex Level ' + str(k)])\n",
    "    ax[k].set_ylim([0,0.1])\n",
    "    ax[k].set_xlim([0,75])\n",
    "\n",
    "\n",
    "#ax.set(xlabel=\"Distribution of Men's Hourly Wage\")\n",
    "\n",
    "plt.tight_layout()\n",
    "\n",
    "# fig.savefig('./figures/wage_noMin.png', bbox_inches='tight', transparent=True)"
   ]
  }
 ],
 "metadata": {
  "kernelspec": {
   "display_name": "atus",
   "language": "python",
   "name": "atus"
  },
  "language_info": {
   "codemirror_mode": {
    "name": "ipython",
    "version": 3
   },
   "file_extension": ".py",
   "mimetype": "text/x-python",
   "name": "python",
   "nbconvert_exporter": "python",
   "pygments_lexer": "ipython3",
   "version": "3.10.2"
  }
 },
 "nbformat": 4,
 "nbformat_minor": 4
}
