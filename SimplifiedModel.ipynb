{
 "cells": [
  {
   "cell_type": "markdown",
   "metadata": {},
   "source": [
    "# Flexibility in a Search Model \n",
    "\n",
    "## Model\n",
    "\n",
    "- homogeneous workers with linear utility over wage $w(x;k)$ if employed and flow (dis)utility $b$ if unemployed\n",
    "- heterogeneous firms endowed with flexibility level $k \\in K = \\{1,2,3\\}$ costing $c(k)$ with linear profit $y(x;k)-w(x;k)-c(k)$\n",
    "    - current assumption: $y(x;k) = kx$\n",
    "- search parameters: discount rate $\\rho$, unemployed meet firms at rate $\\lambda$ (no on-the-job search), upon meeting draw match-specific productivity $x \\sim G(x)$, bargaining parameter $\\alpha$, employed face separation shock $\\eta$\n",
    "\n",
    "\n",
    "## Data Requirements \n",
    "- employed workers earn wage $w_i$ at firm with flexibility level $k$\n",
    "- unemployed workers have unemployment durations of $t_i$\n",
    "- flexibility level $k$ defined by \n",
    "    - 0: No flexibility in start and end times of work \n",
    "    - 1: Informal policy allowing flexibility in start and end times of work\n",
    "    - 2: Formal policy allowing for flexibility in start and end times of work"
   ]
  },
  {
   "cell_type": "code",
   "execution_count": 28,
   "metadata": {
    "tags": []
   },
   "outputs": [],
   "source": [
    "# General\n",
    "import numpy as np\n",
    "import pandas as pd \n",
    "import scipy.stats as stats\n",
    "\n",
    "# Graphics\n",
    "import matplotlib.pyplot as plt \n",
    "import seaborn as sns\n",
    "\n",
    "# Estimation\n",
    "from scipy.optimize import minimize\n"
   ]
  },
  {
   "cell_type": "code",
   "execution_count": 2,
   "metadata": {},
   "outputs": [],
   "source": [
    "df=pd.read_stata('workfile.dta', columns=['sex','employed', 'flex_sched_score', 'hrwage', 'dur']) #986,337 obs from 1984-2017; 711,205 for 2000-2017"
   ]
  },
  {
   "cell_type": "markdown",
   "metadata": {},
   "source": [
    "## Inputs and Parameters"
   ]
  },
  {
   "cell_type": "code",
   "execution_count": 3,
   "metadata": {},
   "outputs": [
    {
     "data": {
      "text/plain": [
       "sex     flex_sched_score\n",
       "male    1.0                 0.547504\n",
       "        0.0                 0.274557\n",
       "        2.0                 0.177939\n",
       "female  1.0                 0.444719\n",
       "        0.0                 0.402640\n",
       "        2.0                 0.152640\n",
       "Name: flex_sched_score, dtype: float64"
      ]
     },
     "execution_count": 3,
     "metadata": {},
     "output_type": "execute_result"
    }
   ],
   "source": [
    "df['flex_sched_score'].groupby(df['sex']).value_counts(normalize=True)"
   ]
  },
  {
   "cell_type": "code",
   "execution_count": 4,
   "metadata": {},
   "outputs": [
    {
     "data": {
      "text/plain": [
       "male      1269\n",
       "female    1239\n",
       "Name: sex, dtype: int64"
      ]
     },
     "execution_count": 4,
     "metadata": {},
     "output_type": "execute_result"
    }
   ],
   "source": [
    "df['sex'].value_counts()"
   ]
  },
  {
   "cell_type": "code",
   "execution_count": 5,
   "metadata": {},
   "outputs": [
    {
     "data": {
      "text/plain": [
       "1.0    2454\n",
       "0.0      54\n",
       "Name: employed, dtype: int64"
      ]
     },
     "execution_count": 5,
     "metadata": {},
     "output_type": "execute_result"
    }
   ],
   "source": [
    "df['employed'].value_counts()"
   ]
  },
  {
   "cell_type": "code",
   "execution_count": 6,
   "metadata": {},
   "outputs": [
    {
     "data": {
      "text/plain": [
       "1269"
      ]
     },
     "execution_count": 6,
     "metadata": {},
     "output_type": "execute_result"
    }
   ],
   "source": [
    "men = df[df['sex']=='male']\n",
    "len(men)"
   ]
  },
  {
   "cell_type": "code",
   "execution_count": 7,
   "metadata": {},
   "outputs": [
    {
     "data": {
      "text/plain": [
       "1.0    1242\n",
       "0.0      27\n",
       "Name: employed, dtype: int64"
      ]
     },
     "execution_count": 7,
     "metadata": {},
     "output_type": "execute_result"
    }
   ],
   "source": [
    "men['employed'].value_counts()"
   ]
  },
  {
   "cell_type": "code",
   "execution_count": 9,
   "metadata": {},
   "outputs": [
    {
     "data": {
      "text/plain": [
       "count    1242.000000\n",
       "mean       42.517616\n",
       "std        18.955248\n",
       "min         0.008000\n",
       "25%        26.923000\n",
       "50%        39.423000\n",
       "75%        58.173000\n",
       "max        72.115250\n",
       "Name: hrwage, dtype: float64"
      ]
     },
     "execution_count": 9,
     "metadata": {},
     "output_type": "execute_result"
    }
   ],
   "source": [
    "men['hrwage'].describe()"
   ]
  },
  {
   "cell_type": "code",
   "execution_count": 11,
   "metadata": {},
   "outputs": [
    {
     "data": {
      "text/plain": [
       "count    1242.000000\n",
       "mean        0.903382\n",
       "std         0.665971\n",
       "min         0.000000\n",
       "25%         0.000000\n",
       "50%         1.000000\n",
       "75%         1.000000\n",
       "max         2.000000\n",
       "Name: flex_sched_score, dtype: float64"
      ]
     },
     "execution_count": 11,
     "metadata": {},
     "output_type": "execute_result"
    }
   ],
   "source": [
    "men['flex_sched_score'].describe()"
   ]
  },
  {
   "cell_type": "code",
   "execution_count": 10,
   "metadata": {},
   "outputs": [
    {
     "data": {
      "text/plain": [
       "count     27.000000\n",
       "mean      18.629629\n",
       "std       23.348774\n",
       "min        8.000000\n",
       "25%       12.000000\n",
       "50%       12.000000\n",
       "75%       16.000000\n",
       "max      131.000000\n",
       "Name: dur, dtype: float64"
      ]
     },
     "execution_count": 10,
     "metadata": {},
     "output_type": "execute_result"
    }
   ],
   "source": [
    "men['dur'].describe()"
   ]
  },
  {
   "cell_type": "code",
   "execution_count": 12,
   "metadata": {},
   "outputs": [
    {
     "data": {
      "text/plain": [
       "array([[8.000e-03],\n",
       "       [1.020e+00],\n",
       "       [9.625e+00]], dtype=float32)"
      ]
     },
     "execution_count": 12,
     "metadata": {},
     "output_type": "execute_result"
    }
   ],
   "source": [
    "Uk = men.groupby('flex_sched_score').agg({'hrwage': min}).values\n",
    "Uk"
   ]
  },
  {
   "cell_type": "code",
   "execution_count": 13,
   "metadata": {},
   "outputs": [
    {
     "data": {
      "text/plain": [
       "1.0    0.547504\n",
       "0.0    0.274557\n",
       "2.0    0.177939\n",
       "Name: flex_sched_score, dtype: float64"
      ]
     },
     "execution_count": 13,
     "metadata": {},
     "output_type": "execute_result"
    }
   ],
   "source": [
    "men['flex_sched_score'].value_counts(normalize=True, sort=False)"
   ]
  },
  {
   "cell_type": "code",
   "execution_count": 14,
   "metadata": {},
   "outputs": [],
   "source": [
    "prob_k = [0.274557, 0.547504, 0.177939]"
   ]
  },
  {
   "cell_type": "code",
   "execution_count": 16,
   "metadata": {},
   "outputs": [],
   "source": [
    "# Parameters to be estimated \n",
    "\n",
    "c_k = [0,5,10]\n",
    "λ = 0.5\n",
    "η = 0.1\n",
    "μ = np.array(men['hrwage'].groupby(men['flex_sched_score']).mean())\n",
    "σ = np.array(men['hrwage'].groupby(men['flex_sched_score']).std())"
   ]
  },
  {
   "cell_type": "markdown",
   "metadata": {},
   "source": [
    "## Functions"
   ]
  },
  {
   "cell_type": "code",
   "execution_count": 18,
   "metadata": {},
   "outputs": [],
   "source": [
    "def lognormpdf(x: np.array, μ: float, σ: float):\n",
    "    \"\"\"\n",
    "    Calculates lognormal pdf without stats packages\n",
    "    \"\"\"\n",
    "    \n",
    "    denom = x * σ * np.sqrt(2*np.pi)\n",
    "    exp_num = -(np.log(x)-μ)**2\n",
    "    exp_denom = 2 * σ * σ\n",
    "    num = np.exp(exp_num/exp_denom)\n",
    "    \n",
    "    return num/denom"
   ]
  },
  {
   "cell_type": "code",
   "execution_count": 19,
   "metadata": {},
   "outputs": [],
   "source": [
    "def lognormsf(x: np.array, μ: float, σ: float):\n",
    "    \"\"\"\n",
    "    Calculated lognormal cdf with scipy.stats normal cdf\n",
    "    \"\"\"\n",
    "    \n",
    "    lnx = np.log(x)\n",
    "    num = lnx - μ\n",
    "    denom = σ\n",
    "    \n",
    "    return 1-stats.norm.cdf(num/denom)"
   ]
  },
  {
   "cell_type": "code",
   "execution_count": 20,
   "metadata": {},
   "outputs": [],
   "source": [
    "def Pr_wage_given_match(data: pd.DataFrame, flex: str, wage: str, res_wage: np.array, c_k: np.array, α: float, μ: np.array, σ: np.array):\n",
    "    \"\"\"\n",
    "    Calculates probability of a wage draw conditional on a match being formed \n",
    "    \n",
    "    Inputs\n",
    "    - data: DataFrame\n",
    "    - flex: string for name of flexibility column\n",
    "    - wage: string for name of wage column\n",
    "    - res_wage: Kx1 array of observed minimum wages for each flexibility level\n",
    "    - c_k: Kx1 array of cost of providing flexibility\n",
    "    - α: bargaining parameter\n",
    "    - μ: array of location parameter of the log-normal wage distribution for each flexibility level\n",
    "    - σ: array of scale parameter of the log-normal wage distribution for each flexibility level\n",
    "    \n",
    "    Functions\n",
    "    - lognormpdf(x: np.array, μ: float, σ: float)\n",
    "    - lognormsf(x: np.array, μ: float, σ: float)\n",
    "    \"\"\"\n",
    "    employed_indiv = np.empty(1)\n",
    "    \n",
    "    for k in range(len(res_wage)):\n",
    "        tmp = data[data[flex]==k]\n",
    "        g = ( 1/( α*(k+1) ) ) * lognormpdf( ( 1/( α*(k+1) ) )*( tmp[wage] - (1-α)*res_wage[k] + α*c_k[k] ), μ[k], σ[k] )\n",
    "        G_tilde = lognormsf( ( 1/(k+1) )*( res_wage[k] + c_k[k] ), μ[k], σ[k] )\n",
    "        divide_thing = g/G_tilde\n",
    "        employed_indiv = np.append(employed_indiv, divide_thing)\n",
    "    \n",
    "    return employed_indiv"
   ]
  },
  {
   "cell_type": "code",
   "execution_count": 21,
   "metadata": {},
   "outputs": [],
   "source": [
    "def hazard(res_wage: np.array, c_k: np.array, p_k: np.array, λ: float, μ: np.array, σ: np.array):\n",
    "    \"\"\"\n",
    "    Calculates the hazard rate out of employment \n",
    "    \n",
    "    Inputs\n",
    "    - res_wage: Kx1 array of observed minimum wages for each flexibility level\n",
    "    - c_k: Kx1 array of cost of providing flexibility\n",
    "    - p_k: Kx1 array of probability of each level of flexibility\n",
    "    - λ: arrival rate of offer\n",
    "    - μ: array of location parameter of the log-normal wage distribution for each flexibility level\n",
    "    - σ: array of scale parameter of the log-normal wage distribution for each flexibility level\n",
    "    \n",
    "    Functions\n",
    "    - lognormsf(x: np.array, μ: float, σ: float)\n",
    "    \"\"\"\n",
    "    \n",
    "    prob_sum = 0\n",
    "    \n",
    "    if len(res_wage)!=len(c_k):\n",
    "        return print(\"Length of res_wage and c_k do not match.\")\n",
    "    elif len(res_wage)!=len(p_k):\n",
    "        return print(\"Length of res_wage and p_k do not match.\")\n",
    "    elif len(p_k)!=len(c_k):\n",
    "        return print(\"Length of p_k and c_k do not match.\")\n",
    "    else:\n",
    "        for k in range(len(res_wage)):\n",
    "            prob_sum += p_k[k] * lognormsf( ( 1/(k+1) )*( res_wage[k] + c_k[k]), μ[k], σ[k] ) #k+1 because Python index 0\n",
    "    \n",
    "    return λ*prob_sum"
   ]
  },
  {
   "cell_type": "code",
   "execution_count": 26,
   "metadata": {},
   "outputs": [],
   "source": [
    "def log_L(data: pd.DataFrame, flex: str, wage: str, dur: str, res_wage: np.array, c_k: np.array, p_k: np.array, α: float, λ: float, η: float, μ: np.array, σ: np.array):\n",
    "    \"\"\"\n",
    "    \n",
    "    Inputs\n",
    "    - data: DataFrame of all individuals\n",
    "    - flex: string for column of flexibility index (k)\n",
    "    - wage: string for column of wage data \n",
    "    - dur: string for unemployment duration data\n",
    "    - res_wage: Kx1 array of observed minimum wages for each flexibility level\n",
    "    - c_k: Kx1 array of cost of providing flexibility\n",
    "    - p_k: Kx1 array of probability of each level of flexibility\n",
    "    - α: bargaining parameter\n",
    "    - λ: arrival rate of offer\n",
    "    - η: termination rate\n",
    "    - μ: array of location parameter of the log-normal wage distribution for each flexibility level\n",
    "    - σ: array of scale parameter of the log-normal wage distribution for each flexibility level\n",
    "    \n",
    "    Functions\n",
    "    - hazard(res_wage: np.array, c_k: np.array, p_k: np.array, λ: float, μ: float, σ: float)\n",
    "    - Pr_wage_given_match(data: pd.DataFrame, flex: str, wage: str, res_wage: np.array, c_k: np.array,  α: float, μ: float, σ: float)\n",
    "    \"\"\"\n",
    "    \n",
    "    N_log_h = len(data) * np.log( hazard(res_wage, c_k, p_k, λ, μ, σ) )\n",
    "    N_log_h_plus_η = len(data) * np.log( hazard(res_wage, c_k, p_k, λ, μ, σ) + η )\n",
    "    \n",
    "    empl_data = np.sum( np.log( Pr_wage_given_match(data, flex, wage, res_wage, c_k,  α, μ, σ) ) )\n",
    "    \n",
    "    Nu_log_η = len(data[dur]) * np.log(η)\n",
    "    \n",
    "    unempl_data = hazard(res_wage, c_k, p_k, λ, μ, σ) * np.sum(data[dur])\n",
    "    \n",
    "    logL = N_log_h - N_log_h_plus_η + empl_data + Nu_log_η - unempl_data\n",
    "    \n",
    "    return logL"
   ]
  },
  {
   "cell_type": "code",
   "execution_count": 27,
   "metadata": {},
   "outputs": [
    {
     "data": {
      "text/plain": [
       "array([-13037.77776619])"
      ]
     },
     "execution_count": 27,
     "metadata": {},
     "output_type": "execute_result"
    }
   ],
   "source": [
    "# log_L(data: pd.DataFrame, flex: str, wage: str, dur: str, res_wage: np.array, c_k: np.array, p_k: np.array, α: float, λ: float, η: float, μ: np.array, σ: np.array)\n",
    "    \n",
    "log_L(men, 'flex_sched_score', 'hrwage', 'dur', Uk, c_k, prob_k, 0.5, 2, 2, μ, σ)    "
   ]
  },
  {
   "cell_type": "code",
   "execution_count": 26,
   "metadata": {},
   "outputs": [],
   "source": [
    "def log_L(data: pd.DataFrame, flex: str, wage: str, dur: str, res_wage: np.array, c_k: np.array, p_k: np.array, α: float, λ: float, η: float, μ: np.array, σ: np.array):\n",
    "    \"\"\"\n",
    "    \n",
    "    Inputs\n",
    "    - data: DataFrame of all individuals\n",
    "    - flex: string for column of flexibility index (k)\n",
    "    - wage: string for column of wage data \n",
    "    - dur: string for unemployment duration data\n",
    "    - res_wage: Kx1 array of observed minimum wages for each flexibility level\n",
    "    - c_k: Kx1 array of cost of providing flexibility\n",
    "    - p_k: Kx1 array of probability of each level of flexibility\n",
    "    - α: bargaining parameter\n",
    "    - λ: arrival rate of offer\n",
    "    - η: termination rate\n",
    "    - μ: array of location parameter of the log-normal wage distribution for each flexibility level\n",
    "    - σ: array of scale parameter of the log-normal wage distribution for each flexibility level\n",
    "    \n",
    "    Functions\n",
    "    - hazard(res_wage: np.array, c_k: np.array, p_k: np.array, λ: float, μ: float, σ: float)\n",
    "    - Pr_wage_given_match(data: pd.DataFrame, flex: str, wage: str, res_wage: np.array, c_k: np.array,  α: float, μ: float, σ: float)\n",
    "    \"\"\"\n",
    "    \n",
    "    N_log_h = len(data) * np.log( hazard(res_wage, c_k, p_k, λ, μ, σ) )\n",
    "    N_log_h_plus_η = len(data) * np.log( hazard(res_wage, c_k, p_k, λ, μ, σ) + η )\n",
    "    \n",
    "    empl_data = np.sum( np.log( Pr_wage_given_match(data, flex, wage, res_wage, c_k,  α, μ, σ) ) )\n",
    "    \n",
    "    Nu_log_η = len(data[dur]) * np.log(η)\n",
    "    \n",
    "    unempl_data = hazard(res_wage, c_k, p_k, λ, μ, σ) * np.sum(data[dur])\n",
    "    \n",
    "    logL = N_log_h - N_log_h_plus_η + empl_data + Nu_log_η - unempl_data\n",
    "    \n",
    "    return logL"
   ]
  },
  {
   "cell_type": "markdown",
   "metadata": {},
   "source": [
    "# Figures"
   ]
  },
  {
   "cell_type": "code",
   "execution_count": null,
   "metadata": {},
   "outputs": [],
   "source": []
  },
  {
   "cell_type": "code",
   "execution_count": null,
   "metadata": {},
   "outputs": [],
   "source": [
    "fig, ax = plt.subplots(3, 1, figsize=(12, 8))\n",
    "\n",
    "for k in range(3):\n",
    "    tmp = df[(df['flex_sched_score']==k) & (df['sex']=='male') & (df['employed']==1)]\n",
    "    sns.distplot(tmp['hrwage'], color='#4B9CD3', hist_kws={'alpha' : .3}, bins=100, ax=ax[k])\n",
    "    ax[k].legend(['Flex Level ' + str(k)])\n",
    "    ax[k].set_ylim([0,0.1])\n",
    "    ax[k].set_xlim([0,75])\n",
    "\n",
    "\n",
    "#ax.set(xlabel=\"Distribution of Men's Hourly Wage\")\n",
    "\n",
    "plt.tight_layout()\n",
    "\n",
    "# fig.savefig('./figures/wage_noMin.png', bbox_inches='tight', transparent=True)"
   ]
  },
  {
   "cell_type": "code",
   "execution_count": null,
   "metadata": {},
   "outputs": [],
   "source": [
    "fig, ax = plt.subplots(3, 1, figsize=(12, 8))\n",
    "\n",
    "for k in range(3):\n",
    "    tmp = df[(df['flex_sched_score']==k) & (df['sex']=='female') & (df['employed']==1)]\n",
    "    sns.distplot(tmp['hrwage'], color='#4B9CD3', hist_kws={'alpha' : .3}, bins=100, ax=ax[k])\n",
    "    ax[k].legend(['Flex Level ' + str(k)])\n",
    "    ax[k].set_ylim([0,0.1])\n",
    "    ax[k].set_xlim([0,75])\n",
    "\n",
    "\n",
    "#ax.set(xlabel=\"Distribution of Men's Hourly Wage\")\n",
    "\n",
    "plt.tight_layout()\n",
    "\n",
    "# fig.savefig('./figures/wage_noMin.png', bbox_inches='tight', transparent=True)"
   ]
  },
  {
   "cell_type": "markdown",
   "metadata": {},
   "source": [
    "# Scratch"
   ]
  },
  {
   "cell_type": "code",
   "execution_count": null,
   "metadata": {},
   "outputs": [],
   "source": []
  },
  {
   "cell_type": "markdown",
   "metadata": {},
   "source": [
    "## Old Hazard and Log L (did not copy Pr_wage_match in time)"
   ]
  },
  {
   "cell_type": "code",
   "execution_count": null,
   "metadata": {},
   "outputs": [],
   "source": [
    "def hazard(res_wage: np.array, c_k: np.array, p_k: np.array, λ: float, μ: np.array, σ: np.array):\n",
    "    \"\"\"\n",
    "    Calculates the hazard rate out of employment \n",
    "    \n",
    "    Inputs\n",
    "    - res_wage: Kx1 array of observed minimum wages for each flexibility level\n",
    "    - c_k: Kx1 array of cost of providing flexibility\n",
    "    - p_k: Kx1 array of probability of each level of flexibility\n",
    "    - λ: arrival rate of offer\n",
    "    - μ: array of location parameter of the log-normal wage distribution for each flexibility level\n",
    "    - σ: array of scale parameter of the log-normal wage distribution for each flexibility level\n",
    "    \n",
    "    Functions\n",
    "    - lognormsf(x: np.array, μ: float, σ: float)\n",
    "    \"\"\"\n",
    "    \n",
    "    prob_sum = 0\n",
    "    \n",
    "    if len(res_wage)!=len(c_k):\n",
    "        return print(\"Length of res_wage and c_k do not match.\")\n",
    "    elif len(res_wage)!=len(p_k):\n",
    "        return print(\"Length of res_wage and p_k do not match.\")\n",
    "    elif len(p_k)!=len(c_k):\n",
    "        return print(\"Length of p_k and c_k do not match.\")\n",
    "    else:\n",
    "        for k in range(len(res_wage)):\n",
    "            prob_sum += p_k[k] * lognormsf( ( 1/(k+1) )*( res_wage[k] + c_k[k]), μ[k], σ[k] ) #k+1 because Python index 0\n",
    "    \n",
    "    return λ*prob_sum"
   ]
  },
  {
   "cell_type": "code",
   "execution_count": null,
   "metadata": {},
   "outputs": [],
   "source": [
    "def log_L(wage: np.array, k: np.array, res_wage: np.array, c_k: np.array, p_k: np.array, dur: np.array, α: float, λ: float, η: float, μ: np.array, σ: np.array):\n",
    "    \"\"\"\n",
    "    \n",
    "    Inputs\n",
    "    - wage: Ne x 1 array of observed wage data \n",
    "    - k: Ne x 1 array of observed flexibility level data\n",
    "    - res_wage: Kx1 array of observed minimum wages for each flexibility level\n",
    "    - c_k: Kx1 array of cost of providing flexibility\n",
    "    - p_k: Kx1 array of probability of each level of flexibility\n",
    "    - dur: Nu x 1 array of observed unemployment duration data\n",
    "    - α: bargaining parameter\n",
    "    - λ: arrival rate of offer\n",
    "    - η: termination rate\n",
    "    - μ: array of location parameter of the log-normal wage distribution for each flexibility level\n",
    "    - σ: array of scale parameter of the log-normal wage distribution for each flexibility level\n",
    "    \n",
    "    Functions\n",
    "    - hazard(res_wage: np.array, c_k: np.array, p_k: np.array, λ: float, μ: float, σ: float)\n",
    "    - Pr_wage_given_match(wage: np.array, k: np.array, res_wage: np.array, c_k: np.array,  α: float, μ: float, σ: float)\n",
    "    \"\"\"\n",
    "    \n",
    "    N_log_h = len(wage) * np.log( hazard(res_wage, c_k, p_k, λ, μ, σ) )\n",
    "    N_log_h_plus_η = len(wage) * np.log( hazard(res_wage, c_k, p_k, λ, μ, σ) + η )\n",
    "    \n",
    "    empl_data = np.sum( np.log( Pr_wage_given_match(wage, k, res_wage, c_k,  α, μ, σ) ) )\n",
    "    \n",
    "    Nu_log_η = len(dur) * np.log(η)\n",
    "    \n",
    "    unempl_data = hazard(res_wage, c_k, p_k, λ, μ, σ) * np.sum(dur)\n",
    "    \n",
    "    logL = N_log_h - N_log_h_plus_η + empl_data + Nu_log_η - unempl_data\n",
    "    \n",
    "    return logL"
   ]
  },
  {
   "cell_type": "code",
   "execution_count": null,
   "metadata": {},
   "outputs": [],
   "source": []
  },
  {
   "cell_type": "code",
   "execution_count": null,
   "metadata": {},
   "outputs": [],
   "source": [
    "empl_men = men[men['employed']==1]\n",
    "len(empl_men)"
   ]
  },
  {
   "cell_type": "code",
   "execution_count": null,
   "metadata": {},
   "outputs": [],
   "source": [
    "unempl_men = men[men['employed']==0]\n",
    "len(unempl_men)"
   ]
  }
 ],
 "metadata": {
  "kernelspec": {
   "display_name": "atus",
   "language": "python",
   "name": "atus"
  },
  "language_info": {
   "codemirror_mode": {
    "name": "ipython",
    "version": 3
   },
   "file_extension": ".py",
   "mimetype": "text/x-python",
   "name": "python",
   "nbconvert_exporter": "python",
   "pygments_lexer": "ipython3",
   "version": "3.10.2"
  }
 },
 "nbformat": 4,
 "nbformat_minor": 4
}
