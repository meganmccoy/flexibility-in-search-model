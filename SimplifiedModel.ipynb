{
 "cells": [
  {
   "cell_type": "markdown",
   "metadata": {},
   "source": [
    "# Flexibility in a Search Model \n",
    "\n",
    "## Model\n",
    "\n",
    "- homogeneous workers with utility $u(\\cdot)$ if employed and flow (dis)utility $b$ if unemployed\n",
    "- heterogeneous firms endowed with flexibility level $k \\in \\{0,1,..., K\\}$ costing $c(k)$ with linear profit $y(x;k)-w(x;k)-c(k)$\n",
    "- search parameters: discount rate $\\rho$, unemployed meet firms at rate $\\lambda$ (no on-the-job search), upon meeting draw match-specific productivity $x \\sim G(x)$, bargaining parameter $\\alpha$, employed face separation shock $\\eta$\n",
    "\n",
    "\n",
    "## Necessary Packages"
   ]
  },
  {
   "cell_type": "code",
   "execution_count": 1,
   "metadata": {
    "tags": []
   },
   "outputs": [],
   "source": [
    "# General\n",
    "import numpy as np\n",
    "import pandas as pd \n",
    "import scipy.stats as stats\n",
    "\n",
    "# Graphics\n",
    "import matplotlib.pyplot as plt \n",
    "import seaborn as sns\n",
    "\n",
    "# Estimation\n",
    "from scipy.optimize import minimize\n",
    "\n",
    "# Debugging\n",
    "import pdb\n"
   ]
  },
  {
   "cell_type": "markdown",
   "metadata": {},
   "source": [
    "## Data \n",
    "- Homogeneity measures: aged 25-55; at least college graduate; white; (maybe marital included, as it may be a concern for women?)\n",
    "- employed workers earn wage $w_i$ at firm with flexibility level $k$\n",
    "    - flexibility measures:\n",
    "        - Schedule Flexibility \n",
    "            - 0: No flexibility in start and end times of work \n",
    "            - 1: Able to change start and end times of work \n",
    "        - Location Flexibility \n",
    "            - 0: Not able to work from home / unpaid to work from home \n",
    "            - 1:\n",
    "        - Flexible Schedule Score\n",
    "            - 0: No flexibility in start and end times of work \n",
    "            - 1: Informal policy allowing flexibility in start and end times of work\n",
    "            - 2: Formal policy allowing for flexibility in start and end times of work\n",
    "- unemployed workers have unemployment durations of $t_i$\n"
   ]
  },
  {
   "cell_type": "code",
   "execution_count": 2,
   "metadata": {},
   "outputs": [],
   "source": [
    "df=pd.read_stata('workfile.dta', columns=['sex','employed', 'flexsched', 'flex_sched_score', 'flexloc', 'flex_loc_score', 'hrwage', 'dur'])"
   ]
  },
  {
   "cell_type": "markdown",
   "metadata": {},
   "source": [
    "### Men"
   ]
  },
  {
   "cell_type": "code",
   "execution_count": 3,
   "metadata": {},
   "outputs": [
    {
     "data": {
      "text/plain": [
       "1269"
      ]
     },
     "execution_count": 3,
     "metadata": {},
     "output_type": "execute_result"
    }
   ],
   "source": [
    "men = df[df['sex']=='male']\n",
    "len(men)"
   ]
  },
  {
   "cell_type": "code",
   "execution_count": 4,
   "metadata": {},
   "outputs": [
    {
     "data": {
      "text/plain": [
       "1.0    1242\n",
       "0.0      27\n",
       "Name: employed, dtype: int64"
      ]
     },
     "execution_count": 4,
     "metadata": {},
     "output_type": "execute_result"
    }
   ],
   "source": [
    "men['employed'].value_counts()"
   ]
  },
  {
   "cell_type": "code",
   "execution_count": 5,
   "metadata": {},
   "outputs": [
    {
     "data": {
      "text/plain": [
       "count    1242.000000\n",
       "mean       42.517616\n",
       "std        18.955248\n",
       "min         0.008000\n",
       "25%        26.923000\n",
       "50%        39.423000\n",
       "75%        58.173000\n",
       "max        72.115250\n",
       "Name: hrwage, dtype: float64"
      ]
     },
     "execution_count": 5,
     "metadata": {},
     "output_type": "execute_result"
    }
   ],
   "source": [
    "men['hrwage'].describe()"
   ]
  },
  {
   "cell_type": "code",
   "execution_count": 6,
   "metadata": {},
   "outputs": [
    {
     "data": {
      "text/plain": [
       "count     27.000000\n",
       "mean      18.629629\n",
       "std       23.348774\n",
       "min        8.000000\n",
       "25%       12.000000\n",
       "50%       12.000000\n",
       "75%       16.000000\n",
       "max      131.000000\n",
       "Name: dur, dtype: float64"
      ]
     },
     "execution_count": 6,
     "metadata": {},
     "output_type": "execute_result"
    }
   ],
   "source": [
    "men['dur'].describe()"
   ]
  },
  {
   "cell_type": "code",
   "execution_count": 7,
   "metadata": {},
   "outputs": [
    {
     "name": "stderr",
     "output_type": "stream",
     "text": [
      "/var/folders/jx/dqj4zyfx4cj4t_bvpvt2drrm0000gn/T/ipykernel_9113/2738227886.py:9: SettingWithCopyWarning: \n",
      "A value is trying to be set on a copy of a slice from a DataFrame.\n",
      "Try using .loc[row_indexer,col_indexer] = value instead\n",
      "\n",
      "See the caveats in the documentation: https://pandas.pydata.org/pandas-docs/stable/user_guide/indexing.html#returning-a-view-versus-a-copy\n",
      "  men['wage_flexschedscore']=men['hrwage']\n",
      "/Users/megan.mccoy/anaconda3/envs/atus/lib/python3.10/site-packages/pandas/core/indexing.py:1732: SettingWithCopyWarning: \n",
      "A value is trying to be set on a copy of a slice from a DataFrame\n",
      "\n",
      "See the caveats in the documentation: https://pandas.pydata.org/pandas-docs/stable/user_guide/indexing.html#returning-a-view-versus-a-copy\n",
      "  self._setitem_single_block(indexer, value, name)\n"
     ]
    },
    {
     "data": {
      "text/html": [
       "<div>\n",
       "<style scoped>\n",
       "    .dataframe tbody tr th:only-of-type {\n",
       "        vertical-align: middle;\n",
       "    }\n",
       "\n",
       "    .dataframe tbody tr th {\n",
       "        vertical-align: top;\n",
       "    }\n",
       "\n",
       "    .dataframe thead th {\n",
       "        text-align: right;\n",
       "    }\n",
       "</style>\n",
       "<table border=\"1\" class=\"dataframe\">\n",
       "  <thead>\n",
       "    <tr style=\"text-align: right;\">\n",
       "      <th></th>\n",
       "      <th></th>\n",
       "      <th>count</th>\n",
       "      <th>mean</th>\n",
       "      <th>std</th>\n",
       "      <th>min</th>\n",
       "      <th>25%</th>\n",
       "      <th>50%</th>\n",
       "      <th>75%</th>\n",
       "      <th>max</th>\n",
       "    </tr>\n",
       "    <tr>\n",
       "      <th>employed</th>\n",
       "      <th>flex_sched_score</th>\n",
       "      <th></th>\n",
       "      <th></th>\n",
       "      <th></th>\n",
       "      <th></th>\n",
       "      <th></th>\n",
       "      <th></th>\n",
       "      <th></th>\n",
       "      <th></th>\n",
       "    </tr>\n",
       "  </thead>\n",
       "  <tbody>\n",
       "    <tr>\n",
       "      <th rowspan=\"3\" valign=\"top\">1.0</th>\n",
       "      <th>0.0</th>\n",
       "      <td>341.0</td>\n",
       "      <td>35.949913</td>\n",
       "      <td>17.789873</td>\n",
       "      <td>13.000000</td>\n",
       "      <td>22.500</td>\n",
       "      <td>31.250000</td>\n",
       "      <td>47.115250</td>\n",
       "      <td>72.11525</td>\n",
       "    </tr>\n",
       "    <tr>\n",
       "      <th>1.0</th>\n",
       "      <td>680.0</td>\n",
       "      <td>45.039341</td>\n",
       "      <td>18.127398</td>\n",
       "      <td>17.490376</td>\n",
       "      <td>30.000</td>\n",
       "      <td>43.269001</td>\n",
       "      <td>61.538250</td>\n",
       "      <td>72.11525</td>\n",
       "    </tr>\n",
       "    <tr>\n",
       "      <th>2.0</th>\n",
       "      <td>221.0</td>\n",
       "      <td>46.191139</td>\n",
       "      <td>18.594522</td>\n",
       "      <td>18.000000</td>\n",
       "      <td>30.048</td>\n",
       "      <td>43.748001</td>\n",
       "      <td>64.903748</td>\n",
       "      <td>72.11525</td>\n",
       "    </tr>\n",
       "  </tbody>\n",
       "</table>\n",
       "</div>"
      ],
      "text/plain": [
       "                           count       mean        std        min     25%  \\\n",
       "employed flex_sched_score                                                   \n",
       "1.0      0.0               341.0  35.949913  17.789873  13.000000  22.500   \n",
       "         1.0               680.0  45.039341  18.127398  17.490376  30.000   \n",
       "         2.0               221.0  46.191139  18.594522  18.000000  30.048   \n",
       "\n",
       "                                 50%        75%       max  \n",
       "employed flex_sched_score                                  \n",
       "1.0      0.0               31.250000  47.115250  72.11525  \n",
       "         1.0               43.269001  61.538250  72.11525  \n",
       "         2.0               43.748001  64.903748  72.11525  "
      ]
     },
     "execution_count": 7,
     "metadata": {},
     "output_type": "execute_result"
    }
   ],
   "source": [
    "fifth_pctl = np.zeros(1)\n",
    "\n",
    "for k in range(3):\n",
    "    tmp = men[men['flex_sched_score']==k]\n",
    "    fifth = np.percentile(tmp['hrwage'],5)\n",
    "    fifth_pctl = np.append(fifth_pctl, fifth)\n",
    "#     print(\"5th percentile wage = \" + str(fifth) + \" for men with flex level \" + str(k))\n",
    "    \n",
    "men['wage_flexschedscore']=men['hrwage']\n",
    "\n",
    "for k in range(3):\n",
    "    men['wage_flexschedscore'].iloc[(men['hrwage']<fifth_pctl[k+1]) & (men['flex_sched_score']==k)]=fifth_pctl[k+1] #k+1 because empty array initiates with zero\n",
    "\n",
    "men['wage_flexschedscore'].groupby([men['employed'],men['flex_sched_score']]).describe()"
   ]
  },
  {
   "cell_type": "code",
   "execution_count": 8,
   "metadata": {},
   "outputs": [
    {
     "name": "stderr",
     "output_type": "stream",
     "text": [
      "/var/folders/jx/dqj4zyfx4cj4t_bvpvt2drrm0000gn/T/ipykernel_9113/3376395657.py:9: SettingWithCopyWarning: \n",
      "A value is trying to be set on a copy of a slice from a DataFrame.\n",
      "Try using .loc[row_indexer,col_indexer] = value instead\n",
      "\n",
      "See the caveats in the documentation: https://pandas.pydata.org/pandas-docs/stable/user_guide/indexing.html#returning-a-view-versus-a-copy\n",
      "  men['wage_flexsched']=men['hrwage']\n",
      "/Users/megan.mccoy/anaconda3/envs/atus/lib/python3.10/site-packages/pandas/core/indexing.py:1732: SettingWithCopyWarning: \n",
      "A value is trying to be set on a copy of a slice from a DataFrame\n",
      "\n",
      "See the caveats in the documentation: https://pandas.pydata.org/pandas-docs/stable/user_guide/indexing.html#returning-a-view-versus-a-copy\n",
      "  self._setitem_single_block(indexer, value, name)\n"
     ]
    },
    {
     "data": {
      "text/html": [
       "<div>\n",
       "<style scoped>\n",
       "    .dataframe tbody tr th:only-of-type {\n",
       "        vertical-align: middle;\n",
       "    }\n",
       "\n",
       "    .dataframe tbody tr th {\n",
       "        vertical-align: top;\n",
       "    }\n",
       "\n",
       "    .dataframe thead th {\n",
       "        text-align: right;\n",
       "    }\n",
       "</style>\n",
       "<table border=\"1\" class=\"dataframe\">\n",
       "  <thead>\n",
       "    <tr style=\"text-align: right;\">\n",
       "      <th></th>\n",
       "      <th></th>\n",
       "      <th>count</th>\n",
       "      <th>mean</th>\n",
       "      <th>std</th>\n",
       "      <th>min</th>\n",
       "      <th>25%</th>\n",
       "      <th>50%</th>\n",
       "      <th>75%</th>\n",
       "      <th>max</th>\n",
       "    </tr>\n",
       "    <tr>\n",
       "      <th>employed</th>\n",
       "      <th>flexsched</th>\n",
       "      <th></th>\n",
       "      <th></th>\n",
       "      <th></th>\n",
       "      <th></th>\n",
       "      <th></th>\n",
       "      <th></th>\n",
       "      <th></th>\n",
       "      <th></th>\n",
       "    </tr>\n",
       "  </thead>\n",
       "  <tbody>\n",
       "    <tr>\n",
       "      <th rowspan=\"2\" valign=\"top\">1.0</th>\n",
       "      <th>0.0</th>\n",
       "      <td>341.0</td>\n",
       "      <td>35.949913</td>\n",
       "      <td>17.789873</td>\n",
       "      <td>13.0</td>\n",
       "      <td>22.5</td>\n",
       "      <td>31.250000</td>\n",
       "      <td>47.11525</td>\n",
       "      <td>72.11525</td>\n",
       "    </tr>\n",
       "    <tr>\n",
       "      <th>1.0</th>\n",
       "      <td>901.0</td>\n",
       "      <td>45.316116</td>\n",
       "      <td>18.248098</td>\n",
       "      <td>17.5</td>\n",
       "      <td>30.0</td>\n",
       "      <td>43.269001</td>\n",
       "      <td>62.50000</td>\n",
       "      <td>72.11525</td>\n",
       "    </tr>\n",
       "  </tbody>\n",
       "</table>\n",
       "</div>"
      ],
      "text/plain": [
       "                    count       mean        std   min   25%        50%  \\\n",
       "employed flexsched                                                       \n",
       "1.0      0.0        341.0  35.949913  17.789873  13.0  22.5  31.250000   \n",
       "         1.0        901.0  45.316116  18.248098  17.5  30.0  43.269001   \n",
       "\n",
       "                         75%       max  \n",
       "employed flexsched                      \n",
       "1.0      0.0        47.11525  72.11525  \n",
       "         1.0        62.50000  72.11525  "
      ]
     },
     "execution_count": 8,
     "metadata": {},
     "output_type": "execute_result"
    }
   ],
   "source": [
    "fifth_pctl = np.zeros(1)\n",
    "\n",
    "for k in range(2):\n",
    "    tmp = men[men['flexsched']==k]\n",
    "    fifth = np.percentile(tmp['hrwage'],5)\n",
    "    fifth_pctl = np.append(fifth_pctl, fifth)\n",
    "#     print(\"5th percentile wage = \" + str(fifth) + \" for men with flex level \" + str(k))\n",
    "    \n",
    "men['wage_flexsched']=men['hrwage']\n",
    "\n",
    "for k in range(2):\n",
    "    men['wage_flexsched'].iloc[(men['hrwage']<fifth_pctl[k+1]) & (men['flexsched']==k)]=fifth_pctl[k+1] #k+1 because empty array initiates with zero\n",
    "        \n",
    "men['wage_flexsched'].groupby([men['employed'],men['flexsched']]).describe()"
   ]
  },
  {
   "cell_type": "code",
   "execution_count": 9,
   "metadata": {},
   "outputs": [
    {
     "name": "stderr",
     "output_type": "stream",
     "text": [
      "/var/folders/jx/dqj4zyfx4cj4t_bvpvt2drrm0000gn/T/ipykernel_9113/2082755131.py:9: SettingWithCopyWarning: \n",
      "A value is trying to be set on a copy of a slice from a DataFrame.\n",
      "Try using .loc[row_indexer,col_indexer] = value instead\n",
      "\n",
      "See the caveats in the documentation: https://pandas.pydata.org/pandas-docs/stable/user_guide/indexing.html#returning-a-view-versus-a-copy\n",
      "  men['wage_flexloc']=men['hrwage']\n",
      "/Users/megan.mccoy/anaconda3/envs/atus/lib/python3.10/site-packages/pandas/core/indexing.py:1732: SettingWithCopyWarning: \n",
      "A value is trying to be set on a copy of a slice from a DataFrame\n",
      "\n",
      "See the caveats in the documentation: https://pandas.pydata.org/pandas-docs/stable/user_guide/indexing.html#returning-a-view-versus-a-copy\n",
      "  self._setitem_single_block(indexer, value, name)\n"
     ]
    },
    {
     "data": {
      "text/html": [
       "<div>\n",
       "<style scoped>\n",
       "    .dataframe tbody tr th:only-of-type {\n",
       "        vertical-align: middle;\n",
       "    }\n",
       "\n",
       "    .dataframe tbody tr th {\n",
       "        vertical-align: top;\n",
       "    }\n",
       "\n",
       "    .dataframe thead th {\n",
       "        text-align: right;\n",
       "    }\n",
       "</style>\n",
       "<table border=\"1\" class=\"dataframe\">\n",
       "  <thead>\n",
       "    <tr style=\"text-align: right;\">\n",
       "      <th></th>\n",
       "      <th></th>\n",
       "      <th>count</th>\n",
       "      <th>mean</th>\n",
       "      <th>std</th>\n",
       "      <th>min</th>\n",
       "      <th>25%</th>\n",
       "      <th>50%</th>\n",
       "      <th>75%</th>\n",
       "      <th>max</th>\n",
       "    </tr>\n",
       "    <tr>\n",
       "      <th>employed</th>\n",
       "      <th>flexloc</th>\n",
       "      <th></th>\n",
       "      <th></th>\n",
       "      <th></th>\n",
       "      <th></th>\n",
       "      <th></th>\n",
       "      <th></th>\n",
       "      <th></th>\n",
       "      <th></th>\n",
       "    </tr>\n",
       "  </thead>\n",
       "  <tbody>\n",
       "    <tr>\n",
       "      <th rowspan=\"2\" valign=\"top\">1.0</th>\n",
       "      <th>0.0</th>\n",
       "      <td>726.0</td>\n",
       "      <td>39.096184</td>\n",
       "      <td>18.442783</td>\n",
       "      <td>14.405750</td>\n",
       "      <td>24.038250</td>\n",
       "      <td>34.615250</td>\n",
       "      <td>50.570187</td>\n",
       "      <td>72.11525</td>\n",
       "    </tr>\n",
       "    <tr>\n",
       "      <th>1.0</th>\n",
       "      <td>516.0</td>\n",
       "      <td>47.915569</td>\n",
       "      <td>17.520315</td>\n",
       "      <td>20.192249</td>\n",
       "      <td>33.653751</td>\n",
       "      <td>46.394125</td>\n",
       "      <td>64.903748</td>\n",
       "      <td>72.11525</td>\n",
       "    </tr>\n",
       "  </tbody>\n",
       "</table>\n",
       "</div>"
      ],
      "text/plain": [
       "                  count       mean        std        min        25%  \\\n",
       "employed flexloc                                                      \n",
       "1.0      0.0      726.0  39.096184  18.442783  14.405750  24.038250   \n",
       "         1.0      516.0  47.915569  17.520315  20.192249  33.653751   \n",
       "\n",
       "                        50%        75%       max  \n",
       "employed flexloc                                  \n",
       "1.0      0.0      34.615250  50.570187  72.11525  \n",
       "         1.0      46.394125  64.903748  72.11525  "
      ]
     },
     "execution_count": 9,
     "metadata": {},
     "output_type": "execute_result"
    }
   ],
   "source": [
    "fifth_pctl = np.zeros(1)\n",
    "\n",
    "for k in range(2):\n",
    "    tmp = men[men['flexloc']==k]\n",
    "    fifth = np.percentile(tmp['hrwage'],5)\n",
    "    fifth_pctl = np.append(fifth_pctl, fifth)\n",
    "#     print(\"5th percentile wage = \" + str(fifth) + \" for men with flex level \" + str(k))\n",
    "    \n",
    "men['wage_flexloc']=men['hrwage']\n",
    "\n",
    "for k in range(2):\n",
    "    men['wage_flexloc'].iloc[(men['hrwage']<fifth_pctl[k+1]) & (men['flexloc']==k)]=fifth_pctl[k+1] #k+1 because empty array initiates with zero\n",
    "        \n",
    "men['wage_flexloc'].groupby([men['employed'],men['flexloc']]).describe()"
   ]
  },
  {
   "cell_type": "markdown",
   "metadata": {},
   "source": [
    "### Women"
   ]
  },
  {
   "cell_type": "code",
   "execution_count": 10,
   "metadata": {},
   "outputs": [
    {
     "data": {
      "text/plain": [
       "1239"
      ]
     },
     "execution_count": 10,
     "metadata": {},
     "output_type": "execute_result"
    }
   ],
   "source": [
    "women = df[df['sex']=='female']\n",
    "len(women)"
   ]
  },
  {
   "cell_type": "code",
   "execution_count": 11,
   "metadata": {},
   "outputs": [
    {
     "name": "stderr",
     "output_type": "stream",
     "text": [
      "/var/folders/jx/dqj4zyfx4cj4t_bvpvt2drrm0000gn/T/ipykernel_9113/3156576255.py:9: SettingWithCopyWarning: \n",
      "A value is trying to be set on a copy of a slice from a DataFrame.\n",
      "Try using .loc[row_indexer,col_indexer] = value instead\n",
      "\n",
      "See the caveats in the documentation: https://pandas.pydata.org/pandas-docs/stable/user_guide/indexing.html#returning-a-view-versus-a-copy\n",
      "  women['wage_flexschedscore']=women['hrwage']\n",
      "/Users/megan.mccoy/anaconda3/envs/atus/lib/python3.10/site-packages/pandas/core/indexing.py:1732: SettingWithCopyWarning: \n",
      "A value is trying to be set on a copy of a slice from a DataFrame\n",
      "\n",
      "See the caveats in the documentation: https://pandas.pydata.org/pandas-docs/stable/user_guide/indexing.html#returning-a-view-versus-a-copy\n",
      "  self._setitem_single_block(indexer, value, name)\n"
     ]
    },
    {
     "data": {
      "text/html": [
       "<div>\n",
       "<style scoped>\n",
       "    .dataframe tbody tr th:only-of-type {\n",
       "        vertical-align: middle;\n",
       "    }\n",
       "\n",
       "    .dataframe tbody tr th {\n",
       "        vertical-align: top;\n",
       "    }\n",
       "\n",
       "    .dataframe thead tr th {\n",
       "        text-align: left;\n",
       "    }\n",
       "\n",
       "    .dataframe thead tr:last-of-type th {\n",
       "        text-align: right;\n",
       "    }\n",
       "</style>\n",
       "<table border=\"1\" class=\"dataframe\">\n",
       "  <thead>\n",
       "    <tr>\n",
       "      <th></th>\n",
       "      <th></th>\n",
       "      <th colspan=\"8\" halign=\"left\">wage_flexschedscore</th>\n",
       "      <th colspan=\"8\" halign=\"left\">hrwage</th>\n",
       "    </tr>\n",
       "    <tr>\n",
       "      <th></th>\n",
       "      <th></th>\n",
       "      <th>count</th>\n",
       "      <th>mean</th>\n",
       "      <th>std</th>\n",
       "      <th>min</th>\n",
       "      <th>25%</th>\n",
       "      <th>50%</th>\n",
       "      <th>75%</th>\n",
       "      <th>max</th>\n",
       "      <th>count</th>\n",
       "      <th>mean</th>\n",
       "      <th>std</th>\n",
       "      <th>min</th>\n",
       "      <th>25%</th>\n",
       "      <th>50%</th>\n",
       "      <th>75%</th>\n",
       "      <th>max</th>\n",
       "    </tr>\n",
       "    <tr>\n",
       "      <th>employed</th>\n",
       "      <th>flex_sched_score</th>\n",
       "      <th></th>\n",
       "      <th></th>\n",
       "      <th></th>\n",
       "      <th></th>\n",
       "      <th></th>\n",
       "      <th></th>\n",
       "      <th></th>\n",
       "      <th></th>\n",
       "      <th></th>\n",
       "      <th></th>\n",
       "      <th></th>\n",
       "      <th></th>\n",
       "      <th></th>\n",
       "      <th></th>\n",
       "      <th></th>\n",
       "      <th></th>\n",
       "    </tr>\n",
       "  </thead>\n",
       "  <tbody>\n",
       "    <tr>\n",
       "      <th rowspan=\"3\" valign=\"top\">1.0</th>\n",
       "      <th>0.0</th>\n",
       "      <td>488.0</td>\n",
       "      <td>29.081598</td>\n",
       "      <td>14.835706</td>\n",
       "      <td>10.434999</td>\n",
       "      <td>18.75000</td>\n",
       "      <td>25.793250</td>\n",
       "      <td>35.607564</td>\n",
       "      <td>72.11525</td>\n",
       "      <td>488.0</td>\n",
       "      <td>28.904427</td>\n",
       "      <td>15.090322</td>\n",
       "      <td>0.01900</td>\n",
       "      <td>18.75000</td>\n",
       "      <td>25.793250</td>\n",
       "      <td>35.607564</td>\n",
       "      <td>72.11525</td>\n",
       "    </tr>\n",
       "    <tr>\n",
       "      <th>1.0</th>\n",
       "      <td>539.0</td>\n",
       "      <td>37.236629</td>\n",
       "      <td>17.382296</td>\n",
       "      <td>12.982500</td>\n",
       "      <td>23.77875</td>\n",
       "      <td>33.750000</td>\n",
       "      <td>48.076752</td>\n",
       "      <td>72.11525</td>\n",
       "      <td>539.0</td>\n",
       "      <td>37.081024</td>\n",
       "      <td>17.621569</td>\n",
       "      <td>0.05275</td>\n",
       "      <td>23.77875</td>\n",
       "      <td>33.750000</td>\n",
       "      <td>48.076752</td>\n",
       "      <td>72.11525</td>\n",
       "    </tr>\n",
       "    <tr>\n",
       "      <th>2.0</th>\n",
       "      <td>185.0</td>\n",
       "      <td>34.797462</td>\n",
       "      <td>16.732208</td>\n",
       "      <td>12.065200</td>\n",
       "      <td>21.90000</td>\n",
       "      <td>31.730749</td>\n",
       "      <td>44.711498</td>\n",
       "      <td>72.11525</td>\n",
       "      <td>185.0</td>\n",
       "      <td>34.618717</td>\n",
       "      <td>17.004156</td>\n",
       "      <td>3.00000</td>\n",
       "      <td>21.90000</td>\n",
       "      <td>31.730749</td>\n",
       "      <td>44.711498</td>\n",
       "      <td>72.11525</td>\n",
       "    </tr>\n",
       "  </tbody>\n",
       "</table>\n",
       "</div>"
      ],
      "text/plain": [
       "                          wage_flexschedscore                        \\\n",
       "                                        count       mean        std   \n",
       "employed flex_sched_score                                             \n",
       "1.0      0.0                            488.0  29.081598  14.835706   \n",
       "         1.0                            539.0  37.236629  17.382296   \n",
       "         2.0                            185.0  34.797462  16.732208   \n",
       "\n",
       "                                                                      \\\n",
       "                                 min       25%        50%        75%   \n",
       "employed flex_sched_score                                              \n",
       "1.0      0.0               10.434999  18.75000  25.793250  35.607564   \n",
       "         1.0               12.982500  23.77875  33.750000  48.076752   \n",
       "         2.0               12.065200  21.90000  31.730749  44.711498   \n",
       "\n",
       "                                    hrwage                                 \\\n",
       "                                max  count       mean        std      min   \n",
       "employed flex_sched_score                                                   \n",
       "1.0      0.0               72.11525  488.0  28.904427  15.090322  0.01900   \n",
       "         1.0               72.11525  539.0  37.081024  17.621569  0.05275   \n",
       "         2.0               72.11525  185.0  34.618717  17.004156  3.00000   \n",
       "\n",
       "                                                                     \n",
       "                                25%        50%        75%       max  \n",
       "employed flex_sched_score                                            \n",
       "1.0      0.0               18.75000  25.793250  35.607564  72.11525  \n",
       "         1.0               23.77875  33.750000  48.076752  72.11525  \n",
       "         2.0               21.90000  31.730749  44.711498  72.11525  "
      ]
     },
     "execution_count": 11,
     "metadata": {},
     "output_type": "execute_result"
    }
   ],
   "source": [
    "fifth_pctl = np.zeros(1)\n",
    "\n",
    "for k in range(3):\n",
    "    tmp = women[women['flex_sched_score']==k]\n",
    "    fifth = np.percentile(tmp['hrwage'],5)\n",
    "    fifth_pctl = np.append(fifth_pctl, fifth)\n",
    "#     print(\"5th percentile wage = \" + str(fifth) + \" for women with flex level \" + str(k))\n",
    "    \n",
    "women['wage_flexschedscore']=women['hrwage']\n",
    "\n",
    "for k in range(3):\n",
    "    women['wage_flexschedscore'].iloc[(women['hrwage']<fifth_pctl[k+1]) & (women['flex_sched_score']==k)]=fifth_pctl[k+1] #k+1 because empty array initiates with zero\n",
    "\n",
    "women[['wage_flexschedscore','hrwage']].groupby([women['employed'],women['flex_sched_score']]).describe()    "
   ]
  },
  {
   "cell_type": "code",
   "execution_count": 12,
   "metadata": {},
   "outputs": [
    {
     "name": "stderr",
     "output_type": "stream",
     "text": [
      "/var/folders/jx/dqj4zyfx4cj4t_bvpvt2drrm0000gn/T/ipykernel_9113/966789787.py:9: SettingWithCopyWarning: \n",
      "A value is trying to be set on a copy of a slice from a DataFrame.\n",
      "Try using .loc[row_indexer,col_indexer] = value instead\n",
      "\n",
      "See the caveats in the documentation: https://pandas.pydata.org/pandas-docs/stable/user_guide/indexing.html#returning-a-view-versus-a-copy\n",
      "  women['wage_flexsched']=women['hrwage']\n",
      "/Users/megan.mccoy/anaconda3/envs/atus/lib/python3.10/site-packages/pandas/core/indexing.py:1732: SettingWithCopyWarning: \n",
      "A value is trying to be set on a copy of a slice from a DataFrame\n",
      "\n",
      "See the caveats in the documentation: https://pandas.pydata.org/pandas-docs/stable/user_guide/indexing.html#returning-a-view-versus-a-copy\n",
      "  self._setitem_single_block(indexer, value, name)\n"
     ]
    },
    {
     "data": {
      "text/html": [
       "<div>\n",
       "<style scoped>\n",
       "    .dataframe tbody tr th:only-of-type {\n",
       "        vertical-align: middle;\n",
       "    }\n",
       "\n",
       "    .dataframe tbody tr th {\n",
       "        vertical-align: top;\n",
       "    }\n",
       "\n",
       "    .dataframe thead tr th {\n",
       "        text-align: left;\n",
       "    }\n",
       "\n",
       "    .dataframe thead tr:last-of-type th {\n",
       "        text-align: right;\n",
       "    }\n",
       "</style>\n",
       "<table border=\"1\" class=\"dataframe\">\n",
       "  <thead>\n",
       "    <tr>\n",
       "      <th></th>\n",
       "      <th></th>\n",
       "      <th colspan=\"8\" halign=\"left\">wage_flexsched</th>\n",
       "      <th colspan=\"8\" halign=\"left\">hrwage</th>\n",
       "    </tr>\n",
       "    <tr>\n",
       "      <th></th>\n",
       "      <th></th>\n",
       "      <th>count</th>\n",
       "      <th>mean</th>\n",
       "      <th>std</th>\n",
       "      <th>min</th>\n",
       "      <th>25%</th>\n",
       "      <th>50%</th>\n",
       "      <th>75%</th>\n",
       "      <th>max</th>\n",
       "      <th>count</th>\n",
       "      <th>mean</th>\n",
       "      <th>std</th>\n",
       "      <th>min</th>\n",
       "      <th>25%</th>\n",
       "      <th>50%</th>\n",
       "      <th>75%</th>\n",
       "      <th>max</th>\n",
       "    </tr>\n",
       "    <tr>\n",
       "      <th>employed</th>\n",
       "      <th>flexsched</th>\n",
       "      <th></th>\n",
       "      <th></th>\n",
       "      <th></th>\n",
       "      <th></th>\n",
       "      <th></th>\n",
       "      <th></th>\n",
       "      <th></th>\n",
       "      <th></th>\n",
       "      <th></th>\n",
       "      <th></th>\n",
       "      <th></th>\n",
       "      <th></th>\n",
       "      <th></th>\n",
       "      <th></th>\n",
       "      <th></th>\n",
       "      <th></th>\n",
       "    </tr>\n",
       "  </thead>\n",
       "  <tbody>\n",
       "    <tr>\n",
       "      <th rowspan=\"2\" valign=\"top\">1.0</th>\n",
       "      <th>0.0</th>\n",
       "      <td>488.0</td>\n",
       "      <td>29.081598</td>\n",
       "      <td>14.835706</td>\n",
       "      <td>10.434999</td>\n",
       "      <td>18.75</td>\n",
       "      <td>25.793250</td>\n",
       "      <td>35.607564</td>\n",
       "      <td>72.11525</td>\n",
       "      <td>488.0</td>\n",
       "      <td>28.904427</td>\n",
       "      <td>15.090322</td>\n",
       "      <td>0.01900</td>\n",
       "      <td>18.75</td>\n",
       "      <td>25.793250</td>\n",
       "      <td>35.607564</td>\n",
       "      <td>72.11525</td>\n",
       "    </tr>\n",
       "    <tr>\n",
       "      <th>1.0</th>\n",
       "      <td>724.0</td>\n",
       "      <td>36.602165</td>\n",
       "      <td>17.255283</td>\n",
       "      <td>12.500000</td>\n",
       "      <td>23.00</td>\n",
       "      <td>33.653751</td>\n",
       "      <td>48.076752</td>\n",
       "      <td>72.11525</td>\n",
       "      <td>724.0</td>\n",
       "      <td>36.451839</td>\n",
       "      <td>17.487267</td>\n",
       "      <td>0.05275</td>\n",
       "      <td>23.00</td>\n",
       "      <td>33.653751</td>\n",
       "      <td>48.076752</td>\n",
       "      <td>72.11525</td>\n",
       "    </tr>\n",
       "  </tbody>\n",
       "</table>\n",
       "</div>"
      ],
      "text/plain": [
       "                   wage_flexsched                                          \\\n",
       "                            count       mean        std        min    25%   \n",
       "employed flexsched                                                          \n",
       "1.0      0.0                488.0  29.081598  14.835706  10.434999  18.75   \n",
       "         1.0                724.0  36.602165  17.255283  12.500000  23.00   \n",
       "\n",
       "                                                   hrwage             \\\n",
       "                          50%        75%       max  count       mean   \n",
       "employed flexsched                                                     \n",
       "1.0      0.0        25.793250  35.607564  72.11525  488.0  28.904427   \n",
       "         1.0        33.653751  48.076752  72.11525  724.0  36.451839   \n",
       "\n",
       "                                                                               \n",
       "                          std      min    25%        50%        75%       max  \n",
       "employed flexsched                                                             \n",
       "1.0      0.0        15.090322  0.01900  18.75  25.793250  35.607564  72.11525  \n",
       "         1.0        17.487267  0.05275  23.00  33.653751  48.076752  72.11525  "
      ]
     },
     "execution_count": 12,
     "metadata": {},
     "output_type": "execute_result"
    }
   ],
   "source": [
    "fifth_pctl = np.zeros(1)\n",
    "\n",
    "for k in range(2):\n",
    "    tmp = women[women['flexsched']==k]\n",
    "    fifth = np.percentile(tmp['hrwage'],5)\n",
    "    fifth_pctl = np.append(fifth_pctl, fifth)\n",
    "#     print(\"5th percentile wage = \" + str(fifth) + \" for women with flex level \" + str(k))\n",
    "    \n",
    "women['wage_flexsched']=women['hrwage']\n",
    "\n",
    "for k in range(2):\n",
    "    women['wage_flexsched'].iloc[(women['hrwage']<fifth_pctl[k+1]) & (women['flexsched']==k)]=fifth_pctl[k+1] #k+1 because empty array initiates with zero\n",
    "\n",
    "women[['wage_flexsched','hrwage']].groupby([women['employed'],women['flexsched']]).describe()        "
   ]
  },
  {
   "cell_type": "code",
   "execution_count": 13,
   "metadata": {},
   "outputs": [
    {
     "name": "stdout",
     "output_type": "stream",
     "text": [
      "5th percentile wage = 10.744999980926513 for women with flex level 0\n",
      "5th percentile wage = 15.025 for women with flex level 1\n"
     ]
    },
    {
     "name": "stderr",
     "output_type": "stream",
     "text": [
      "/var/folders/jx/dqj4zyfx4cj4t_bvpvt2drrm0000gn/T/ipykernel_9113/2768895349.py:9: SettingWithCopyWarning: \n",
      "A value is trying to be set on a copy of a slice from a DataFrame.\n",
      "Try using .loc[row_indexer,col_indexer] = value instead\n",
      "\n",
      "See the caveats in the documentation: https://pandas.pydata.org/pandas-docs/stable/user_guide/indexing.html#returning-a-view-versus-a-copy\n",
      "  women['wage_flexloc']=women['hrwage']\n",
      "/Users/megan.mccoy/anaconda3/envs/atus/lib/python3.10/site-packages/pandas/core/indexing.py:1732: SettingWithCopyWarning: \n",
      "A value is trying to be set on a copy of a slice from a DataFrame\n",
      "\n",
      "See the caveats in the documentation: https://pandas.pydata.org/pandas-docs/stable/user_guide/indexing.html#returning-a-view-versus-a-copy\n",
      "  self._setitem_single_block(indexer, value, name)\n"
     ]
    },
    {
     "data": {
      "text/html": [
       "<div>\n",
       "<style scoped>\n",
       "    .dataframe tbody tr th:only-of-type {\n",
       "        vertical-align: middle;\n",
       "    }\n",
       "\n",
       "    .dataframe tbody tr th {\n",
       "        vertical-align: top;\n",
       "    }\n",
       "\n",
       "    .dataframe thead tr th {\n",
       "        text-align: left;\n",
       "    }\n",
       "\n",
       "    .dataframe thead tr:last-of-type th {\n",
       "        text-align: right;\n",
       "    }\n",
       "</style>\n",
       "<table border=\"1\" class=\"dataframe\">\n",
       "  <thead>\n",
       "    <tr>\n",
       "      <th></th>\n",
       "      <th></th>\n",
       "      <th colspan=\"8\" halign=\"left\">wage_flexloc</th>\n",
       "      <th colspan=\"8\" halign=\"left\">hrwage</th>\n",
       "    </tr>\n",
       "    <tr>\n",
       "      <th></th>\n",
       "      <th></th>\n",
       "      <th>count</th>\n",
       "      <th>mean</th>\n",
       "      <th>std</th>\n",
       "      <th>min</th>\n",
       "      <th>25%</th>\n",
       "      <th>50%</th>\n",
       "      <th>75%</th>\n",
       "      <th>max</th>\n",
       "      <th>count</th>\n",
       "      <th>mean</th>\n",
       "      <th>std</th>\n",
       "      <th>min</th>\n",
       "      <th>25%</th>\n",
       "      <th>50%</th>\n",
       "      <th>75%</th>\n",
       "      <th>max</th>\n",
       "    </tr>\n",
       "    <tr>\n",
       "      <th>employed</th>\n",
       "      <th>flexloc</th>\n",
       "      <th></th>\n",
       "      <th></th>\n",
       "      <th></th>\n",
       "      <th></th>\n",
       "      <th></th>\n",
       "      <th></th>\n",
       "      <th></th>\n",
       "      <th></th>\n",
       "      <th></th>\n",
       "      <th></th>\n",
       "      <th></th>\n",
       "      <th></th>\n",
       "      <th></th>\n",
       "      <th></th>\n",
       "      <th></th>\n",
       "      <th></th>\n",
       "    </tr>\n",
       "  </thead>\n",
       "  <tbody>\n",
       "    <tr>\n",
       "      <th rowspan=\"2\" valign=\"top\">1.0</th>\n",
       "      <th>0.0</th>\n",
       "      <td>750.0</td>\n",
       "      <td>30.019348</td>\n",
       "      <td>15.508742</td>\n",
       "      <td>10.745</td>\n",
       "      <td>18.750000</td>\n",
       "      <td>25.980750</td>\n",
       "      <td>37.925939</td>\n",
       "      <td>72.11525</td>\n",
       "      <td>750.0</td>\n",
       "      <td>29.859034</td>\n",
       "      <td>15.733701</td>\n",
       "      <td>0.01900</td>\n",
       "      <td>18.750000</td>\n",
       "      <td>25.980750</td>\n",
       "      <td>37.925939</td>\n",
       "      <td>72.11525</td>\n",
       "    </tr>\n",
       "    <tr>\n",
       "      <th>1.0</th>\n",
       "      <td>462.0</td>\n",
       "      <td>39.424305</td>\n",
       "      <td>16.927986</td>\n",
       "      <td>15.025</td>\n",
       "      <td>26.432124</td>\n",
       "      <td>36.057499</td>\n",
       "      <td>50.360563</td>\n",
       "      <td>72.11525</td>\n",
       "      <td>462.0</td>\n",
       "      <td>39.182293</td>\n",
       "      <td>17.322746</td>\n",
       "      <td>0.05275</td>\n",
       "      <td>26.432124</td>\n",
       "      <td>36.057499</td>\n",
       "      <td>50.360563</td>\n",
       "      <td>72.11525</td>\n",
       "    </tr>\n",
       "  </tbody>\n",
       "</table>\n",
       "</div>"
      ],
      "text/plain": [
       "                 wage_flexloc                                           \\\n",
       "                        count       mean        std     min        25%   \n",
       "employed flexloc                                                         \n",
       "1.0      0.0            750.0  30.019348  15.508742  10.745  18.750000   \n",
       "         1.0            462.0  39.424305  16.927986  15.025  26.432124   \n",
       "\n",
       "                                                 hrwage                        \\\n",
       "                        50%        75%       max  count       mean        std   \n",
       "employed flexloc                                                                \n",
       "1.0      0.0      25.980750  37.925939  72.11525  750.0  29.859034  15.733701   \n",
       "         1.0      36.057499  50.360563  72.11525  462.0  39.182293  17.322746   \n",
       "\n",
       "                                                                      \n",
       "                      min        25%        50%        75%       max  \n",
       "employed flexloc                                                      \n",
       "1.0      0.0      0.01900  18.750000  25.980750  37.925939  72.11525  \n",
       "         1.0      0.05275  26.432124  36.057499  50.360563  72.11525  "
      ]
     },
     "execution_count": 13,
     "metadata": {},
     "output_type": "execute_result"
    }
   ],
   "source": [
    "fifth_pctl = np.zeros(1)\n",
    "\n",
    "for k in range(2):\n",
    "    tmp = women[women['flexloc']==k]\n",
    "    fifth = np.percentile(tmp['hrwage'],5)\n",
    "    fifth_pctl = np.append(fifth_pctl, fifth)\n",
    "    print(\"5th percentile wage = \" + str(fifth) + \" for women with flex level \" + str(k))\n",
    "    \n",
    "women['wage_flexloc']=women['hrwage']\n",
    "\n",
    "for k in range(2):\n",
    "    women['wage_flexloc'].iloc[(women['hrwage']<fifth_pctl[k+1]) & (women['flexloc']==k)]=fifth_pctl[k+1] #k+1 because empty array initiates with zero\n",
    "\n",
    "women[['wage_flexloc','hrwage']].groupby([women['employed'],women['flexloc']]).describe()        "
   ]
  },
  {
   "cell_type": "markdown",
   "metadata": {},
   "source": [
    "## Model Independent Functions"
   ]
  },
  {
   "cell_type": "code",
   "execution_count": 14,
   "metadata": {},
   "outputs": [],
   "source": [
    "def lognormpdf(x: np.array, μ: float, σ: float):\n",
    "    \"\"\"\n",
    "    Calculates lognormal pdf without stats packages\n",
    "    \"\"\"\n",
    "    \n",
    "    denom = x * σ * np.sqrt(2*np.pi)\n",
    "    exp_num = -(np.log(x)-μ)**2\n",
    "    exp_denom = 2 * σ * σ\n",
    "    num = np.exp(exp_num/exp_denom)\n",
    "    \n",
    "    return num/denom"
   ]
  },
  {
   "cell_type": "code",
   "execution_count": 15,
   "metadata": {},
   "outputs": [],
   "source": [
    "def lognormsf(x: np.array, μ: float, σ: float):\n",
    "    \"\"\"\n",
    "    Calculates lognormal cdf with scipy.stats normal cdf\n",
    "    \"\"\"\n",
    "    \n",
    "    lnx = np.log(x)\n",
    "    num = lnx - μ\n",
    "    denom = σ\n",
    "    \n",
    "    return 1-stats.norm.cdf(num/denom)"
   ]
  },
  {
   "cell_type": "code",
   "execution_count": 16,
   "metadata": {},
   "outputs": [],
   "source": [
    "def bootstrap(data: pd.DataFrame, n_samples:int):\n",
    "    \"\"\"\n",
    "    Thanks, Caleb\n",
    "    \"\"\"\n",
    "    bootstrapped_sample_list = []\n",
    "    \n",
    "    for n in range(n_samples):\n",
    "        nth_sample = data.sample(frac=1, replace=True)\n",
    "        bootstrapped_sample_list.append(nth_sample)\n",
    "    \n",
    "    return bootstrapped_sample_list"
   ]
  },
  {
   "cell_type": "code",
   "execution_count": 17,
   "metadata": {},
   "outputs": [],
   "source": [
    "def std_error(values):\n",
    "    \"\"\"\n",
    "    Calculates the standard error (standard deviation of values divided by square root of the number of values) of some values \n",
    "    \"\"\"\n",
    "    \n",
    "    stderr = np.std(values) / np.sqrt(len(values))\n",
    "\n",
    "    return stderr"
   ]
  },
  {
   "cell_type": "code",
   "execution_count": 18,
   "metadata": {},
   "outputs": [],
   "source": [
    "def fit_stats(values):\n",
    "    \"\"\"\n",
    "    \n",
    "    \"\"\"\n",
    "    \n",
    "    mean = np.mean(values)\n",
    "    \n",
    "    stderr = std_error(values)\n",
    "    \n",
    "#     ci = np.percentile(values, [2.5,97.5])# 95% C.I.\n",
    "\n",
    "    return print(\"Boostrapped value \", str(mean), \"\\nStandard error    \", str(stderr),\"\\n\")#, \"\\n95% Confidence interval\", str(ci)"
   ]
  },
  {
   "cell_type": "markdown",
   "metadata": {},
   "source": [
    "## Utility $u(w,k; \\gamma) = w(x,k) + \\gamma k$ and Productivity assumption $y(x,k; \\zeta) = \\zeta^k x$\n",
    "\n",
    "- One issue: three variables for flexibility (cost $c$, productivity $\\zeta$, and utility $\\gamma$\n",
    "    - Create iterative process where 2 out of 3 set by lit, find 3rd, use in next estimation to find other? \n",
    "        - Potentially issues in ordering? Fixed point argument? \n",
    "    - Remove cost $c$ by argument that TFP will account for the relative inputs and outputs ? (see notes on Bloom et al 2015)\n",
    "    - Set two out of three using literature values (akin to Macro calibration)\n",
    "    - 2-stage estimation? \n",
    "- Using Nelder-Mead, there is not a Hessian to calculate standard errors, so use bootstrap method \n",
    "    - Other idea: check log likelihood when only having one value to identify at a time\n",
    "    "
   ]
  },
  {
   "cell_type": "markdown",
   "metadata": {},
   "source": [
    "### Functions"
   ]
  },
  {
   "cell_type": "code",
   "execution_count": 19,
   "metadata": {},
   "outputs": [],
   "source": [
    "def Pr_wage_given_match(data: pd.DataFrame, flex: str, wage: str, res_wage: np.array, c_k: np.array, ζ: float, γ: float, α: float, μ: float, σ: float):\n",
    "    \"\"\"\n",
    "    Calculates probability of a wage draw conditional on a match being formed \n",
    "    \n",
    "    Inputs\n",
    "    - data: DataFrame\n",
    "    - flex: string for name of flexibility column\n",
    "    - wage: string for name of wage column\n",
    "    - res_wage: array of observed minimum wage of flexibility k\n",
    "    - c_k: Kx1 array of cost of providing flexibility\n",
    "    - ζ: productivity weight of flexibility k\n",
    "    - γ: utility weight of flexibility k\n",
    "    - α: bargaining parameter\n",
    "    - μ: location parameter of the log-normal wage distribution\n",
    "    - σ: scale parameter of the log-normal wage distribution\n",
    "    \n",
    "    Functions\n",
    "    - lognormpdf(x: np.array, μ: float, σ: float)\n",
    "    - lognormsf(x: np.array, μ: float, σ: float)\n",
    "    \"\"\"\n",
    "    employed_indiv = np.zeros(1) #sets first entry to zero \n",
    "\n",
    "    for k in range(len(c_k)):\n",
    "        tmp = data[data[flex]==k]\n",
    "        \n",
    "        g = ( 1/( α*(ζ**k) ) ) * lognormpdf( ( ( tmp[wage] - (1-α)*res_wage[k] + α*c_k[k] )/( α*(ζ**k) ) ), μ, σ )\n",
    "        \n",
    "        G_tilde = lognormsf( ( res_wage[k] + c_k[k] )/(ζ**k) , μ, σ )\n",
    "        \n",
    "        divide_thing = g/G_tilde\n",
    "        employed_indiv = np.append(employed_indiv, divide_thing)\n",
    "    \n",
    "    return employed_indiv[1:] #removes first entry \n"
   ]
  },
  {
   "cell_type": "code",
   "execution_count": 20,
   "metadata": {},
   "outputs": [],
   "source": [
    "def hazard(res_wage: float, c_k: np.array, p_k: np.array, λ: float, ζ: float, γ: float, μ: float, σ: float):\n",
    "    \"\"\"\n",
    "    Calculates the hazard rate out of employment \n",
    "    \n",
    "    Inputs\n",
    "    - res_wage: array of observed minimum wage of flexibility k\n",
    "    - c_k: Kx1 array of cost of providing flexibility\n",
    "    - p_k: Kx1 array of probability of each level of flexibility\n",
    "    - λ: arrival rate of offer\n",
    "    - ζ: productivity weight of flexibility k\n",
    "    - γ: utility weight of flexibility k    \n",
    "    - μ: location parameter of the log-normal wage distribution\n",
    "    - σ: scale parameter of the log-normal wage distribution\n",
    "    \n",
    "    Functions\n",
    "    - lognormsf(x: np.array, μ: float, σ: float)\n",
    "    \"\"\"\n",
    "    \n",
    "    prob_sum = 0\n",
    "    \n",
    "    if len(p_k)!=len(c_k):\n",
    "        return print(\"Length of p_k and c_k do not match.\")\n",
    "    else:\n",
    "        for k in range(len(c_k)):\n",
    "            prob_sum += p_k[k] * lognormsf( ( res_wage[k] + c_k[k] )/(ζ**k) , μ, σ )\n",
    "\n",
    "    return λ*prob_sum"
   ]
  },
  {
   "cell_type": "code",
   "execution_count": 21,
   "metadata": {},
   "outputs": [],
   "source": [
    "def log_L(data: pd.DataFrame, flex: str, wage: str, dur: str, c_k: np.array, α: float, λ: float, η: float, ζ: float, γ: float, μ: float, σ: float):\n",
    "    \"\"\"\n",
    "    \n",
    "    Inputs\n",
    "    - data: DataFrame of all individuals\n",
    "    - flex: string for column of flexibility index (k)\n",
    "    - wage: string for column of wage data \n",
    "    - dur: string for unemployment duration data\n",
    "    - c_k: Kx1 array of cost of providing flexibility\n",
    "    - α: bargaining parameter\n",
    "    - λ: arrival rate of offer\n",
    "    - η: termination rate\n",
    "    - ζ: productivity weight of flexibility k\n",
    "    - γ: utility weight of flexibility k   \n",
    "    - μ: location parameter of the log-normal wage distribution\n",
    "    - σ: scale parameter of the log-normal wage distribution\n",
    "    \n",
    "    Functions\n",
    "    - hazard(res_wage: np.array, c_k: np.array, p_k: np.array, λ: float, ζ: float, γ: float, μ: float, σ: float)\n",
    "    - Pr_wage_given_match(data: pd.DataFrame, flex: str, wage: str, res_wage: np.array, c_k: np.array, ζ: float, γ: float, α: float, μ: float, σ: float)\n",
    "    \"\"\"\n",
    "    p_k = data[flex].value_counts(normalize=True).sort_index().array\n",
    "    res_wage = data[wage].groupby(data[flex]).min().array - γ*(np.arange(0, len(p_k)))\n",
    "        \n",
    "    N_log_h = data.count() * np.log( hazard(res_wage, c_k, p_k, λ, ζ, γ, μ, σ) )\n",
    "    N_log_h_plus_η = data.count() * np.log( hazard(res_wage, c_k, p_k, λ, ζ, γ, μ, σ) + η )\n",
    "    \n",
    "    empl_data = np.sum( np.log( Pr_wage_given_match(data, flex, wage, res_wage, c_k, ζ, γ, α, μ, σ) ) )\n",
    "    \n",
    "    Nu_log_η = data[dur].count() * np.log(η)\n",
    "    \n",
    "    unempl_data = hazard(res_wage, c_k, p_k, λ, ζ, γ, μ, σ) * np.sum(data[dur])\n",
    "    \n",
    "    logL = -(N_log_h - N_log_h_plus_η + empl_data + Nu_log_η - unempl_data)\n",
    "    \n",
    "    return logL[0]"
   ]
  },
  {
   "cell_type": "code",
   "execution_count": 22,
   "metadata": {},
   "outputs": [],
   "source": [
    "def est_gamma(data: pd.DataFrame, flex: str, wage: str, duration: str):\n",
    "    \"\"\"\n",
    "    Estimate parameter values for λ, η, γ, μ, σ\n",
    "        * Currently hard-coded for binary flexibility measures in cost array! *\n",
    "    \"\"\"\n",
    "    \n",
    "    params = np.array([λ, η, γ, data[wage].mean(), data[wage].std()])\n",
    "    \n",
    "    Bounds = ((0,99), (0,99), (-99,99), (0,99), (0,99))\n",
    "    \n",
    "    logL_opt = lambda x: log_L(data, flex, wage, duration, \n",
    "                                np.zeros(2), α, x[0], x[1], ζ, x[2],\n",
    "                                x[3], x[4])\n",
    "\n",
    "    est = minimize(logL_opt, params, method='Nelder-Mead', options={'maxiter':1000}, bounds=Bounds)\n",
    "    \n",
    "    return [est.fun, est.x]"
   ]
  },
  {
   "cell_type": "code",
   "execution_count": 23,
   "metadata": {},
   "outputs": [],
   "source": [
    "def est_zeta(data: pd.DataFrame, flex: str, wage: str, duration: str):\n",
    "    \"\"\"\n",
    "    Estimate parameter values for λ, η, ζ, μ, σ\n",
    "        * Currently hard-coded for binary flexibility measures in cost array! *\n",
    "    \"\"\"\n",
    "    \n",
    "    params = np.array([λ, η, ζ, data[wage].mean(), data[wage].std()])\n",
    "    \n",
    "    Bounds = ((0,99), (0,99), (-99,99), (0,99), (0,99))\n",
    "    \n",
    "    logL_opt = lambda x: log_L(data, flex, wage, duration, \n",
    "                                np.zeros(2), α, x[0], x[1], x[2], γ,\n",
    "                                x[3], x[4])\n",
    "\n",
    "    est = minimize(logL_opt, params, method='Nelder-Mead', options={'maxiter':1000}, bounds=Bounds)\n",
    "    \n",
    "    return [est.fun, est.x]"
   ]
  },
  {
   "cell_type": "code",
   "execution_count": 40,
   "metadata": {},
   "outputs": [],
   "source": [
    "def est_cost(data: pd.DataFrame, flex: str, wage: str, duration: str):\n",
    "    \"\"\"\n",
    "    Estimate parameter values for λ, η, ζ, μ, σ\n",
    "        * Currently hard-coded for binary flexibility measures in cost array! *\n",
    "    \"\"\"\n",
    "    \n",
    "    params = np.array([λ, η, c_k[1], data[wage].mean(), data[wage].std()])\n",
    "    \n",
    "    Bounds = ((0,99), (0,99), (-99,99), (0,99), (0,99))\n",
    "    \n",
    "    logL_opt = lambda x: log_L(data, flex, wage, duration, \n",
    "                                np.array([0,x[0]]), α, x[1], x[2], ζ, γ,\n",
    "                                x[3], x[4])\n",
    "\n",
    "    est = minimize(logL_opt, params, method='Nelder-Mead', options={'maxiter':1000}, bounds=Bounds)\n",
    "    \n",
    "    return [est.fun, est.x]"
   ]
  },
  {
   "cell_type": "code",
   "execution_count": 24,
   "metadata": {},
   "outputs": [],
   "source": [
    "def bootstrap_est(data: pd.DataFrame, flex: str, wage: str, dur: str, n_samples:int):\n",
    "    \"\"\"\n",
    "    \n",
    "    * Very slow: 36.6 s ± 8.07 s per loop (mean ± std. dev. of 7 runs, 1 loop each)\n",
    "    \"\"\"\n",
    "    \n",
    "    bootstrapped_data = bootstrap(data, n_samples)   \n",
    "    \n",
    "    # Gamma\n",
    "\n",
    "    print(\"Gamma Estimation\\n\") \n",
    "    \n",
    "    logL_gamma = []\n",
    "    lambdas_gamma = []\n",
    "    etas_gamma = []\n",
    "    mus_gamma = []\n",
    "    sigmas_gamma = []\n",
    "    gammas = []\n",
    "\n",
    "    for sample in bootstrapped_data:\n",
    "        est_g = est_gamma(sample, 'flexsched', 'wage_flexsched', 'dur')\n",
    "\n",
    "        logL_gamma.append(est_g[0])\n",
    "\n",
    "        estimated = est_g[1]\n",
    "\n",
    "        lambdas_gamma.append(estimated[0])\n",
    "        etas_gamma.append(estimated[1])\n",
    "        gammas.append(estimated[2])\n",
    "        mus_gamma.append(estimated[3])\n",
    "        sigmas_gamma.append(estimated[4])  \n",
    "        \n",
    "    gamma_estimates = [logL_gamma, lambdas_gamma, etas_gamma, mus_gamma, sigmas_gamma, gammas]\n",
    "    \n",
    "    gamma_stats = []\n",
    "    for i in gamma_estimates:\n",
    "        gamma_stats.append(fit_stats(i))\n",
    "    \n",
    "    # Zeta\n",
    "    \n",
    "    print(\"\\nZeta Estimation\\n\")\n",
    "    \n",
    "    logL_zetas = []\n",
    "    lambdas_zetas = []\n",
    "    etas_zetas = []\n",
    "    mus_zetas = []\n",
    "    sigmas_zetas = []\n",
    "    zetas = []\n",
    "\n",
    "    for sample in bootstrapped_data:\n",
    "        est_z = est_zeta(sample, 'flexsched', 'wage_flexsched', 'dur')\n",
    "\n",
    "        logL_zetas.append(est_z[0])\n",
    "\n",
    "        tmp = est_z[1]\n",
    "\n",
    "        lambdas_zetas.append(tmp[0])\n",
    "        etas_zetas.append(tmp[1])\n",
    "        zetas.append(tmp[2])\n",
    "        mus_zetas.append(tmp[3])\n",
    "        sigmas_zetas.append(tmp[4])\n",
    "        \n",
    "    zeta_estimates = [logL_zetas, lambdas_zetas, etas_zetas, mus_zetas, sigmas_zetas, zetas]\n",
    "    \n",
    "    zeta_stats = []\n",
    "    for i in zeta_estimates:\n",
    "        zeta_stats.append(fit_stats(i))\n",
    "\n",
    "#     return print(\"Gamma stats: \", gamma_stats,\n",
    "#                 \"\\nZeta stats: \", zeta_stats)"
   ]
  },
  {
   "cell_type": "code",
   "execution_count": 51,
   "metadata": {},
   "outputs": [],
   "source": [
    "# Parameters to be estimated \n",
    "\n",
    "c_k = np.array([0,1,2])\n",
    "λ = 1 \n",
    "η = 1 \n",
    "ζ = 1.25 # Estimate of TFP increase from Bloom et al (2015) (21%-28% increase)\n",
    "α = 0.5"
   ]
  },
  {
   "cell_type": "markdown",
   "metadata": {},
   "source": [
    "### Men, Binary Schedule Flex"
   ]
  },
  {
   "cell_type": "code",
   "execution_count": 52,
   "metadata": {},
   "outputs": [
    {
     "name": "stdout",
     "output_type": "stream",
     "text": [
      "Gamma Estimation\n",
      "\n"
     ]
    },
    {
     "name": "stderr",
     "output_type": "stream",
     "text": [
      "/var/folders/jx/dqj4zyfx4cj4t_bvpvt2drrm0000gn/T/ipykernel_9113/4160224879.py:10: RuntimeWarning: divide by zero encountered in double_scalars\n",
      "  return 1-stats.norm.cdf(num/denom)\n",
      "/var/folders/jx/dqj4zyfx4cj4t_bvpvt2drrm0000gn/T/ipykernel_9113/2557956382.py:25: RuntimeWarning: divide by zero encountered in log\n",
      "  N_log_h = data.count() * np.log( hazard(res_wage, c_k, p_k, λ, ζ, γ, μ, σ) )\n",
      "/var/folders/jx/dqj4zyfx4cj4t_bvpvt2drrm0000gn/T/ipykernel_9113/2557956382.py:30: RuntimeWarning: divide by zero encountered in log\n",
      "  Nu_log_η = data[dur].count() * np.log(η)\n",
      "/var/folders/jx/dqj4zyfx4cj4t_bvpvt2drrm0000gn/T/ipykernel_9113/2557956382.py:26: RuntimeWarning: divide by zero encountered in log\n",
      "  N_log_h_plus_η = data.count() * np.log( hazard(res_wage, c_k, p_k, λ, ζ, γ, μ, σ) + η )\n",
      "/var/folders/jx/dqj4zyfx4cj4t_bvpvt2drrm0000gn/T/ipykernel_9113/2557956382.py:28: RuntimeWarning: divide by zero encountered in log\n",
      "  empl_data = np.sum( np.log( Pr_wage_given_match(data, flex, wage, res_wage, c_k, ζ, γ, α, μ, σ) ) )\n"
     ]
    },
    {
     "name": "stdout",
     "output_type": "stream",
     "text": [
      "Boostrapped value  5173.288183508982 \n",
      "Standard error     154.90131762453322 \n",
      "\n",
      "Boostrapped value  1.917755059609765 \n",
      "Standard error     1.1343233222875237 \n",
      "\n",
      "Boostrapped value  0.0015283843758230437 \n",
      "Standard error     0.00023298044830787033 \n",
      "\n",
      "Boostrapped value  2.4121536889867223 \n",
      "Standard error     0.46653681071977204 \n",
      "\n",
      "Boostrapped value  1.0330443424019193 \n",
      "Standard error     0.13405128804553096 \n",
      "\n",
      "Boostrapped value  -5.6801530633004065 \n",
      "Standard error     2.13828515870819 \n",
      "\n",
      "\n",
      "Zeta Estimation\n",
      "\n"
     ]
    },
    {
     "name": "stderr",
     "output_type": "stream",
     "text": [
      "/var/folders/jx/dqj4zyfx4cj4t_bvpvt2drrm0000gn/T/ipykernel_9113/4160224879.py:6: RuntimeWarning: invalid value encountered in log\n",
      "  lnx = np.log(x)\n"
     ]
    },
    {
     "name": "stdout",
     "output_type": "stream",
     "text": [
      "Boostrapped value  5724.718991260661 \n",
      "Standard error     53.818128705579134 \n",
      "\n",
      "Boostrapped value  0.30454799462788035 \n",
      "Standard error     0.1800657232090657 \n",
      "\n",
      "Boostrapped value  0.0020014925295301837 \n",
      "Standard error     0.00047897671987109225 \n",
      "\n",
      "Boostrapped value  3.1110500633341056 \n",
      "Standard error     0.40913644663737725 \n",
      "\n",
      "Boostrapped value  1.3274279425719036 \n",
      "Standard error     0.301350982237028 \n",
      "\n",
      "Boostrapped value  2.2300657508617125 \n",
      "Standard error     0.6189195492757211 \n",
      "\n"
     ]
    }
   ],
   "source": [
    "γ = 0.6875 # Relative value of schedule flexibility to high salary from He et al (2021)\n",
    "\n",
    "# est_gamma(men, 'flexsched', 'wage_flexsched', 'dur')\n",
    "\n",
    "# est_zeta(men, 'flexsched', 'wage_flexsched', 'dur')\n",
    "\n",
    "bootstrap_est(men, 'flexsched', 'wage_flexsched', 'dur', 15)"
   ]
  },
  {
   "cell_type": "code",
   "execution_count": null,
   "metadata": {},
   "outputs": [],
   "source": [
    "γ = 0.6875 # Relative value of schedule flexibility to high salary from He et al (2021)\n",
    "\n",
    "est_cost(men, 'flexsched', 'wage_flexsched', 'dur')"
   ]
  },
  {
   "cell_type": "markdown",
   "metadata": {},
   "source": [
    "### Women, Binary Schedule Flex"
   ]
  },
  {
   "cell_type": "code",
   "execution_count": 53,
   "metadata": {
    "tags": []
   },
   "outputs": [
    {
     "name": "stdout",
     "output_type": "stream",
     "text": [
      "Gamma Estimation\n",
      "\n"
     ]
    },
    {
     "name": "stderr",
     "output_type": "stream",
     "text": [
      "/var/folders/jx/dqj4zyfx4cj4t_bvpvt2drrm0000gn/T/ipykernel_9113/4160224879.py:10: RuntimeWarning: divide by zero encountered in double_scalars\n",
      "  return 1-stats.norm.cdf(num/denom)\n",
      "/var/folders/jx/dqj4zyfx4cj4t_bvpvt2drrm0000gn/T/ipykernel_9113/2557956382.py:25: RuntimeWarning: divide by zero encountered in log\n",
      "  N_log_h = data.count() * np.log( hazard(res_wage, c_k, p_k, λ, ζ, γ, μ, σ) )\n",
      "/var/folders/jx/dqj4zyfx4cj4t_bvpvt2drrm0000gn/T/ipykernel_9113/2557956382.py:28: RuntimeWarning: divide by zero encountered in log\n",
      "  empl_data = np.sum( np.log( Pr_wage_given_match(data, flex, wage, res_wage, c_k, ζ, γ, α, μ, σ) ) )\n",
      "/var/folders/jx/dqj4zyfx4cj4t_bvpvt2drrm0000gn/T/ipykernel_9113/2557956382.py:26: RuntimeWarning: divide by zero encountered in log\n",
      "  N_log_h_plus_η = data.count() * np.log( hazard(res_wage, c_k, p_k, λ, ζ, γ, μ, σ) + η )\n",
      "/var/folders/jx/dqj4zyfx4cj4t_bvpvt2drrm0000gn/T/ipykernel_9113/2557956382.py:30: RuntimeWarning: divide by zero encountered in log\n",
      "  Nu_log_η = data[dur].count() * np.log(η)\n",
      "/var/folders/jx/dqj4zyfx4cj4t_bvpvt2drrm0000gn/T/ipykernel_9113/4160224879.py:6: RuntimeWarning: invalid value encountered in log\n",
      "  lnx = np.log(x)\n"
     ]
    },
    {
     "name": "stdout",
     "output_type": "stream",
     "text": [
      "Boostrapped value  5164.147870625171 \n",
      "Standard error     57.16837170927812 \n",
      "\n",
      "Boostrapped value  0.17077433035478867 \n",
      "Standard error     0.06892749260138571 \n",
      "\n",
      "Boostrapped value  0.021805875643018856 \n",
      "Standard error     0.01962107812396395 \n",
      "\n",
      "Boostrapped value  3.421787157961781 \n",
      "Standard error     0.2371580325508551 \n",
      "\n",
      "Boostrapped value  0.7369701415029072 \n",
      "Standard error     0.07534909779101574 \n",
      "\n",
      "Boostrapped value  0.41240033976308627 \n",
      "Standard error     1.253409272788185 \n",
      "\n",
      "\n",
      "Zeta Estimation\n",
      "\n",
      "Boostrapped value  5458.647238582956 \n",
      "Standard error     83.27591588309942 \n",
      "\n",
      "Boostrapped value  0.3489864634992214 \n",
      "Standard error     0.14405802445586496 \n",
      "\n",
      "Boostrapped value  0.179401083703859 \n",
      "Standard error     0.11700780015783892 \n",
      "\n",
      "Boostrapped value  2.7321585955577508 \n",
      "Standard error     0.3210264419333151 \n",
      "\n",
      "Boostrapped value  1.164658387380397 \n",
      "Standard error     0.1583456280446704 \n",
      "\n",
      "Boostrapped value  1.7673761759342619 \n",
      "Standard error     0.3379469799422862 \n",
      "\n"
     ]
    }
   ],
   "source": [
    "γ = 0.6875 # Relative value of schedule flexibility to high salary from He et al (2021)\n",
    "\n",
    "# est_gamma(women, 'flexsched', 'wage_flexsched', 'dur')\n",
    "\n",
    "# est_zeta(women, 'flexsched', 'wage_flexsched', 'dur')\n",
    "\n",
    "bootstrap_est(women, 'flexsched', 'wage_flexsched', 'dur', 15)"
   ]
  },
  {
   "cell_type": "markdown",
   "metadata": {},
   "source": [
    "### Men, Binary Location Flex"
   ]
  },
  {
   "cell_type": "code",
   "execution_count": 54,
   "metadata": {
    "tags": []
   },
   "outputs": [
    {
     "name": "stdout",
     "output_type": "stream",
     "text": [
      "Gamma Estimation\n",
      "\n"
     ]
    },
    {
     "name": "stderr",
     "output_type": "stream",
     "text": [
      "/var/folders/jx/dqj4zyfx4cj4t_bvpvt2drrm0000gn/T/ipykernel_9113/4160224879.py:10: RuntimeWarning: divide by zero encountered in double_scalars\n",
      "  return 1-stats.norm.cdf(num/denom)\n",
      "/var/folders/jx/dqj4zyfx4cj4t_bvpvt2drrm0000gn/T/ipykernel_9113/2557956382.py:28: RuntimeWarning: divide by zero encountered in log\n",
      "  empl_data = np.sum( np.log( Pr_wage_given_match(data, flex, wage, res_wage, c_k, ζ, γ, α, μ, σ) ) )\n",
      "/var/folders/jx/dqj4zyfx4cj4t_bvpvt2drrm0000gn/T/ipykernel_9113/2557956382.py:30: RuntimeWarning: divide by zero encountered in log\n",
      "  Nu_log_η = data[dur].count() * np.log(η)\n",
      "/var/folders/jx/dqj4zyfx4cj4t_bvpvt2drrm0000gn/T/ipykernel_9113/2557956382.py:25: RuntimeWarning: divide by zero encountered in log\n",
      "  N_log_h = data.count() * np.log( hazard(res_wage, c_k, p_k, λ, ζ, γ, μ, σ) )\n",
      "/var/folders/jx/dqj4zyfx4cj4t_bvpvt2drrm0000gn/T/ipykernel_9113/2557956382.py:26: RuntimeWarning: divide by zero encountered in log\n",
      "  N_log_h_plus_η = data.count() * np.log( hazard(res_wage, c_k, p_k, λ, ζ, γ, μ, σ) + η )\n"
     ]
    },
    {
     "name": "stdout",
     "output_type": "stream",
     "text": [
      "Boostrapped value  5065.278475633164 \n",
      "Standard error     145.8875313133811 \n",
      "\n",
      "Boostrapped value  1.8411987212019294 \n",
      "Standard error     0.7639432794692673 \n",
      "\n",
      "Boostrapped value  0.0029377235163783677 \n",
      "Standard error     0.0012781196806978872 \n",
      "\n",
      "Boostrapped value  2.2946300821706895 \n",
      "Standard error     0.4843966297224261 \n",
      "\n",
      "Boostrapped value  1.014293595182573 \n",
      "Standard error     0.10847783856680572 \n",
      "\n",
      "Boostrapped value  -7.56716045732418 \n",
      "Standard error     2.148700158487921 \n",
      "\n",
      "\n",
      "Zeta Estimation\n",
      "\n"
     ]
    },
    {
     "name": "stderr",
     "output_type": "stream",
     "text": [
      "/var/folders/jx/dqj4zyfx4cj4t_bvpvt2drrm0000gn/T/ipykernel_9113/4160224879.py:6: RuntimeWarning: invalid value encountered in log\n",
      "  lnx = np.log(x)\n"
     ]
    },
    {
     "name": "stdout",
     "output_type": "stream",
     "text": [
      "Boostrapped value  5685.999043075806 \n",
      "Standard error     51.734349358576 \n",
      "\n",
      "Boostrapped value  0.26470795050099116 \n",
      "Standard error     0.17791644553067068 \n",
      "\n",
      "Boostrapped value  0.0020117952811330216 \n",
      "Standard error     0.00045869656844911403 \n",
      "\n",
      "Boostrapped value  3.864635074659594 \n",
      "Standard error     0.10833831666146825 \n",
      "\n",
      "Boostrapped value  1.0328636227307846 \n",
      "Standard error     0.2969034983315237 \n",
      "\n",
      "Boostrapped value  1.340245322896587 \n",
      "Standard error     0.2282427752024619 \n",
      "\n"
     ]
    }
   ],
   "source": [
    "γ = 0.625 # Relative value of location flexibility to high salary from He et al (2021)\n",
    "\n",
    "bootstrap_est(men, 'flexloc', 'wage_flexloc', 'dur', 15)"
   ]
  },
  {
   "cell_type": "markdown",
   "metadata": {},
   "source": [
    "### Women, Binary Location Flex"
   ]
  },
  {
   "cell_type": "code",
   "execution_count": 55,
   "metadata": {},
   "outputs": [
    {
     "name": "stdout",
     "output_type": "stream",
     "text": [
      "Gamma Estimation\n",
      "\n"
     ]
    },
    {
     "name": "stderr",
     "output_type": "stream",
     "text": [
      "/var/folders/jx/dqj4zyfx4cj4t_bvpvt2drrm0000gn/T/ipykernel_9113/4160224879.py:10: RuntimeWarning: divide by zero encountered in double_scalars\n",
      "  return 1-stats.norm.cdf(num/denom)\n",
      "/var/folders/jx/dqj4zyfx4cj4t_bvpvt2drrm0000gn/T/ipykernel_9113/2557956382.py:25: RuntimeWarning: divide by zero encountered in log\n",
      "  N_log_h = data.count() * np.log( hazard(res_wage, c_k, p_k, λ, ζ, γ, μ, σ) )\n",
      "/var/folders/jx/dqj4zyfx4cj4t_bvpvt2drrm0000gn/T/ipykernel_9113/2557956382.py:30: RuntimeWarning: divide by zero encountered in log\n",
      "  Nu_log_η = data[dur].count() * np.log(η)\n",
      "/var/folders/jx/dqj4zyfx4cj4t_bvpvt2drrm0000gn/T/ipykernel_9113/2557956382.py:26: RuntimeWarning: divide by zero encountered in log\n",
      "  N_log_h_plus_η = data.count() * np.log( hazard(res_wage, c_k, p_k, λ, ζ, γ, μ, σ) + η )\n",
      "/var/folders/jx/dqj4zyfx4cj4t_bvpvt2drrm0000gn/T/ipykernel_9113/2557956382.py:28: RuntimeWarning: divide by zero encountered in log\n",
      "  empl_data = np.sum( np.log( Pr_wage_given_match(data, flex, wage, res_wage, c_k, ζ, γ, α, μ, σ) ) )\n"
     ]
    },
    {
     "name": "stdout",
     "output_type": "stream",
     "text": [
      "Boostrapped value  5098.363355063148 \n",
      "Standard error     94.22015077441198 \n",
      "\n",
      "Boostrapped value  0.3804491674993519 \n",
      "Standard error     0.20005111920232255 \n",
      "\n",
      "Boostrapped value  0.07945651042114271 \n",
      "Standard error     0.07559148133037456 \n",
      "\n",
      "Boostrapped value  2.5971340879544536 \n",
      "Standard error     0.3606866694672235 \n",
      "\n",
      "Boostrapped value  1.1704947033665114 \n",
      "Standard error     0.13137366826667599 \n",
      "\n",
      "Boostrapped value  -5.050336300778929 \n",
      "Standard error     1.3812113610807957 \n",
      "\n",
      "\n",
      "Zeta Estimation\n",
      "\n",
      "Boostrapped value  5439.14449053671 \n",
      "Standard error     94.22623162320374 \n",
      "\n",
      "Boostrapped value  0.28654444889371444 \n",
      "Standard error     0.1234213623532318 \n",
      "\n",
      "Boostrapped value  0.1763557729035587 \n",
      "Standard error     0.11524136914527205 \n",
      "\n",
      "Boostrapped value  2.9538190710980503 \n",
      "Standard error     0.31854256824751614 \n",
      "\n",
      "Boostrapped value  1.0093786918008056 \n",
      "Standard error     0.14823627404514503 \n",
      "\n",
      "Boostrapped value  1.918864842848472 \n",
      "Standard error     0.39528009950339427 \n",
      "\n"
     ]
    }
   ],
   "source": [
    "γ = 0.625 # Relative value of location flexibility to high salary from He et al (2021)\n",
    "\n",
    "bootstrap_est(women, 'flexloc', 'wage_flexloc', 'dur', 15)"
   ]
  },
  {
   "cell_type": "markdown",
   "metadata": {},
   "source": [
    "# Figures"
   ]
  },
  {
   "cell_type": "markdown",
   "metadata": {},
   "source": [
    "## Binary Flexibility Measure"
   ]
  },
  {
   "cell_type": "code",
   "execution_count": null,
   "metadata": {},
   "outputs": [],
   "source": [
    "fig, ax = plt.subplots(2, 1, figsize=(12, 8))\n",
    "\n",
    "for k in range(2):\n",
    "    tmp = df[(df['flex']==k) & (df['sex']=='male') & (df['employed']==1)]\n",
    "    sns.distplot(tmp['hrwage'], color='#4B9CD3', hist_kws={'alpha' : .3}, bins=100, ax=ax[k])\n",
    "#     ax[k].legend(['Flexibility Level ' + str(k)])\n",
    "    ax[k].set_ylim([0,0.1])\n",
    "    ax[k].set_xlim([0,75])\n",
    "    if k == 1:\n",
    "        ax[k].set(xlabel = 'Hourly Wage for Men with Flexible Schedule')\n",
    "    elif k == 0:\n",
    "        ax[k].set(xlabel = 'Hourly Wage for Men without Flexible Schedule')\n",
    "    else:\n",
    "        print(\"Not binary k\")\n",
    "\n",
    "# ax.set(xlabel=\"Distribution of Men's Hourly Wage (raw)\")\n",
    "\n",
    "plt.tight_layout()\n",
    "\n",
    "fig.savefig('./hrwage_men_2flex.png', bbox_inches='tight', transparent=True)"
   ]
  },
  {
   "cell_type": "code",
   "execution_count": null,
   "metadata": {},
   "outputs": [],
   "source": [
    "fig, ax = plt.subplots(2, 1, figsize=(12, 8))\n",
    "\n",
    "for k in range(2):\n",
    "    tmp = df[(df['flex']==k) & (df['sex']=='female') & (df['employed']==1)]\n",
    "    sns.distplot(tmp['hrwage'], color='#4B9CD3', hist_kws={'alpha' : .3}, bins=100, ax=ax[k])\n",
    "#     ax[k].legend(['Flexibility Level ' + str(k)])\n",
    "    ax[k].set_ylim([0,0.1])\n",
    "    ax[k].set_xlim([0,75])\n",
    "    if k == 1:\n",
    "        ax[k].set(xlabel = 'Hourly Wage for Women with Flexible Schedule')\n",
    "    elif k == 0:\n",
    "        ax[k].set(xlabel = 'Hourly Wage for Women without Flexible Schedule')\n",
    "    else:\n",
    "        print(\"Not binary k\")\n",
    "\n",
    "# ax.set(xlabel=\"Distribution of Men's Hourly Wage (raw)\")\n",
    "\n",
    "plt.tight_layout()\n",
    "\n",
    "fig.savefig('./hrwage_women_2flex.png', bbox_inches='tight', transparent=True)"
   ]
  },
  {
   "cell_type": "code",
   "execution_count": null,
   "metadata": {},
   "outputs": [],
   "source": [
    "fig, ax = plt.subplots(2, 1, figsize=(12, 8))\n",
    "\n",
    "for k in range(2):\n",
    "    tmp = men[(men['flex']==k) & (men['employed']==1)] #(df['sex']=='male') & \n",
    "    sns.distplot(tmp['wage_trunc'], color='#4B9CD3', hist_kws={'alpha' : .3}, bins=100, ax=ax[k])\n",
    "#     ax[k].legend(['Flexibility Level ' + str(k)])\n",
    "    ax[k].set_ylim([0,0.1])\n",
    "    ax[k].set_xlim([0,75])\n",
    "    if k == 1:\n",
    "        ax[k].set(xlabel = 'Truncated Hourly Wage for Men with Flexible Schedule')\n",
    "    elif k == 0:\n",
    "        ax[k].set(xlabel = 'Truncated Hourly Wage for Men without Flexible Schedule')\n",
    "    else:\n",
    "        print(\"Not binary k\")\n",
    "\n",
    "# ax.set(xlabel=\"Distribution of Men's Hourly Wage (raw)\")\n",
    "\n",
    "plt.tight_layout()\n",
    "\n",
    "fig.savefig('./wagetrunc_men_2flex.png', bbox_inches='tight', transparent=True)"
   ]
  },
  {
   "cell_type": "code",
   "execution_count": null,
   "metadata": {},
   "outputs": [],
   "source": [
    "fig, ax = plt.subplots(2, 1, figsize=(12, 8))\n",
    "\n",
    "for k in range(2):\n",
    "    tmp = women[(women['flex']==k) & (women['employed']==1)] #(df['sex']=='male') & \n",
    "    sns.distplot(tmp['wage_flexsched'], color='#4B9CD3', hist_kws={'alpha' : .3}, bins=100, ax=ax[k])\n",
    "#     ax[k].legend(['Flexibility Level ' + str(k)])\n",
    "    ax[k].set_ylim([0,0.1])\n",
    "    ax[k].set_xlim([0,75])\n",
    "    if k == 1:\n",
    "        ax[k].set(xlabel = 'Truncated Hourly Wage for Women with Flexible Schedule')\n",
    "    elif k == 0:\n",
    "        ax[k].set(xlabel = 'Truncated Hourly Wage for Women without Flexible Schedule')\n",
    "    else:\n",
    "        print(\"Not binary k\")\n",
    "\n",
    "# ax.set(xlabel=\"Distribution of Men's Hourly Wage (raw)\")\n",
    "\n",
    "plt.tight_layout()\n",
    "\n",
    "fig.savefig('./wagetrunc_women_2flex.png', bbox_inches='tight', transparent=True)"
   ]
  },
  {
   "cell_type": "markdown",
   "metadata": {},
   "source": [
    "# Summary Statistics"
   ]
  },
  {
   "cell_type": "code",
   "execution_count": 80,
   "metadata": {},
   "outputs": [],
   "source": [
    "def sum_stats_empl(data: pd.DataFrame, flex: str, wage:str, raw_wage: str):\n",
    "    \"\"\"\n",
    "    Creates formatted latex tables of summary statistics \n",
    "    \"\"\"\n",
    "    \n",
    "    agg_dict_empl = {\n",
    "                    raw_wage: ['count', 'min', 'mean', 'std'],\n",
    "                    wage: ['min', 'mean', 'std']\n",
    "                    }\n",
    "    empl = data.groupby([flex]).agg(agg_dict_empl).to_latex(float_format=\"%.2f\")\n",
    "    \n",
    "    return print(empl)"
   ]
  },
  {
   "cell_type": "code",
   "execution_count": 75,
   "metadata": {},
   "outputs": [],
   "source": [
    "def sum_stats_unempl(data: pd.DataFrame, gender:str, dur:str):\n",
    "    \"\"\"\n",
    "    Creates formatted latex tables of summary statistics \n",
    "    \"\"\"\n",
    "    \n",
    "    agg_dict_unempl = {\n",
    "                        dur: ['count', 'min', 'max', 'mean', 'std']\n",
    "                        }\n",
    "    unempl = data.groupby([gender]).agg(agg_dict_unempl).to_latex(float_format=\"%.2f\")\n",
    "    \n",
    "    return print(unempl)"
   ]
  },
  {
   "cell_type": "code",
   "execution_count": 82,
   "metadata": {},
   "outputs": [
    {
     "name": "stdout",
     "output_type": "stream",
     "text": [
      "\\begin{tabular}{lrrrrrrr}\n",
      "\\toprule\n",
      "{} & \\multicolumn{4}{l}{hrwage} & \\multicolumn{3}{l}{wage\\_flexsched} \\\\\n",
      "{} &  count &  min &  mean &   std &            min &  mean &   std \\\\\n",
      "flexsched &        &      &       &       &                &       &       \\\\\n",
      "\\midrule\n",
      "0.0       &    341 & 0.01 & 35.78 & 18.04 &          13.00 & 35.95 & 17.79 \\\\\n",
      "1.0       &    901 & 1.02 & 45.07 & 18.68 &          17.50 & 45.32 & 18.25 \\\\\n",
      "\\bottomrule\n",
      "\\end{tabular}\n",
      "\n"
     ]
    }
   ],
   "source": [
    "sum_stats_empl(men, 'flexsched', 'wage_flexsched', 'hrwage')"
   ]
  },
  {
   "cell_type": "code",
   "execution_count": 65,
   "metadata": {},
   "outputs": [
    {
     "name": "stdout",
     "output_type": "stream",
     "text": [
      "\\begin{tabular}{lrrrrrrr}\n",
      "\\toprule\n",
      "{} & \\multicolumn{4}{l}{hrwage} & \\multicolumn{3}{l}{wage\\_flexsched} \\\\\n",
      "{} &  count &  min &  mean &   std &            min &  mean &   std \\\\\n",
      "flexsched &        &      &       &       &                &       &       \\\\\n",
      "\\midrule\n",
      "0.0       &    488 & 0.02 & 28.90 & 15.09 &          10.43 & 29.08 & 14.84 \\\\\n",
      "1.0       &    724 & 0.05 & 36.45 & 17.49 &          12.50 & 36.60 & 17.26 \\\\\n",
      "\\bottomrule\n",
      "\\end{tabular}\n",
      "\n"
     ]
    }
   ],
   "source": [
    "sum_stats_empl(women, 'flexsched', 'wage_flexsched', 'hrwage')"
   ]
  },
  {
   "cell_type": "code",
   "execution_count": 64,
   "metadata": {},
   "outputs": [
    {
     "name": "stdout",
     "output_type": "stream",
     "text": [
      "\\begin{tabular}{lrrrrrrr}\n",
      "\\toprule\n",
      "{} & \\multicolumn{4}{l}{hrwage} & \\multicolumn{3}{l}{wage\\_flexloc} \\\\\n",
      "{} &  count &  min &  mean &   std &          min &  mean &   std \\\\\n",
      "flexloc &        &      &       &       &              &       &       \\\\\n",
      "\\midrule\n",
      "0.0     &    726 & 0.01 & 38.89 & 18.76 &        14.41 & 39.10 & 18.44 \\\\\n",
      "1.0     &    516 & 1.02 & 47.63 & 18.05 &        20.19 & 47.92 & 17.52 \\\\\n",
      "\\bottomrule\n",
      "\\end{tabular}\n",
      "\n"
     ]
    }
   ],
   "source": [
    "sum_stats_empl(men, 'flexloc', 'wage_flexloc', 'hrwage')"
   ]
  },
  {
   "cell_type": "code",
   "execution_count": 64,
   "metadata": {},
   "outputs": [
    {
     "name": "stdout",
     "output_type": "stream",
     "text": [
      "\\begin{tabular}{lrrrrrrr}\n",
      "\\toprule\n",
      "{} & \\multicolumn{4}{l}{hrwage} & \\multicolumn{3}{l}{wage\\_flexloc} \\\\\n",
      "{} &  count &  min &  mean &   std &          min &  mean &   std \\\\\n",
      "flexloc &        &      &       &       &              &       &       \\\\\n",
      "\\midrule\n",
      "0.0     &    726 & 0.01 & 38.89 & 18.76 &        14.41 & 39.10 & 18.44 \\\\\n",
      "1.0     &    516 & 1.02 & 47.63 & 18.05 &        20.19 & 47.92 & 17.52 \\\\\n",
      "\\bottomrule\n",
      "\\end{tabular}\n",
      "\n"
     ]
    }
   ],
   "source": [
    "sum_stats_empl(women, 'flexloc', 'wage_flexloc', 'hrwage')"
   ]
  },
  {
   "cell_type": "code",
   "execution_count": 76,
   "metadata": {},
   "outputs": [
    {
     "name": "stdout",
     "output_type": "stream",
     "text": [
      "\\begin{tabular}{lrrrrr}\n",
      "\\toprule\n",
      "{} & \\multicolumn{5}{l}{dur} \\\\\n",
      "{} & count &  min &    max &  mean &   std \\\\\n",
      "sex    &       &      &        &       &       \\\\\n",
      "\\midrule\n",
      "male   &    27 & 8.00 & 131.00 & 18.63 & 23.35 \\\\\n",
      "female &    27 & 8.00 & 129.00 & 18.11 & 22.86 \\\\\n",
      "\\bottomrule\n",
      "\\end{tabular}\n",
      "\n"
     ]
    }
   ],
   "source": [
    "sum_stats_unempl(df, 'sex', 'dur')"
   ]
  },
  {
   "cell_type": "markdown",
   "metadata": {},
   "source": [
    "# Scratch"
   ]
  },
  {
   "cell_type": "code",
   "execution_count": null,
   "metadata": {},
   "outputs": [],
   "source": []
  },
  {
   "cell_type": "markdown",
   "metadata": {},
   "source": [
    "## Before functionalizing"
   ]
  },
  {
   "cell_type": "code",
   "execution_count": null,
   "metadata": {},
   "outputs": [],
   "source": [
    "# Estimate ζ, holding γ constant and cost = 0\n",
    "params = np.array([λ, η, ζ, men['wage_flexsched'].mean(), men['wage_flexsched'].std()])\n",
    "\n",
    "logL_opt = lambda x: log_L(men, 'flexsched', 'wage_flexsched', 'dur', \n",
    "                            np.array([0,0]), α, x[0], x[1], x[2], γ,\n",
    "                            x[3], x[4])\n",
    "\n",
    "est_zeta = minimize(logL_opt, params, method='Nelder-Mead', options={'maxiter':1000, 'disp':True}, bounds=Bounds)\n",
    "est_zeta.x\n"
   ]
  },
  {
   "cell_type": "code",
   "execution_count": null,
   "metadata": {},
   "outputs": [],
   "source": [
    "# Estimate c, holding γ and ζ constant \n",
    "params = np.array([λ, η, c_k[1], men['wage_flexsched'].mean(), men['wage_flexsched'].std()])\n",
    "\n",
    "logL_opt = lambda x: log_L(men, 'flexsched', 'wage_flexsched', 'dur', men['wage_flexsched'].min(), \n",
    "                            np.array([0,x[0]]), prob_k, α, x[1], x[2], est_zeta.x[2], est_gamma.x[2],\n",
    "                            x[3], x[4])\n",
    "\n",
    "est_c = minimize(logL_opt, params, method='Nelder-Mead', options={'maxiter':1000, 'disp':True}, bounds=Bounds)\n",
    "est_c.x\n"
   ]
  },
  {
   "cell_type": "code",
   "execution_count": null,
   "metadata": {},
   "outputs": [],
   "source": [
    "## Estimate γ, holding ζ constant and cost = 0\n",
    "# params = np.array([λ, η, γ, men['wage_flexsched'].mean(), men['wage_flexsched'].std()])\n",
    "\n",
    "# Bootstrapping\n",
    "bootstrapped_data = bootstrap(men, n_samples=30)\n",
    "\n",
    "logL_gamma = []\n",
    "lambdas_gamma = []\n",
    "etas_gamma = []\n",
    "mus_gamma = []\n",
    "sigmas_gamma = []\n",
    "gammas = []\n",
    "\n",
    "for sample in bootstrapped_data:\n",
    "    params = np.array([λ, η, γ, sample['wage_flexsched'].mean(), sample['wage_flexsched'].std()])\n",
    "    \n",
    "    logL_opt = lambda x: log_L(sample, 'flexsched', 'wage_flexsched', 'dur', sample['wage_flexsched'].min(), \n",
    "                            np.array([0,0]), prob_k, α, x[0], x[1], ζ, x[2],\n",
    "                            x[3], x[4])\n",
    "\n",
    "    est = minimize(logL_opt, params, method='Nelder-Mead', options={'maxiter':1000}, bounds=Bounds)\n",
    "    \n",
    "    logL_gamma.append(est.fun)\n",
    "    lambdas_gamma.append(est.x[0])\n",
    "    etas_gamma.append(est.x[1])\n",
    "    gammas.append(est.x[2])\n",
    "    mus_gamma.append(est.x[3])\n",
    "    sigmas_gamma.append(est.x[4])"
   ]
  },
  {
   "cell_type": "code",
   "execution_count": null,
   "metadata": {},
   "outputs": [],
   "source": [
    "# Estimate ζ, holding γ constant and cost = 0\n",
    "# params = np.array([λ, η, ζ, men['wage_flexsched'].mean(), men['wage_flexsched'].std()])\n",
    "\n",
    "## Bootstrapping\n",
    "bootstrapped_data = bootstrap(men, n_samples=30)\n",
    "\n",
    "logL_zetas = []\n",
    "lambdas_zetas = []\n",
    "etas_zetas = []\n",
    "mus_zetas = []\n",
    "sigmas_zetas = []\n",
    "zetas = []\n",
    "\n",
    "for sample in bootstrapped_data:\n",
    "    params = np.array([λ, η, ζ, sample['wage_flexsched'].mean(), sample['wage_flexsched'].std()])\n",
    "\n",
    "    logL_opt = lambda x: log_L(sample, 'flexsched', 'wage_flexsched', 'dur', sample['wage_flexsched'].min(), \n",
    "                            np.array([0,0]), prob_k, α, x[0], x[1], x[2], γ,\n",
    "                            x[3], x[4])\n",
    "\n",
    "    est = minimize(logL_opt, params, method='Nelder-Mead', options={'maxiter':1000}, bounds=Bounds)\n",
    "    \n",
    "    logL_zetas.append(est.fun)\n",
    "    lambdas_zetas.append(est.x[0])\n",
    "    etas_zetas.append(est.x[1])\n",
    "    zetas.append(est.x[2])\n",
    "    mus_zetas.append(est.x[3])\n",
    "    sigmas_zetas.append(est.x[4])\n"
   ]
  },
  {
   "cell_type": "markdown",
   "metadata": {},
   "source": [
    "#### Compare Bootstrapped Results"
   ]
  },
  {
   "cell_type": "code",
   "execution_count": null,
   "metadata": {},
   "outputs": [],
   "source": [
    "mylist = [logL_gamma, lambdas_gamma, etas_gamma, mus_gamma, sigmas_gamma, gammas]\n",
    "\n",
    "for i in mylist:\n",
    "    fit_stats(i)"
   ]
  },
  {
   "cell_type": "code",
   "execution_count": null,
   "metadata": {},
   "outputs": [],
   "source": [
    "mylist = [logL_zetas, lambdas_zetas, etas_zetas, mus_zetas, sigmas_zetas, zetas]\n",
    "\n",
    "for i in mylist:\n",
    "    fit_stats(i)"
   ]
  },
  {
   "cell_type": "markdown",
   "metadata": {},
   "source": [
    "### Estimation: Men, Binary Location Flex"
   ]
  },
  {
   "cell_type": "code",
   "execution_count": null,
   "metadata": {},
   "outputs": [],
   "source": [
    "# Estimation Specific Parameters\n",
    "\n",
    "γ = 0.625 # Relative value of location flexibility to high salary from He et al (2021)\n",
    "\n",
    "prob_k = np.array([0.584541, 0.415459])"
   ]
  },
  {
   "cell_type": "code",
   "execution_count": null,
   "metadata": {},
   "outputs": [],
   "source": [
    "men['flexloc'].value_counts(normalize=True, sort=False)"
   ]
  },
  {
   "cell_type": "code",
   "execution_count": null,
   "metadata": {},
   "outputs": [],
   "source": [
    "# Estimate γ, holding ζ constant cost = 0\n",
    "params = np.array([λ, η, γ, men['wage_flexloc'].mean(), men['wage_flexloc'].std()])\n",
    "\n",
    "logL_opt = lambda x: log_L(men, 'flexloc', 'wage_flexloc', 'dur', men['wage_flexloc'].min(), \n",
    "                            np.array([0,0]), prob_k, α, x[0], x[1], ζ, x[2],\n",
    "                            x[3], x[4])\n",
    "\n",
    "est = minimize(logL_opt, params, method='Nelder-Mead', options={'maxiter':1000, 'disp':True}, bounds=Bounds)\n",
    "est.x\n"
   ]
  },
  {
   "cell_type": "code",
   "execution_count": null,
   "metadata": {},
   "outputs": [],
   "source": [
    "# Estimate ζ, holding γ constant and cost = 0\n",
    "params = np.array([λ, η, ζ, men['wage_flexloc'].mean(), men['wage_flexloc'].std()])\n",
    "\n",
    "logL_opt = lambda x: log_L(men, 'flexloc', 'wage_flexloc', 'dur', men['wage_flexloc'].min(), \n",
    "                            np.array([0,0]), prob_k, α, x[0], x[1], x[2], γ,\n",
    "                            x[3], x[4])\n",
    "\n",
    "est = minimize(logL_opt, params, method='Nelder-Mead', options={'maxiter':1000, 'disp':True}, bounds=Bounds)\n",
    "est.x\n"
   ]
  },
  {
   "cell_type": "markdown",
   "metadata": {},
   "source": [
    "#### Bootstrapping"
   ]
  },
  {
   "cell_type": "code",
   "execution_count": null,
   "metadata": {},
   "outputs": [],
   "source": [
    "## Estimate γ, holding ζ constant and cost = 0\n",
    "bootstrapped_data = bootstrap(men, n_samples=30)\n",
    "\n",
    "logL_gamma = []\n",
    "lambdas_gamma = []\n",
    "etas_gamma = []\n",
    "mus_gamma = []\n",
    "sigmas_gamma = []\n",
    "gammas = []\n",
    "\n",
    "for sample in bootstrapped_data:\n",
    "    params = np.array([λ, η, γ, sample['wage_flexloc'].mean(), sample['wage_flexloc'].std()])\n",
    "    \n",
    "    logL_opt = lambda x: log_L(sample, 'flexloc', 'wage_flexloc', 'dur', sample['wage_flexloc'].min(), \n",
    "                            np.array([0,0]), prob_k, α, x[0], x[1], ζ, x[2],\n",
    "                            x[3], x[4])\n",
    "\n",
    "    est = minimize(logL_opt, params, method='Nelder-Mead', options={'maxiter':1000}, bounds=Bounds)\n",
    "    \n",
    "    logL_gamma.append(est.fun)\n",
    "    lambdas_gamma.append(est.x[0])\n",
    "    etas_gamma.append(est.x[1])\n",
    "    gammas.append(est.x[2])\n",
    "    mus_gamma.append(est.x[3])\n",
    "    sigmas_gamma.append(est.x[4])"
   ]
  },
  {
   "cell_type": "code",
   "execution_count": null,
   "metadata": {},
   "outputs": [],
   "source": [
    "# Estimate ζ, holding γ constant and cost = 0\n",
    "bootstrapped_data = bootstrap(men, n_samples=30)\n",
    "\n",
    "logL_zetas = []\n",
    "lambdas_zetas = []\n",
    "etas_zetas = []\n",
    "mus_zetas = []\n",
    "sigmas_zetas = []\n",
    "zetas = []\n",
    "\n",
    "for sample in bootstrapped_data:\n",
    "    params = np.array([λ, η, ζ, sample['wage_flexloc'].mean(), sample['wage_flexloc'].std()])\n",
    "\n",
    "    logL_opt = lambda x: log_L(sample, 'flexloc', 'wage_flexloc', 'dur', sample['wage_flexloc'].min(), \n",
    "                            np.array([0,0]), prob_k, α, x[0], x[1], x[2], γ,\n",
    "                            x[3], x[4])\n",
    "\n",
    "    est = minimize(logL_opt, params, method='Nelder-Mead', options={'maxiter':1000}, bounds=Bounds)\n",
    "    \n",
    "    logL_zetas.append(est.fun)\n",
    "    lambdas_zetas.append(est.x[0])\n",
    "    etas_zetas.append(est.x[1])\n",
    "    zetas.append(est.x[2])\n",
    "    mus_zetas.append(est.x[3])\n",
    "    sigmas_zetas.append(est.x[4])\n"
   ]
  },
  {
   "cell_type": "markdown",
   "metadata": {},
   "source": [
    "#### Compare Bootstrapped Results"
   ]
  },
  {
   "cell_type": "code",
   "execution_count": null,
   "metadata": {},
   "outputs": [],
   "source": [
    "mylist = [logL_gamma, lambdas_gamma, etas_gamma, mus_gamma, sigmas_gamma, gammas]\n",
    "\n",
    "for i in mylist:\n",
    "    fit_stats(i)"
   ]
  },
  {
   "cell_type": "code",
   "execution_count": null,
   "metadata": {},
   "outputs": [],
   "source": [
    "mylist = [logL_zetas, lambdas_zetas, etas_zetas, mus_zetas, sigmas_zetas, zetas]\n",
    "\n",
    "for i in mylist:\n",
    "    fit_stats(i)"
   ]
  },
  {
   "cell_type": "code",
   "execution_count": null,
   "metadata": {},
   "outputs": [],
   "source": [
    "fig, ax = plt.subplots(3,2,figsize=(8,6))\n",
    "\n",
    "sns.distplot(lambdas_gamma, ax=ax[0,0]).set(title=\"Lambda\")\n",
    "sns.distplot(etas_gamma, ax=ax[0,1]).set(title=\"Eta\")\n",
    "sns.distplot(mus_gamma, ax=ax[1,0]).set(title=\"Mu\")\n",
    "sns.distplot(sigmas_gamma, ax=ax[1,1]).set(title=\"Sigma\")\n",
    "sns.distplot(gammas, ax=ax[2,0]).set(title=\"Gammas\")\n",
    "sns.distplot(logL_gamma, ax=ax[2,1]).set(title=\"Log-Likelihood\")\n",
    "\n",
    "plt.tight_layout()"
   ]
  },
  {
   "cell_type": "code",
   "execution_count": null,
   "metadata": {},
   "outputs": [],
   "source": [
    "fig, ax = plt.subplots(3,2,figsize=(8,6))\n",
    "\n",
    "sns.distplot(lambdas_zetas, ax=ax[0,0]).set(title=\"Lambda\")\n",
    "sns.distplot(etas_zetas, ax=ax[0,1]).set(title=\"Eta\")\n",
    "sns.distplot(mus_zetas, ax=ax[1,0]).set(title=\"Mu\")\n",
    "sns.distplot(sigmas_zetas, ax=ax[1,1]).set(title=\"Sigma\")\n",
    "sns.distplot(zetas, ax=ax[2,0]).set(title=\"Zetas\")\n",
    "sns.distplot(logL_zetas, ax=ax[2,1]).set(title=\"Log-Likelihood\")\n",
    "\n",
    "plt.tight_layout()"
   ]
  },
  {
   "cell_type": "markdown",
   "metadata": {},
   "source": [
    "### Estimation: Women, Binary Schedule Flex"
   ]
  },
  {
   "cell_type": "code",
   "execution_count": null,
   "metadata": {},
   "outputs": [],
   "source": [
    "# Estimation Specific Parameters\n",
    "\n",
    "γ = 0.6875 # Relative value of schedule flexibility to high salary from He et al (2021)\n",
    "\n",
    "prob_k = np.array([0.40264, 0.59736])"
   ]
  },
  {
   "cell_type": "code",
   "execution_count": null,
   "metadata": {},
   "outputs": [],
   "source": [
    "women['flexsched'].value_counts(normalize=True, sort=False)"
   ]
  },
  {
   "cell_type": "code",
   "execution_count": null,
   "metadata": {},
   "outputs": [],
   "source": [
    "## Estimate γ, holding ζ constant and setting cost = 0\n",
    "params = np.array([λ, η, γ, women['wage_flexsched'].mean(), women['wage_flexsched'].std()])\n",
    "\n",
    "logL_opt = lambda x: log_L(women, 'flexsched', 'wage_flexsched', 'dur', women['wage_flexsched'].min(), \n",
    "                            np.array([0,0]), prob_k, α, x[0], x[1], 1.28, x[2], \n",
    "                            x[3], x[4])\n",
    "\n",
    "est = minimize(logL_opt, params, method='Nelder-Mead', options={'maxiter':1000, 'disp':True}, bounds=Bounds)\n",
    "est.x\n"
   ]
  },
  {
   "cell_type": "code",
   "execution_count": null,
   "metadata": {},
   "outputs": [],
   "source": [
    "## Estimate ζ, holding γ constant and setting cost=0\n",
    "params = np.array([λ, η, ζ, women['wage_flexsched'].mean(), women['wage_flexsched'].std()])\n",
    "\n",
    "logL_opt = lambda x: log_L(women, 'flexsched', 'wage_flexsched', 'dur', women['wage_flexsched'].min(), \n",
    "                            np.array([0,0]), prob_k, α, x[0], x[1], x[2], -.144,\n",
    "                            x[3], x[4])\n",
    "\n",
    "est = minimize(logL_opt, params, method='Nelder-Mead', options={'maxiter':1000, 'disp':True}, bounds=Bounds)\n",
    "est.x\n"
   ]
  },
  {
   "cell_type": "markdown",
   "metadata": {},
   "source": [
    "#### Bootstrapping"
   ]
  },
  {
   "cell_type": "code",
   "execution_count": null,
   "metadata": {},
   "outputs": [],
   "source": [
    "## Estimate γ, holding ζ constant and cost = 0\n",
    "\n",
    "bootstrapped_data = bootstrap(women, n_samples=30)\n",
    "\n",
    "logL_gamma = []\n",
    "lambdas_gamma = []\n",
    "etas_gamma = []\n",
    "mus_gamma = []\n",
    "sigmas_gamma = []\n",
    "gammas = []\n",
    "\n",
    "for sample in bootstrapped_data:\n",
    "    params = np.array([λ, η, γ, sample['wage_flexsched'].mean(), sample['wage_flexsched'].std()])\n",
    "    \n",
    "    logL_opt = lambda x: log_L(sample, 'flexsched', 'wage_flexsched', 'dur', sample['wage_flexsched'].min(), \n",
    "                            np.array([0,0]), prob_k, α, x[0], x[1], ζ, x[2],\n",
    "                            x[3], x[4])\n",
    "\n",
    "    est = minimize(logL_opt, params, method='Nelder-Mead', options={'maxiter':1000}, bounds=Bounds)\n",
    "    \n",
    "    logL_gamma.append(est.fun)\n",
    "    lambdas_gamma.append(est.x[0])\n",
    "    etas_gamma.append(est.x[1])\n",
    "    gammas.append(est.x[2])\n",
    "    mus_gamma.append(est.x[3])\n",
    "    sigmas_gamma.append(est.x[4])"
   ]
  },
  {
   "cell_type": "code",
   "execution_count": null,
   "metadata": {},
   "outputs": [],
   "source": [
    "# Estimate ζ, holding γ constant and cost = 0\n",
    "bootstrapped_data = bootstrap(women, n_samples=30)\n",
    "\n",
    "logL_zetas = []\n",
    "lambdas_zetas = []\n",
    "etas_zetas = []\n",
    "mus_zetas = []\n",
    "sigmas_zetas = []\n",
    "zetas = []\n",
    "\n",
    "for sample in bootstrapped_data:\n",
    "    params = np.array([λ, η, ζ, sample['wage_flexsched'].mean(), sample['wage_flexsched'].std()])\n",
    "    \n",
    "    logL_opt = lambda x: log_L(sample, 'flexsched', 'wage_flexsched', 'dur', sample['wage_flexsched'].min(), \n",
    "                            np.array([0,0]), prob_k, α, x[0], x[1], x[2], γ,\n",
    "                            x[3], x[4])\n",
    "\n",
    "    est = minimize(logL_opt, params, method='Nelder-Mead', options={'maxiter':1000}, bounds=Bounds)\n",
    "    \n",
    "    logL_zetas.append(est.fun)\n",
    "    lambdas_zetas.append(est.x[0])\n",
    "    etas_zetas.append(est.x[1])\n",
    "    zetas.append(est.x[2])\n",
    "    mus_zetas.append(est.x[3])\n",
    "    sigmas_zetas.append(est.x[4])\n"
   ]
  },
  {
   "cell_type": "markdown",
   "metadata": {},
   "source": [
    "#### Compare Bootstrapped Results"
   ]
  },
  {
   "cell_type": "code",
   "execution_count": null,
   "metadata": {},
   "outputs": [],
   "source": [
    "mylist = [logL_gamma, lambdas_gamma, etas_gamma, mus_gamma, sigmas_gamma, gammas]\n",
    "\n",
    "for i in mylist:\n",
    "    fit_stats(i)"
   ]
  },
  {
   "cell_type": "code",
   "execution_count": null,
   "metadata": {},
   "outputs": [],
   "source": [
    "mylist = [logL_zetas, lambdas_zetas, etas_zetas, mus_zetas, sigmas_zetas, zetas]\n",
    "\n",
    "for i in mylist:\n",
    "    fit_stats(i)"
   ]
  },
  {
   "cell_type": "code",
   "execution_count": null,
   "metadata": {},
   "outputs": [],
   "source": [
    "fig, ax = plt.subplots(3,2,figsize=(8,6))\n",
    "\n",
    "sns.distplot(lambdas_gamma, ax=ax[0,0]).set(title=\"Lambda\")\n",
    "sns.distplot(etas_gamma, ax=ax[0,1]).set(title=\"Eta\")\n",
    "sns.distplot(mus_gamma, ax=ax[1,0]).set(title=\"Mu\")\n",
    "sns.distplot(sigmas_gamma, ax=ax[1,1]).set(title=\"Sigma\")\n",
    "sns.distplot(gammas, ax=ax[2,0]).set(title=\"Gammas\")\n",
    "sns.distplot(logL_gamma, ax=ax[2,1]).set(title=\"Log-Likelihood\")\n",
    "\n",
    "plt.tight_layout()"
   ]
  },
  {
   "cell_type": "code",
   "execution_count": null,
   "metadata": {},
   "outputs": [],
   "source": [
    "fig, ax = plt.subplots(3,2,figsize=(8,6))\n",
    "\n",
    "sns.distplot(lambdas_zetas, ax=ax[0,0]).set(title=\"Lambda\")\n",
    "sns.distplot(etas_zetas, ax=ax[0,1]).set(title=\"Eta\")\n",
    "sns.distplot(mus_zetas, ax=ax[1,0]).set(title=\"Mu\")\n",
    "sns.distplot(sigmas_zetas, ax=ax[1,1]).set(title=\"Sigma\")\n",
    "sns.distplot(zetas, ax=ax[2,0]).set(title=\"Zetas\")\n",
    "sns.distplot(logL_zetas, ax=ax[2,1]).set(title=\"Log-Likelihood\")\n",
    "\n",
    "plt.tight_layout()"
   ]
  },
  {
   "cell_type": "markdown",
   "metadata": {},
   "source": [
    "### Estimation: Women, Binary Location Flex"
   ]
  },
  {
   "cell_type": "code",
   "execution_count": null,
   "metadata": {},
   "outputs": [],
   "source": [
    "women['flexloc'].value_counts(normalize=True, sort=False)"
   ]
  },
  {
   "cell_type": "code",
   "execution_count": null,
   "metadata": {},
   "outputs": [],
   "source": [
    "# Utility measure for type of flex\n",
    "\n",
    "γ = 0.625 # Relative value of location flexibility to high salary from He et al (2021)\n",
    "\n",
    "prob_k = np.array([0.618812, 0.381188])\n"
   ]
  },
  {
   "cell_type": "code",
   "execution_count": null,
   "metadata": {
    "tags": []
   },
   "outputs": [],
   "source": [
    "## STRANGEST OUTPUT!\n",
    "\n",
    "# Estimate γ, holding ζ constant and setting cost = 0\n",
    "params = np.array([λ, η, γ, women['wage_flexloc'].mean(), women['wage_flexloc'].std()])\n",
    "\n",
    "logL_opt = lambda x: log_L(women, 'flexloc', 'wage_flexloc', 'dur', women['wage_flexloc'].min(), \n",
    "                            np.array([0,0]), prob_k, α, x[0], x[1], ζ, x[2], \n",
    "                            x[3], x[4])\n",
    "\n",
    "est = minimize(logL_opt, params, method='Nelder-Mead', options={'maxiter':1000, 'disp':True}, bounds=Bounds)\n",
    "est.x"
   ]
  },
  {
   "cell_type": "code",
   "execution_count": null,
   "metadata": {},
   "outputs": [],
   "source": [
    "# Estimate ζ, holding γ constant and setting cost=0\n",
    "params = np.array([λ, η, ζ, women['wage_flexloc'].mean(), women['wage_flexloc'].std()])\n",
    "\n",
    "logL_opt = lambda x: log_L(women, 'flexloc', 'wage_flexloc', 'dur', women['wage_flexloc'].min(), \n",
    "                            np.array([0,0]), prob_k, α, x[0], x[1], x[2], γ,\n",
    "                            x[3], x[4])\n",
    "\n",
    "est = minimize(logL_opt, params, method='Nelder-Mead', options={'maxiter':1000, 'disp':True}, bounds=Bounds)\n",
    "est.x"
   ]
  },
  {
   "cell_type": "markdown",
   "metadata": {},
   "source": [
    "#### Bootstrapping"
   ]
  },
  {
   "cell_type": "code",
   "execution_count": null,
   "metadata": {},
   "outputs": [],
   "source": [
    "# Estimate γ, holding ζ constant and cost = 0\n",
    "\n",
    "bootstrapped_data = bootstrap(women, n_samples=30)\n",
    "\n",
    "logL_gamma = []\n",
    "lambdas_gamma = []\n",
    "etas_gamma = []\n",
    "mus_gamma = []\n",
    "sigmas_gamma = []\n",
    "gammas = []\n",
    "\n",
    "for sample in bootstrapped_data:\n",
    "    params = np.array([λ, η, γ, sample['wage_flexloc'].mean(), sample['wage_flexloc'].std()])\n",
    "    \n",
    "    logL_opt = lambda x: log_L(sample, 'flexloc', 'wage_flexloc', 'dur', sample['wage_flexloc'].min(), \n",
    "                            np.array([0,0]), prob_k, α, x[0], x[1], ζ, x[2],\n",
    "                            x[3], x[4])\n",
    "\n",
    "    est = minimize(logL_opt, params, method='Nelder-Mead', options={'maxiter':1000}, bounds=Bounds)\n",
    "    \n",
    "    logL_gamma.append(est.fun)\n",
    "    lambdas_gamma.append(est.x[0])\n",
    "    etas_gamma.append(est.x[1])\n",
    "    gammas.append(est.x[2])\n",
    "    mus_gamma.append(est.x[3])\n",
    "    sigmas_gamma.append(est.x[4])"
   ]
  },
  {
   "cell_type": "code",
   "execution_count": null,
   "metadata": {},
   "outputs": [],
   "source": [
    "# Estimate ζ, holding γ constant and cost = 0\n",
    "bootstrapped_data = bootstrap(women, n_samples=30)\n",
    "\n",
    "logL_zetas = []\n",
    "lambdas_zetas = []\n",
    "etas_zetas = []\n",
    "mus_zetas = []\n",
    "sigmas_zetas = []\n",
    "zetas = []\n",
    "\n",
    "for sample in bootstrapped_data:\n",
    "    params = np.array([λ, η, ζ, sample['wage_flexloc'].mean(), sample['wage_flexloc'].std()])\n",
    "    \n",
    "    logL_opt = lambda x: log_L(sample, 'flexloc', 'wage_flexloc', 'dur', sample['wage_flexloc'].min(), \n",
    "                            np.array([0,0]), prob_k, α, x[0], x[1], x[2], γ,\n",
    "                            x[3], x[4])\n",
    "\n",
    "    est = minimize(logL_opt, params, method='Nelder-Mead', options={'maxiter':1000}, bounds=Bounds)\n",
    "    \n",
    "    logL_zetas.append(est.fun)\n",
    "    lambdas_zetas.append(est.x[0])\n",
    "    etas_zetas.append(est.x[1])\n",
    "    zetas.append(est.x[2])\n",
    "    mus_zetas.append(est.x[3])\n",
    "    sigmas_zetas.append(est.x[4])\n"
   ]
  },
  {
   "cell_type": "markdown",
   "metadata": {},
   "source": [
    "#### Compare Bootstrapped Results"
   ]
  },
  {
   "cell_type": "code",
   "execution_count": null,
   "metadata": {},
   "outputs": [],
   "source": [
    "mylist = [logL_gamma, lambdas_gamma, etas_gamma, mus_gamma, sigmas_gamma, gammas]\n",
    "\n",
    "for i in mylist:\n",
    "    fit_stats(i)"
   ]
  },
  {
   "cell_type": "code",
   "execution_count": null,
   "metadata": {},
   "outputs": [],
   "source": [
    "mylist = [logL_zetas, lambdas_zetas, etas_zetas, mus_zetas, sigmas_zetas, zetas]\n",
    "\n",
    "for i in mylist:\n",
    "    fit_stats(i)"
   ]
  },
  {
   "cell_type": "code",
   "execution_count": null,
   "metadata": {},
   "outputs": [],
   "source": [
    "fig, ax = plt.subplots(3,2,figsize=(8,6))\n",
    "\n",
    "sns.distplot(lambdas_gamma, ax=ax[0,0]).set(title=\"Lambda\")\n",
    "sns.distplot(etas_gamma, ax=ax[0,1]).set(title=\"Eta\")\n",
    "sns.distplot(mus_gamma, ax=ax[1,0]).set(title=\"Mu\")\n",
    "sns.distplot(sigmas_gamma, ax=ax[1,1]).set(title=\"Sigma\")\n",
    "sns.distplot(gammas, ax=ax[2,0]).set(title=\"Gammas\")\n",
    "sns.distplot(logL_gamma, ax=ax[2,1]).set(title=\"Log-Likelihood\")\n",
    "\n",
    "plt.tight_layout()"
   ]
  },
  {
   "cell_type": "code",
   "execution_count": null,
   "metadata": {},
   "outputs": [],
   "source": [
    "fig, ax = plt.subplots(3,2,figsize=(8,6))\n",
    "\n",
    "sns.distplot(lambdas_zetas, ax=ax[0,0]).set(title=\"Lambda\")\n",
    "sns.distplot(etas_zetas, ax=ax[0,1]).set(title=\"Eta\")\n",
    "sns.distplot(mus_zetas, ax=ax[1,0]).set(title=\"Mu\")\n",
    "sns.distplot(sigmas_zetas, ax=ax[1,1]).set(title=\"Sigma\")\n",
    "sns.distplot(zetas, ax=ax[2,0]).set(title=\"Zetas\")\n",
    "sns.distplot(logL_zetas, ax=ax[2,1]).set(title=\"Log-Likelihood\")\n",
    "\n",
    "plt.tight_layout()"
   ]
  },
  {
   "cell_type": "code",
   "execution_count": null,
   "metadata": {},
   "outputs": [],
   "source": []
  },
  {
   "cell_type": "markdown",
   "metadata": {},
   "source": [
    "## Utility with wage and flex; Productivity with TFP coeff; Two-Stage Estimation"
   ]
  },
  {
   "cell_type": "code",
   "execution_count": null,
   "metadata": {},
   "outputs": [],
   "source": [
    "# Two-stage estimation\n",
    "\n",
    "## Labor Market Variables in the first stage\n",
    "Bounds1 = ((0,999), (0,999), (0,999), (0,999))\n",
    "\n",
    "params1 = np.array([λ, η, men['wage_flexsched'].mean(), men['wage_flexsched'].std()])\n",
    "\n",
    "logL_opt1 = lambda x: log_L(men, 'flex', 'wage_flexsched', 'dur', men['wage_flexsched'].min(), \n",
    "                            np.array([0,7]), prob_k, α, x[0], x[1], ζ, γ,\n",
    "                            x[2], x[3])\n",
    "\n",
    "est2 = minimize(logL_opt1, params1, method='Nelder-Mead', options={'maxiter':500, 'disp':True}, bounds=Bounds1)\n",
    "\n",
    "## Flexibility Variables in the second stage\n",
    "params2 = np.array([c_k[1], ζ, γ])\n",
    "\n",
    "logL_opt2 = lambda x: log_L(men, 'flex', 'wage_flexsched', 'dur', men['wage_flexsched'].min(), \n",
    "                            np.array([0,x[0]]), prob_k, α, est2.x[0], est2.x[1], x[1], x[2],\n",
    "                            est2.x[2], est2.x[3])\n",
    "\n",
    "est2_second = minimize(logL_opt2, params2, method='Nelder-Mead', options={'maxiter':500, 'disp':True})"
   ]
  },
  {
   "cell_type": "code",
   "execution_count": null,
   "metadata": {},
   "outputs": [],
   "source": [
    "print(\"Men's Labor market variables [λ, η, μ, σ] = \"+ str(est2.x))\n",
    "print(\"Men's Flexibility variables [c(1), ζ, γ] = \"+ str(est2_second.x))"
   ]
  },
  {
   "cell_type": "code",
   "execution_count": null,
   "metadata": {},
   "outputs": [],
   "source": [
    "# Two-stage estimation with bootstrapping\n",
    "\n",
    "## Labor Market Variables in the first stage: λ, η, μ, σ\n",
    "Bounds1 = ((0,999), (0,999), (0,999), (0,999))\n",
    "params1 = np.array([λ, η, men['wage_flexsched'].mean(), men['wage_flexsched'].std()])\n",
    "\n",
    "## Flexibility Variables in the second stage: c(k), ζ, γ\n",
    "params2 = np.array([c_k[1], ζ, γ])\n",
    "\n",
    "## Bootstrapping\n",
    "bootstrapped_data = bootstrap(men, n_samples=30)\n",
    "\n",
    "logL1 = []\n",
    "logL2 = []\n",
    "lambdas = []\n",
    "etas = []\n",
    "mus = []\n",
    "sigmas = []\n",
    "cs = []\n",
    "zetas = []\n",
    "gammas = []\n",
    "\n",
    "for sample in bootstrapped_data:\n",
    "    logL_opt1 = lambda x: log_L(sample, 'flex', 'wage_flexsched', 'dur', sample['wage_flexsched'].min(), \n",
    "                            np.array([0,7]), prob_k, α, x[0], x[1], ζ, γ,\n",
    "                            x[2], x[3])\n",
    "    est2 = minimize(logL_opt1, params1, method='Nelder-Mead', bounds=Bounds1)#options={'maxiter':500, 'disp':True}, \n",
    "    \n",
    "    logL_opt2 = lambda x: log_L(sample, 'flex', 'wage_flexsched', 'dur', sample['wage_flexsched'].min(), \n",
    "                            np.array([0,x[0]]), prob_k, α, est2.x[0], est2.x[1], x[1], x[2],\n",
    "                            est2.x[2], est2.x[3])\n",
    "    est2_second = minimize(logL_opt2, params2, method='Nelder-Mead')#, options={'maxiter':500, 'disp':True}\n",
    "    \n",
    "    logL1.append(est2.fun)\n",
    "    logL2.append(est2_second.fun)\n",
    "    lambdas.append(est2.x[0])\n",
    "    etas.append(est2.x[1])\n",
    "    mus.append(est2.x[2])\n",
    "    sigmas.append(est2.x[3])\n",
    "    cs.append(est2_second.x[0])\n",
    "    zetas.append(est2_second.x[1])\n",
    "    gammas.append(est2_second.x[2])\n",
    "\n",
    "mylist = [logL1, logL2, lambdas, etas, mus, sigmas, cs, zetas, gammas]\n",
    "\n",
    "for i in mylist:\n",
    "    fit_stats(i)"
   ]
  },
  {
   "cell_type": "code",
   "execution_count": null,
   "metadata": {},
   "outputs": [],
   "source": [
    "fig, ax = plt.subplots(3,3,figsize=(12,12))\n",
    "sns.distplot(logL1, ax=ax[0,0]).set(title=\"Log-Likelihood of First Stage\")\n",
    "sns.distplot(logL2, ax=ax[0,1]).set(title=\"Log-Likelihood of Second Stage\")\n",
    "sns.distplot(lambdas, ax=ax[0,2]).set(title=\"Lambda\")\n",
    "sns.distplot(etas, ax=ax[1,0]).set(title=\"Eta\")\n",
    "sns.distplot(mus, ax=ax[1,1]).set(title=\"Mu\")\n",
    "sns.distplot(sigmas, ax=ax[1,2]).set(title=\"Sigma\")\n",
    "sns.distplot(cs, ax=ax[2,0]).set(title=\"Cost of Flexibility\")\n",
    "sns.distplot(zetas, ax=ax[2,1]).set(title=\"Zetas\")\n",
    "sns.distplot(gammas, ax=ax[2,2]).set(title=\"Gammas\")\n",
    "\n",
    "plt.tight_layout()"
   ]
  },
  {
   "cell_type": "code",
   "execution_count": null,
   "metadata": {},
   "outputs": [],
   "source": []
  },
  {
   "cell_type": "code",
   "execution_count": null,
   "metadata": {},
   "outputs": [],
   "source": [
    "# Binary flexibility\n",
    "\n",
    "Bounds = ((0,999), (0,999), (0,999), (0,999))\n",
    "\n",
    "params = np.array([λ, η, men['wage_flexsched'].mean(), men['wage_flexsched'].std()])\n",
    "\n",
    "logL_opt = lambda x: log_L(men, 'flex', 'wage_flexsched', 'dur', men['wage_flexsched'].min(), \n",
    "                            np.array([0,10]), prob_k, α, x[0], x[1], ζ, γ,\n",
    "                            x[2], x[3])\n",
    "\n",
    "est2 = minimize(logL_opt, params, method='Nelder-Mead', bounds=Bounds, options={'maxiter':5000, 'disp':True})"
   ]
  },
  {
   "cell_type": "code",
   "execution_count": null,
   "metadata": {},
   "outputs": [],
   "source": [
    "est2.x"
   ]
  },
  {
   "cell_type": "code",
   "execution_count": null,
   "metadata": {},
   "outputs": [],
   "source": [
    "params = np.array([c_k[1], ζ, γ])\n",
    "\n",
    "logL_opt = lambda x: log_L(men, 'flex', 'wage_flexsched', 'dur', men['wage_flexsched'].min(), \n",
    "                            np.array([0,x[0]]), prob_k, α, est2.x[0], est2.x[1], x[1], x[2],\n",
    "                            est2.x[2], est2.x[3])\n",
    "\n",
    "est2_second = minimize(logL_opt, params, method='Nelder-Mead', options={'maxiter':500, 'disp':True})"
   ]
  },
  {
   "cell_type": "code",
   "execution_count": null,
   "metadata": {},
   "outputs": [],
   "source": [
    "est2_second.x"
   ]
  },
  {
   "cell_type": "code",
   "execution_count": null,
   "metadata": {},
   "outputs": [],
   "source": []
  },
  {
   "cell_type": "code",
   "execution_count": null,
   "metadata": {},
   "outputs": [],
   "source": [
    "# Binary flexibility\n",
    "\n",
    "Bounds = ((0,999), (0,999), (0,999), (0,999))\n",
    "\n",
    "params = np.array([λ, η, women['wage_flexsched'].mean(), women['wage_flexsched'].std()])\n",
    "\n",
    "logL_opt = lambda x: log_L(women, 'flex', 'wage_flexsched', 'dur', women['wage_flexsched'].min(), \n",
    "                            np.array([0,7]), prob_k, α, x[0], x[1], ζ, γ,\n",
    "                            x[2], x[3])\n",
    "\n",
    "est2 = minimize(logL_opt, params, method='Nelder-Mead', options={'maxiter':500, 'disp':True}, bounds=Bounds)"
   ]
  },
  {
   "cell_type": "code",
   "execution_count": null,
   "metadata": {},
   "outputs": [],
   "source": [
    "est2.x"
   ]
  },
  {
   "cell_type": "code",
   "execution_count": null,
   "metadata": {},
   "outputs": [],
   "source": [
    "params = np.array([c_k[1], ζ, γ])\n",
    "\n",
    "logL_opt = lambda x: log_L(women, 'flex', 'wage_flexsched', 'dur', women['wage_flexsched'].min(), \n",
    "                            np.array([0,x[0]]), prob_k, α, est2.x[0], est2.x[1], x[1], x[2],\n",
    "                            est2.x[2], est2.x[3])\n",
    "\n",
    "est2_second = minimize(logL_opt, params, method='Nelder-Mead', options={'maxiter':500, 'disp':True})"
   ]
  },
  {
   "cell_type": "code",
   "execution_count": null,
   "metadata": {},
   "outputs": [],
   "source": [
    "est2_second.x"
   ]
  },
  {
   "cell_type": "code",
   "execution_count": null,
   "metadata": {},
   "outputs": [],
   "source": []
  },
  {
   "cell_type": "code",
   "execution_count": null,
   "metadata": {},
   "outputs": [],
   "source": [
    "# Two-stage estimation\n",
    "\n",
    "## Labor Market Variables in the first stage\n",
    "Bounds1 = ((0,999), (0,999), (0,999), (0,999))\n",
    "\n",
    "params1 = np.array([λ, η, women['wage_flexsched'].mean(), women['wage_flexsched'].std()])\n",
    "\n",
    "logL_opt1 = lambda x: log_L(women, 'flex', 'wage_flexsched', 'dur', women['wage_flexsched'].min(), \n",
    "                            np.array([0,7]), prob_k, α, x[0], x[1], ζ, γ,\n",
    "                            x[2], x[3])\n",
    "\n",
    "est2 = minimize(logL_opt1, params1, method='Nelder-Mead', options={'maxiter':500, 'disp':True}, bounds=Bounds1)\n",
    "\n",
    "## Flexibility Variables in the second stage\n",
    "params2 = np.array([c_k[1], ζ, γ])\n",
    "\n",
    "logL_opt2 = lambda x: log_L(women, 'flex', 'wage_flexsched', 'dur', women['wage_flexsched'].min(), \n",
    "                            np.array([0,x[0]]), prob_k, α, est2.x[0], est2.x[1], x[1], x[2],\n",
    "                            est2.x[2], est2.x[3])\n",
    "\n",
    "est2_second = minimize(logL_opt2, params2, method='Nelder-Mead', options={'maxiter':500, 'disp':True})"
   ]
  },
  {
   "cell_type": "code",
   "execution_count": null,
   "metadata": {},
   "outputs": [],
   "source": [
    "print(\"Women's Labor market variables [λ, η, μ, σ] = \"+ str(est2.x))\n",
    "print(\"Women's Flexibility variables [c(1), ζ, γ] = \"+ str(est2_second.x))"
   ]
  },
  {
   "cell_type": "code",
   "execution_count": null,
   "metadata": {},
   "outputs": [],
   "source": []
  },
  {
   "cell_type": "code",
   "execution_count": null,
   "metadata": {},
   "outputs": [],
   "source": [
    "params = np.array([c_k[1], c_k[2], λ, η, γ, men['wage_flexschedscore'].mean(), men['wage_flexschedscore'].std()])\n",
    "\n",
    "logL_opt = lambda x: log_L(men, 'flex_sched_score', 'wage_flexschedscore', 'dur', men['wage_flexschedscore'].min(), \n",
    "                            np.array([0,x[0],x[1]]), prob_k, α, x[2], x[3], ζ, x[4],\n",
    "                            x[5], x[6])\n",
    "\n",
    "est4 = minimize(logL_opt, params, method='Nelder-Mead', options={'maxiter':800})"
   ]
  },
  {
   "cell_type": "markdown",
   "metadata": {},
   "source": [
    "Runs if $\\zeta = 1$ and $\\gamma = 0$, as in the initial model, so it is a problem of using one flexibility marker to estimate 3 flexibility measures"
   ]
  },
  {
   "cell_type": "code",
   "execution_count": null,
   "metadata": {},
   "outputs": [],
   "source": [
    "est4.success"
   ]
  },
  {
   "cell_type": "code",
   "execution_count": null,
   "metadata": {},
   "outputs": [],
   "source": [
    "est4"
   ]
  },
  {
   "cell_type": "code",
   "execution_count": null,
   "metadata": {},
   "outputs": [],
   "source": [
    "est4.fun"
   ]
  },
  {
   "cell_type": "code",
   "execution_count": null,
   "metadata": {},
   "outputs": [],
   "source": []
  },
  {
   "cell_type": "code",
   "execution_count": null,
   "metadata": {},
   "outputs": [],
   "source": [
    "# Parameters to be estimated \n",
    "\n",
    "c_k = np.array([0,5,10])\n",
    "λ = 2.1\n",
    "η = 2.1\n",
    "μ = men['hrwage'].groupby(men['flex_sched_score']).mean().values\n",
    "σ = men['hrwage'].groupby(men['flex_sched_score']).std().values"
   ]
  },
  {
   "cell_type": "code",
   "execution_count": null,
   "metadata": {},
   "outputs": [],
   "source": [
    "logL_opt = lambda x: log_L(men, 'flex_sched_score', 'hrwage', 'dur', Uk, \n",
    "                            x[0], prob_k, 0.5, x[1], x[2],\n",
    "                            x[3], x[4])"
   ]
  },
  {
   "cell_type": "code",
   "execution_count": null,
   "metadata": {},
   "outputs": [],
   "source": [
    "params = np.array([c_k, float(λ), float(η), μ, σ])\n",
    "params"
   ]
  },
  {
   "cell_type": "code",
   "execution_count": null,
   "metadata": {},
   "outputs": [],
   "source": [
    "params[1]"
   ]
  },
  {
   "cell_type": "code",
   "execution_count": null,
   "metadata": {},
   "outputs": [],
   "source": [
    "log_L(men, 'flex_sched_score', 'hrwage', 'dur', Uk, \n",
    "                            params[0], prob_k, 0.5, params[1], params[2],\n",
    "                            params[3], params[4])"
   ]
  },
  {
   "cell_type": "code",
   "execution_count": null,
   "metadata": {},
   "outputs": [],
   "source": [
    "logL_opt(params)"
   ]
  },
  {
   "cell_type": "code",
   "execution_count": null,
   "metadata": {},
   "outputs": [],
   "source": []
  },
  {
   "cell_type": "markdown",
   "metadata": {},
   "source": [
    "### Estimation: Men, K=3"
   ]
  },
  {
   "cell_type": "code",
   "execution_count": null,
   "metadata": {},
   "outputs": [],
   "source": [
    "men['flex_sched_score'].value_counts(normalize=True, sort=False)"
   ]
  },
  {
   "cell_type": "code",
   "execution_count": null,
   "metadata": {},
   "outputs": [],
   "source": [
    "prob_k = np.array([0.274557, 0.547504, 0.177939])"
   ]
  },
  {
   "cell_type": "code",
   "execution_count": null,
   "metadata": {},
   "outputs": [],
   "source": [
    "# Two-stage estimation\n",
    "\n",
    "## Labor Market Variables in the first stage\n",
    "Bounds1 = ((0,999), (0,999), (0,999), (0,999))\n",
    "\n",
    "params1 = np.array([λ, η, men['wage_flexschedscore'].mean(), men['wage_flexschedscore'].std()])\n",
    "\n",
    "logL_opt1 = lambda x: log_L(men, 'flex_sched_score', 'wage_flexschedscore', 'dur', men['wage_flexschedscore'].min(), \n",
    "                            np.array([0,7,10]), prob_k, α, x[0], x[1], ζ, γ,\n",
    "                            x[2], x[3])\n",
    "\n",
    "est4 = minimize(logL_opt1, params1, method='Nelder-Mead', options={'maxiter':500, 'disp':True}, bounds=Bounds1)\n",
    "\n",
    "## Flexibility Variables in the second stage\n",
    "params2 = np.array([c_k[1], c_k[2], ζ, γ])\n",
    "\n",
    "logL_opt2 = lambda x: log_L(men, 'flex_sched_score', 'wage_flexschedscore', 'dur', men['wage_flexschedscore'].min(), \n",
    "                            np.array([0,x[0],x[1]]), prob_k, α, est4.x[0], est4.x[1], x[2], x[3],\n",
    "                            est4.x[2], est4.x[3])\n",
    "\n",
    "est4_second = minimize(logL_opt2, params2, method='Nelder-Mead', options={'maxiter':500, 'disp':True})"
   ]
  },
  {
   "cell_type": "code",
   "execution_count": null,
   "metadata": {},
   "outputs": [],
   "source": [
    "print(\"Men's Labor market variables [λ, η, μ, σ] = \"+ str(est4.x))\n",
    "print(\"Men's Flexibility variables [c(1), c(2), ζ, γ] = \"+ str(est4_second.x))"
   ]
  },
  {
   "cell_type": "markdown",
   "metadata": {},
   "source": [
    "### Estimation: Women, K=3 \n",
    "Estimation is finding $\\mu=0$"
   ]
  },
  {
   "cell_type": "code",
   "execution_count": null,
   "metadata": {},
   "outputs": [],
   "source": [
    "women['flex_sched_score'].value_counts(normalize=True, sort=False)"
   ]
  },
  {
   "cell_type": "code",
   "execution_count": null,
   "metadata": {},
   "outputs": [],
   "source": [
    "prob_k = np.array([0.402640, 0.444719, 0.152640])"
   ]
  },
  {
   "cell_type": "code",
   "execution_count": null,
   "metadata": {},
   "outputs": [],
   "source": [
    "# Two-stage estimation\n",
    "\n",
    "# Labor Market Variables in the first stage\n",
    "Bounds1 = ((0,999), (0,999), (0,999), (0,999))\n",
    "\n",
    "params1 = np.array([λ, η, women['wage_flexschedscore'].mean(), women['wage_flexschedscore'].std()])\n",
    "\n",
    "logL_opt1 = lambda x: log_L(women, 'flex_sched_score', 'wage_flexschedscore', 'dur', women['wage_flexschedscore'].min(), \n",
    "                            np.array([0,7,10]), prob_k, α, x[0], x[1], ζ, γ,\n",
    "                            x[2], x[3])\n",
    "\n",
    "est4 = minimize(logL_opt1, params1, method='Nelder-Mead', options={'maxiter':500, 'disp':True}, bounds=Bounds1)\n",
    "\n",
    "# Flexibility Variables in the second stage\n",
    "params2 = np.array([c_k[1], c_k[2], ζ, γ])\n",
    "\n",
    "logL_opt2 = lambda x: log_L(women, 'flex_sched_score', 'wage_flexschedscore', 'dur', women['wage_flexschedscore'].min(), \n",
    "                            np.array([0,x[0],x[1]]), prob_k, α, est4.x[0], est4.x[1], x[2], x[3],\n",
    "                            est4.x[2], est4.x[3])\n",
    "\n",
    "est4_second = minimize(logL_opt2, params2, method='Nelder-Mead', options={'maxiter':1000, 'disp':True})"
   ]
  },
  {
   "cell_type": "code",
   "execution_count": null,
   "metadata": {},
   "outputs": [],
   "source": [
    "print(\"Women's Labor market variables [λ, η, μ, σ] = \"+ str(est4.x))\n",
    "print(\"Women's Flexibility variables [c(1), c(2), ζ, γ] = \"+ str(est4_second.x))"
   ]
  },
  {
   "cell_type": "code",
   "execution_count": null,
   "metadata": {
    "jupyter": {
     "source_hidden": true
    },
    "tags": []
   },
   "outputs": [],
   "source": []
  },
  {
   "cell_type": "code",
   "execution_count": null,
   "metadata": {},
   "outputs": [],
   "source": []
  },
  {
   "cell_type": "markdown",
   "metadata": {},
   "source": [
    "## Flex Schedule Score (k = 3)"
   ]
  },
  {
   "cell_type": "code",
   "execution_count": null,
   "metadata": {},
   "outputs": [],
   "source": [
    "fig, ax = plt.subplots(3, 1, figsize=(12, 8))\n",
    "\n",
    "for k in range(3):\n",
    "    tmp = df[(df['flex_sched_score']==k) & (df['sex']=='male') & (df['employed']==1)]\n",
    "    sns.distplot(tmp['hrwage'], color='#4B9CD3', hist_kws={'alpha' : .3}, bins=100, ax=ax[k])\n",
    "#     ax[k].legend(['Flexibility Level ' + str(k)])\n",
    "    ax[k].set_ylim([0,0.1])\n",
    "    ax[k].set_xlim([0,75])\n",
    "    ax[k].set(xlabel = 'Hourly Wage for Men with Flexibile Schedule Score ' +str(k))\n",
    "\n",
    "# ax.set(xlabel=\"Distribution of Men's Hourly Wage (raw)\")\n",
    "\n",
    "plt.tight_layout()\n",
    "\n",
    "fig.savefig('./hrwage_men_3flex.png', bbox_inches='tight', transparent=True)"
   ]
  },
  {
   "cell_type": "code",
   "execution_count": null,
   "metadata": {},
   "outputs": [],
   "source": [
    "fig, ax = plt.subplots(3, 1, figsize=(12, 8))\n",
    "\n",
    "for k in range(3):\n",
    "    tmp = df[(df['flex_sched_score']==k) & (df['sex']=='female') & (df['employed']==1)]\n",
    "    sns.distplot(tmp['hrwage'], color='#4B9CD3', hist_kws={'alpha' : .3}, bins=100, ax=ax[k])\n",
    "#     ax[k].legend(['Flexibility Level ' + str(k)])\n",
    "    ax[k].set_ylim([0,0.1])\n",
    "    ax[k].set_xlim([0,75])\n",
    "    ax[k].set(xlabel = 'Hourly Wage for Women with Flexibile Schedule Score ' +str(k))\n",
    "\n",
    "# ax.set(xlabel=\"Distribution of Men's Hourly Wage (raw)\")\n",
    "\n",
    "plt.tight_layout()\n",
    "\n",
    "fig.savefig('./hrwage_women_3flex.png', bbox_inches='tight', transparent=True)"
   ]
  },
  {
   "cell_type": "code",
   "execution_count": null,
   "metadata": {},
   "outputs": [],
   "source": [
    "fig, ax = plt.subplots(3, 1, figsize=(12, 8))\n",
    "\n",
    "for k in range(3):\n",
    "    tmp = women[(women['flex_sched_score']==k) & (women['employed']==1)]\n",
    "    sns.distplot(tmp['wage_flexschedscore'], color='#4B9CD3', hist_kws={'alpha' : .3}, bins=100, ax=ax[k])\n",
    "#     ax[k].legend(['Flex Level ' + str(k)])\n",
    "    ax[k].set_ylim([0,0.1])\n",
    "    ax[k].set_xlim([0,75])\n",
    "    ax[k].set(xlabel = 'Truncated Hourly Wage for Women with Flexibile Schedule Score ' +str(k))\n",
    "\n",
    "#ax.set(xlabel=\"Distribution of Men's Hourly Wage\")\n",
    "\n",
    "plt.tight_layout()\n",
    "\n",
    "fig.savefig('./wageTrunc_women_3flex.png', bbox_inches='tight', transparent=True)"
   ]
  },
  {
   "cell_type": "code",
   "execution_count": null,
   "metadata": {},
   "outputs": [],
   "source": []
  },
  {
   "cell_type": "markdown",
   "metadata": {},
   "source": [
    "## Utility Linear in wage and Productivity assumption $y(x;k) = kx$"
   ]
  },
  {
   "cell_type": "markdown",
   "metadata": {},
   "source": [
    "### Functions"
   ]
  },
  {
   "cell_type": "code",
   "execution_count": null,
   "metadata": {},
   "outputs": [],
   "source": [
    "def Pr_wage_given_match(data: pd.DataFrame, flex: str, wage: str, res_wage: float, c_k: np.array, α: float, μ: float, σ: float):\n",
    "    \"\"\"\n",
    "    Calculates probability of a wage draw conditional on a match being formed \n",
    "    \n",
    "    Inputs\n",
    "    - data: DataFrame\n",
    "    - flex: string for name of flexibility column\n",
    "    - wage: string for name of wage column\n",
    "    - res_wage: float of observed minimum wage\n",
    "    - c_k: Kx1 array of cost of providing flexibility\n",
    "    - α: bargaining parameter\n",
    "    - μ: location parameter of the log-normal wage distribution\n",
    "    - σ: scale parameter of the log-normal wage distribution\n",
    "    \n",
    "    Functions\n",
    "    - lognormpdf(x: np.array, μ: float, σ: float)\n",
    "    - lognormsf(x: np.array, μ: float, σ: float)\n",
    "    \"\"\"\n",
    "    employed_indiv = np.zeros(1) #sets first entry to zero \n",
    "\n",
    "    for k in range(len(c_k)):\n",
    "        tmp = data[data[flex]==k]\n",
    "        g = ( 1/( α*(k+1) ) ) * lognormpdf( ( 1/( α*(k+1) ) )*( tmp[wage] - (1-α)*res_wage + α*c_k[k] ), μ, σ )\n",
    "        G_tilde = lognormsf( ( 1/(k+1) )*( res_wage + c_k[k] ), μ, σ )\n",
    "        divide_thing = g/G_tilde\n",
    "        employed_indiv = np.append(employed_indiv, divide_thing)\n",
    "    \n",
    "    return employed_indiv[1:] #removes first entry "
   ]
  },
  {
   "cell_type": "code",
   "execution_count": null,
   "metadata": {},
   "outputs": [],
   "source": [
    "def hazard(res_wage: float, c_k: np.array, p_k: np.array, λ: float, μ: float, σ: float):\n",
    "    \"\"\"\n",
    "    Calculates the hazard rate out of employment \n",
    "    \n",
    "    Inputs\n",
    "    - res_wage: float of observed minimum wage\n",
    "    - c_k: Kx1 array of cost of providing flexibility\n",
    "    - p_k: Kx1 array of probability of each level of flexibility\n",
    "    - λ: arrival rate of offer\n",
    "    - μ: location parameter of the log-normal wage distribution\n",
    "    - σ: scale parameter of the log-normal wage distribution\n",
    "    \n",
    "    Functions\n",
    "    - lognormsf(x: np.array, μ: float, σ: float)\n",
    "    \"\"\"\n",
    "    \n",
    "    prob_sum = 0\n",
    "    \n",
    "    if len(p_k)!=len(c_k):\n",
    "        return print(\"Length of p_k and c_k do not match.\")\n",
    "    else:\n",
    "        for k in range(len(c_k)):\n",
    "            prob_sum += p_k[k] * lognormsf( ( 1/(k+1) )*( res_wage + c_k[k]), μ, σ ) #k+1 because Python index 0\n",
    "\n",
    "    return λ*prob_sum"
   ]
  },
  {
   "cell_type": "code",
   "execution_count": null,
   "metadata": {},
   "outputs": [],
   "source": [
    "def log_L(data: pd.DataFrame, flex: str, wage: str, dur: str, res_wage: float, c_k: np.array, p_k: np.array, α: float, λ: float, η: float, μ: float, σ: float):\n",
    "    \"\"\"\n",
    "    \n",
    "    Inputs\n",
    "    - data: DataFrame of all individuals\n",
    "    - flex: string for column of flexibility index (k)\n",
    "    - wage: string for column of wage data \n",
    "    - dur: string for unemployment duration data\n",
    "    - res_wage: float of observed minimum wage\n",
    "    - c_k: Kx1 array of cost of providing flexibility\n",
    "    - p_k: Kx1 array of probability of each level of flexibility\n",
    "    - α: bargaining parameter\n",
    "    - λ: arrival rate of offer\n",
    "    - η: termination rate\n",
    "    - μ: location parameter of the log-normal wage distribution\n",
    "    - σ: scale parameter of the log-normal wage distribution\n",
    "    \n",
    "    Functions\n",
    "    - hazard(res_wage: np.array, c_k: np.array, p_k: np.array, λ: float, μ: float, σ: float)\n",
    "    - Pr_wage_given_match(data: pd.DataFrame, flex: str, wage: str, res_wage: np.array, c_k: np.array,  α: float, μ: float, σ: float)\n",
    "    \"\"\"\n",
    "    \n",
    "    N_log_h = data.count() * np.log( hazard(res_wage, c_k, p_k, λ, μ, σ) )\n",
    "    N_log_h_plus_η = data.count() * np.log( hazard(res_wage, c_k, p_k, λ, μ, σ) + η )\n",
    "    \n",
    "    empl_data = np.sum( np.log( Pr_wage_given_match(data, flex, wage, res_wage, c_k, α, μ, σ) ) )\n",
    "    \n",
    "    Nu_log_η = data[dur].count() * np.log(η)\n",
    "    \n",
    "    unempl_data = hazard(res_wage, c_k, p_k, λ, μ, σ) * np.sum(data[dur])\n",
    "    \n",
    "    logL = -(N_log_h - N_log_h_plus_η + empl_data + Nu_log_η - unempl_data)\n",
    "    \n",
    "    return logL[0]"
   ]
  },
  {
   "cell_type": "code",
   "execution_count": null,
   "metadata": {},
   "outputs": [],
   "source": [
    "# Parameters to be estimated \n",
    "\n",
    "c_k = np.array([0,5,10])\n",
    "λ = 10\n",
    "η = 10"
   ]
  },
  {
   "cell_type": "markdown",
   "metadata": {},
   "source": [
    "### Estimation: Men, K=3"
   ]
  },
  {
   "cell_type": "code",
   "execution_count": null,
   "metadata": {},
   "outputs": [],
   "source": [
    "men['flex_sched_score'].value_counts(normalize=True, sort=False)"
   ]
  },
  {
   "cell_type": "code",
   "execution_count": null,
   "metadata": {},
   "outputs": [],
   "source": [
    "prob_k = np.array([0.274557, 0.547504, 0.177939])"
   ]
  },
  {
   "cell_type": "code",
   "execution_count": null,
   "metadata": {},
   "outputs": [],
   "source": [
    "params = np.array([c_k[1], c_k[2], λ, η, men['wage_flexschedscore'].mean(), men['wage_flexschedscore'].std()])\n",
    "\n",
    "logL_opt = lambda x: log_L(men, 'flex_sched_score', 'wage_flexschedscore', 'dur', men['wage_flexschedscore'].min(), \n",
    "                            np.array([0,x[0],x[1]]), prob_k, 0.5, x[2], x[3],\n",
    "                            x[4], x[5])\n",
    "\n",
    "est4 = minimize(logL_opt, params, method='Nelder-Mead')"
   ]
  },
  {
   "cell_type": "code",
   "execution_count": null,
   "metadata": {},
   "outputs": [],
   "source": [
    "est4.success"
   ]
  },
  {
   "cell_type": "code",
   "execution_count": null,
   "metadata": {},
   "outputs": [],
   "source": [
    "est4.x"
   ]
  },
  {
   "cell_type": "code",
   "execution_count": null,
   "metadata": {},
   "outputs": [],
   "source": [
    "est4.fun"
   ]
  },
  {
   "cell_type": "code",
   "execution_count": null,
   "metadata": {},
   "outputs": [],
   "source": [
    "params = np.array([c_k[1], c_k[2], λ, η, men['hrwage'].mean(), men['hrwage'].std()])\n",
    "\n",
    "logL_opt = lambda x: log_L(men, 'flex_sched_score', 'hrwage', 'dur', men['hrwage'].min(), \n",
    "                            np.array([0,x[0],x[1]]), prob_k, 0.5, x[2], x[3],\n",
    "                            x[4], x[5])\n",
    "\n",
    "est3 = minimize(logL_opt, params, method='Nelder-Mead')"
   ]
  },
  {
   "cell_type": "code",
   "execution_count": null,
   "metadata": {},
   "outputs": [],
   "source": [
    "est3.success"
   ]
  },
  {
   "cell_type": "code",
   "execution_count": null,
   "metadata": {},
   "outputs": [],
   "source": [
    "est3.x"
   ]
  },
  {
   "cell_type": "code",
   "execution_count": null,
   "metadata": {},
   "outputs": [],
   "source": [
    "est3.fun"
   ]
  },
  {
   "cell_type": "markdown",
   "metadata": {},
   "source": [
    "### Estimation: Men, K=2"
   ]
  },
  {
   "cell_type": "code",
   "execution_count": null,
   "metadata": {},
   "outputs": [],
   "source": [
    "men['flex'].value_counts(normalize=True, sort=False)"
   ]
  },
  {
   "cell_type": "code",
   "execution_count": null,
   "metadata": {},
   "outputs": [],
   "source": [
    "prob_k = np.array([0.274557, 0.725443])"
   ]
  },
  {
   "cell_type": "code",
   "execution_count": null,
   "metadata": {},
   "outputs": [],
   "source": [
    "params = np.array([c_k[1], λ, η, men['wage_flexsched'].mean(), men['wage_flexsched'].std()])\n",
    "\n",
    "logL_opt = lambda x: log_L(men, 'flex', 'wage_flexsched', 'dur', men['wage_flexsched'].min(), \n",
    "                            np.array([0,x[0]]), prob_k, 0.5, x[1], x[2],\n",
    "                            x[3],x[4])\n",
    "\n",
    "est2 = minimize(logL_opt, params, method='Nelder-Mead', options={'maxiter':8000})"
   ]
  },
  {
   "cell_type": "code",
   "execution_count": null,
   "metadata": {},
   "outputs": [],
   "source": [
    "est2.success"
   ]
  },
  {
   "cell_type": "code",
   "execution_count": null,
   "metadata": {},
   "outputs": [],
   "source": [
    "est2.x"
   ]
  },
  {
   "cell_type": "code",
   "execution_count": null,
   "metadata": {},
   "outputs": [],
   "source": [
    "est2.fun"
   ]
  },
  {
   "cell_type": "code",
   "execution_count": null,
   "metadata": {},
   "outputs": [],
   "source": [
    "params = np.array([c_k[1], λ, η, men['hrwage'].mean(), men['hrwage'].std()])\n",
    "\n",
    "logL_opt = lambda x: log_L(men, 'flex', 'hrwage', 'dur', men['hrwage'].min(), \n",
    "                            np.array([0,x[0]]), prob_k, 0.5, x[1], x[2],\n",
    "                            x[3],x[4])\n",
    "\n",
    "est1 = minimize(logL_opt, params, method='Nelder-Mead', options={'maxiter':8000})"
   ]
  },
  {
   "cell_type": "code",
   "execution_count": null,
   "metadata": {},
   "outputs": [],
   "source": [
    "est1.success"
   ]
  },
  {
   "cell_type": "code",
   "execution_count": null,
   "metadata": {},
   "outputs": [],
   "source": [
    "est1.x"
   ]
  },
  {
   "cell_type": "code",
   "execution_count": null,
   "metadata": {},
   "outputs": [],
   "source": [
    "est1.fun"
   ]
  },
  {
   "cell_type": "markdown",
   "metadata": {},
   "source": [
    "### Estimation: Women, K=3"
   ]
  },
  {
   "cell_type": "code",
   "execution_count": null,
   "metadata": {},
   "outputs": [],
   "source": [
    "women['flex_sched_score'].value_counts(normalize=True, sort=False)"
   ]
  },
  {
   "cell_type": "code",
   "execution_count": null,
   "metadata": {},
   "outputs": [],
   "source": [
    "prob_k = np.array([0.402640, 0.444719, 0.152640])"
   ]
  },
  {
   "cell_type": "code",
   "execution_count": null,
   "metadata": {},
   "outputs": [],
   "source": [
    "params = np.array([c_k[1], c_k[2], λ, η, women['wage_flexschedscore'].mean(), women['wage_flexschedscore'].std()])\n",
    "\n",
    "logL_opt = lambda x: log_L(women, 'flex_sched_score', 'wage_flexschedscore', 'dur', women['wage_flexschedscore'].min(), \n",
    "                            np.array([0,x[0],x[1]]), prob_k, 0.5, x[2], x[3],\n",
    "                            x[4], x[5])\n",
    "\n",
    "est4 = minimize(logL_opt, params, method='Nelder-Mead', options={'maxiter':8000})"
   ]
  },
  {
   "cell_type": "markdown",
   "metadata": {},
   "source": [
    "c_1 = 5, c_2 = 10"
   ]
  },
  {
   "cell_type": "code",
   "execution_count": null,
   "metadata": {},
   "outputs": [],
   "source": [
    "est4.success"
   ]
  },
  {
   "cell_type": "code",
   "execution_count": null,
   "metadata": {},
   "outputs": [],
   "source": [
    "est4.x"
   ]
  },
  {
   "cell_type": "code",
   "execution_count": null,
   "metadata": {},
   "outputs": [],
   "source": [
    "est4.fun"
   ]
  },
  {
   "cell_type": "code",
   "execution_count": null,
   "metadata": {},
   "outputs": [],
   "source": [
    "# Changes every time I run it for some reason.\n",
    "\n",
    "params = np.array([c_k[1], c_k[2], λ, η, women['hrwage'].mean(), women['hrwage'].std()])\n",
    "\n",
    "logL_opt = lambda x: log_L(women, 'flex_sched_score', 'hrwage', 'dur', women['hrwage'].min(), \n",
    "                            np.array([0,x[0],x[1]]), prob_k, 0.5, x[2], x[3],\n",
    "                            x[4], x[5])\n",
    "\n",
    "est3 = minimize(logL_opt, params, method='Nelder-Mead', options={'maxiter':8000})"
   ]
  },
  {
   "cell_type": "code",
   "execution_count": null,
   "metadata": {},
   "outputs": [],
   "source": [
    "est3.success"
   ]
  },
  {
   "cell_type": "code",
   "execution_count": null,
   "metadata": {},
   "outputs": [],
   "source": [
    "est3.x"
   ]
  },
  {
   "cell_type": "code",
   "execution_count": null,
   "metadata": {},
   "outputs": [],
   "source": [
    "est3.fun"
   ]
  },
  {
   "cell_type": "markdown",
   "metadata": {},
   "source": [
    "### Estimation: Women, K=2"
   ]
  },
  {
   "cell_type": "code",
   "execution_count": null,
   "metadata": {},
   "outputs": [],
   "source": [
    "women['flex'].value_counts(normalize=True, sort=False)"
   ]
  },
  {
   "cell_type": "code",
   "execution_count": null,
   "metadata": {},
   "outputs": [],
   "source": [
    "prob_k = np.array([0.40264, 0.59736])"
   ]
  },
  {
   "cell_type": "code",
   "execution_count": null,
   "metadata": {},
   "outputs": [],
   "source": [
    "# Also changes every time I run it\n",
    "\n",
    "params = np.array([c_k[1], λ, η, women['wage_flexsched'].mean(), women['wage_flexsched'].std()])\n",
    "\n",
    "logL_opt = lambda x: log_L(women, 'flex', 'wage_flexsched', 'dur', women['wage_flexsched'].min(), \n",
    "                            np.array([0,x[0]]), prob_k, 0.5, x[1], x[2],\n",
    "                            x[3],x[4])\n",
    "\n",
    "est2 = minimize(logL_opt, params, method='Nelder-Mead', options={'maxiter':8000})"
   ]
  },
  {
   "cell_type": "code",
   "execution_count": null,
   "metadata": {},
   "outputs": [],
   "source": [
    "est2.success"
   ]
  },
  {
   "cell_type": "code",
   "execution_count": null,
   "metadata": {},
   "outputs": [],
   "source": [
    "est2.x"
   ]
  },
  {
   "cell_type": "code",
   "execution_count": null,
   "metadata": {},
   "outputs": [],
   "source": [
    "est2.fun"
   ]
  },
  {
   "cell_type": "code",
   "execution_count": null,
   "metadata": {},
   "outputs": [],
   "source": [
    "# Consistent across runs\n",
    "\n",
    "params = np.array([c_k[1], λ, η, women['hrwage'].mean(), women['hrwage'].std()])\n",
    "\n",
    "logL_opt = lambda x: log_L(women, 'flex', 'hrwage', 'dur', women['hrwage'].min(), \n",
    "                            np.array([0,x[0]]), prob_k, 0.5, x[1], x[2],\n",
    "                            x[3],x[4])\n",
    "\n",
    "est1 = minimize(logL_opt, params, method='Nelder-Mead', options={'maxiter':8000})"
   ]
  },
  {
   "cell_type": "code",
   "execution_count": null,
   "metadata": {},
   "outputs": [],
   "source": [
    "est1.success"
   ]
  },
  {
   "cell_type": "code",
   "execution_count": null,
   "metadata": {},
   "outputs": [],
   "source": [
    "est1.x"
   ]
  },
  {
   "cell_type": "code",
   "execution_count": null,
   "metadata": {},
   "outputs": [],
   "source": [
    "est1.fun"
   ]
  },
  {
   "cell_type": "code",
   "execution_count": null,
   "metadata": {},
   "outputs": [],
   "source": []
  },
  {
   "cell_type": "markdown",
   "metadata": {},
   "source": [
    "## Pr_wage_match, hazard, and logL with res_wage, mu, and sigma varying with k"
   ]
  },
  {
   "cell_type": "code",
   "execution_count": null,
   "metadata": {},
   "outputs": [],
   "source": [
    "def Pr_wage_given_match(data: pd.DataFrame, flex: str, wage: str, res_wage: float, c_k: np.array, α: float, μ: float, σ: float):\n",
    "# def Pr_wage_given_match(data: pd.DataFrame, flex: str, wage: str, res_wage: np.array, c_k: np.array, α: float, μ: np.array, σ: np.array):\n",
    "    \"\"\"\n",
    "    Calculates probability of a wage draw conditional on a match being formed \n",
    "    \n",
    "    Inputs\n",
    "    - data: DataFrame\n",
    "    - flex: string for name of flexibility column\n",
    "    - wage: string for name of wage column\n",
    "    - res_wage: Kx1 array of observed minimum wages for each flexibility level\n",
    "    - c_k: Kx1 array of cost of providing flexibility\n",
    "    - α: bargaining parameter\n",
    "    - μ: array of location parameter of the log-normal wage distribution for each flexibility level\n",
    "    - σ: array of scale parameter of the log-normal wage distribution for each flexibility level\n",
    "    \n",
    "    Functions\n",
    "    - lognormpdf(x: np.array, μ: float, σ: float)\n",
    "    - lognormsf(x: np.array, μ: float, σ: float)\n",
    "    \"\"\"\n",
    "    employed_indiv = np.zeros(1) #sets first entry to zero \n",
    "# With U, μ and σ constant in flex level k\n",
    "    for k in range(len(c_k)):\n",
    "        tmp = data[data[flex]==k]\n",
    "        g = ( 1/( α*(k+1) ) ) * lognormpdf( ( 1/( α*(k+1) ) )*( tmp[wage] - (1-α)*res_wage + α*c_k[k] ), μ, σ )\n",
    "        G_tilde = lognormsf( ( 1/(k+1) )*( res_wage + c_k[k] ), μ, σ )\n",
    "        divide_thing = g/G_tilde\n",
    "        employed_indiv = np.append(employed_indiv, divide_thing)\n",
    "# # With U, μ and σ varying with flex level k - unidentified    \n",
    "#     for k in range(len(res_wage)):\n",
    "#         tmp = data[data[flex]==k]\n",
    "#         g = ( 1/( α*(k+1) ) ) * lognormpdf( ( 1/( α*(k+1) ) )*( tmp[wage] - (1-α)*res_wage[k] + α*c_k[k] ), μ[k], σ[k] )\n",
    "#         G_tilde = lognormsf( ( 1/(k+1) )*( res_wage[k] + c_k[k] ), μ[k], σ[k] )\n",
    "#         divide_thing = g/G_tilde\n",
    "#         employed_indiv = np.append(employed_indiv, divide_thing)\n",
    "    \n",
    "    return employed_indiv[1:] #removes first entry "
   ]
  },
  {
   "cell_type": "code",
   "execution_count": null,
   "metadata": {},
   "outputs": [],
   "source": [
    "def hazard(res_wage: float, c_k: np.array, p_k: np.array, λ: float, μ: float, σ: float):\n",
    "# def hazard(res_wage: np.array, c_k: np.array, p_k: np.array, λ: float, μ: np.array, σ: np.array):\n",
    "    \"\"\"\n",
    "    Calculates the hazard rate out of employment \n",
    "    \n",
    "    Inputs\n",
    "    - res_wage: Kx1 array of observed minimum wages for each flexibility level\n",
    "    - c_k: Kx1 array of cost of providing flexibility\n",
    "    - p_k: Kx1 array of probability of each level of flexibility\n",
    "    - λ: arrival rate of offer\n",
    "    - μ: array of location parameter of the log-normal wage distribution for each flexibility level\n",
    "    - σ: array of scale parameter of the log-normal wage distribution for each flexibility level\n",
    "    \n",
    "    Functions\n",
    "    - lognormsf(x: np.array, μ: float, σ: float)\n",
    "    \"\"\"\n",
    "    \n",
    "    prob_sum = 0\n",
    "    \n",
    "#     if len(res_wage)!=len(c_k):\n",
    "#         return print(\"Length of res_wage and c_k do not match.\")\n",
    "#     elif len(res_wage)!=len(p_k):\n",
    "#         return print(\"Length of res_wage and p_k do not match.\")\n",
    "    if len(p_k)!=len(c_k):\n",
    "        return print(\"Length of p_k and c_k do not match.\")\n",
    "    else:\n",
    "# With U, μ and σ constant in flex level k\n",
    "        for k in range(len(c_k)):\n",
    "            prob_sum += p_k[k] * lognormsf( ( 1/(k+1) )*( res_wage + c_k[k]), μ, σ ) #k+1 because Python index 0\n",
    "\n",
    "# # With U, μ and σ varying with flex level k - unidentified    \n",
    "#         for k in range(len(res_wage)):\n",
    "#             prob_sum += p_k[k] * lognormsf( ( 1/(k+1) )*( res_wage[k] + c_k[k]), μ[k], σ[k] ) #k+1 because Python index 0\n",
    "    \n",
    "    return λ*prob_sum#[0]"
   ]
  },
  {
   "cell_type": "code",
   "execution_count": null,
   "metadata": {},
   "outputs": [],
   "source": [
    "def log_L(data: pd.DataFrame, flex: str, wage: str, dur: str, res_wage: float, c_k: np.array, p_k: np.array, α: float, λ: float, η: float, μ: float, σ: float):\n",
    "# def log_L(data: pd.DataFrame, flex: str, wage: str, dur: str, res_wage: np.array, c_k: np.array, p_k: np.array, α: float, λ: float, η: float, μ: np.array, σ: np.array):\n",
    "    \"\"\"\n",
    "    \n",
    "    Inputs\n",
    "    - data: DataFrame of all individuals\n",
    "    - flex: string for column of flexibility index (k)\n",
    "    - wage: string for column of wage data \n",
    "    - dur: string for unemployment duration data\n",
    "    - res_wage: Kx1 array of observed minimum wages for each flexibility level\n",
    "    - c_k: Kx1 array of cost of providing flexibility\n",
    "    - p_k: Kx1 array of probability of each level of flexibility\n",
    "    - α: bargaining parameter\n",
    "    - λ: arrival rate of offer\n",
    "    - η: termination rate\n",
    "    - μ: array of location parameter of the log-normal wage distribution for each flexibility level\n",
    "    - σ: array of scale parameter of the log-normal wage distribution for each flexibility level\n",
    "    \n",
    "    Functions\n",
    "    - hazard(res_wage: np.array, c_k: np.array, p_k: np.array, λ: float, μ: float, σ: float)\n",
    "    - Pr_wage_given_match(data: pd.DataFrame, flex: str, wage: str, res_wage: np.array, c_k: np.array,  α: float, μ: float, σ: float)\n",
    "    \"\"\"\n",
    "    \n",
    "    N_log_h = data.count() * np.log( hazard(res_wage, c_k, p_k, λ, μ, σ) )\n",
    "    N_log_h_plus_η = data.count() * np.log( hazard(res_wage, c_k, p_k, λ, μ, σ) + η )\n",
    "    \n",
    "    empl_data = np.sum( np.log( Pr_wage_given_match(data, flex, wage, res_wage, c_k, α, μ, σ) ) )\n",
    "    \n",
    "    Nu_log_η = data[dur].count() * np.log(η)\n",
    "    \n",
    "    unempl_data = hazard(res_wage, c_k, p_k, λ, μ, σ) * np.sum(data[dur])\n",
    "    \n",
    "    logL = -(N_log_h - N_log_h_plus_η + empl_data + Nu_log_η - unempl_data)\n",
    "    \n",
    "    return logL[0]"
   ]
  },
  {
   "cell_type": "code",
   "execution_count": null,
   "metadata": {},
   "outputs": [],
   "source": []
  },
  {
   "cell_type": "markdown",
   "metadata": {},
   "source": [
    "## Old Hazard and Log L (did not copy Pr_wage_match in time)"
   ]
  },
  {
   "cell_type": "code",
   "execution_count": null,
   "metadata": {},
   "outputs": [],
   "source": [
    "def hazard(res_wage: np.array, c_k: np.array, p_k: np.array, λ: float, μ: np.array, σ: np.array):\n",
    "    \"\"\"\n",
    "    Calculates the hazard rate out of employment \n",
    "    \n",
    "    Inputs\n",
    "    - res_wage: Kx1 array of observed minimum wages for each flexibility level\n",
    "    - c_k: Kx1 array of cost of providing flexibility\n",
    "    - p_k: Kx1 array of probability of each level of flexibility\n",
    "    - λ: arrival rate of offer\n",
    "    - μ: array of location parameter of the log-normal wage distribution for each flexibility level\n",
    "    - σ: array of scale parameter of the log-normal wage distribution for each flexibility level\n",
    "    \n",
    "    Functions\n",
    "    - lognormsf(x: np.array, μ: float, σ: float)\n",
    "    \"\"\"\n",
    "    \n",
    "    prob_sum = 0\n",
    "    \n",
    "    if len(res_wage)!=len(c_k):\n",
    "        return print(\"Length of res_wage and c_k do not match.\")\n",
    "    elif len(res_wage)!=len(p_k):\n",
    "        return print(\"Length of res_wage and p_k do not match.\")\n",
    "    elif len(p_k)!=len(c_k):\n",
    "        return print(\"Length of p_k and c_k do not match.\")\n",
    "    else:\n",
    "        for k in range(len(res_wage)):\n",
    "            prob_sum += p_k[k] * lognormsf( ( 1/(k+1) )*( res_wage[k] + c_k[k]), μ[k], σ[k] ) #k+1 because Python index 0\n",
    "    \n",
    "    return λ*prob_sum"
   ]
  },
  {
   "cell_type": "code",
   "execution_count": null,
   "metadata": {},
   "outputs": [],
   "source": [
    "def log_L(wage: np.array, k: np.array, res_wage: np.array, c_k: np.array, p_k: np.array, dur: np.array, α: float, λ: float, η: float, μ: np.array, σ: np.array):\n",
    "    \"\"\"\n",
    "    \n",
    "    Inputs\n",
    "    - wage: Ne x 1 array of observed wage data \n",
    "    - k: Ne x 1 array of observed flexibility level data\n",
    "    - res_wage: Kx1 array of observed minimum wages for each flexibility level\n",
    "    - c_k: Kx1 array of cost of providing flexibility\n",
    "    - p_k: Kx1 array of probability of each level of flexibility\n",
    "    - dur: Nu x 1 array of observed unemployment duration data\n",
    "    - α: bargaining parameter\n",
    "    - λ: arrival rate of offer\n",
    "    - η: termination rate\n",
    "    - μ: array of location parameter of the log-normal wage distribution for each flexibility level\n",
    "    - σ: array of scale parameter of the log-normal wage distribution for each flexibility level\n",
    "    \n",
    "    Functions\n",
    "    - hazard(res_wage: np.array, c_k: np.array, p_k: np.array, λ: float, μ: float, σ: float)\n",
    "    - Pr_wage_given_match(wage: np.array, k: np.array, res_wage: np.array, c_k: np.array,  α: float, μ: float, σ: float)\n",
    "    \"\"\"\n",
    "    \n",
    "    N_log_h = len(wage) * np.log( hazard(res_wage, c_k, p_k, λ, μ, σ) )\n",
    "    N_log_h_plus_η = len(wage) * np.log( hazard(res_wage, c_k, p_k, λ, μ, σ) + η )\n",
    "    \n",
    "    empl_data = np.sum( np.log( Pr_wage_given_match(wage, k, res_wage, c_k,  α, μ, σ) ) )\n",
    "    \n",
    "    Nu_log_η = len(dur) * np.log(η)\n",
    "    \n",
    "    unempl_data = hazard(res_wage, c_k, p_k, λ, μ, σ) * np.sum(dur)\n",
    "    \n",
    "    logL = N_log_h - N_log_h_plus_η + empl_data + Nu_log_η - unempl_data\n",
    "    \n",
    "    return logL"
   ]
  },
  {
   "cell_type": "code",
   "execution_count": null,
   "metadata": {},
   "outputs": [],
   "source": []
  },
  {
   "cell_type": "code",
   "execution_count": null,
   "metadata": {},
   "outputs": [],
   "source": [
    "empl_men = men[men['employed']==1]\n",
    "len(empl_men)"
   ]
  },
  {
   "cell_type": "code",
   "execution_count": null,
   "metadata": {},
   "outputs": [],
   "source": [
    "unempl_men = men[men['employed']==0]\n",
    "len(unempl_men)"
   ]
  },
  {
   "cell_type": "code",
   "execution_count": null,
   "metadata": {},
   "outputs": [],
   "source": []
  },
  {
   "cell_type": "code",
   "execution_count": null,
   "metadata": {},
   "outputs": [],
   "source": [
    "fig, ax = plt.subplots(3, 1, figsize=(12, 8))\n",
    "\n",
    "for k in range(3):\n",
    "    tmp = df[(df['flex_sched_score']==k) & (df['sex']=='female') & (df['employed']==1)]\n",
    "    sns.distplot(tmp['hrwage'], color='#4B9CD3', hist_kws={'alpha' : .3}, bins=100, ax=ax[k])\n",
    "    ax[k].legend(['Flex Level ' + str(k)])\n",
    "    ax[k].set_ylim([0,0.1])\n",
    "    ax[k].set_xlim([0,75])\n",
    "\n",
    "\n",
    "#ax.set(xlabel=\"Distribution of Men's Hourly Wage\")\n",
    "\n",
    "plt.tight_layout()\n",
    "\n",
    "# fig.savefig('./figures/wage_noMin.png', bbox_inches='tight', transparent=True)"
   ]
  }
 ],
 "metadata": {
  "kernelspec": {
   "display_name": "atus",
   "language": "python",
   "name": "atus"
  },
  "language_info": {
   "codemirror_mode": {
    "name": "ipython",
    "version": 3
   },
   "file_extension": ".py",
   "mimetype": "text/x-python",
   "name": "python",
   "nbconvert_exporter": "python",
   "pygments_lexer": "ipython3",
   "version": "3.10.2"
  }
 },
 "nbformat": 4,
 "nbformat_minor": 4
}
