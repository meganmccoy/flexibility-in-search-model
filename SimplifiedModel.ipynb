{
 "cells": [
  {
   "cell_type": "markdown",
   "metadata": {},
   "source": [
    "# Flexibility in a Search Model \n",
    "\n",
    "## Model\n",
    "\n",
    "- homogeneous workers with linear utility over wage $w(x;k)$ if employed and flow (dis)utility $b$ if unemployed\n",
    "- heterogeneous firms endowed with flexibility level $k \\in K = \\{1,2,3\\}$ costing $c(k)$ with linear profit $y(x;k)-w(x;k)-c(k)$\n",
    "    - current assumption: $y(x;k) = kx$\n",
    "- search parameters: discount rate $\\rho$, unemployed meet firms at rate $\\lambda$ (no on-the-job search), upon meeting draw match-specific productivity $x \\sim G(x)$, bargaining parameter $\\alpha$, employed face separation shock $\\eta$\n",
    "\n",
    "\n",
    "## Necessary Packages"
   ]
  },
  {
   "cell_type": "code",
   "execution_count": 1,
   "metadata": {
    "tags": []
   },
   "outputs": [],
   "source": [
    "# General\n",
    "import numpy as np\n",
    "import pandas as pd \n",
    "import scipy.stats as stats\n",
    "\n",
    "# Graphics\n",
    "import matplotlib.pyplot as plt \n",
    "import seaborn as sns\n",
    "\n",
    "# Estimation\n",
    "from scipy.optimize import minimize\n"
   ]
  },
  {
   "cell_type": "markdown",
   "metadata": {},
   "source": [
    "## Data \n",
    "- employed workers earn wage $w_i$ at firm with flexibility level $k$\n",
    "- unemployed workers have unemployment durations of $t_i$\n",
    "- flexibility level $k$ defined by \n",
    "    - 0: No flexibility in start and end times of work \n",
    "    - 1: Informal policy allowing flexibility in start and end times of work\n",
    "    - 2: Formal policy allowing for flexibility in start and end times of work"
   ]
  },
  {
   "cell_type": "code",
   "execution_count": 2,
   "metadata": {},
   "outputs": [],
   "source": [
    "df=pd.read_stata('workfile.dta', columns=['sex','employed', 'flex_sched_score', 'hrwage', 'dur']) #986,337 obs from 1984-2017; 711,205 for 2000-2017"
   ]
  },
  {
   "cell_type": "code",
   "execution_count": 3,
   "metadata": {},
   "outputs": [
    {
     "name": "stderr",
     "output_type": "stream",
     "text": [
      "/Users/megan.mccoy/anaconda3/envs/atus/lib/python3.10/site-packages/pandas/core/indexing.py:1732: SettingWithCopyWarning: \n",
      "A value is trying to be set on a copy of a slice from a DataFrame\n",
      "\n",
      "See the caveats in the documentation: https://pandas.pydata.org/pandas-docs/stable/user_guide/indexing.html#returning-a-view-versus-a-copy\n",
      "  self._setitem_single_block(indexer, value, name)\n"
     ]
    }
   ],
   "source": [
    "df['flex']=np.NaN\n",
    "df['flex'].iloc[(df['flex_sched_score']==0)] = 0\n",
    "df['flex'].iloc[(df['flex_sched_score']==1 )| (df['flex_sched_score']==2)] = 1"
   ]
  },
  {
   "cell_type": "code",
   "execution_count": 4,
   "metadata": {},
   "outputs": [
    {
     "data": {
      "text/plain": [
       "1.0    1219\n",
       "0.0     829\n",
       "2.0     406\n",
       "Name: flex_sched_score, dtype: int64"
      ]
     },
     "execution_count": 4,
     "metadata": {},
     "output_type": "execute_result"
    }
   ],
   "source": [
    "df['flex_sched_score'].value_counts()"
   ]
  },
  {
   "cell_type": "code",
   "execution_count": 5,
   "metadata": {},
   "outputs": [
    {
     "data": {
      "text/plain": [
       "1.0    1625\n",
       "0.0     829\n",
       "Name: flex, dtype: int64"
      ]
     },
     "execution_count": 5,
     "metadata": {},
     "output_type": "execute_result"
    }
   ],
   "source": [
    "df['flex'].value_counts()"
   ]
  },
  {
   "cell_type": "code",
   "execution_count": 6,
   "metadata": {},
   "outputs": [
    {
     "data": {
      "text/plain": [
       "sex     flex_sched_score\n",
       "male    1.0                 0.547504\n",
       "        0.0                 0.274557\n",
       "        2.0                 0.177939\n",
       "female  1.0                 0.444719\n",
       "        0.0                 0.402640\n",
       "        2.0                 0.152640\n",
       "Name: flex_sched_score, dtype: float64"
      ]
     },
     "execution_count": 6,
     "metadata": {},
     "output_type": "execute_result"
    }
   ],
   "source": [
    "df['flex_sched_score'].groupby(df['sex']).value_counts(normalize=True)"
   ]
  },
  {
   "cell_type": "code",
   "execution_count": 8,
   "metadata": {},
   "outputs": [
    {
     "data": {
      "text/plain": [
       "1.0    2454\n",
       "0.0      54\n",
       "Name: employed, dtype: int64"
      ]
     },
     "execution_count": 8,
     "metadata": {},
     "output_type": "execute_result"
    }
   ],
   "source": [
    "df['employed'].value_counts()"
   ]
  },
  {
   "cell_type": "code",
   "execution_count": 9,
   "metadata": {},
   "outputs": [
    {
     "data": {
      "text/plain": [
       "1269"
      ]
     },
     "execution_count": 9,
     "metadata": {},
     "output_type": "execute_result"
    }
   ],
   "source": [
    "men = df[df['sex']=='male']\n",
    "len(men)"
   ]
  },
  {
   "cell_type": "code",
   "execution_count": 10,
   "metadata": {},
   "outputs": [
    {
     "data": {
      "text/plain": [
       "1.0    1242\n",
       "0.0      27\n",
       "Name: employed, dtype: int64"
      ]
     },
     "execution_count": 10,
     "metadata": {},
     "output_type": "execute_result"
    }
   ],
   "source": [
    "men['employed'].value_counts()"
   ]
  },
  {
   "cell_type": "code",
   "execution_count": 11,
   "metadata": {},
   "outputs": [
    {
     "data": {
      "text/plain": [
       "count    1242.000000\n",
       "mean       42.517616\n",
       "std        18.955248\n",
       "min         0.008000\n",
       "25%        26.923000\n",
       "50%        39.423000\n",
       "75%        58.173000\n",
       "max        72.115250\n",
       "Name: hrwage, dtype: float64"
      ]
     },
     "execution_count": 11,
     "metadata": {},
     "output_type": "execute_result"
    }
   ],
   "source": [
    "men['hrwage'].describe()"
   ]
  },
  {
   "cell_type": "code",
   "execution_count": 13,
   "metadata": {},
   "outputs": [
    {
     "data": {
      "text/plain": [
       "count     27.000000\n",
       "mean      18.629629\n",
       "std       23.348774\n",
       "min        8.000000\n",
       "25%       12.000000\n",
       "50%       12.000000\n",
       "75%       16.000000\n",
       "max      131.000000\n",
       "Name: dur, dtype: float64"
      ]
     },
     "execution_count": 13,
     "metadata": {},
     "output_type": "execute_result"
    }
   ],
   "source": [
    "men['dur'].describe()"
   ]
  },
  {
   "cell_type": "markdown",
   "metadata": {},
   "source": [
    "## Functions"
   ]
  },
  {
   "cell_type": "code",
   "execution_count": 14,
   "metadata": {},
   "outputs": [],
   "source": [
    "def lognormpdf(x: np.array, μ: float, σ: float):\n",
    "    \"\"\"\n",
    "    Calculates lognormal pdf without stats packages\n",
    "    \"\"\"\n",
    "    \n",
    "    denom = x * σ * np.sqrt(2*np.pi)\n",
    "    exp_num = -(np.log(x)-μ)**2\n",
    "    exp_denom = 2 * σ * σ\n",
    "    num = np.exp(exp_num/exp_denom)\n",
    "    \n",
    "    return num/denom"
   ]
  },
  {
   "cell_type": "code",
   "execution_count": 15,
   "metadata": {},
   "outputs": [],
   "source": [
    "def lognormsf(x: np.array, μ: float, σ: float):\n",
    "    \"\"\"\n",
    "    Calculated lognormal cdf with scipy.stats normal cdf\n",
    "    \"\"\"\n",
    "    \n",
    "    lnx = np.log(x)\n",
    "    num = lnx - μ\n",
    "    denom = σ\n",
    "    \n",
    "    return 1-stats.norm.cdf(num/denom)"
   ]
  },
  {
   "cell_type": "code",
   "execution_count": 16,
   "metadata": {},
   "outputs": [],
   "source": [
    "def Pr_wage_given_match(data: pd.DataFrame, flex: str, wage: str, res_wage: float, c_k: np.array, α: float, μ: float, σ: float):\n",
    "    \"\"\"\n",
    "    Calculates probability of a wage draw conditional on a match being formed \n",
    "    \n",
    "    Inputs\n",
    "    - data: DataFrame\n",
    "    - flex: string for name of flexibility column\n",
    "    - wage: string for name of wage column\n",
    "    - res_wage: float of observed minimum wage\n",
    "    - c_k: Kx1 array of cost of providing flexibility\n",
    "    - α: bargaining parameter\n",
    "    - μ: location parameter of the log-normal wage distribution\n",
    "    - σ: scale parameter of the log-normal wage distribution\n",
    "    \n",
    "    Functions\n",
    "    - lognormpdf(x: np.array, μ: float, σ: float)\n",
    "    - lognormsf(x: np.array, μ: float, σ: float)\n",
    "    \"\"\"\n",
    "    employed_indiv = np.zeros(1) #sets first entry to zero \n",
    "# With U, μ and σ constant in flex level k\n",
    "    for k in range(len(c_k)):\n",
    "        tmp = data[data[flex]==k]\n",
    "        g = ( 1/( α*(k+1) ) ) * lognormpdf( ( 1/( α*(k+1) ) )*( tmp[wage] - (1-α)*res_wage + α*c_k[k] ), μ, σ )\n",
    "        G_tilde = lognormsf( ( 1/(k+1) )*( res_wage + c_k[k] ), μ, σ )\n",
    "        divide_thing = g/G_tilde\n",
    "        employed_indiv = np.append(employed_indiv, divide_thing)\n",
    "# # With U, μ and σ varying with flex level k - unidentified    \n",
    "#     for k in range(len(res_wage)):\n",
    "#         tmp = data[data[flex]==k]\n",
    "#         g = ( 1/( α*(k+1) ) ) * lognormpdf( ( 1/( α*(k+1) ) )*( tmp[wage] - (1-α)*res_wage[k] + α*c_k[k] ), μ[k], σ[k] )\n",
    "#         G_tilde = lognormsf( ( 1/(k+1) )*( res_wage[k] + c_k[k] ), μ[k], σ[k] )\n",
    "#         divide_thing = g/G_tilde\n",
    "#         employed_indiv = np.append(employed_indiv, divide_thing)\n",
    "    \n",
    "    return employed_indiv[1:] #removes first entry "
   ]
  },
  {
   "cell_type": "code",
   "execution_count": 17,
   "metadata": {},
   "outputs": [],
   "source": [
    "def hazard(res_wage: float, c_k: np.array, p_k: np.array, λ: float, μ: float, σ: float):\n",
    "    \"\"\"\n",
    "    Calculates the hazard rate out of employment \n",
    "    \n",
    "    Inputs\n",
    "    - res_wage: float of observed minimum wage\n",
    "    - c_k: Kx1 array of cost of providing flexibility\n",
    "    - p_k: Kx1 array of probability of each level of flexibility\n",
    "    - λ: arrival rate of offer\n",
    "    - μ: location parameter of the log-normal wage distribution\n",
    "    - σ: scale parameter of the log-normal wage distribution\n",
    "    \n",
    "    Functions\n",
    "    - lognormsf(x: np.array, μ: float, σ: float)\n",
    "    \"\"\"\n",
    "    \n",
    "    prob_sum = 0\n",
    "    \n",
    "    if len(p_k)!=len(c_k):\n",
    "        return print(\"Length of p_k and c_k do not match.\")\n",
    "    else:\n",
    "        for k in range(len(c_k)):\n",
    "            prob_sum += p_k[k] * lognormsf( ( 1/(k+1) )*( res_wage + c_k[k]), μ, σ ) #k+1 because Python index 0\n",
    "\n",
    "    return λ*prob_sum"
   ]
  },
  {
   "cell_type": "code",
   "execution_count": 18,
   "metadata": {},
   "outputs": [],
   "source": [
    "def log_L(data: pd.DataFrame, flex: str, wage: str, dur: str, res_wage: float, c_k: np.array, p_k: np.array, α: float, λ: float, η: float, μ: float, σ: float):\n",
    "    \"\"\"\n",
    "    \n",
    "    Inputs\n",
    "    - data: DataFrame of all individuals\n",
    "    - flex: string for column of flexibility index (k)\n",
    "    - wage: string for column of wage data \n",
    "    - dur: string for unemployment duration data\n",
    "    - res_wage: float of observed minimum wage\n",
    "    - c_k: Kx1 array of cost of providing flexibility\n",
    "    - p_k: Kx1 array of probability of each level of flexibility\n",
    "    - α: bargaining parameter\n",
    "    - λ: arrival rate of offer\n",
    "    - η: termination rate\n",
    "    - μ: location parameter of the log-normal wage distribution\n",
    "    - σ: scale parameter of the log-normal wage distribution\n",
    "    \n",
    "    Functions\n",
    "    - hazard(res_wage: np.array, c_k: np.array, p_k: np.array, λ: float, μ: float, σ: float)\n",
    "    - Pr_wage_given_match(data: pd.DataFrame, flex: str, wage: str, res_wage: np.array, c_k: np.array,  α: float, μ: float, σ: float)\n",
    "    \"\"\"\n",
    "    \n",
    "    N_log_h = data.count() * np.log( hazard(res_wage, c_k, p_k, λ, μ, σ) )\n",
    "    N_log_h_plus_η = data.count() * np.log( hazard(res_wage, c_k, p_k, λ, μ, σ) + η )\n",
    "    \n",
    "    empl_data = np.sum( np.log( Pr_wage_given_match(data, flex, wage, res_wage, c_k, α, μ, σ) ) )\n",
    "    \n",
    "    Nu_log_η = data[dur].count() * np.log(η)\n",
    "    \n",
    "    unempl_data = hazard(res_wage, c_k, p_k, λ, μ, σ) * np.sum(data[dur])\n",
    "    \n",
    "    logL = -(N_log_h - N_log_h_plus_η + empl_data + Nu_log_η - unempl_data)\n",
    "    \n",
    "    return logL[0]"
   ]
  },
  {
   "cell_type": "code",
   "execution_count": 30,
   "metadata": {},
   "outputs": [],
   "source": [
    "# Parameters to be estimated \n",
    "\n",
    "c_k = np.array([0,5,10])\n",
    "λ = 10\n",
    "η = 10"
   ]
  },
  {
   "cell_type": "markdown",
   "metadata": {},
   "source": [
    "## Optimization with 3 Levels of Flex - Not converging (cannot identify $c_k$, $\\mu$, $\\sigma$)"
   ]
  },
  {
   "cell_type": "code",
   "execution_count": 19,
   "metadata": {},
   "outputs": [
    {
     "name": "stdout",
     "output_type": "stream",
     "text": [
      "5th percentile wage = 13.0 for men with flex level 0\n",
      "5th percentile wage = 17.49037504196167 for men with flex level 1\n",
      "5th percentile wage = 18.0 for men with flex level 2\n"
     ]
    }
   ],
   "source": [
    "fifth_pctl = np.zeros(1)\n",
    "\n",
    "for k in range(3):\n",
    "    tmp = men[men['flex_sched_score']==k]\n",
    "    fifth = np.percentile(tmp['hrwage'],5)\n",
    "    fifth_pctl = np.append(fifth_pctl, fifth)\n",
    "    print(\"5th percentile wage = \" + str(fifth) + \" for men with flex level \" + str(k))"
   ]
  },
  {
   "cell_type": "code",
   "execution_count": 20,
   "metadata": {},
   "outputs": [
    {
     "data": {
      "text/plain": [
       "array([13.        , 17.49037504, 18.        ])"
      ]
     },
     "execution_count": 20,
     "metadata": {},
     "output_type": "execute_result"
    }
   ],
   "source": [
    "fifth_pctl[1:]"
   ]
  },
  {
   "cell_type": "code",
   "execution_count": 21,
   "metadata": {},
   "outputs": [
    {
     "name": "stderr",
     "output_type": "stream",
     "text": [
      "/var/folders/jx/dqj4zyfx4cj4t_bvpvt2drrm0000gn/T/ipykernel_20722/4041549448.py:1: SettingWithCopyWarning: \n",
      "A value is trying to be set on a copy of a slice from a DataFrame.\n",
      "Try using .loc[row_indexer,col_indexer] = value instead\n",
      "\n",
      "See the caveats in the documentation: https://pandas.pydata.org/pandas-docs/stable/user_guide/indexing.html#returning-a-view-versus-a-copy\n",
      "  men['wage_trunc3']=men['hrwage']\n"
     ]
    }
   ],
   "source": [
    "men['wage_trunc3']=men['hrwage']\n",
    "\n",
    "for k in range(3):\n",
    "    men['wage_trunc3'].iloc[(men['hrwage']<fifth_pctl[k+1]) & (men['flex_sched_score']==k)]=fifth_pctl[k+1] #k+1 because empty array initiates with zero\n",
    "        "
   ]
  },
  {
   "cell_type": "code",
   "execution_count": 22,
   "metadata": {},
   "outputs": [
    {
     "data": {
      "text/html": [
       "<div>\n",
       "<style scoped>\n",
       "    .dataframe tbody tr th:only-of-type {\n",
       "        vertical-align: middle;\n",
       "    }\n",
       "\n",
       "    .dataframe tbody tr th {\n",
       "        vertical-align: top;\n",
       "    }\n",
       "\n",
       "    .dataframe thead th {\n",
       "        text-align: right;\n",
       "    }\n",
       "</style>\n",
       "<table border=\"1\" class=\"dataframe\">\n",
       "  <thead>\n",
       "    <tr style=\"text-align: right;\">\n",
       "      <th></th>\n",
       "      <th></th>\n",
       "      <th>count</th>\n",
       "      <th>mean</th>\n",
       "      <th>std</th>\n",
       "      <th>min</th>\n",
       "      <th>25%</th>\n",
       "      <th>50%</th>\n",
       "      <th>75%</th>\n",
       "      <th>max</th>\n",
       "    </tr>\n",
       "    <tr>\n",
       "      <th>employed</th>\n",
       "      <th>flex_sched_score</th>\n",
       "      <th></th>\n",
       "      <th></th>\n",
       "      <th></th>\n",
       "      <th></th>\n",
       "      <th></th>\n",
       "      <th></th>\n",
       "      <th></th>\n",
       "      <th></th>\n",
       "    </tr>\n",
       "  </thead>\n",
       "  <tbody>\n",
       "    <tr>\n",
       "      <th rowspan=\"3\" valign=\"top\">1.0</th>\n",
       "      <th>0.0</th>\n",
       "      <td>341.0</td>\n",
       "      <td>35.949913</td>\n",
       "      <td>17.789873</td>\n",
       "      <td>13.000000</td>\n",
       "      <td>22.500</td>\n",
       "      <td>31.250000</td>\n",
       "      <td>47.115250</td>\n",
       "      <td>72.11525</td>\n",
       "    </tr>\n",
       "    <tr>\n",
       "      <th>1.0</th>\n",
       "      <td>680.0</td>\n",
       "      <td>45.039341</td>\n",
       "      <td>18.127398</td>\n",
       "      <td>17.490376</td>\n",
       "      <td>30.000</td>\n",
       "      <td>43.269001</td>\n",
       "      <td>61.538250</td>\n",
       "      <td>72.11525</td>\n",
       "    </tr>\n",
       "    <tr>\n",
       "      <th>2.0</th>\n",
       "      <td>221.0</td>\n",
       "      <td>46.191139</td>\n",
       "      <td>18.594522</td>\n",
       "      <td>18.000000</td>\n",
       "      <td>30.048</td>\n",
       "      <td>43.748001</td>\n",
       "      <td>64.903748</td>\n",
       "      <td>72.11525</td>\n",
       "    </tr>\n",
       "  </tbody>\n",
       "</table>\n",
       "</div>"
      ],
      "text/plain": [
       "                           count       mean        std        min     25%  \\\n",
       "employed flex_sched_score                                                   \n",
       "1.0      0.0               341.0  35.949913  17.789873  13.000000  22.500   \n",
       "         1.0               680.0  45.039341  18.127398  17.490376  30.000   \n",
       "         2.0               221.0  46.191139  18.594522  18.000000  30.048   \n",
       "\n",
       "                                 50%        75%       max  \n",
       "employed flex_sched_score                                  \n",
       "1.0      0.0               31.250000  47.115250  72.11525  \n",
       "         1.0               43.269001  61.538250  72.11525  \n",
       "         2.0               43.748001  64.903748  72.11525  "
      ]
     },
     "execution_count": 22,
     "metadata": {},
     "output_type": "execute_result"
    }
   ],
   "source": [
    "men['wage_trunc3'].groupby([men['employed'],men['flex_sched_score']]).describe()"
   ]
  },
  {
   "cell_type": "code",
   "execution_count": 23,
   "metadata": {},
   "outputs": [
    {
     "data": {
      "text/plain": [
       "1.0    0.547504\n",
       "0.0    0.274557\n",
       "2.0    0.177939\n",
       "Name: flex_sched_score, dtype: float64"
      ]
     },
     "execution_count": 23,
     "metadata": {},
     "output_type": "execute_result"
    }
   ],
   "source": [
    "men['flex_sched_score'].value_counts(normalize=True, sort=False)"
   ]
  },
  {
   "cell_type": "code",
   "execution_count": 24,
   "metadata": {},
   "outputs": [],
   "source": [
    "prob_k = [0.274557, 0.547504, 0.177939]"
   ]
  },
  {
   "cell_type": "code",
   "execution_count": 32,
   "metadata": {},
   "outputs": [
    {
     "name": "stderr",
     "output_type": "stream",
     "text": [
      "/var/folders/jx/dqj4zyfx4cj4t_bvpvt2drrm0000gn/T/ipykernel_20722/3024392470.py:26: RuntimeWarning: invalid value encountered in log\n",
      "  empl_data = np.sum( np.log( Pr_wage_given_match(data, flex, wage, res_wage, c_k, α, μ, σ) ) )\n",
      "/var/folders/jx/dqj4zyfx4cj4t_bvpvt2drrm0000gn/T/ipykernel_20722/3024392470.py:26: RuntimeWarning: divide by zero encountered in log\n",
      "  empl_data = np.sum( np.log( Pr_wage_given_match(data, flex, wage, res_wage, c_k, α, μ, σ) ) )\n",
      "/var/folders/jx/dqj4zyfx4cj4t_bvpvt2drrm0000gn/T/ipykernel_20722/3024392470.py:28: RuntimeWarning: invalid value encountered in log\n",
      "  Nu_log_η = data[dur].count() * np.log(η)\n",
      "/var/folders/jx/dqj4zyfx4cj4t_bvpvt2drrm0000gn/T/ipykernel_20722/3024392470.py:24: RuntimeWarning: invalid value encountered in log\n",
      "  N_log_h_plus_η = data.count() * np.log( hazard(res_wage, c_k, p_k, λ, μ, σ) + η )\n",
      "/var/folders/jx/dqj4zyfx4cj4t_bvpvt2drrm0000gn/T/ipykernel_20722/3024392470.py:23: RuntimeWarning: invalid value encountered in log\n",
      "  N_log_h = data.count() * np.log( hazard(res_wage, c_k, p_k, λ, μ, σ) )\n"
     ]
    }
   ],
   "source": [
    "params = np.array([c_k[1],c_k[2], λ, η, men['wage_trunc3'].mean(), men['wage_trunc3'].std()])\n",
    "\n",
    "logL_opt = lambda x: log_L(men, 'flex_sched_score', 'wage_trunc3', 'dur', men['wage_trunc3'].min(), \n",
    "                            np.array([0,x[0],x[1]]), prob_k, 0.5, x[2], x[3],\n",
    "                            x[4], x[5])\n",
    "\n",
    "est4 = minimize(logL_opt, params, method='Nelder-Mead')"
   ]
  },
  {
   "cell_type": "code",
   "execution_count": 33,
   "metadata": {},
   "outputs": [
    {
     "data": {
      "text/plain": [
       "True"
      ]
     },
     "execution_count": 33,
     "metadata": {},
     "output_type": "execute_result"
    }
   ],
   "source": [
    "est4.success"
   ]
  },
  {
   "cell_type": "code",
   "execution_count": 34,
   "metadata": {},
   "outputs": [
    {
     "data": {
      "text/plain": [
       "array([2.29759182e+01, 3.81659796e+01, 5.55469736e-02, 1.16855848e-03,\n",
       "       3.77626280e+00, 5.09872940e-01])"
      ]
     },
     "execution_count": 34,
     "metadata": {},
     "output_type": "execute_result"
    }
   ],
   "source": [
    "est4.x"
   ]
  },
  {
   "cell_type": "code",
   "execution_count": 35,
   "metadata": {},
   "outputs": [
    {
     "data": {
      "text/plain": [
       "5632.288931457506"
      ]
     },
     "execution_count": 35,
     "metadata": {},
     "output_type": "execute_result"
    }
   ],
   "source": [
    "est4.fun"
   ]
  },
  {
   "cell_type": "code",
   "execution_count": 36,
   "metadata": {},
   "outputs": [
    {
     "name": "stderr",
     "output_type": "stream",
     "text": [
      "/var/folders/jx/dqj4zyfx4cj4t_bvpvt2drrm0000gn/T/ipykernel_20722/3024392470.py:28: RuntimeWarning: invalid value encountered in log\n",
      "  Nu_log_η = data[dur].count() * np.log(η)\n",
      "/var/folders/jx/dqj4zyfx4cj4t_bvpvt2drrm0000gn/T/ipykernel_20722/3024392470.py:24: RuntimeWarning: invalid value encountered in log\n",
      "  N_log_h_plus_η = data.count() * np.log( hazard(res_wage, c_k, p_k, λ, μ, σ) + η )\n",
      "/var/folders/jx/dqj4zyfx4cj4t_bvpvt2drrm0000gn/T/ipykernel_20722/3024392470.py:23: RuntimeWarning: invalid value encountered in log\n",
      "  N_log_h = data.count() * np.log( hazard(res_wage, c_k, p_k, λ, μ, σ) )\n",
      "/var/folders/jx/dqj4zyfx4cj4t_bvpvt2drrm0000gn/T/ipykernel_20722/3024392470.py:26: RuntimeWarning: divide by zero encountered in log\n",
      "  empl_data = np.sum( np.log( Pr_wage_given_match(data, flex, wage, res_wage, c_k, α, μ, σ) ) )\n"
     ]
    }
   ],
   "source": [
    "params = np.array([c_k[1],c_k[2],λ,η,men['hrwage'].mean(),men['hrwage'].std()])\n",
    "\n",
    "logL_opt = lambda x: log_L(men, 'flex_sched_score', 'hrwage', 'dur', men['hrwage'].min(), \n",
    "                            np.array([0,x[0],x[1]]), prob_k, 0.5, x[2], x[3],\n",
    "                            x[4], x[5])\n",
    "\n",
    "est3 = minimize(logL_opt, params, method='Nelder-Mead')"
   ]
  },
  {
   "cell_type": "code",
   "execution_count": 37,
   "metadata": {},
   "outputs": [
    {
     "data": {
      "text/plain": [
       "True"
      ]
     },
     "execution_count": 37,
     "metadata": {},
     "output_type": "execute_result"
    }
   ],
   "source": [
    "est3.success"
   ]
  },
  {
   "cell_type": "code",
   "execution_count": 38,
   "metadata": {},
   "outputs": [
    {
     "data": {
      "text/plain": [
       "array([2.30207282e+01, 5.20975683e+01, 5.46495517e-02, 1.18026386e-03,\n",
       "       3.95810647e+00, 6.09354521e-01])"
      ]
     },
     "execution_count": 38,
     "metadata": {},
     "output_type": "execute_result"
    }
   ],
   "source": [
    "est3.x"
   ]
  },
  {
   "cell_type": "code",
   "execution_count": 39,
   "metadata": {},
   "outputs": [
    {
     "data": {
      "text/plain": [
       "5946.3643180559675"
      ]
     },
     "execution_count": 39,
     "metadata": {},
     "output_type": "execute_result"
    }
   ],
   "source": [
    "est3.fun"
   ]
  },
  {
   "cell_type": "markdown",
   "metadata": {},
   "source": [
    "## Try with 2 levels of flex - same problem as with 3 levels of flex."
   ]
  },
  {
   "cell_type": "code",
   "execution_count": 40,
   "metadata": {},
   "outputs": [
    {
     "name": "stdout",
     "output_type": "stream",
     "text": [
      "5th percentile wage = 13.0 for men with flex level 0\n",
      "5th percentile wage = 17.5 for men with flex level 1\n"
     ]
    }
   ],
   "source": [
    "fifth_pctl = np.zeros(1)\n",
    "\n",
    "for k in range(2):\n",
    "    tmp = men[men['flex']==k]\n",
    "    fifth = np.percentile(tmp['hrwage'],5)\n",
    "    fifth_pctl = np.append(fifth_pctl, fifth)\n",
    "    print(\"5th percentile wage = \" + str(fifth) + \" for men with flex level \" + str(k))"
   ]
  },
  {
   "cell_type": "code",
   "execution_count": 41,
   "metadata": {},
   "outputs": [
    {
     "data": {
      "text/plain": [
       "array([13. , 17.5])"
      ]
     },
     "execution_count": 41,
     "metadata": {},
     "output_type": "execute_result"
    }
   ],
   "source": [
    "fifth_pctl[1:]"
   ]
  },
  {
   "cell_type": "code",
   "execution_count": 42,
   "metadata": {},
   "outputs": [
    {
     "name": "stderr",
     "output_type": "stream",
     "text": [
      "/var/folders/jx/dqj4zyfx4cj4t_bvpvt2drrm0000gn/T/ipykernel_20722/3523321040.py:1: SettingWithCopyWarning: \n",
      "A value is trying to be set on a copy of a slice from a DataFrame.\n",
      "Try using .loc[row_indexer,col_indexer] = value instead\n",
      "\n",
      "See the caveats in the documentation: https://pandas.pydata.org/pandas-docs/stable/user_guide/indexing.html#returning-a-view-versus-a-copy\n",
      "  men['wage_trunc2']=men['hrwage']\n",
      "/Users/megan.mccoy/anaconda3/envs/atus/lib/python3.10/site-packages/pandas/core/indexing.py:1732: SettingWithCopyWarning: \n",
      "A value is trying to be set on a copy of a slice from a DataFrame\n",
      "\n",
      "See the caveats in the documentation: https://pandas.pydata.org/pandas-docs/stable/user_guide/indexing.html#returning-a-view-versus-a-copy\n",
      "  self._setitem_single_block(indexer, value, name)\n"
     ]
    }
   ],
   "source": [
    "men['wage_trunc2']=men['hrwage']\n",
    "\n",
    "for k in range(2):\n",
    "    men['wage_trunc2'].iloc[(men['hrwage']<fifth_pctl[k+1]) & (men['flex']==k)]=fifth_pctl[k+1] #k+1 because empty array initiates with zero\n",
    "        "
   ]
  },
  {
   "cell_type": "code",
   "execution_count": 43,
   "metadata": {},
   "outputs": [
    {
     "data": {
      "text/plain": [
       "1.0    0.725443\n",
       "0.0    0.274557\n",
       "Name: flex, dtype: float64"
      ]
     },
     "execution_count": 43,
     "metadata": {},
     "output_type": "execute_result"
    }
   ],
   "source": [
    "men['flex'].value_counts(normalize=True, sort=False)"
   ]
  },
  {
   "cell_type": "code",
   "execution_count": 44,
   "metadata": {},
   "outputs": [],
   "source": [
    "prob_k = np.array([0.274557, 0.725443])"
   ]
  },
  {
   "cell_type": "code",
   "execution_count": 45,
   "metadata": {},
   "outputs": [
    {
     "name": "stderr",
     "output_type": "stream",
     "text": [
      "/var/folders/jx/dqj4zyfx4cj4t_bvpvt2drrm0000gn/T/ipykernel_20722/3024392470.py:28: RuntimeWarning: invalid value encountered in log\n",
      "  Nu_log_η = data[dur].count() * np.log(η)\n",
      "/var/folders/jx/dqj4zyfx4cj4t_bvpvt2drrm0000gn/T/ipykernel_20722/3024392470.py:24: RuntimeWarning: invalid value encountered in log\n",
      "  N_log_h_plus_η = data.count() * np.log( hazard(res_wage, c_k, p_k, λ, μ, σ) + η )\n"
     ]
    }
   ],
   "source": [
    "params = np.array([c_k[1], λ, η, men['wage_trunc2'].mean(), men['wage_trunc2'].std()])\n",
    "\n",
    "logL_opt = lambda x: log_L(men, 'flex', 'wage_trunc2', 'dur', men['wage_trunc2'].min(), \n",
    "                            np.array([0,x[0]]), prob_k, 0.5, x[1], x[2],\n",
    "                            x[3],x[4])\n",
    "\n",
    "est2 = minimize(logL_opt, params, method='Nelder-Mead')"
   ]
  },
  {
   "cell_type": "code",
   "execution_count": 47,
   "metadata": {},
   "outputs": [
    {
     "data": {
      "text/plain": [
       " final_simplex: (array([[ 3.46298278e+01,  4.61671891e+02,  1.05531991e-02,\n",
       "        -8.86864387e+00,  3.49293238e+00],\n",
       "       [ 3.46300716e+01,  4.61675393e+02,  1.05532907e-02,\n",
       "        -8.86826306e+00,  3.49325834e+00],\n",
       "       [ 3.46576924e+01,  4.62057896e+02,  1.05625267e-02,\n",
       "        -8.88036942e+00,  3.49564311e+00],\n",
       "       [ 3.47159479e+01,  4.62850687e+02,  1.05816408e-02,\n",
       "        -8.86784078e+00,  3.49200536e+00],\n",
       "       [ 3.45603568e+01,  4.60730126e+02,  1.05305055e-02,\n",
       "        -8.89302333e+00,  3.49969199e+00],\n",
       "       [ 3.45038829e+01,  4.59949652e+02,  1.05116373e-02,\n",
       "        -8.87580741e+00,  3.49494527e+00]]), array([6083.92568053, 6083.9260263 , 6083.9264093 , 6083.92691502,\n",
       "       6083.92703821, 6083.92719032]))\n",
       "           fun: 6083.925680528942\n",
       "       message: 'Maximum number of function evaluations has been exceeded.'\n",
       "          nfev: 1000\n",
       "           nit: 600\n",
       "        status: 1\n",
       "       success: False\n",
       "             x: array([ 3.46298278e+01,  4.61671891e+02,  1.05531991e-02, -8.86864387e+00,\n",
       "        3.49293238e+00])"
      ]
     },
     "execution_count": 47,
     "metadata": {},
     "output_type": "execute_result"
    }
   ],
   "source": [
    "est2"
   ]
  },
  {
   "cell_type": "code",
   "execution_count": 46,
   "metadata": {},
   "outputs": [
    {
     "data": {
      "text/plain": [
       "False"
      ]
     },
     "execution_count": 46,
     "metadata": {},
     "output_type": "execute_result"
    }
   ],
   "source": [
    "est2.success"
   ]
  },
  {
   "cell_type": "code",
   "execution_count": null,
   "metadata": {},
   "outputs": [],
   "source": [
    "est2.x"
   ]
  },
  {
   "cell_type": "code",
   "execution_count": null,
   "metadata": {},
   "outputs": [],
   "source": [
    "est2.fun"
   ]
  },
  {
   "cell_type": "code",
   "execution_count": null,
   "metadata": {},
   "outputs": [],
   "source": [
    "params = np.array([5,2,2, men['hrwage'].mean(), men['hrwage'].std()])\n",
    "\n",
    "logL_opt = lambda x: log_L(men, 'flex', 'hrwage', 'dur', men['hrwage'].min(), \n",
    "                            np.array([0,x[0]]), prob_k, 0.5, x[1], x[2],\n",
    "                            x[3],x[4])\n",
    "\n",
    "est1 = minimize(logL_opt, params, method='Nelder-Mead')"
   ]
  },
  {
   "cell_type": "code",
   "execution_count": null,
   "metadata": {},
   "outputs": [],
   "source": [
    "est1.success"
   ]
  },
  {
   "cell_type": "code",
   "execution_count": null,
   "metadata": {},
   "outputs": [],
   "source": [
    "est1.x"
   ]
  },
  {
   "cell_type": "code",
   "execution_count": null,
   "metadata": {},
   "outputs": [],
   "source": [
    "est1.fun"
   ]
  },
  {
   "cell_type": "markdown",
   "metadata": {},
   "source": [
    "# Figures"
   ]
  },
  {
   "cell_type": "markdown",
   "metadata": {},
   "source": [
    "## Flex Schedule Score (k = 3)"
   ]
  },
  {
   "cell_type": "code",
   "execution_count": null,
   "metadata": {},
   "outputs": [],
   "source": [
    "fig, ax = plt.subplots(3, 1, figsize=(12, 8))\n",
    "\n",
    "for k in range(3):\n",
    "    tmp = df[(df['flex_sched_score']==k) & (df['sex']=='male') & (df['employed']==1)]\n",
    "    sns.distplot(tmp['hrwage'], color='#4B9CD3', hist_kws={'alpha' : .3}, bins=100, ax=ax[k])\n",
    "#     ax[k].legend(['Flexibility Level ' + str(k)])\n",
    "    ax[k].set_ylim([0,0.1])\n",
    "    ax[k].set_xlim([0,75])\n",
    "    ax[k].set(xlabel = 'Hourly Wage for Men with Flexibile Schedule Score ' +str(k))\n",
    "\n",
    "# ax.set(xlabel=\"Distribution of Men's Hourly Wage (raw)\")\n",
    "\n",
    "plt.tight_layout()\n",
    "\n",
    "fig.savefig('./hrwage_men_3flex.png', bbox_inches='tight', transparent=True)"
   ]
  },
  {
   "cell_type": "code",
   "execution_count": null,
   "metadata": {},
   "outputs": [],
   "source": [
    "fig, ax = plt.subplots(3, 1, figsize=(12, 8))\n",
    "\n",
    "for k in range(3):\n",
    "    tmp = men[(men['flex_sched_score']==k) & (men['employed']==1)]\n",
    "    sns.distplot(tmp['wage_trunc'], color='#4B9CD3', hist_kws={'alpha' : .3}, bins=100, ax=ax[k])\n",
    "#     ax[k].legend(['Flex Level ' + str(k)])\n",
    "    ax[k].set_ylim([0,0.1])\n",
    "    ax[k].set_xlim([0,75])\n",
    "    ax[k].set(xlabel = 'Truncated Hourly Wage for Men with Flexibile Schedule Score ' +str(k))\n",
    "\n",
    "#ax.set(xlabel=\"Distribution of Men's Hourly Wage\")\n",
    "\n",
    "plt.tight_layout()\n",
    "\n",
    "fig.savefig('./wageTrunc_men_3flex.png', bbox_inches='tight', transparent=True)"
   ]
  },
  {
   "cell_type": "markdown",
   "metadata": {},
   "source": [
    "## Binary Flexibility Measure"
   ]
  },
  {
   "cell_type": "code",
   "execution_count": null,
   "metadata": {},
   "outputs": [],
   "source": [
    "fig, ax = plt.subplots(2, 1, figsize=(12, 8))\n",
    "\n",
    "for k in range(2):\n",
    "    tmp = df[(df['flex']==k) & (df['sex']=='male') & (df['employed']==1)]\n",
    "    sns.distplot(tmp['hrwage'], color='#4B9CD3', hist_kws={'alpha' : .3}, bins=100, ax=ax[k])\n",
    "#     ax[k].legend(['Flexibility Level ' + str(k)])\n",
    "    ax[k].set_ylim([0,0.1])\n",
    "    ax[k].set_xlim([0,75])\n",
    "    if k == 1:\n",
    "        ax[k].set(xlabel = 'Hourly Wage for Men with Flexible Schedule')\n",
    "    elif k == 0:\n",
    "        ax[k].set(xlabel = 'Hourly Wage for Men without Flexible Schedule')\n",
    "    else:\n",
    "        print(\"Not binary k\")\n",
    "\n",
    "# ax.set(xlabel=\"Distribution of Men's Hourly Wage (raw)\")\n",
    "\n",
    "plt.tight_layout()\n",
    "\n",
    "fig.savefig('./hrwage_men_2flex.png', bbox_inches='tight', transparent=True)"
   ]
  },
  {
   "cell_type": "code",
   "execution_count": null,
   "metadata": {},
   "outputs": [],
   "source": [
    "fig, ax = plt.subplots(2, 1, figsize=(12, 8))\n",
    "\n",
    "for k in range(2):\n",
    "    tmp = men[(men['flex']==k) & (men['employed']==1)] #(df['sex']=='male') & \n",
    "    sns.distplot(tmp['wage_trunc'], color='#4B9CD3', hist_kws={'alpha' : .3}, bins=100, ax=ax[k])\n",
    "#     ax[k].legend(['Flexibility Level ' + str(k)])\n",
    "    ax[k].set_ylim([0,0.1])\n",
    "    ax[k].set_xlim([0,75])\n",
    "    if k == 1:\n",
    "        ax[k].set(xlabel = 'Truncated Hourly Wage for Men with Flexible Schedule')\n",
    "    elif k == 0:\n",
    "        ax[k].set(xlabel = 'Truncated Hourly Wage for Men without Flexible Schedule')\n",
    "    else:\n",
    "        print(\"Not binary k\")\n",
    "\n",
    "# ax.set(xlabel=\"Distribution of Men's Hourly Wage (raw)\")\n",
    "\n",
    "plt.tight_layout()\n",
    "\n",
    "fig.savefig('./wagetrunc_men_2flex.png', bbox_inches='tight', transparent=True)"
   ]
  },
  {
   "cell_type": "markdown",
   "metadata": {},
   "source": [
    "# Summary Statistics"
   ]
  },
  {
   "cell_type": "code",
   "execution_count": null,
   "metadata": {},
   "outputs": [],
   "source": [
    "agg_dict_empl_3 = {\n",
    "    'hrwage': ['min', 'mean', 'std'],\n",
    "    'wage_trunc3': ['min', 'mean', 'std', 'count']\n",
    "}\n",
    "\n",
    "agg_dict_empl_2 = {\n",
    "    'hrwage': ['min', 'mean', 'std'],\n",
    "    'wage_trunc2': ['min', 'mean', 'std', 'count']\n",
    "}\n",
    "\n",
    "agg_dict_unempl = {\n",
    "    'dur': ['mean', 'std', 'count']\n",
    "}\n",
    "\n",
    "agg_dict_pos = {\n",
    "    'flex_sched_score': ['count'] #want to add percent!\n",
    "}"
   ]
  },
  {
   "cell_type": "code",
   "execution_count": null,
   "metadata": {},
   "outputs": [],
   "source": [
    "print(men.groupby(['flex_sched_score']).agg(agg_dict_pos).to_latex()) # by gender"
   ]
  },
  {
   "cell_type": "code",
   "execution_count": null,
   "metadata": {},
   "outputs": [],
   "source": [
    "print(men.groupby(['flex_sched_score']).agg(agg_dict_empl_3).to_latex(float_format=\"%.2f\"))"
   ]
  },
  {
   "cell_type": "code",
   "execution_count": null,
   "metadata": {},
   "outputs": [],
   "source": [
    "print(men.groupby(['flex']).agg(agg_dict_empl_2).to_latex(float_format=\"%.2f\"))"
   ]
  },
  {
   "cell_type": "code",
   "execution_count": null,
   "metadata": {},
   "outputs": [],
   "source": [
    "men.groupby(['flex']).agg(agg_dict_empl_2).to_latex(float_format=\"%.2f\")"
   ]
  },
  {
   "cell_type": "code",
   "execution_count": null,
   "metadata": {},
   "outputs": [],
   "source": [
    "print(empl_df.groupby(['female']).agg(agg_dict_empl).to_latex()) # all"
   ]
  },
  {
   "cell_type": "code",
   "execution_count": null,
   "metadata": {},
   "outputs": [],
   "source": [
    "print(men.agg(agg_dict_unempl).to_latex()) # by gender"
   ]
  },
  {
   "cell_type": "code",
   "execution_count": null,
   "metadata": {},
   "outputs": [],
   "source": [
    "print(unempl_df.agg(agg_dict_unempl).to_latex()) # by gender"
   ]
  },
  {
   "cell_type": "markdown",
   "metadata": {},
   "source": [
    "# Scratch"
   ]
  },
  {
   "cell_type": "code",
   "execution_count": null,
   "metadata": {},
   "outputs": [],
   "source": []
  },
  {
   "cell_type": "code",
   "execution_count": null,
   "metadata": {},
   "outputs": [],
   "source": [
    "# Parameters to be estimated \n",
    "\n",
    "c_k = np.array([0,5,10])\n",
    "λ = 2.1\n",
    "η = 2.1\n",
    "μ = men['hrwage'].groupby(men['flex_sched_score']).mean().values\n",
    "σ = men['hrwage'].groupby(men['flex_sched_score']).std().values"
   ]
  },
  {
   "cell_type": "code",
   "execution_count": null,
   "metadata": {},
   "outputs": [],
   "source": [
    "logL_opt = lambda x: log_L(men, 'flex_sched_score', 'hrwage', 'dur', Uk, \n",
    "                            x[0], prob_k, 0.5, x[1], x[2],\n",
    "                            x[3], x[4])"
   ]
  },
  {
   "cell_type": "code",
   "execution_count": null,
   "metadata": {},
   "outputs": [],
   "source": [
    "params = np.array([c_k, float(λ), float(η), μ, σ])\n",
    "params"
   ]
  },
  {
   "cell_type": "code",
   "execution_count": null,
   "metadata": {},
   "outputs": [],
   "source": [
    "params[1]"
   ]
  },
  {
   "cell_type": "code",
   "execution_count": null,
   "metadata": {},
   "outputs": [],
   "source": [
    "log_L(men, 'flex_sched_score', 'hrwage', 'dur', Uk, \n",
    "                            params[0], prob_k, 0.5, params[1], params[2],\n",
    "                            params[3], params[4])"
   ]
  },
  {
   "cell_type": "code",
   "execution_count": null,
   "metadata": {},
   "outputs": [],
   "source": [
    "logL_opt(params)"
   ]
  },
  {
   "cell_type": "code",
   "execution_count": null,
   "metadata": {},
   "outputs": [],
   "source": []
  },
  {
   "cell_type": "markdown",
   "metadata": {},
   "source": [
    "## Pr_wage_match, hazard, and logL with res_wage, mu, and sigma varying with k"
   ]
  },
  {
   "cell_type": "code",
   "execution_count": null,
   "metadata": {},
   "outputs": [],
   "source": [
    "def Pr_wage_given_match(data: pd.DataFrame, flex: str, wage: str, res_wage: float, c_k: np.array, α: float, μ: float, σ: float):\n",
    "# def Pr_wage_given_match(data: pd.DataFrame, flex: str, wage: str, res_wage: np.array, c_k: np.array, α: float, μ: np.array, σ: np.array):\n",
    "    \"\"\"\n",
    "    Calculates probability of a wage draw conditional on a match being formed \n",
    "    \n",
    "    Inputs\n",
    "    - data: DataFrame\n",
    "    - flex: string for name of flexibility column\n",
    "    - wage: string for name of wage column\n",
    "    - res_wage: Kx1 array of observed minimum wages for each flexibility level\n",
    "    - c_k: Kx1 array of cost of providing flexibility\n",
    "    - α: bargaining parameter\n",
    "    - μ: array of location parameter of the log-normal wage distribution for each flexibility level\n",
    "    - σ: array of scale parameter of the log-normal wage distribution for each flexibility level\n",
    "    \n",
    "    Functions\n",
    "    - lognormpdf(x: np.array, μ: float, σ: float)\n",
    "    - lognormsf(x: np.array, μ: float, σ: float)\n",
    "    \"\"\"\n",
    "    employed_indiv = np.zeros(1) #sets first entry to zero \n",
    "# With U, μ and σ constant in flex level k\n",
    "    for k in range(len(c_k)):\n",
    "        tmp = data[data[flex]==k]\n",
    "        g = ( 1/( α*(k+1) ) ) * lognormpdf( ( 1/( α*(k+1) ) )*( tmp[wage] - (1-α)*res_wage + α*c_k[k] ), μ, σ )\n",
    "        G_tilde = lognormsf( ( 1/(k+1) )*( res_wage + c_k[k] ), μ, σ )\n",
    "        divide_thing = g/G_tilde\n",
    "        employed_indiv = np.append(employed_indiv, divide_thing)\n",
    "# # With U, μ and σ varying with flex level k - unidentified    \n",
    "#     for k in range(len(res_wage)):\n",
    "#         tmp = data[data[flex]==k]\n",
    "#         g = ( 1/( α*(k+1) ) ) * lognormpdf( ( 1/( α*(k+1) ) )*( tmp[wage] - (1-α)*res_wage[k] + α*c_k[k] ), μ[k], σ[k] )\n",
    "#         G_tilde = lognormsf( ( 1/(k+1) )*( res_wage[k] + c_k[k] ), μ[k], σ[k] )\n",
    "#         divide_thing = g/G_tilde\n",
    "#         employed_indiv = np.append(employed_indiv, divide_thing)\n",
    "    \n",
    "    return employed_indiv[1:] #removes first entry "
   ]
  },
  {
   "cell_type": "code",
   "execution_count": null,
   "metadata": {},
   "outputs": [],
   "source": [
    "def hazard(res_wage: float, c_k: np.array, p_k: np.array, λ: float, μ: float, σ: float):\n",
    "# def hazard(res_wage: np.array, c_k: np.array, p_k: np.array, λ: float, μ: np.array, σ: np.array):\n",
    "    \"\"\"\n",
    "    Calculates the hazard rate out of employment \n",
    "    \n",
    "    Inputs\n",
    "    - res_wage: Kx1 array of observed minimum wages for each flexibility level\n",
    "    - c_k: Kx1 array of cost of providing flexibility\n",
    "    - p_k: Kx1 array of probability of each level of flexibility\n",
    "    - λ: arrival rate of offer\n",
    "    - μ: array of location parameter of the log-normal wage distribution for each flexibility level\n",
    "    - σ: array of scale parameter of the log-normal wage distribution for each flexibility level\n",
    "    \n",
    "    Functions\n",
    "    - lognormsf(x: np.array, μ: float, σ: float)\n",
    "    \"\"\"\n",
    "    \n",
    "    prob_sum = 0\n",
    "    \n",
    "#     if len(res_wage)!=len(c_k):\n",
    "#         return print(\"Length of res_wage and c_k do not match.\")\n",
    "#     elif len(res_wage)!=len(p_k):\n",
    "#         return print(\"Length of res_wage and p_k do not match.\")\n",
    "    if len(p_k)!=len(c_k):\n",
    "        return print(\"Length of p_k and c_k do not match.\")\n",
    "    else:\n",
    "# With U, μ and σ constant in flex level k\n",
    "        for k in range(len(c_k)):\n",
    "            prob_sum += p_k[k] * lognormsf( ( 1/(k+1) )*( res_wage + c_k[k]), μ, σ ) #k+1 because Python index 0\n",
    "\n",
    "# # With U, μ and σ varying with flex level k - unidentified    \n",
    "#         for k in range(len(res_wage)):\n",
    "#             prob_sum += p_k[k] * lognormsf( ( 1/(k+1) )*( res_wage[k] + c_k[k]), μ[k], σ[k] ) #k+1 because Python index 0\n",
    "    \n",
    "    return λ*prob_sum#[0]"
   ]
  },
  {
   "cell_type": "code",
   "execution_count": null,
   "metadata": {},
   "outputs": [],
   "source": [
    "def log_L(data: pd.DataFrame, flex: str, wage: str, dur: str, res_wage: float, c_k: np.array, p_k: np.array, α: float, λ: float, η: float, μ: float, σ: float):\n",
    "# def log_L(data: pd.DataFrame, flex: str, wage: str, dur: str, res_wage: np.array, c_k: np.array, p_k: np.array, α: float, λ: float, η: float, μ: np.array, σ: np.array):\n",
    "    \"\"\"\n",
    "    \n",
    "    Inputs\n",
    "    - data: DataFrame of all individuals\n",
    "    - flex: string for column of flexibility index (k)\n",
    "    - wage: string for column of wage data \n",
    "    - dur: string for unemployment duration data\n",
    "    - res_wage: Kx1 array of observed minimum wages for each flexibility level\n",
    "    - c_k: Kx1 array of cost of providing flexibility\n",
    "    - p_k: Kx1 array of probability of each level of flexibility\n",
    "    - α: bargaining parameter\n",
    "    - λ: arrival rate of offer\n",
    "    - η: termination rate\n",
    "    - μ: array of location parameter of the log-normal wage distribution for each flexibility level\n",
    "    - σ: array of scale parameter of the log-normal wage distribution for each flexibility level\n",
    "    \n",
    "    Functions\n",
    "    - hazard(res_wage: np.array, c_k: np.array, p_k: np.array, λ: float, μ: float, σ: float)\n",
    "    - Pr_wage_given_match(data: pd.DataFrame, flex: str, wage: str, res_wage: np.array, c_k: np.array,  α: float, μ: float, σ: float)\n",
    "    \"\"\"\n",
    "    \n",
    "    N_log_h = data.count() * np.log( hazard(res_wage, c_k, p_k, λ, μ, σ) )\n",
    "    N_log_h_plus_η = data.count() * np.log( hazard(res_wage, c_k, p_k, λ, μ, σ) + η )\n",
    "    \n",
    "    empl_data = np.sum( np.log( Pr_wage_given_match(data, flex, wage, res_wage, c_k, α, μ, σ) ) )\n",
    "    \n",
    "    Nu_log_η = data[dur].count() * np.log(η)\n",
    "    \n",
    "    unempl_data = hazard(res_wage, c_k, p_k, λ, μ, σ) * np.sum(data[dur])\n",
    "    \n",
    "    logL = -(N_log_h - N_log_h_plus_η + empl_data + Nu_log_η - unempl_data)\n",
    "    \n",
    "    return logL[0]"
   ]
  },
  {
   "cell_type": "code",
   "execution_count": null,
   "metadata": {},
   "outputs": [],
   "source": []
  },
  {
   "cell_type": "markdown",
   "metadata": {},
   "source": [
    "## Old Hazard and Log L (did not copy Pr_wage_match in time)"
   ]
  },
  {
   "cell_type": "code",
   "execution_count": null,
   "metadata": {},
   "outputs": [],
   "source": [
    "def hazard(res_wage: np.array, c_k: np.array, p_k: np.array, λ: float, μ: np.array, σ: np.array):\n",
    "    \"\"\"\n",
    "    Calculates the hazard rate out of employment \n",
    "    \n",
    "    Inputs\n",
    "    - res_wage: Kx1 array of observed minimum wages for each flexibility level\n",
    "    - c_k: Kx1 array of cost of providing flexibility\n",
    "    - p_k: Kx1 array of probability of each level of flexibility\n",
    "    - λ: arrival rate of offer\n",
    "    - μ: array of location parameter of the log-normal wage distribution for each flexibility level\n",
    "    - σ: array of scale parameter of the log-normal wage distribution for each flexibility level\n",
    "    \n",
    "    Functions\n",
    "    - lognormsf(x: np.array, μ: float, σ: float)\n",
    "    \"\"\"\n",
    "    \n",
    "    prob_sum = 0\n",
    "    \n",
    "    if len(res_wage)!=len(c_k):\n",
    "        return print(\"Length of res_wage and c_k do not match.\")\n",
    "    elif len(res_wage)!=len(p_k):\n",
    "        return print(\"Length of res_wage and p_k do not match.\")\n",
    "    elif len(p_k)!=len(c_k):\n",
    "        return print(\"Length of p_k and c_k do not match.\")\n",
    "    else:\n",
    "        for k in range(len(res_wage)):\n",
    "            prob_sum += p_k[k] * lognormsf( ( 1/(k+1) )*( res_wage[k] + c_k[k]), μ[k], σ[k] ) #k+1 because Python index 0\n",
    "    \n",
    "    return λ*prob_sum"
   ]
  },
  {
   "cell_type": "code",
   "execution_count": null,
   "metadata": {},
   "outputs": [],
   "source": [
    "def log_L(wage: np.array, k: np.array, res_wage: np.array, c_k: np.array, p_k: np.array, dur: np.array, α: float, λ: float, η: float, μ: np.array, σ: np.array):\n",
    "    \"\"\"\n",
    "    \n",
    "    Inputs\n",
    "    - wage: Ne x 1 array of observed wage data \n",
    "    - k: Ne x 1 array of observed flexibility level data\n",
    "    - res_wage: Kx1 array of observed minimum wages for each flexibility level\n",
    "    - c_k: Kx1 array of cost of providing flexibility\n",
    "    - p_k: Kx1 array of probability of each level of flexibility\n",
    "    - dur: Nu x 1 array of observed unemployment duration data\n",
    "    - α: bargaining parameter\n",
    "    - λ: arrival rate of offer\n",
    "    - η: termination rate\n",
    "    - μ: array of location parameter of the log-normal wage distribution for each flexibility level\n",
    "    - σ: array of scale parameter of the log-normal wage distribution for each flexibility level\n",
    "    \n",
    "    Functions\n",
    "    - hazard(res_wage: np.array, c_k: np.array, p_k: np.array, λ: float, μ: float, σ: float)\n",
    "    - Pr_wage_given_match(wage: np.array, k: np.array, res_wage: np.array, c_k: np.array,  α: float, μ: float, σ: float)\n",
    "    \"\"\"\n",
    "    \n",
    "    N_log_h = len(wage) * np.log( hazard(res_wage, c_k, p_k, λ, μ, σ) )\n",
    "    N_log_h_plus_η = len(wage) * np.log( hazard(res_wage, c_k, p_k, λ, μ, σ) + η )\n",
    "    \n",
    "    empl_data = np.sum( np.log( Pr_wage_given_match(wage, k, res_wage, c_k,  α, μ, σ) ) )\n",
    "    \n",
    "    Nu_log_η = len(dur) * np.log(η)\n",
    "    \n",
    "    unempl_data = hazard(res_wage, c_k, p_k, λ, μ, σ) * np.sum(dur)\n",
    "    \n",
    "    logL = N_log_h - N_log_h_plus_η + empl_data + Nu_log_η - unempl_data\n",
    "    \n",
    "    return logL"
   ]
  },
  {
   "cell_type": "code",
   "execution_count": null,
   "metadata": {},
   "outputs": [],
   "source": []
  },
  {
   "cell_type": "code",
   "execution_count": null,
   "metadata": {},
   "outputs": [],
   "source": [
    "empl_men = men[men['employed']==1]\n",
    "len(empl_men)"
   ]
  },
  {
   "cell_type": "code",
   "execution_count": null,
   "metadata": {},
   "outputs": [],
   "source": [
    "unempl_men = men[men['employed']==0]\n",
    "len(unempl_men)"
   ]
  },
  {
   "cell_type": "code",
   "execution_count": null,
   "metadata": {},
   "outputs": [],
   "source": []
  },
  {
   "cell_type": "code",
   "execution_count": null,
   "metadata": {},
   "outputs": [],
   "source": [
    "fig, ax = plt.subplots(3, 1, figsize=(12, 8))\n",
    "\n",
    "for k in range(3):\n",
    "    tmp = df[(df['flex_sched_score']==k) & (df['sex']=='female') & (df['employed']==1)]\n",
    "    sns.distplot(tmp['hrwage'], color='#4B9CD3', hist_kws={'alpha' : .3}, bins=100, ax=ax[k])\n",
    "    ax[k].legend(['Flex Level ' + str(k)])\n",
    "    ax[k].set_ylim([0,0.1])\n",
    "    ax[k].set_xlim([0,75])\n",
    "\n",
    "\n",
    "#ax.set(xlabel=\"Distribution of Men's Hourly Wage\")\n",
    "\n",
    "plt.tight_layout()\n",
    "\n",
    "# fig.savefig('./figures/wage_noMin.png', bbox_inches='tight', transparent=True)"
   ]
  }
 ],
 "metadata": {
  "kernelspec": {
   "display_name": "atus",
   "language": "python",
   "name": "atus"
  },
  "language_info": {
   "codemirror_mode": {
    "name": "ipython",
    "version": 3
   },
   "file_extension": ".py",
   "mimetype": "text/x-python",
   "name": "python",
   "nbconvert_exporter": "python",
   "pygments_lexer": "ipython3",
   "version": "3.10.2"
  }
 },
 "nbformat": 4,
 "nbformat_minor": 4
}
