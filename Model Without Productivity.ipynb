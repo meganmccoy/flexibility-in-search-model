{
 "cells": [
  {
   "cell_type": "markdown",
   "metadata": {},
   "source": [
    "# Flexibility in a Search Model \n",
    "\n",
    "## Model\n",
    "\n",
    "- homogeneous workers with utility $u(w, f) = w + \\gamma f$ if employed and flow (dis)utility $b$ if unemployed\n",
    "- heterogeneous firms endowed with flexibility level $f \\in \\{0,1,..., F\\}$ with probability $p_f$ and production function $y(x) = x$ and linear profit $\\pi(x,f) = y(x)-w(x,f)-c(f)$\n",
    "- search parameters: \n",
    "    - discount rate $\\rho$, unemployed meet firms at rate $\\lambda$ (no on-the-job search), bargaining parameter $\\alpha$, employed face separation shock $\\eta$\n",
    "    - upon meeting draw match-specific productivity $x \\sim G_f(x)$, log-normal with parameters $\\mu_f$ and $\\sigma^2_f$ "
   ]
  },
  {
   "cell_type": "markdown",
   "metadata": {},
   "source": [
    "## Necessary Packages"
   ]
  },
  {
   "cell_type": "code",
   "execution_count": 1,
   "metadata": {
    "tags": []
   },
   "outputs": [],
   "source": [
    "# General\n",
    "import numpy as np\n",
    "import pandas as pd \n",
    "import scipy.stats as stats\n",
    "\n",
    "# Graphics\n",
    "import matplotlib.pyplot as plt \n",
    "import seaborn as sns\n",
    "\n",
    "# Estimation\n",
    "from scipy.optimize import minimize\n",
    "\n",
    "# Debugging\n",
    "import pdb\n"
   ]
  },
  {
   "cell_type": "markdown",
   "metadata": {},
   "source": [
    "## Data \n",
    "- Homogeneity measures: aged 25-55; white; either college graduate (col_edu==1) or HS graduate (hs_edu==1)\n",
    "- employed workers earn wage $w$ (in 2018 dollars) at firm with flexibility level $k$\n",
    "    - flexibility measures:\n",
    "        - Schedule Flexibility \n",
    "            - 0: No flexibility in start and end times of work \n",
    "            - 1: Able to change start and end times of work \n",
    "        - Location Flexibility \n",
    "            - 0: Not able to work from home\n",
    "            - 1: Able to work from home\n",
    "- unemployed workers have unemployment durations of $t$\n"
   ]
  },
  {
   "cell_type": "code",
   "execution_count": 2,
   "metadata": {},
   "outputs": [],
   "source": [
    "df=pd.read_stata('workfile.dta', columns=['hs_edu', 'col_edu', 'sex','employed', 'flexsched', 'flex_sched_score', 'flexloc', 'flex_loc_score', 'hrwage_r', 'dur'])\n",
    "\n",
    "df=df[df['hs_edu']==1] # change based on which to estimate - label Figures, Output to CSV to match\n"
   ]
  },
  {
   "cell_type": "code",
   "execution_count": 3,
   "metadata": {},
   "outputs": [],
   "source": [
    "def winsorize(data: pd.DataFrame, flex:str, n_flex:int, winsorized_wage:str, raw_wage:str, employed:str, percentile: float):\n",
    "    nth_pctl = np.zeros(1)\n",
    "\n",
    "    for k in range(2):\n",
    "        tmp = data[data[flex]==k]\n",
    "        nth = np.percentile(tmp[raw_wage],1)\n",
    "        nth_pctl = np.append(nth_pctl, nth)\n",
    "\n",
    "    data[winsorized_wage]=data[raw_wage]\n",
    "\n",
    "    for k in range(2):\n",
    "        data[winsorized_wage].iloc[(data[raw_wage]<nth_pctl[k+1]) & (data[flex]==k)]=nth_pctl[k+1] #k+1 because empty array initiates with zero\n",
    "\n",
    "    return data[[winsorized_wage, raw_wage]].groupby([data[employed],data[flex]]).describe()"
   ]
  },
  {
   "cell_type": "markdown",
   "metadata": {},
   "source": [
    "### Men"
   ]
  },
  {
   "cell_type": "code",
   "execution_count": 4,
   "metadata": {},
   "outputs": [
    {
     "data": {
      "text/plain": [
       "966"
      ]
     },
     "execution_count": 4,
     "metadata": {},
     "output_type": "execute_result"
    }
   ],
   "source": [
    "men = df[df['sex']=='male']\n",
    "len(men)"
   ]
  },
  {
   "cell_type": "code",
   "execution_count": 5,
   "metadata": {},
   "outputs": [
    {
     "name": "stderr",
     "output_type": "stream",
     "text": [
      "/var/folders/jx/dqj4zyfx4cj4t_bvpvt2drrm0000gn/T/ipykernel_7294/3681890561.py:9: SettingWithCopyWarning: \n",
      "A value is trying to be set on a copy of a slice from a DataFrame.\n",
      "Try using .loc[row_indexer,col_indexer] = value instead\n",
      "\n",
      "See the caveats in the documentation: https://pandas.pydata.org/pandas-docs/stable/user_guide/indexing.html#returning-a-view-versus-a-copy\n",
      "  data[winsorized_wage]=data[raw_wage]\n",
      "/Users/megan.mccoy/anaconda3/envs/atus/lib/python3.10/site-packages/pandas/core/indexing.py:1732: SettingWithCopyWarning: \n",
      "A value is trying to be set on a copy of a slice from a DataFrame\n",
      "\n",
      "See the caveats in the documentation: https://pandas.pydata.org/pandas-docs/stable/user_guide/indexing.html#returning-a-view-versus-a-copy\n",
      "  self._setitem_single_block(indexer, value, name)\n"
     ]
    },
    {
     "data": {
      "text/html": [
       "<div>\n",
       "<style scoped>\n",
       "    .dataframe tbody tr th:only-of-type {\n",
       "        vertical-align: middle;\n",
       "    }\n",
       "\n",
       "    .dataframe tbody tr th {\n",
       "        vertical-align: top;\n",
       "    }\n",
       "\n",
       "    .dataframe thead tr th {\n",
       "        text-align: left;\n",
       "    }\n",
       "\n",
       "    .dataframe thead tr:last-of-type th {\n",
       "        text-align: right;\n",
       "    }\n",
       "</style>\n",
       "<table border=\"1\" class=\"dataframe\">\n",
       "  <thead>\n",
       "    <tr>\n",
       "      <th></th>\n",
       "      <th></th>\n",
       "      <th colspan=\"8\" halign=\"left\">wage_flexsched</th>\n",
       "      <th colspan=\"8\" halign=\"left\">hrwage_r</th>\n",
       "    </tr>\n",
       "    <tr>\n",
       "      <th></th>\n",
       "      <th></th>\n",
       "      <th>count</th>\n",
       "      <th>mean</th>\n",
       "      <th>std</th>\n",
       "      <th>min</th>\n",
       "      <th>25%</th>\n",
       "      <th>50%</th>\n",
       "      <th>75%</th>\n",
       "      <th>max</th>\n",
       "      <th>count</th>\n",
       "      <th>mean</th>\n",
       "      <th>std</th>\n",
       "      <th>min</th>\n",
       "      <th>25%</th>\n",
       "      <th>50%</th>\n",
       "      <th>75%</th>\n",
       "      <th>max</th>\n",
       "    </tr>\n",
       "    <tr>\n",
       "      <th>employed</th>\n",
       "      <th>flexsched</th>\n",
       "      <th></th>\n",
       "      <th></th>\n",
       "      <th></th>\n",
       "      <th></th>\n",
       "      <th></th>\n",
       "      <th></th>\n",
       "      <th></th>\n",
       "      <th></th>\n",
       "      <th></th>\n",
       "      <th></th>\n",
       "      <th></th>\n",
       "      <th></th>\n",
       "      <th></th>\n",
       "      <th></th>\n",
       "      <th></th>\n",
       "      <th></th>\n",
       "    </tr>\n",
       "  </thead>\n",
       "  <tbody>\n",
       "    <tr>\n",
       "      <th rowspan=\"2\" valign=\"top\">1.0</th>\n",
       "      <th>0.0</th>\n",
       "      <td>493.0</td>\n",
       "      <td>24.677324</td>\n",
       "      <td>11.845616</td>\n",
       "      <td>7.668274</td>\n",
       "      <td>16.219997</td>\n",
       "      <td>22.162113</td>\n",
       "      <td>29.195044</td>\n",
       "      <td>73.873962</td>\n",
       "      <td>493.0</td>\n",
       "      <td>24.639904</td>\n",
       "      <td>11.908799</td>\n",
       "      <td>0.25000</td>\n",
       "      <td>16.219997</td>\n",
       "      <td>22.162113</td>\n",
       "      <td>29.195044</td>\n",
       "      <td>73.873962</td>\n",
       "    </tr>\n",
       "    <tr>\n",
       "      <th>1.0</th>\n",
       "      <td>434.0</td>\n",
       "      <td>27.636673</td>\n",
       "      <td>14.780142</td>\n",
       "      <td>6.300299</td>\n",
       "      <td>17.307499</td>\n",
       "      <td>23.953321</td>\n",
       "      <td>34.309273</td>\n",
       "      <td>73.873962</td>\n",
       "      <td>434.0</td>\n",
       "      <td>27.607347</td>\n",
       "      <td>14.826255</td>\n",
       "      <td>1.61341</td>\n",
       "      <td>17.307499</td>\n",
       "      <td>23.953321</td>\n",
       "      <td>34.309273</td>\n",
       "      <td>73.873962</td>\n",
       "    </tr>\n",
       "  </tbody>\n",
       "</table>\n",
       "</div>"
      ],
      "text/plain": [
       "                   wage_flexsched                                             \\\n",
       "                            count       mean        std       min        25%   \n",
       "employed flexsched                                                             \n",
       "1.0      0.0                493.0  24.677324  11.845616  7.668274  16.219997   \n",
       "         1.0                434.0  27.636673  14.780142  6.300299  17.307499   \n",
       "\n",
       "                                                    hrwage_r             \\\n",
       "                          50%        75%        max    count       mean   \n",
       "employed flexsched                                                        \n",
       "1.0      0.0        22.162113  29.195044  73.873962    493.0  24.639904   \n",
       "         1.0        23.953321  34.309273  73.873962    434.0  27.607347   \n",
       "\n",
       "                                                                         \\\n",
       "                          std      min        25%        50%        75%   \n",
       "employed flexsched                                                        \n",
       "1.0      0.0        11.908799  0.25000  16.219997  22.162113  29.195044   \n",
       "         1.0        14.826255  1.61341  17.307499  23.953321  34.309273   \n",
       "\n",
       "                               \n",
       "                          max  \n",
       "employed flexsched             \n",
       "1.0      0.0        73.873962  \n",
       "         1.0        73.873962  "
      ]
     },
     "execution_count": 5,
     "metadata": {},
     "output_type": "execute_result"
    }
   ],
   "source": [
    "winsorize(men, 'flexsched', 2, 'wage_flexsched', 'hrwage_r', 'employed', 1)"
   ]
  },
  {
   "cell_type": "code",
   "execution_count": 6,
   "metadata": {},
   "outputs": [
    {
     "name": "stderr",
     "output_type": "stream",
     "text": [
      "/var/folders/jx/dqj4zyfx4cj4t_bvpvt2drrm0000gn/T/ipykernel_7294/3681890561.py:9: SettingWithCopyWarning: \n",
      "A value is trying to be set on a copy of a slice from a DataFrame.\n",
      "Try using .loc[row_indexer,col_indexer] = value instead\n",
      "\n",
      "See the caveats in the documentation: https://pandas.pydata.org/pandas-docs/stable/user_guide/indexing.html#returning-a-view-versus-a-copy\n",
      "  data[winsorized_wage]=data[raw_wage]\n",
      "/Users/megan.mccoy/anaconda3/envs/atus/lib/python3.10/site-packages/pandas/core/indexing.py:1732: SettingWithCopyWarning: \n",
      "A value is trying to be set on a copy of a slice from a DataFrame\n",
      "\n",
      "See the caveats in the documentation: https://pandas.pydata.org/pandas-docs/stable/user_guide/indexing.html#returning-a-view-versus-a-copy\n",
      "  self._setitem_single_block(indexer, value, name)\n"
     ]
    },
    {
     "data": {
      "text/html": [
       "<div>\n",
       "<style scoped>\n",
       "    .dataframe tbody tr th:only-of-type {\n",
       "        vertical-align: middle;\n",
       "    }\n",
       "\n",
       "    .dataframe tbody tr th {\n",
       "        vertical-align: top;\n",
       "    }\n",
       "\n",
       "    .dataframe thead tr th {\n",
       "        text-align: left;\n",
       "    }\n",
       "\n",
       "    .dataframe thead tr:last-of-type th {\n",
       "        text-align: right;\n",
       "    }\n",
       "</style>\n",
       "<table border=\"1\" class=\"dataframe\">\n",
       "  <thead>\n",
       "    <tr>\n",
       "      <th></th>\n",
       "      <th></th>\n",
       "      <th colspan=\"8\" halign=\"left\">wage_flexloc</th>\n",
       "      <th colspan=\"8\" halign=\"left\">hrwage_r</th>\n",
       "    </tr>\n",
       "    <tr>\n",
       "      <th></th>\n",
       "      <th></th>\n",
       "      <th>count</th>\n",
       "      <th>mean</th>\n",
       "      <th>std</th>\n",
       "      <th>min</th>\n",
       "      <th>25%</th>\n",
       "      <th>50%</th>\n",
       "      <th>75%</th>\n",
       "      <th>max</th>\n",
       "      <th>count</th>\n",
       "      <th>mean</th>\n",
       "      <th>std</th>\n",
       "      <th>min</th>\n",
       "      <th>25%</th>\n",
       "      <th>50%</th>\n",
       "      <th>75%</th>\n",
       "      <th>max</th>\n",
       "    </tr>\n",
       "    <tr>\n",
       "      <th>employed</th>\n",
       "      <th>flexloc</th>\n",
       "      <th></th>\n",
       "      <th></th>\n",
       "      <th></th>\n",
       "      <th></th>\n",
       "      <th></th>\n",
       "      <th></th>\n",
       "      <th></th>\n",
       "      <th></th>\n",
       "      <th></th>\n",
       "      <th></th>\n",
       "      <th></th>\n",
       "      <th></th>\n",
       "      <th></th>\n",
       "      <th></th>\n",
       "      <th></th>\n",
       "      <th></th>\n",
       "    </tr>\n",
       "  </thead>\n",
       "  <tbody>\n",
       "    <tr>\n",
       "      <th rowspan=\"2\" valign=\"top\">1.0</th>\n",
       "      <th>0.0</th>\n",
       "      <td>761.0</td>\n",
       "      <td>24.163544</td>\n",
       "      <td>11.825060</td>\n",
       "      <td>6.740470</td>\n",
       "      <td>15.673129</td>\n",
       "      <td>21.832258</td>\n",
       "      <td>28.845997</td>\n",
       "      <td>73.873962</td>\n",
       "      <td>761.0</td>\n",
       "      <td>24.129055</td>\n",
       "      <td>11.882587</td>\n",
       "      <td>0.250000</td>\n",
       "      <td>15.673129</td>\n",
       "      <td>21.832258</td>\n",
       "      <td>28.845997</td>\n",
       "      <td>73.873962</td>\n",
       "    </tr>\n",
       "    <tr>\n",
       "      <th>1.0</th>\n",
       "      <td>166.0</td>\n",
       "      <td>34.792599</td>\n",
       "      <td>16.301811</td>\n",
       "      <td>10.784574</td>\n",
       "      <td>23.088810</td>\n",
       "      <td>31.249996</td>\n",
       "      <td>43.683587</td>\n",
       "      <td>73.873962</td>\n",
       "      <td>166.0</td>\n",
       "      <td>34.740051</td>\n",
       "      <td>16.392229</td>\n",
       "      <td>2.462371</td>\n",
       "      <td>23.088810</td>\n",
       "      <td>31.249996</td>\n",
       "      <td>43.683587</td>\n",
       "      <td>73.873962</td>\n",
       "    </tr>\n",
       "  </tbody>\n",
       "</table>\n",
       "</div>"
      ],
      "text/plain": [
       "                 wage_flexloc                                              \\\n",
       "                        count       mean        std        min        25%   \n",
       "employed flexloc                                                            \n",
       "1.0      0.0            761.0  24.163544  11.825060   6.740470  15.673129   \n",
       "         1.0            166.0  34.792599  16.301811  10.784574  23.088810   \n",
       "\n",
       "                                                  hrwage_r             \\\n",
       "                        50%        75%        max    count       mean   \n",
       "employed flexloc                                                        \n",
       "1.0      0.0      21.832258  28.845997  73.873962    761.0  24.129055   \n",
       "         1.0      31.249996  43.683587  73.873962    166.0  34.740051   \n",
       "\n",
       "                                                                        \\\n",
       "                        std       min        25%        50%        75%   \n",
       "employed flexloc                                                         \n",
       "1.0      0.0      11.882587  0.250000  15.673129  21.832258  28.845997   \n",
       "         1.0      16.392229  2.462371  23.088810  31.249996  43.683587   \n",
       "\n",
       "                             \n",
       "                        max  \n",
       "employed flexloc             \n",
       "1.0      0.0      73.873962  \n",
       "         1.0      73.873962  "
      ]
     },
     "execution_count": 6,
     "metadata": {},
     "output_type": "execute_result"
    }
   ],
   "source": [
    "winsorize(men, 'flexloc', 2, 'wage_flexloc', 'hrwage_r', 'employed', 1)"
   ]
  },
  {
   "cell_type": "markdown",
   "metadata": {},
   "source": [
    "### Women"
   ]
  },
  {
   "cell_type": "code",
   "execution_count": 7,
   "metadata": {},
   "outputs": [
    {
     "data": {
      "text/plain": [
       "670"
      ]
     },
     "execution_count": 7,
     "metadata": {},
     "output_type": "execute_result"
    }
   ],
   "source": [
    "women = df[df['sex']=='female']\n",
    "len(women)"
   ]
  },
  {
   "cell_type": "code",
   "execution_count": 8,
   "metadata": {},
   "outputs": [
    {
     "name": "stderr",
     "output_type": "stream",
     "text": [
      "/var/folders/jx/dqj4zyfx4cj4t_bvpvt2drrm0000gn/T/ipykernel_7294/3681890561.py:9: SettingWithCopyWarning: \n",
      "A value is trying to be set on a copy of a slice from a DataFrame.\n",
      "Try using .loc[row_indexer,col_indexer] = value instead\n",
      "\n",
      "See the caveats in the documentation: https://pandas.pydata.org/pandas-docs/stable/user_guide/indexing.html#returning-a-view-versus-a-copy\n",
      "  data[winsorized_wage]=data[raw_wage]\n",
      "/Users/megan.mccoy/anaconda3/envs/atus/lib/python3.10/site-packages/pandas/core/indexing.py:1732: SettingWithCopyWarning: \n",
      "A value is trying to be set on a copy of a slice from a DataFrame\n",
      "\n",
      "See the caveats in the documentation: https://pandas.pydata.org/pandas-docs/stable/user_guide/indexing.html#returning-a-view-versus-a-copy\n",
      "  self._setitem_single_block(indexer, value, name)\n"
     ]
    },
    {
     "data": {
      "text/html": [
       "<div>\n",
       "<style scoped>\n",
       "    .dataframe tbody tr th:only-of-type {\n",
       "        vertical-align: middle;\n",
       "    }\n",
       "\n",
       "    .dataframe tbody tr th {\n",
       "        vertical-align: top;\n",
       "    }\n",
       "\n",
       "    .dataframe thead tr th {\n",
       "        text-align: left;\n",
       "    }\n",
       "\n",
       "    .dataframe thead tr:last-of-type th {\n",
       "        text-align: right;\n",
       "    }\n",
       "</style>\n",
       "<table border=\"1\" class=\"dataframe\">\n",
       "  <thead>\n",
       "    <tr>\n",
       "      <th></th>\n",
       "      <th></th>\n",
       "      <th colspan=\"8\" halign=\"left\">wage_flexsched</th>\n",
       "      <th colspan=\"8\" halign=\"left\">hrwage_r</th>\n",
       "    </tr>\n",
       "    <tr>\n",
       "      <th></th>\n",
       "      <th></th>\n",
       "      <th>count</th>\n",
       "      <th>mean</th>\n",
       "      <th>std</th>\n",
       "      <th>min</th>\n",
       "      <th>25%</th>\n",
       "      <th>50%</th>\n",
       "      <th>75%</th>\n",
       "      <th>max</th>\n",
       "      <th>count</th>\n",
       "      <th>mean</th>\n",
       "      <th>std</th>\n",
       "      <th>min</th>\n",
       "      <th>25%</th>\n",
       "      <th>50%</th>\n",
       "      <th>75%</th>\n",
       "      <th>max</th>\n",
       "    </tr>\n",
       "    <tr>\n",
       "      <th>employed</th>\n",
       "      <th>flexsched</th>\n",
       "      <th></th>\n",
       "      <th></th>\n",
       "      <th></th>\n",
       "      <th></th>\n",
       "      <th></th>\n",
       "      <th></th>\n",
       "      <th></th>\n",
       "      <th></th>\n",
       "      <th></th>\n",
       "      <th></th>\n",
       "      <th></th>\n",
       "      <th></th>\n",
       "      <th></th>\n",
       "      <th></th>\n",
       "      <th></th>\n",
       "      <th></th>\n",
       "    </tr>\n",
       "  </thead>\n",
       "  <tbody>\n",
       "    <tr>\n",
       "      <th rowspan=\"2\" valign=\"top\">1.0</th>\n",
       "      <th>0.0</th>\n",
       "      <td>313.0</td>\n",
       "      <td>17.393709</td>\n",
       "      <td>8.783751</td>\n",
       "      <td>5.400610</td>\n",
       "      <td>11.799999</td>\n",
       "      <td>15.865248</td>\n",
       "      <td>20.109999</td>\n",
       "      <td>73.873962</td>\n",
       "      <td>313.0</td>\n",
       "      <td>17.385050</td>\n",
       "      <td>8.796501</td>\n",
       "      <td>3.201211</td>\n",
       "      <td>11.799999</td>\n",
       "      <td>15.865248</td>\n",
       "      <td>20.109999</td>\n",
       "      <td>73.873962</td>\n",
       "    </tr>\n",
       "    <tr>\n",
       "      <th>1.0</th>\n",
       "      <td>301.0</td>\n",
       "      <td>20.836470</td>\n",
       "      <td>11.812701</td>\n",
       "      <td>5.423999</td>\n",
       "      <td>12.999998</td>\n",
       "      <td>16.744638</td>\n",
       "      <td>25.240246</td>\n",
       "      <td>73.873962</td>\n",
       "      <td>301.0</td>\n",
       "      <td>20.812151</td>\n",
       "      <td>11.848063</td>\n",
       "      <td>1.269000</td>\n",
       "      <td>12.999998</td>\n",
       "      <td>16.744638</td>\n",
       "      <td>25.240246</td>\n",
       "      <td>73.873962</td>\n",
       "    </tr>\n",
       "  </tbody>\n",
       "</table>\n",
       "</div>"
      ],
      "text/plain": [
       "                   wage_flexsched                                             \\\n",
       "                            count       mean        std       min        25%   \n",
       "employed flexsched                                                             \n",
       "1.0      0.0                313.0  17.393709   8.783751  5.400610  11.799999   \n",
       "         1.0                301.0  20.836470  11.812701  5.423999  12.999998   \n",
       "\n",
       "                                                    hrwage_r             \\\n",
       "                          50%        75%        max    count       mean   \n",
       "employed flexsched                                                        \n",
       "1.0      0.0        15.865248  20.109999  73.873962    313.0  17.385050   \n",
       "         1.0        16.744638  25.240246  73.873962    301.0  20.812151   \n",
       "\n",
       "                                                                          \\\n",
       "                          std       min        25%        50%        75%   \n",
       "employed flexsched                                                         \n",
       "1.0      0.0         8.796501  3.201211  11.799999  15.865248  20.109999   \n",
       "         1.0        11.848063  1.269000  12.999998  16.744638  25.240246   \n",
       "\n",
       "                               \n",
       "                          max  \n",
       "employed flexsched             \n",
       "1.0      0.0        73.873962  \n",
       "         1.0        73.873962  "
      ]
     },
     "execution_count": 8,
     "metadata": {},
     "output_type": "execute_result"
    }
   ],
   "source": [
    "winsorize(women, 'flexsched', 2, 'wage_flexsched', 'hrwage_r', 'employed', 1)"
   ]
  },
  {
   "cell_type": "code",
   "execution_count": 9,
   "metadata": {},
   "outputs": [
    {
     "name": "stderr",
     "output_type": "stream",
     "text": [
      "/var/folders/jx/dqj4zyfx4cj4t_bvpvt2drrm0000gn/T/ipykernel_7294/3681890561.py:9: SettingWithCopyWarning: \n",
      "A value is trying to be set on a copy of a slice from a DataFrame.\n",
      "Try using .loc[row_indexer,col_indexer] = value instead\n",
      "\n",
      "See the caveats in the documentation: https://pandas.pydata.org/pandas-docs/stable/user_guide/indexing.html#returning-a-view-versus-a-copy\n",
      "  data[winsorized_wage]=data[raw_wage]\n",
      "/Users/megan.mccoy/anaconda3/envs/atus/lib/python3.10/site-packages/pandas/core/indexing.py:1732: SettingWithCopyWarning: \n",
      "A value is trying to be set on a copy of a slice from a DataFrame\n",
      "\n",
      "See the caveats in the documentation: https://pandas.pydata.org/pandas-docs/stable/user_guide/indexing.html#returning-a-view-versus-a-copy\n",
      "  self._setitem_single_block(indexer, value, name)\n"
     ]
    },
    {
     "data": {
      "text/html": [
       "<div>\n",
       "<style scoped>\n",
       "    .dataframe tbody tr th:only-of-type {\n",
       "        vertical-align: middle;\n",
       "    }\n",
       "\n",
       "    .dataframe tbody tr th {\n",
       "        vertical-align: top;\n",
       "    }\n",
       "\n",
       "    .dataframe thead tr th {\n",
       "        text-align: left;\n",
       "    }\n",
       "\n",
       "    .dataframe thead tr:last-of-type th {\n",
       "        text-align: right;\n",
       "    }\n",
       "</style>\n",
       "<table border=\"1\" class=\"dataframe\">\n",
       "  <thead>\n",
       "    <tr>\n",
       "      <th></th>\n",
       "      <th></th>\n",
       "      <th colspan=\"8\" halign=\"left\">wage_flexloc</th>\n",
       "      <th colspan=\"8\" halign=\"left\">hrwage_r</th>\n",
       "    </tr>\n",
       "    <tr>\n",
       "      <th></th>\n",
       "      <th></th>\n",
       "      <th>count</th>\n",
       "      <th>mean</th>\n",
       "      <th>std</th>\n",
       "      <th>min</th>\n",
       "      <th>25%</th>\n",
       "      <th>50%</th>\n",
       "      <th>75%</th>\n",
       "      <th>max</th>\n",
       "      <th>count</th>\n",
       "      <th>mean</th>\n",
       "      <th>std</th>\n",
       "      <th>min</th>\n",
       "      <th>25%</th>\n",
       "      <th>50%</th>\n",
       "      <th>75%</th>\n",
       "      <th>max</th>\n",
       "    </tr>\n",
       "    <tr>\n",
       "      <th>employed</th>\n",
       "      <th>flexloc</th>\n",
       "      <th></th>\n",
       "      <th></th>\n",
       "      <th></th>\n",
       "      <th></th>\n",
       "      <th></th>\n",
       "      <th></th>\n",
       "      <th></th>\n",
       "      <th></th>\n",
       "      <th></th>\n",
       "      <th></th>\n",
       "      <th></th>\n",
       "      <th></th>\n",
       "      <th></th>\n",
       "      <th></th>\n",
       "      <th></th>\n",
       "      <th></th>\n",
       "    </tr>\n",
       "  </thead>\n",
       "  <tbody>\n",
       "    <tr>\n",
       "      <th rowspan=\"2\" valign=\"top\">1.0</th>\n",
       "      <th>0.0</th>\n",
       "      <td>463.0</td>\n",
       "      <td>16.528254</td>\n",
       "      <td>7.635334</td>\n",
       "      <td>5.201336</td>\n",
       "      <td>11.432499</td>\n",
       "      <td>14.999998</td>\n",
       "      <td>19.999998</td>\n",
       "      <td>72.115242</td>\n",
       "      <td>463.0</td>\n",
       "      <td>16.509394</td>\n",
       "      <td>7.667031</td>\n",
       "      <td>1.269000</td>\n",
       "      <td>11.432499</td>\n",
       "      <td>14.999998</td>\n",
       "      <td>19.999998</td>\n",
       "      <td>72.115242</td>\n",
       "    </tr>\n",
       "    <tr>\n",
       "      <th>1.0</th>\n",
       "      <td>151.0</td>\n",
       "      <td>26.908960</td>\n",
       "      <td>13.798091</td>\n",
       "      <td>7.574075</td>\n",
       "      <td>16.573148</td>\n",
       "      <td>23.885899</td>\n",
       "      <td>33.079166</td>\n",
       "      <td>73.873962</td>\n",
       "      <td>151.0</td>\n",
       "      <td>26.901510</td>\n",
       "      <td>13.808780</td>\n",
       "      <td>6.749999</td>\n",
       "      <td>16.573148</td>\n",
       "      <td>23.885899</td>\n",
       "      <td>33.079166</td>\n",
       "      <td>73.873962</td>\n",
       "    </tr>\n",
       "  </tbody>\n",
       "</table>\n",
       "</div>"
      ],
      "text/plain": [
       "                 wage_flexloc                                             \\\n",
       "                        count       mean        std       min        25%   \n",
       "employed flexloc                                                           \n",
       "1.0      0.0            463.0  16.528254   7.635334  5.201336  11.432499   \n",
       "         1.0            151.0  26.908960  13.798091  7.574075  16.573148   \n",
       "\n",
       "                                                  hrwage_r             \\\n",
       "                        50%        75%        max    count       mean   \n",
       "employed flexloc                                                        \n",
       "1.0      0.0      14.999998  19.999998  72.115242    463.0  16.509394   \n",
       "         1.0      23.885899  33.079166  73.873962    151.0  26.901510   \n",
       "\n",
       "                                                                        \\\n",
       "                        std       min        25%        50%        75%   \n",
       "employed flexloc                                                         \n",
       "1.0      0.0       7.667031  1.269000  11.432499  14.999998  19.999998   \n",
       "         1.0      13.808780  6.749999  16.573148  23.885899  33.079166   \n",
       "\n",
       "                             \n",
       "                        max  \n",
       "employed flexloc             \n",
       "1.0      0.0      72.115242  \n",
       "         1.0      73.873962  "
      ]
     },
     "execution_count": 9,
     "metadata": {},
     "output_type": "execute_result"
    }
   ],
   "source": [
    "winsorize(women, 'flexloc', 2, 'wage_flexloc', 'hrwage_r', 'employed', 1)"
   ]
  },
  {
   "cell_type": "markdown",
   "metadata": {},
   "source": [
    "## Model Independent Functions"
   ]
  },
  {
   "cell_type": "code",
   "execution_count": 10,
   "metadata": {},
   "outputs": [],
   "source": [
    "def lognormpdf(x: np.array, μ: float, σ: float):\n",
    "    \"\"\"\n",
    "    Calculates lognormal pdf without stats packages\n",
    "    \"\"\"\n",
    "    \n",
    "    denom = x * σ * np.sqrt(2*np.pi)\n",
    "    exp_num = -(np.log(x)-μ)**2\n",
    "    exp_denom = 2 * σ * σ\n",
    "    num = np.exp(exp_num/exp_denom)\n",
    "    \n",
    "    return num/denom"
   ]
  },
  {
   "cell_type": "code",
   "execution_count": 11,
   "metadata": {},
   "outputs": [],
   "source": [
    "def lognormsf(x: np.array, μ: float, σ: float):\n",
    "    \"\"\"\n",
    "    Calculates lognormal cdf with scipy.stats normal cdf\n",
    "    \"\"\"\n",
    "    \n",
    "    lnx = np.log(x)\n",
    "    num = lnx - μ\n",
    "    denom = σ\n",
    "    \n",
    "    return 1-stats.norm.cdf(num/denom)"
   ]
  },
  {
   "cell_type": "code",
   "execution_count": 12,
   "metadata": {},
   "outputs": [],
   "source": [
    "def bootstrap(data: pd.DataFrame, n_samples:int):\n",
    "    \"\"\"\n",
    "    Thanks, Caleb\n",
    "    \"\"\"\n",
    "    bootstrapped_sample_list = []\n",
    "    \n",
    "    for n in range(n_samples):\n",
    "        nth_sample = data.sample(frac=1, replace=True)\n",
    "        bootstrapped_sample_list.append(nth_sample)\n",
    "    \n",
    "    return bootstrapped_sample_list"
   ]
  },
  {
   "cell_type": "code",
   "execution_count": 13,
   "metadata": {},
   "outputs": [],
   "source": [
    "def std_error(values):\n",
    "    \"\"\"\n",
    "    Calculates the standard error (standard deviation of values divided by square root of the number of values) of some values \n",
    "    \"\"\"\n",
    "    \n",
    "    stderr = np.std(values) / np.sqrt(len(values))\n",
    "\n",
    "    return stderr"
   ]
  },
  {
   "cell_type": "code",
   "execution_count": 14,
   "metadata": {},
   "outputs": [],
   "source": [
    "def fit_stats(values):\n",
    "    \"\"\"\n",
    "    Returns mean and standard error from a list of values \n",
    "    \n",
    "    Functions:\n",
    "    - std_error(values)\n",
    "    \"\"\"\n",
    "    \n",
    "    mean = np.mean(values)\n",
    "    \n",
    "    stderr = std_error(values)\n",
    "    \n",
    "    return [mean, stderr]\n",
    "#     return print(\"Boostrapped value \", str(mean), \"\\nStandard error    \", str(stderr),\"\\n\")"
   ]
  },
  {
   "cell_type": "markdown",
   "metadata": {},
   "source": [
    "## Model Functions"
   ]
  },
  {
   "cell_type": "code",
   "execution_count": 64,
   "metadata": {},
   "outputs": [],
   "source": [
    "def hazard(res_wage: np.array, p_f: np.array, γ_f: np.array, c_f: np.array, μ_f: np.array, σ_f: np.array, λ: float):\n",
    "    \"\"\"\n",
    "    Calculates the hazard rate out of unemployment \n",
    "    \n",
    "    Inputs\n",
    "    - res_wage: FX1 array of observed minimum wage at each flexibility level\n",
    "    - p_f: Fx1 array of probability of each flexibility level\n",
    "    - γ_f: Fx1 array of utility weight of flexibility    \n",
    "    - c_f: Fx1 array of cost of providing flexibility    \n",
    "    - μ_f: Fx1 array of location parameter of the log-normal wage distribution for each flexibility level\n",
    "    - σ_f: Fx1 array of scale parameter of the log-normal wage distribution for each flexibility level\n",
    "    - λ: arrival rate of offer\n",
    "    \n",
    "    Functions\n",
    "    - lognormsf(x: np.array, μ: float, σ: float)\n",
    "    \"\"\"\n",
    "    \n",
    "    prob_sum = 0\n",
    "    \n",
    "    if len(p_f)!=len(c_f):\n",
    "        return print(\"Length of p_f and c_f do not match.\")\n",
    "    elif len(p_f)!=len(γ_f):\n",
    "        return print(\"Length of p_f and γ_f do not match.\")\n",
    "    elif len(γ_f)!=len(c_f):\n",
    "        return print(\"Length of γ_f and c_f do not match.\")\n",
    "    else:\n",
    "        for f in range(len(c_f)):\n",
    "            prob_sum += p_f[f] * lognormsf( ( res_wage[f] + c_f[f] - γ_f[f]) , μ_f[f], σ_f[f] )\n",
    "\n",
    "    return λ*prob_sum"
   ]
  },
  {
   "cell_type": "code",
   "execution_count": 16,
   "metadata": {},
   "outputs": [],
   "source": [
    "def Pr_wage_given_match(data: pd.DataFrame, flex: str, wage: str, res_wage: np.array, p_f: np.array, γ_f: np.array, \n",
    "                        c_f: np.array, μ_f: np.array, σ_f: np.array, α: float):\n",
    "    \"\"\"\n",
    "    Calculates probability of a wage draw conditional on a match being formed \n",
    "    \n",
    "    Inputs\n",
    "    - data: DataFrame\n",
    "    - flex: string for name of flexibility column\n",
    "    - wage: string for name of wage column\n",
    "    - res_wage: array of observed minimum wage of flexibility f\n",
    "    - p_f: Fx1 array of probability of each level of flexibility\n",
    "    - γ_f: Fx1 array of utility weight of flexibility    \n",
    "    - c_f: Fx1 array of cost of providing flexibility    \n",
    "    - μ_f: Fx1 array of location parameter of the log-normal wage distribution for flexibility f\n",
    "    - σ_f: Fx1 array of scale parameter of the log-normal wage distribution for flexibility f\n",
    "    - α: bargaining parameter    \n",
    "    \n",
    "    Functions\n",
    "    - lognormpdf(x: np.array, μ: float, σ: float)\n",
    "    - lognormsf(x: np.array, μ: float, σ: float)\n",
    "    \"\"\"\n",
    "    employed_indiv = np.zeros(1) #sets first entry to zero \n",
    "\n",
    "    for f in range(len(c_f)):\n",
    "        tmp = data[data[flex]==f]\n",
    "        \n",
    "        g_f = ( 1/α ) * lognormpdf( ( ( tmp[wage] + α*c_f[f] - (1-α)*(res_wage[f] - γ_f[f]) ) ), μ_f[f], σ_f[f] )\n",
    "        \n",
    "        G_tilde_f = lognormsf( ( res_wage[f] + c_f[f] - γ_f[f] ), μ_f[f], σ_f[f] )\n",
    "        \n",
    "        divide_thing = p_f[f] * (g_f/G_tilde_f)\n",
    "        employed_indiv = np.append(employed_indiv, divide_thing)\n",
    "    \n",
    "    return employed_indiv[1:] #removes first entry \n"
   ]
  },
  {
   "cell_type": "code",
   "execution_count": 41,
   "metadata": {},
   "outputs": [],
   "source": [
    "def log_L(data: pd.DataFrame, flex: str, wage: str, dur: str, γ_f: np.array, c_f: np.array, μ_f: np.array, σ_f: np.array, \n",
    "          α: float, λ: float, η: float):\n",
    "    \"\"\"\n",
    "    Calculates the log-likelihood for the model\n",
    "    \n",
    "    Inputs\n",
    "        Data:\n",
    "        - data: DataFrame\n",
    "        - flex: string for column of flexibility index (k)\n",
    "        - wage: string for column of wage data \n",
    "        - dur: string for unemployment duration data\n",
    "        Parameters:\n",
    "        - γ_f: Fx1 array of utility weight of flexibility    \n",
    "        - c_f: Fx1 array of cost of providing flexibility    \n",
    "        - μ_f: Fx1 array of location parameter of the log-normal wage distribution for flexibility f\n",
    "        - σ_f: Fx1 array of scale parameter of the log-normal wage distribution for flexibility f\n",
    "        - α: bargaining parameter\n",
    "        - λ: arrival rate of offer\n",
    "        - η: termination rate\n",
    "    \n",
    "    Functions\n",
    "    - hazard(res_wage: np.array, p_f: np.array, γ_f: np.array, c_f: np.array, μ_f: np.array, σ_f: np.array, λ: float)\n",
    "    - Pr_wage_given_match(data: pd.DataFrame, flex: str, wage: str, res_wage: np.array, p_f: np.array, γ_f: np.array, \n",
    "                          c_f: np.array, μ_f: np.array, σ_f: np.array, α: float)\n",
    "    \"\"\"\n",
    "    \n",
    "    # Min Wage and Probability of Flex from data\n",
    "    res_wage = data[wage].groupby(data[flex]).min().array\n",
    "    p_f = data[flex].value_counts(normalize=True) \n",
    "    \n",
    "    # Elements in LogL function\n",
    "    N_log_h = data.count() * np.log( hazard(res_wage, p_f, γ_f, c_f, μ_f, σ_f, λ) )\n",
    "    N_log_h_plus_η = data.count() * np.log( hazard(res_wage, p_f, γ_f, c_f, μ_f, σ_f, λ) + η )\n",
    "    \n",
    "    Nu_log_η = data[dur].count() * np.log(η)    \n",
    "    \n",
    "    unempl_data = hazard(res_wage, p_f, γ_f, c_f, μ_f, σ_f, λ) * np.sum(data[dur])\n",
    "    \n",
    "    empl_data = np.sum( np.log( Pr_wage_given_match( data, flex, wage, res_wage, p_f, γ_f, c_f, μ_f, σ_f, α ) ) )\n",
    "    \n",
    "    logL = -(N_log_h - N_log_h_plus_η + Nu_log_η - unempl_data + empl_data)\n",
    "    \n",
    "    return logL[0]"
   ]
  },
  {
   "cell_type": "markdown",
   "metadata": {},
   "source": [
    "## Initial Conditions"
   ]
  },
  {
   "cell_type": "code",
   "execution_count": 49,
   "metadata": {},
   "outputs": [],
   "source": [
    "# Provided by Data\n",
    "# μ_f = data[wage].groupby(data[flex]).mean().array\n",
    "# σ_f = data[wage].groupby(data[flex]).std().array\n",
    "\n",
    "# Guesses\n",
    "γ_f = np.array([0,1])\n",
    "c_f = np.array([0, -1])\n",
    "α = 0.5\n",
    "λ = 0.01\n",
    "η = 0.001"
   ]
  },
  {
   "cell_type": "code",
   "execution_count": 50,
   "metadata": {},
   "outputs": [
    {
     "data": {
      "text/plain": [
       "4841.405549425466"
      ]
     },
     "execution_count": 50,
     "metadata": {},
     "output_type": "execute_result"
    }
   ],
   "source": [
    "μ_f = women['wage_flexsched'].groupby(women['flexsched']).mean().array\n",
    "σ_f = women['wage_flexsched'].groupby(women['flexsched']).std().array\n",
    "\n",
    "log_L(women, 'flexsched', 'wage_flexsched', 'dur', γ_f, c_f, μ_f, σ_f, α, λ, η)"
   ]
  },
  {
   "cell_type": "markdown",
   "metadata": {},
   "source": [
    "## Estimation Functions\n",
    "\n",
    "- Unidentified. Returning initial guesses"
   ]
  },
  {
   "cell_type": "code",
   "execution_count": 59,
   "metadata": {},
   "outputs": [],
   "source": [
    "def est(data: pd.DataFrame, flex: str, wage: str, dur: str):\n",
    "    \"\"\"\n",
    "    Estimate parameter values for γ_f, c_f, μ_f, σ_f, λ, η\n",
    "    \n",
    "    Inputs\n",
    "    - data: DataFrame\n",
    "    - flex: string for column of flexibility index (f)\n",
    "    - wage: string for column of wage data \n",
    "    - dur: string for column of unemployment duration data\n",
    "    \n",
    "    Functions\n",
    "    - log_L(data, flex, wage, dur, γ_f, c_f, μ_f, σ_f, α, λ, η)\n",
    "    \"\"\"\n",
    "\n",
    "    μ_f = data[wage].groupby(data[flex]).mean().array\n",
    "    σ_f = data[wage].groupby(data[flex]).std().array\n",
    "    \n",
    "    params = np.array([γ_f[0], γ_f[1], c_f[0], c_f[1], μ_f[0], μ_f[1], σ_f[0], σ_f[1], λ, η])\n",
    "    \n",
    "    Bounds = ((-99,99), (-99,99), (-99,99), (-99,99), (0,99), (0,99), (0,99), (0,99), (0,99), (0,99))\n",
    "    \n",
    "    logL_opt = lambda x: log_L(data, flex, wage, dur, np.array([x[0],x[1]]), np.array([x[2],x[3]]),\n",
    "                               np.array([x[4],x[5]]), np.array([x[6],x[7]]),\n",
    "                               α, x[8], x[9])\n",
    "\n",
    "    est = minimize(logL_opt, params, bounds=Bounds) #, method='Nelder-Mead', options={'maxiter':1000})#, bounds=Bounds)\n",
    "    \n",
    "    return [est.fun, est.x]"
   ]
  },
  {
   "cell_type": "code",
   "execution_count": 60,
   "metadata": {},
   "outputs": [
    {
     "name": "stderr",
     "output_type": "stream",
     "text": [
      "/var/folders/jx/dqj4zyfx4cj4t_bvpvt2drrm0000gn/T/ipykernel_7294/4270938961.py:35: RuntimeWarning: divide by zero encountered in log\n",
      "  Nu_log_η = data[dur].count() * np.log(η)\n"
     ]
    },
    {
     "data": {
      "text/plain": [
       "[7749.200442901769,\n",
       " array([ 0.00000000e+00,  1.00000000e+00,  0.00000000e+00, -1.00000000e+00,\n",
       "         2.46773243e+01,  2.76366749e+01,  1.18456162e+01,  1.47801416e+01,\n",
       "         1.00000000e-02,  1.00000000e-03])]"
      ]
     },
     "execution_count": 60,
     "metadata": {},
     "output_type": "execute_result"
    }
   ],
   "source": [
    "est(men, 'flexsched', 'wage_flexsched', 'dur')"
   ]
  },
  {
   "cell_type": "code",
   "execution_count": 57,
   "metadata": {},
   "outputs": [],
   "source": [
    "def est_0(data: pd.DataFrame, flex: str, wage: str, dur: str):\n",
    "    \"\"\"\n",
    "    Estimate parameter values for γ_f, c_f, μ_f, σ_f, λ, η where γ_0 = c_0 = 0\n",
    "    \n",
    "    Inputs\n",
    "    - data: DataFrame\n",
    "    - flex: string for column of flexibility index (f)\n",
    "    - wage: string for column of wage data \n",
    "    - dur: string for column of unemployment duration data\n",
    "    \n",
    "    Functions\n",
    "    - log_L(data, flex, wage, dur, γ_f, c_f, μ_f, σ_f, α, λ, η)\n",
    "    \"\"\"\n",
    "\n",
    "    μ_f = data[wage].groupby(data[flex]).mean().array\n",
    "    σ_f = data[wage].groupby(data[flex]).std().array\n",
    "    \n",
    "    params = np.array([γ_f[1], c_f[1], μ_f[0], μ_f[1], σ_f[0], σ_f[1], λ, η])\n",
    "    \n",
    "    Bounds = ((-99,99), (-99,99), (0,99), (0,99), (0,99), (0,99), (0,99), (0,99))\n",
    "    \n",
    "    logL_opt = lambda x: log_L(data, flex, wage, dur, np.array([0, x[0]]), np.array([0,x[1]]),\n",
    "                               np.array([x[2],x[3]]), np.array([x[4],x[5]]),\n",
    "                               α, x[6], x[7])\n",
    "\n",
    "    est = minimize(logL_opt, params, bounds=Bounds) #, method='Nelder-Mead', options={'maxiter':1000})#, bounds=Bounds)\n",
    "    \n",
    "    return [est.fun, est.x]"
   ]
  },
  {
   "cell_type": "code",
   "execution_count": 58,
   "metadata": {},
   "outputs": [
    {
     "name": "stderr",
     "output_type": "stream",
     "text": [
      "/var/folders/jx/dqj4zyfx4cj4t_bvpvt2drrm0000gn/T/ipykernel_7294/4270938961.py:35: RuntimeWarning: divide by zero encountered in log\n",
      "  Nu_log_η = data[dur].count() * np.log(η)\n",
      "/Users/megan.mccoy/anaconda3/envs/atus/lib/python3.10/site-packages/scipy/optimize/_numdiff.py:557: RuntimeWarning: invalid value encountered in subtract\n",
      "  df = fun(x) - f0\n"
     ]
    },
    {
     "data": {
      "text/plain": [
       "[7749.200442901769,\n",
       " array([ 1.00000000e+00, -1.00000000e+00,  2.46773243e+01,  2.76366749e+01,\n",
       "         1.18456162e+01,  1.47801416e+01,  1.00000000e-02,  1.00000000e-03])]"
      ]
     },
     "execution_count": 58,
     "metadata": {},
     "output_type": "execute_result"
    }
   ],
   "source": [
    "est_0(men, 'flexsched', 'wage_flexsched', 'dur')"
   ]
  },
  {
   "cell_type": "code",
   "execution_count": null,
   "metadata": {},
   "outputs": [],
   "source": []
  },
  {
   "cell_type": "code",
   "execution_count": 61,
   "metadata": {},
   "outputs": [],
   "source": [
    "def est_gamma(data: pd.DataFrame, flex: str, wage: str, dur: str):\n",
    "    \"\"\"\n",
    "    Estimate parameter values for γ_f, μ_f, σ_f, λ, η where γ_0 = 0 and c_f = 0\n",
    "    \n",
    "    Inputs\n",
    "    - data: DataFrame\n",
    "    - flex: string for column of flexibility index (f)\n",
    "    - wage: string for column of wage data \n",
    "    - dur: string for column of unemployment duration data\n",
    "    \n",
    "    Functions\n",
    "    - log_L(data, flex, wage, dur, γ_f, c_f, μ_f, σ_f, α, λ, η)\n",
    "    \"\"\"\n",
    "\n",
    "    μ_f = data[wage].groupby(data[flex]).mean().array\n",
    "    σ_f = data[wage].groupby(data[flex]).std().array\n",
    "    \n",
    "    params = np.array([γ_f[1], μ_f[0], μ_f[1], σ_f[0], σ_f[1], λ, η])\n",
    "    \n",
    "    Bounds = ((-99,99), (0,99), (0,99), (0,99), (0,99), (0,99), (0,99))\n",
    "    \n",
    "    logL_opt = lambda x: log_L(data, flex, wage, dur, np.array([0, x[0]]), np.array([0,0]),\n",
    "                               np.array([x[1],x[2]]), np.array([x[3],x[4]]),\n",
    "                               α, x[5], x[6])\n",
    "\n",
    "    est = minimize(logL_opt, params, bounds=Bounds) #, method='Nelder-Mead', options={'maxiter':1000})#, bounds=Bounds)\n",
    "    \n",
    "    return [est.fun, est.x]"
   ]
  },
  {
   "cell_type": "code",
   "execution_count": 62,
   "metadata": {},
   "outputs": [
    {
     "name": "stderr",
     "output_type": "stream",
     "text": [
      "/var/folders/jx/dqj4zyfx4cj4t_bvpvt2drrm0000gn/T/ipykernel_7294/4270938961.py:35: RuntimeWarning: divide by zero encountered in log\n",
      "  Nu_log_η = data[dur].count() * np.log(η)\n"
     ]
    },
    {
     "data": {
      "text/plain": [
       "[7759.918462154071,\n",
       " array([1.00000000e+00, 2.46773243e+01, 2.76366749e+01, 1.18456162e+01,\n",
       "        1.47801416e+01, 1.00000000e-02, 1.00000000e-03])]"
      ]
     },
     "execution_count": 62,
     "metadata": {},
     "output_type": "execute_result"
    }
   ],
   "source": [
    "est_gamma(men, 'flexsched', 'wage_flexsched', 'dur')"
   ]
  },
  {
   "cell_type": "code",
   "execution_count": 63,
   "metadata": {},
   "outputs": [
    {
     "data": {
      "text/plain": [
       "7224.336077000613"
      ]
     },
     "execution_count": 63,
     "metadata": {},
     "output_type": "execute_result"
    }
   ],
   "source": [
    "log_L(men, 'flexsched', 'wage_flexsched', 'dur', γ_f, c_f, μ_f, σ_f, α, λ, η)"
   ]
  },
  {
   "cell_type": "code",
   "execution_count": null,
   "metadata": {},
   "outputs": [],
   "source": []
  }
 ],
 "metadata": {
  "kernelspec": {
   "display_name": "atus",
   "language": "python",
   "name": "atus"
  },
  "language_info": {
   "codemirror_mode": {
    "name": "ipython",
    "version": 3
   },
   "file_extension": ".py",
   "mimetype": "text/x-python",
   "name": "python",
   "nbconvert_exporter": "python",
   "pygments_lexer": "ipython3",
   "version": "3.10.2"
  }
 },
 "nbformat": 4,
 "nbformat_minor": 4
}
